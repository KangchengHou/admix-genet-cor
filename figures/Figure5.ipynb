{
 "cells": [
  {
   "cell_type": "code",
   "execution_count": 1,
   "id": "a0069389-9d62-47a1-b629-d975d9cca3aa",
   "metadata": {},
   "outputs": [],
   "source": [
    "%load_ext lab_black\n",
    "import pandas as pd\n",
    "import matplotlib.pyplot as plt\n",
    "import numpy as np\n",
    "from scipy import stats\n",
    "import seaborn as sns\n",
    "import os\n",
    "import string\n",
    "\n",
    "np.random.seed(1234)\n",
    "\n",
    "import matplotlib\n",
    "\n",
    "matplotlib.rcParams[\"pdf.fonttype\"] = 42\n",
    "matplotlib.rcParams[\"ps.fonttype\"] = 42\n",
    "matplotlib.rcParams[\"axes.spines.right\"] = False\n",
    "matplotlib.rcParams[\"axes.spines.top\"] = False"
   ]
  },
  {
   "cell_type": "code",
   "execution_count": 2,
   "id": "c70bd384-514a-49bb-bcec-e486cb9c5d94",
   "metadata": {},
   "outputs": [],
   "source": [
    "COMPILE_DATA = True\n",
    "if COMPILE_DATA:\n",
    "    df_lanc = pd.read_excel(\n",
    "        \"../experiments/02-region-locus-simulate/results/lanc-pitfall-het.xlsx\"\n",
    "    )\n",
    "    df_lanc = df_lanc.iloc[5:10, 1:].set_index(\"effect_ratio\")  # select hsq=0.006\n",
    "    df_lanc.to_csv(\"data/Figure5.csv\", index=True)"
   ]
  },
  {
   "cell_type": "code",
   "execution_count": 3,
   "id": "43d05da9-98f6-4b40-9361-6f65aed0aa2a",
   "metadata": {},
   "outputs": [],
   "source": [
    "df_lanc = pd.read_csv(\"data/Figure5.csv\", index_col=0)"
   ]
  },
  {
   "cell_type": "code",
   "execution_count": 4,
   "id": "b06a3754-a4f1-44bf-9296-d369cf575653",
   "metadata": {},
   "outputs": [],
   "source": [
    "def get_mean_sem(text: np.ndarray):\n",
    "    \"\"\"\n",
    "    Parse mean and sem from a text array [mean (sem), ...,]\n",
    "    \"\"\"\n",
    "    mean = np.array([float(f.split(\"(\")[0]) for f in text])\n",
    "    sem = np.array([float(f.split(\"(\")[1].strip(\")\")) for f in text])\n",
    "    return mean, sem\n",
    "\n",
    "\n",
    "def add_legend(fig, axes, y, x=0.5):\n",
    "    handles, labels = axes[0].get_legend_handles_labels()\n",
    "    fig.legend(\n",
    "        handles,\n",
    "        labels,\n",
    "        ncol=len(handles),\n",
    "        loc=\"center\",\n",
    "        bbox_to_anchor=[x, y],\n",
    "        frameon=False,\n",
    "        fontsize=9,\n",
    "        handletextpad=0.02,\n",
    "    )\n",
    "\n",
    "\n",
    "def plot_het_lanc(df_lanc, axes):\n",
    "\n",
    "    # heterogeneity statistics\n",
    "    for i, method in enumerate(df_lanc.columns):\n",
    "        tmp_mean, tmp_sem = get_mean_sem(df_lanc[method])\n",
    "        # false positives\n",
    "        axes[0].errorbar(\n",
    "            x=(i - 1) * 0.15,\n",
    "            y=tmp_mean[0],\n",
    "            yerr=tmp_sem[0] * 1.96,\n",
    "            fmt=\".\",\n",
    "            lw=0.75,\n",
    "            label=method,\n",
    "        )\n",
    "\n",
    "        if i != 2:\n",
    "            # power\n",
    "            axes[1].errorbar(\n",
    "                x=np.arange(len(tmp_mean[1:])) + (i - 0.5) * 0.15,\n",
    "                y=tmp_mean[1:],\n",
    "                yerr=tmp_sem[1:] * 1.96,\n",
    "                fmt=\".\",\n",
    "                lw=0.75,\n",
    "                label=method,\n",
    "            )\n",
    "\n",
    "    # false positives\n",
    "    axes[0].set_xticks([0])\n",
    "    axes[0].set_xticklabels([1.0], fontsize=9)\n",
    "    axes[0].set_ylim(0, 0.25)\n",
    "    axes[0].set_xlim(-0.5, 0.5)\n",
    "    axes[0].axhline(y=0.05, ls=\"--\", color=\"red\", alpha=0.5, lw=0.8)\n",
    "    axes[0].set_ylabel(\"False positive rate\")\n",
    "\n",
    "    # power\n",
    "    axes[1].set_xticks(np.arange(len(tmp_mean) - 1))\n",
    "    axes[1].set_xlim(-0.5, len(tmp_mean) - 1.5)\n",
    "    axes[1].set_xticklabels(df_lanc.index[1:], fontsize=9)\n",
    "    axes[1].set_ylim(0, 0.25)\n",
    "    axes[1].axhline(y=0.05, ls=\"--\", color=\"red\", alpha=0.5, lw=0.8)\n",
    "    axes[1].set_ylabel(\"Power\")\n",
    "\n",
    "    for i, ax in enumerate(axes):\n",
    "        ax.text(\n",
    "            -0.12,\n",
    "            0.98,\n",
    "            string.ascii_lowercase[i],\n",
    "            transform=ax.transAxes,\n",
    "            size=12,\n",
    "            weight=\"bold\",\n",
    "        )"
   ]
  },
  {
   "cell_type": "code",
   "execution_count": 5,
   "id": "aec2155d-f4f6-4b3c-b8a3-541e1d062f6f",
   "metadata": {},
   "outputs": [
    {
     "data": {
      "image/png": "[encoded data removed]",
      "text/plain": [
       "<Figure size 675x300 with 2 Axes>"
      ]
     },
     "metadata": {
      "needs_background": "light"
     },
     "output_type": "display_data"
    }
   ],
   "source": [
    "fig, axes = plt.subplots(\n",
    "    dpi=150,\n",
    "    figsize=(4.5, 2),\n",
    "    ncols=2,\n",
    "    gridspec_kw={\"width_ratios\": [1.4, 3]},\n",
    "    constrained_layout=True,\n",
    ")\n",
    "\n",
    "## HET lanc\n",
    "plot_het_lanc(df_lanc, axes)\n",
    "fig.supxlabel(r\"Simulated effects ratio $\\beta_{eur} : \\beta_{afr}$\", fontsize=10)\n",
    "add_legend(fig, axes, y=1.03)\n",
    "fig.savefig(\"out/Figure5.pdf\", bbox_inches=\"tight\")"
   ]
  }
 ],
 "metadata": {
  "kernelspec": {
   "display_name": "Python 3",
   "language": "python",
   "name": "python3"
  },
  "language_info": {
   "codemirror_mode": {
    "name": "ipython",
    "version": 3
   },
   "file_extension": ".py",
   "mimetype": "text/x-python",
   "name": "python",
   "nbconvert_exporter": "python",
   "pygments_lexer": "ipython3",
   "version": "3.8.5"
  }
 },
 "nbformat": 4,
 "nbformat_minor": 5
}
