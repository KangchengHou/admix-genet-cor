{
 "cells": [
  {
   "cell_type": "markdown",
   "id": "59ec9967-788e-4cc3-974d-fe3fb0dea0fc",
   "metadata": {},
   "source": [
    "# Figure 4 is illustrational and does not involve data."
   ]
  }
 ],
 "metadata": {
  "kernelspec": {
   "display_name": "Python 3",
   "language": "python",
   "name": "python3"
  },
  "language_info": {
   "codemirror_mode": {
    "name": "ipython",
    "version": 3
   },
   "file_extension": ".py",
   "mimetype": "text/x-python",
   "name": "python",
   "nbconvert_exporter": "python",
   "pygments_lexer": "ipython3",
   "version": "3.8.5"
  }
 },
 "nbformat": 4,
 "nbformat_minor": 5
}
