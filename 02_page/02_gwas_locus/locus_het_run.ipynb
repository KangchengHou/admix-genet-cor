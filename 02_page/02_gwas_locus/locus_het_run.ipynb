{
 "cells": [
  {
   "cell_type": "code",
   "execution_count": 1,
   "id": "5b023002-29e7-484b-a74f-df078db769c1",
   "metadata": {},
   "outputs": [
    {
     "name": "stdout",
     "output_type": "stream",
     "text": [
      "--2021-09-24 08:38:37--  https://static-content.springer.com/esm/art%3A10.1038%2Fs41586-019-1310-4/MediaObjects/41586_2019_1310_MOESM3_ESM.xlsx\n",
      "Resolving static-content.springer.com (static-content.springer.com)... 151.101.196.95\n",
      "Connecting to static-content.springer.com (static-content.springer.com)|151.101.196.95|:443... connected.\n",
      "HTTP request sent, awaiting response... 200 OK\n",
      "Length: 1887821 (1.8M) [application/octet-stream]\n",
      "Saving to: ‘page-supp-tables.xlsx’\n",
      "\n",
      "100%[======================================>] 1,887,821   --.-K/s   in 0.009s  \n",
      "\n",
      "2021-09-24 08:38:37 (190 MB/s) - ‘page-supp-tables.xlsx’ saved [1887821/1887821]\n",
      "\n"
     ]
    }
   ],
   "source": [
    "!wget https://static-content.springer.com/esm/art%3A10.1038%2Fs41586-019-1310-4/MediaObjects/41586_2019_1310_MOESM3_ESM.xlsx -O page-supp-tables.xlsx"
   ]
  },
  {
   "cell_type": "code",
   "execution_count": 1,
   "id": "6b9a3a36-9d68-463b-b58a-cb58a5932b47",
   "metadata": {},
   "outputs": [],
   "source": [
    "%load_ext autoreload\n",
    "%autoreload 2\n",
    "%load_ext lab_black\n",
    "\n",
    "import xarray as xr\n",
    "import numpy as np\n",
    "import pandas as pd\n",
    "import admix\n",
    "import dask\n",
    "import dask.array as da\n",
    "from tqdm import tqdm\n",
    "import statsmodels.api as sm\n",
    "from scipy.stats import pearsonr, ttest_ind\n",
    "import seaborn as sns\n",
    "import matplotlib.pyplot as plt\n",
    "from admix.data import quantile_normalize\n",
    "\n",
    "import requests\n",
    "import json\n",
    "import sys\n",
    "import pickle\n",
    "import vcf\n",
    "import subprocess\n",
    "\n",
    "sys.path.append(\"../../\")\n",
    "import common"
   ]
  },
  {
   "cell_type": "markdown",
   "id": "4e58bee3-f8f8-421e-b28c-198385e68b43",
   "metadata": {},
   "source": [
    "# Loci analysis\n",
    "1. Take the top SNPs for each significant loci\n",
    "2. Test the heterogeneity score.\n",
    "3. Aggregate over multiple traits and multiple regions and show QQ-plot"
   ]
  },
  {
   "cell_type": "markdown",
   "id": "f7d362c3-3726-4cdc-89e5-278b7efb5570",
   "metadata": {},
   "source": [
    "Also see \n",
    "- https://github.com/gokceneraslan/opentargets-genetics-python\n",
    "- https://community.opentargets.org/t/how-to-access-finngen-gwas-data-using-the-open-targets-genetics-portal-api/254/4\n",
    "- https://api.genetics.opentargets.org/graphql/schema"
   ]
  },
  {
   "cell_type": "markdown",
   "id": "b713c7e7-1fc6-4f7e-9f37-9903688f66e7",
   "metadata": {},
   "source": [
    "# Process GWAS hits from PAGE study"
   ]
  },
  {
   "cell_type": "code",
   "execution_count": 131,
   "id": "d32e6ce5-efff-4813-85f6-2430f675ae06",
   "metadata": {},
   "outputs": [],
   "source": [
    "SUPP_TABLE_URL = \"https://www.dropbox.com/s/jck2mhjby2ur55j/supp_tables.xlsx?dl=1\"\n",
    "trait_info = pd.read_excel(SUPP_TABLE_URL, sheet_name=\"trait-info\")\n",
    "trait_list = trait_info[\"trait\"].values"
   ]
  },
  {
   "cell_type": "code",
   "execution_count": 205,
   "id": "2f328f0e-0979-4c9a-8dde-6094456d6653",
   "metadata": {},
   "outputs": [],
   "source": [
    "df_assoc = pd.read_csv(\"page-gwas.tsv\", sep=\"\\t\")\n",
    "df_assoc = (\n",
    "    df_assoc[\n",
    "        [\n",
    "            \"DISEASE/TRAIT\",\n",
    "            \"INITIAL SAMPLE SIZE\",\n",
    "            \"REGION\",\n",
    "            \"SNPS\",\n",
    "            \"CHR_ID\",\n",
    "            \"CHR_POS\",\n",
    "            \"P-VALUE\",\n",
    "            \"STUDY ACCESSION\",\n",
    "        ]\n",
    "    ]\n",
    "    .dropna(subset=[\"CHR_POS\"])\n",
    "    .astype({\"CHR_POS\": int})\n",
    ")\n",
    "\n",
    "df_assoc = df_assoc.loc[df_assoc.CHR_ID.isin(np.arange(1, 23).astype(str))]\n",
    "# NOTE: the 24 + 2 additional traits are waist-hip ratio for males and females\n",
    "\n",
    "# convert trait_id\n",
    "gwas_catalog_name2id = {\n",
    "    row[\"GWAS catalog name\"]: row[\"trait\"] for _, row in trait_info.iterrows()\n",
    "}\n",
    "df_assoc.insert(\n",
    "    0, \"trait_id\", df_assoc[\"DISEASE/TRAIT\"].apply(lambda x: gwas_catalog_name2id[x])\n",
    ")"
   ]
  },
  {
   "cell_type": "code",
   "execution_count": 7,
   "id": "94eef75f-565b-4c71-8b54-f8f90bab56e7",
   "metadata": {},
   "outputs": [
    {
     "name": "stderr",
     "output_type": "stream",
     "text": [
      "100%|██████████| 1/1 [02:11<00:00, 131.89s/it]\n"
     ]
    }
   ],
   "source": [
    "!mkdir -p out/locus_het/assoc_loc\n",
    "for chrom in tqdm(range(1, 2)):\n",
    "    df_loc = (\n",
    "        df_assoc[df_assoc[\"CHR_ID\"] == str(chrom)][[\"CHR_ID\", \"CHR_POS\"]]\n",
    "        .drop_duplicates()\n",
    "        .sort_values([\"CHR_POS\"])\n",
    "    )\n",
    "    df_loc[\"CHR_ID\"] = \"chr\" + df_loc[\"CHR_ID\"]\n",
    "    df_loc.rename(columns={\"CHR_ID\": \"CHROM\", \"CHR_POS\": \"POS\"}).to_csv(\n",
    "        f\"out/locus_het/assoc_loc/chr{chrom}.tsv\", sep=\"\\t\", index=False, header=False\n",
    "    )\n",
    "    cmd = (\n",
    "        f\"tabix -hR out/locus_het/assoc_loc/chr{chrom}.tsv \"\n",
    "        + f\"/u/project/sgss/PAGE/ImputedGWAS_topmedfrz8/MEGA_all.chr{chrom}.filtered.vcf.gz \"\n",
    "        + f\"> out/locus_het/assoc_loc/chr{chrom}.vcf\"\n",
    "    )\n",
    "    subprocess.check_call(cmd, shell=True)"
   ]
  },
  {
   "cell_type": "code",
   "execution_count": 52,
   "id": "38d802ea-7f7b-491f-856d-074a8d183042",
   "metadata": {},
   "outputs": [
    {
     "name": "stderr",
     "output_type": "stream",
     "text": [
      "100%|██████████| 22/22 [00:00<00:00, 71.99it/s]\n"
     ]
    }
   ],
   "source": [
    "dset_hm3 = common.load_page_hm3()"
   ]
  },
  {
   "cell_type": "code",
   "execution_count": null,
   "id": "07c9a340-0440-46a1-9d53-fff6ef2ed420",
   "metadata": {},
   "outputs": [],
   "source": [
    "# load dset_gwas_hit\n",
    "dset_list = []\n",
    "for chrom in tqdm(range(1, 23)):\n",
    "    dset_list.append(admix.io.read_vcf(f\"out/locus_het/assoc_loc/chr{chrom}.vcf\"))\n",
    "dset_gwas_hit = xr.concat(dset_list, dim=\"snp\")\n",
    "dset_gwas_hit[\"geno\"] = dset_gwas_hit.geno.dims, da.from_array(\n",
    "    dset_gwas_hit.geno.values, chunks=-1\n",
    ")\n",
    "dset_gwas_hit.attrs[\"n_anc\"] = 2"
   ]
  },
  {
   "cell_type": "code",
   "execution_count": 187,
   "id": "3051bc8f-8aaf-4241-8298-d5bd5970e504",
   "metadata": {},
   "outputs": [
    {
     "name": "stderr",
     "output_type": "stream",
     "text": [
      "904it [00:03, 301.23it/s]\n"
     ]
    },
    {
     "data": {
      "text/plain": [
       "<xarray.backends.zarr.ZarrStore at 0x2aaffe7f5cf0>"
      ]
     },
     "execution_count": 187,
     "metadata": {},
     "output_type": "execute_result"
    }
   ],
   "source": [
    "# align `dset_gwas_hit to `dset`\n",
    "dset_gwas_hit = dset_gwas_hit.sel(indiv=dset_hm3.indiv.values)\n",
    "\n",
    "# fill in lanc\n",
    "df_dset_hm3 = dset_hm3.snp.to_dataframe().reset_index(drop=True)\n",
    "snp_index = []\n",
    "for _, snp in tqdm(dset_gwas_hit.snp.to_dataframe().iterrows()):\n",
    "    chrom, pos = snp[\"CHROM\"], snp[\"POS\"]\n",
    "    df_tmp = df_dset_hm3[df_dset_hm3[\"CHROM\"] == chrom]\n",
    "    snp_index.append((df_tmp[\"POS\"] - pos).abs().idxmin())\n",
    "lanc = dset_hm3.isel(snp=snp_index).lanc.values\n",
    "dset_gwas_hit = dset_gwas_hit.assign(\n",
    "    lanc=((\"indiv\", \"snp\", \"ploidy\"), da.from_array(lanc, chunks=-1))\n",
    ")\n",
    "\n",
    "# fill in individual information\n",
    "for k in dset_hm3.coords:\n",
    "    if dset_hm3.coords[k].dims == (\"indiv\",):\n",
    "        dset_gwas_hit.coords[k] = (\"indiv\", dset_hm3.coords[k].data)\n",
    "\n",
    "# for duplicated snps (with same CHROM and POS), retain only the one with larger MAF\n",
    "df_tmp = dset_gwas_hit.snp.to_dataframe()\n",
    "df_tmp = df_tmp.groupby([\"CHROM\", \"POS\"], as_index=False).apply(\n",
    "    lambda group: group.loc[group.MAF == group.MAF.max()]\n",
    ")\n",
    "dset_gwas_hit = dset_gwas_hit.sel(snp=dset_gwas_hit.snp.isin(df_tmp.snp))\n",
    "admix.tools.allele_per_anc(dset_gwas_hit)\n",
    "dset_gwas_hit.to_zarr(\"out/locus_het/gwas_hit.zarr\")"
   ]
  },
  {
   "cell_type": "code",
   "execution_count": 188,
   "id": "580a6016-c139-424a-bced-5cb91043ef3d",
   "metadata": {},
   "outputs": [],
   "source": [
    "df_assoc[\"EUR_af\"] = np.nan\n",
    "df_assoc[\"AFR_af\"] = np.nan\n",
    "\n",
    "df_assoc[\"EUR_beta\"] = np.nan\n",
    "df_assoc[\"EUR_beta_stderr\"] = np.nan\n",
    "df_assoc[\"AFR_beta\"] = np.nan\n",
    "df_assoc[\"AFR_beta_stderr\"] = np.nan\n",
    "df_assoc[\"HET_pval\"] = np.nan"
   ]
  },
  {
   "cell_type": "code",
   "execution_count": 207,
   "id": "8be09bd3-924d-4723-822d-1c694de2faf8",
   "metadata": {},
   "outputs": [
    {
     "name": "stderr",
     "output_type": "stream",
     "text": [
      "  2%|▏         | 24/1243 [00:34<30:44,  1.51s/it]"
     ]
    },
    {
     "name": "stdout",
     "output_type": "stream",
     "text": [
      "24 is missing\n"
     ]
    },
    {
     "name": "stderr",
     "output_type": "stream",
     "text": [
      "  8%|▊         | 96/1243 [02:15<26:28,  1.39s/it]"
     ]
    },
    {
     "name": "stdout",
     "output_type": "stream",
     "text": [
      "97 is missing\n",
      "98 is missing\n"
     ]
    },
    {
     "name": "stderr",
     "output_type": "stream",
     "text": [
      " 15%|█▍        | 182/1243 [04:13<24:48,  1.40s/it]"
     ]
    },
    {
     "name": "stdout",
     "output_type": "stream",
     "text": [
      "183 is missing\n"
     ]
    },
    {
     "name": "stderr",
     "output_type": "stream",
     "text": [
      " 16%|█▋        | 203/1243 [04:42<24:30,  1.41s/it]"
     ]
    },
    {
     "name": "stdout",
     "output_type": "stream",
     "text": [
      "204 is missing\n"
     ]
    },
    {
     "name": "stderr",
     "output_type": "stream",
     "text": [
      " 16%|█▋        | 205/1243 [04:43<18:39,  1.08s/it]"
     ]
    },
    {
     "name": "stdout",
     "output_type": "stream",
     "text": [
      "206 is missing\n"
     ]
    },
    {
     "name": "stderr",
     "output_type": "stream",
     "text": [
      " 20%|██        | 250/1243 [05:48<24:45,  1.50s/it]"
     ]
    },
    {
     "name": "stdout",
     "output_type": "stream",
     "text": [
      "251 is missing\n"
     ]
    },
    {
     "name": "stderr",
     "output_type": "stream",
     "text": [
      " 32%|███▏      | 395/1243 [09:13<20:11,  1.43s/it]"
     ]
    },
    {
     "name": "stdout",
     "output_type": "stream",
     "text": [
      "401 is missing\n"
     ]
    },
    {
     "name": "stderr",
     "output_type": "stream",
     "text": [
      " 33%|███▎      | 412/1243 [09:36<19:28,  1.41s/it]"
     ]
    },
    {
     "name": "stdout",
     "output_type": "stream",
     "text": [
      "420 is missing\n"
     ]
    },
    {
     "name": "stderr",
     "output_type": "stream",
     "text": [
      " 40%|███▉      | 495/1243 [11:33<17:36,  1.41s/it]"
     ]
    },
    {
     "name": "stdout",
     "output_type": "stream",
     "text": [
      "504 is missing\n"
     ]
    },
    {
     "name": "stderr",
     "output_type": "stream",
     "text": [
      " 49%|████▉     | 615/1243 [14:20<14:35,  1.39s/it]"
     ]
    },
    {
     "name": "stdout",
     "output_type": "stream",
     "text": [
      "625 is missing\n",
      "626 is missing\n",
      "627 is missing\n"
     ]
    },
    {
     "name": "stderr",
     "output_type": "stream",
     "text": [
      " 50%|████▉     | 619/1243 [14:22<07:35,  1.37it/s]"
     ]
    },
    {
     "name": "stdout",
     "output_type": "stream",
     "text": [
      "629 is missing\n"
     ]
    },
    {
     "name": "stderr",
     "output_type": "stream",
     "text": [
      " 51%|█████▏    | 639/1243 [14:48<13:58,  1.39s/it]"
     ]
    },
    {
     "name": "stdout",
     "output_type": "stream",
     "text": [
      "649 is missing\n"
     ]
    },
    {
     "name": "stderr",
     "output_type": "stream",
     "text": [
      " 67%|██████▋   | 827/1243 [19:14<09:46,  1.41s/it]"
     ]
    },
    {
     "name": "stdout",
     "output_type": "stream",
     "text": [
      "840 is missing\n"
     ]
    },
    {
     "name": "stderr",
     "output_type": "stream",
     "text": [
      " 71%|███████   | 883/1243 [20:33<08:29,  1.42s/it]"
     ]
    },
    {
     "name": "stdout",
     "output_type": "stream",
     "text": [
      "897 is missing\n"
     ]
    },
    {
     "name": "stderr",
     "output_type": "stream",
     "text": [
      " 79%|███████▊  | 977/1243 [22:46<06:17,  1.42s/it]"
     ]
    },
    {
     "name": "stdout",
     "output_type": "stream",
     "text": [
      "991 is missing\n"
     ]
    },
    {
     "name": "stderr",
     "output_type": "stream",
     "text": [
      " 79%|███████▉  | 983/1243 [22:53<05:40,  1.31s/it]"
     ]
    },
    {
     "name": "stdout",
     "output_type": "stream",
     "text": [
      "998 is missing\n"
     ]
    },
    {
     "name": "stderr",
     "output_type": "stream",
     "text": [
      " 80%|███████▉  | 991/1243 [23:03<05:42,  1.36s/it]"
     ]
    },
    {
     "name": "stdout",
     "output_type": "stream",
     "text": [
      "1006 is missing\n"
     ]
    },
    {
     "name": "stderr",
     "output_type": "stream",
     "text": [
      " 80%|████████  | 998/1243 [23:12<05:26,  1.33s/it]"
     ]
    },
    {
     "name": "stdout",
     "output_type": "stream",
     "text": [
      "1013 is missing\n"
     ]
    },
    {
     "name": "stderr",
     "output_type": "stream",
     "text": [
      " 81%|████████  | 1008/1243 [23:25<05:29,  1.40s/it]"
     ]
    },
    {
     "name": "stdout",
     "output_type": "stream",
     "text": [
      "1023 is missing\n"
     ]
    },
    {
     "name": "stderr",
     "output_type": "stream",
     "text": [
      " 81%|████████▏ | 1010/1243 [23:26<04:14,  1.09s/it]"
     ]
    },
    {
     "name": "stdout",
     "output_type": "stream",
     "text": [
      "1025 is missing\n"
     ]
    },
    {
     "name": "stderr",
     "output_type": "stream",
     "text": [
      " 82%|████████▏ | 1018/1243 [23:36<05:04,  1.35s/it]"
     ]
    },
    {
     "name": "stdout",
     "output_type": "stream",
     "text": [
      "1033 is missing\n"
     ]
    },
    {
     "name": "stderr",
     "output_type": "stream",
     "text": [
      " 84%|████████▎ | 1038/1243 [24:03<04:48,  1.41s/it]"
     ]
    },
    {
     "name": "stdout",
     "output_type": "stream",
     "text": [
      "1053 is missing\n"
     ]
    },
    {
     "name": "stderr",
     "output_type": "stream",
     "text": [
      " 89%|████████▉ | 1110/1243 [25:42<03:06,  1.40s/it]"
     ]
    },
    {
     "name": "stdout",
     "output_type": "stream",
     "text": [
      "1125 is missing\n"
     ]
    },
    {
     "name": "stderr",
     "output_type": "stream",
     "text": [
      " 97%|█████████▋| 1206/1243 [27:57<00:50,  1.38s/it]"
     ]
    },
    {
     "name": "stdout",
     "output_type": "stream",
     "text": [
      "1222 is missing\n"
     ]
    },
    {
     "name": "stderr",
     "output_type": "stream",
     "text": [
      " 99%|█████████▉| 1236/1243 [28:38<00:09,  1.40s/it]"
     ]
    },
    {
     "name": "stdout",
     "output_type": "stream",
     "text": [
      "1252 is missing\n"
     ]
    },
    {
     "name": "stderr",
     "output_type": "stream",
     "text": [
      "100%|██████████| 1243/1243 [28:47<00:00,  1.39s/it]\n"
     ]
    }
   ],
   "source": [
    "for row_i, row in tqdm(df_assoc.iterrows(), total=df_assoc.shape[0]):\n",
    "    chrom = int(row.CHR_ID)\n",
    "    position = row.CHR_POS\n",
    "\n",
    "    dset_snp_pos = np.where(\n",
    "        (dset_gwas_hit.CHROM == chrom) & (dset_gwas_hit.POS == position)\n",
    "    )[0]\n",
    "    if len(dset_snp_pos) == 0:\n",
    "        print(f\"{row_i} is missing\")\n",
    "        continue\n",
    "    assert len(dset_snp_pos) == 1\n",
    "    dset_snp = dset_gwas_hit.isel(snp=dset_snp_pos)\n",
    "    dset_snp = dset_snp.sel(indiv=~np.isnan(dset_snp.coords[row.trait_id]))\n",
    "    apa = dset_snp[\"allele_per_anc\"].values[:, 0, :]\n",
    "    admix.tools.af_per_anc(dset_snp)\n",
    "    df_covar = dict()\n",
    "    for col in [\"age\", \"sex\", \"study\"] + [f\"geno_EV{i}\" for i in range(1, 11)]:\n",
    "        df_covar[col] = dset_snp.coords[col].values\n",
    "    df_covar = pd.DataFrame(df_covar)\n",
    "    study_dummies = pd.get_dummies(df_covar[\"study\"], drop_first=True)\n",
    "    study_dummies.columns = [f\"study_dummy_{s}\" for s in study_dummies.columns]\n",
    "    df_covar = pd.concat([df_covar, study_dummies], axis=1)\n",
    "    df_covar = df_covar.drop(columns=[\"study\"])\n",
    "    covar = df_covar.values\n",
    "    covar = (covar - covar.mean(axis=0)) / covar.std(axis=0)\n",
    "    y = dset_snp[row.trait_id].values\n",
    "    y = quantile_normalize(y)\n",
    "    p_het, model_het = common.test_het(apa, y, covar)\n",
    "    p_assoc, model_assoc = common.test_assoc(apa, y, covar)\n",
    "    df_assoc.loc[row_i, [\"EUR_af\", \"AFR_af\"]] = (\n",
    "        dset_snp[\"af_per_anc\"].values[0, 0],\n",
    "        dset_snp[\"af_per_anc\"].values[0, 1],\n",
    "    )\n",
    "    df_assoc.loc[\n",
    "        row_i,\n",
    "        [\n",
    "            \"assoc_pval\",\n",
    "            \"HET_pval\",\n",
    "            \"EUR_beta\",\n",
    "            \"AFR_beta\",\n",
    "            \"EUR_beta_stderr\",\n",
    "            \"AFR_beta_stderr\",\n",
    "        ],\n",
    "    ] = [\n",
    "        p_assoc,\n",
    "        p_het,\n",
    "        model_het.params[1],\n",
    "        model_het.params[2],\n",
    "        model_het.bse[1],\n",
    "        model_het.bse[2],\n",
    "    ]"
   ]
  },
  {
   "cell_type": "code",
   "execution_count": 208,
   "id": "a9c898b3-24dc-4dab-b371-cecb8782a70d",
   "metadata": {},
   "outputs": [],
   "source": [
    "df_assoc.to_excel(\"out/locus_het/sumstats.xlsx\", index=False)"
   ]
  }
 ],
 "metadata": {
  "kernelspec": {
   "display_name": "Python 3",
   "language": "python",
   "name": "python3"
  },
  "language_info": {
   "codemirror_mode": {
    "name": "ipython",
    "version": 3
   },
   "file_extension": ".py",
   "mimetype": "text/x-python",
   "name": "python",
   "nbconvert_exporter": "python",
   "pygments_lexer": "ipython3",
   "version": "3.8.5"
  }
 },
 "nbformat": 4,
 "nbformat_minor": 5
}
