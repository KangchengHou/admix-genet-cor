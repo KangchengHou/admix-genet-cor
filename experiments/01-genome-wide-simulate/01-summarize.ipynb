{
 "cells": [
  {
   "cell_type": "code",
   "execution_count": 1,
   "id": "00e01398-bbc8-469b-a3ec-5f5c098d7010",
   "metadata": {},
   "outputs": [],
   "source": [
    "%load_ext autoreload\n",
    "%autoreload 2\n",
    "%load_ext lab_black\n",
    "\n",
    "import matplotlib.pyplot as plt\n",
    "import numpy as np\n",
    "import scipy\n",
    "import json\n",
    "import pandas as pd\n",
    "import seaborn as sns\n",
    "import os\n",
    "import admix\n",
    "import scipy.stats"
   ]
  },
  {
   "cell_type": "code",
   "execution_count": 2,
   "id": "ca1208c5-39e3-4c06-b5f8-dd70bf97ed5a",
   "metadata": {},
   "outputs": [],
   "source": [
    "def estimate_rg(est, est_var):\n",
    "    \"\"\"\n",
    "    Estimate the ratio of genetic correlation.\n",
    "    est: (3, ) numpy array\n",
    "    est_var (3, 3) variance-covariance matrix\n",
    "    \"\"\"\n",
    "    x, y = est[0], est[1]\n",
    "    rg = y / x\n",
    "    # grad = [-y / x^2, 1 / x]\n",
    "    grad = np.array([-y / (x ** 2), 1 / x])\n",
    "\n",
    "    def quad_form(x, A):\n",
    "        return np.dot(np.dot(x.T, A), x)\n",
    "\n",
    "    return rg, quad_form(grad, est_var[0:2, 0:2])"
   ]
  },
  {
   "cell_type": "code",
   "execution_count": 174,
   "id": "9a4710be-fc5c-4e44-bb61-73f975709ab1",
   "metadata": {},
   "outputs": [],
   "source": [
    "est = admix.tools.gcta.read_reml(f_name)\n",
    "rg, rg_var = estimate_rg(est[\"est\"].Variance.values, est[\"varcov\"].values)\n",
    "rg_stderr = np.sqrt(rg_var)"
   ]
  },
  {
   "cell_type": "code",
   "execution_count": 200,
   "id": "19ddc5fa-61eb-4ee6-9ce2-a8b788d4cb5d",
   "metadata": {},
   "outputs": [
    {
     "name": "stdout",
     "output_type": "stream",
     "text": [
      "0.9402899505151132 0.06342695302683875\n"
     ]
    }
   ],
   "source": [
    "mean = est[\"est\"].Variance.values\n",
    "varcov = est[\"varcov\"].values\n",
    "mc_samples = np.random.multivariate_normal(mean=mean, cov=varcov, size=20000)\n",
    "ratio = mc_samples[:, 1] / mc_samples[:, 0]\n",
    "print(np.mean(ratio), np.std(ratio))"
   ]
  },
  {
   "cell_type": "code",
   "execution_count": 191,
   "id": "d697739f-b9a7-4b0b-982a-66ea29440ca9",
   "metadata": {},
   "outputs": [
    {
     "data": {
      "text/plain": [
       "0.06012097694267105"
      ]
     },
     "execution_count": 191,
     "metadata": {},
     "output_type": "execute_result"
    }
   ],
   "source": [
    "rg_stderr"
   ]
  },
  {
   "cell_type": "code",
   "execution_count": 192,
   "id": "f8909e80-a680-4e1a-88e1-fd3f0c03f11d",
   "metadata": {},
   "outputs": [
    {
     "name": "stdout",
     "output_type": "stream",
     "text": [
      "0.9406077493699643 0.06333625930306917\n"
     ]
    }
   ],
   "source": []
  },
  {
   "cell_type": "code",
   "execution_count": 173,
   "id": "b1d2b4c4-d188-46d4-a3f7-0cd447c6fe12",
   "metadata": {},
   "outputs": [
    {
     "name": "stdout",
     "output_type": "stream",
     "text": [
      "Loading hsq=0.1, pcausal=0.01\n"
     ]
    },
    {
     "ename": "KeyboardInterrupt",
     "evalue": "",
     "output_type": "error",
     "traceback": [
      "\u001b[0;31m---------------------------------------------------------------------------\u001b[0m",
      "\u001b[0;31mKeyboardInterrupt\u001b[0m                         Traceback (most recent call last)",
      "\u001b[0;32m<ipython-input-173-4cefd048ddca>\u001b[0m in \u001b[0;36m<module>\u001b[0;34m\u001b[0m\n\u001b[1;32m     23\u001b[0m \u001b[0;34m\u001b[0m\u001b[0m\n\u001b[1;32m     24\u001b[0m                         \u001b[0;31m# results from likelihood ratio test\u001b[0m\u001b[0;34m\u001b[0m\u001b[0;34m\u001b[0m\u001b[0;34m\u001b[0m\u001b[0m\n\u001b[0;32m---> 25\u001b[0;31m                         \u001b[0mreduced_est\u001b[0m \u001b[0;34m=\u001b[0m \u001b[0madmix\u001b[0m\u001b[0;34m.\u001b[0m\u001b[0mtools\u001b[0m\u001b[0;34m.\u001b[0m\u001b[0mgcta\u001b[0m\u001b[0;34m.\u001b[0m\u001b[0mread_reml\u001b[0m\u001b[0;34m(\u001b[0m\u001b[0mf_name\u001b[0m \u001b[0;34m+\u001b[0m \u001b[0;34m\".reduced\"\u001b[0m\u001b[0;34m)\u001b[0m\u001b[0;34m\u001b[0m\u001b[0;34m\u001b[0m\u001b[0m\n\u001b[0m\u001b[1;32m     26\u001b[0m                         pval_lrt = scipy.stats.chi2.sf(\n\u001b[1;32m     27\u001b[0m                             \u001b[0;36m2\u001b[0m \u001b[0;34m*\u001b[0m \u001b[0;34m(\u001b[0m\u001b[0mest\u001b[0m\u001b[0;34m[\u001b[0m\u001b[0;34m\"loglik\"\u001b[0m\u001b[0;34m]\u001b[0m \u001b[0;34m-\u001b[0m \u001b[0mreduced_est\u001b[0m\u001b[0;34m[\u001b[0m\u001b[0;34m\"loglik\"\u001b[0m\u001b[0;34m]\u001b[0m\u001b[0;34m)\u001b[0m\u001b[0;34m,\u001b[0m \u001b[0;36m1\u001b[0m\u001b[0;34m\u001b[0m\u001b[0;34m\u001b[0m\u001b[0m\n",
      "\u001b[0;32m/u/project/pasaniuc/kangchen/software/admix-kit/admix/tools/gcta.py\u001b[0m in \u001b[0;36mread_reml\u001b[0;34m(path_prefix)\u001b[0m\n\u001b[1;32m    147\u001b[0m \u001b[0;34m\u001b[0m\u001b[0m\n\u001b[1;32m    148\u001b[0m     \u001b[0;31m# Read hsq file\u001b[0m\u001b[0;34m\u001b[0m\u001b[0;34m\u001b[0m\u001b[0;34m\u001b[0m\u001b[0m\n\u001b[0;32m--> 149\u001b[0;31m     \u001b[0;32mwith\u001b[0m \u001b[0mopen\u001b[0m\u001b[0;34m(\u001b[0m\u001b[0mpath_prefix\u001b[0m \u001b[0;34m+\u001b[0m \u001b[0;34m\".hsq\"\u001b[0m\u001b[0;34m)\u001b[0m \u001b[0;32mas\u001b[0m \u001b[0mf\u001b[0m\u001b[0;34m:\u001b[0m\u001b[0;34m\u001b[0m\u001b[0;34m\u001b[0m\u001b[0m\n\u001b[0m\u001b[1;32m    150\u001b[0m         \u001b[0mlines\u001b[0m \u001b[0;34m=\u001b[0m \u001b[0mf\u001b[0m\u001b[0;34m.\u001b[0m\u001b[0mreadlines\u001b[0m\u001b[0;34m(\u001b[0m\u001b[0;34m)\u001b[0m\u001b[0;34m\u001b[0m\u001b[0;34m\u001b[0m\u001b[0m\n\u001b[1;32m    151\u001b[0m     \u001b[0;31m# find loglik\u001b[0m\u001b[0;34m\u001b[0m\u001b[0;34m\u001b[0m\u001b[0;34m\u001b[0m\u001b[0m\n",
      "\u001b[0;32m/u/project/pasaniuc/kangchen/software/miniconda3/lib/python3.8/_bootlocale.py\u001b[0m in \u001b[0;36mgetpreferredencoding\u001b[0;34m(do_setlocale)\u001b[0m\n\u001b[1;32m     31\u001b[0m                 \u001b[0;32mreturn\u001b[0m \u001b[0mlocale\u001b[0m\u001b[0;34m.\u001b[0m\u001b[0mgetpreferredencoding\u001b[0m\u001b[0;34m(\u001b[0m\u001b[0mdo_setlocale\u001b[0m\u001b[0;34m)\u001b[0m\u001b[0;34m\u001b[0m\u001b[0;34m\u001b[0m\u001b[0m\n\u001b[1;32m     32\u001b[0m     \u001b[0;32melse\u001b[0m\u001b[0;34m:\u001b[0m\u001b[0;34m\u001b[0m\u001b[0;34m\u001b[0m\u001b[0m\n\u001b[0;32m---> 33\u001b[0;31m         \u001b[0;32mdef\u001b[0m \u001b[0mgetpreferredencoding\u001b[0m\u001b[0;34m(\u001b[0m\u001b[0mdo_setlocale\u001b[0m\u001b[0;34m=\u001b[0m\u001b[0;32mTrue\u001b[0m\u001b[0;34m)\u001b[0m\u001b[0;34m:\u001b[0m\u001b[0;34m\u001b[0m\u001b[0;34m\u001b[0m\u001b[0m\n\u001b[0m\u001b[1;32m     34\u001b[0m             \u001b[0;32massert\u001b[0m \u001b[0;32mnot\u001b[0m \u001b[0mdo_setlocale\u001b[0m\u001b[0;34m\u001b[0m\u001b[0;34m\u001b[0m\u001b[0m\n\u001b[1;32m     35\u001b[0m             \u001b[0;32mif\u001b[0m \u001b[0msys\u001b[0m\u001b[0;34m.\u001b[0m\u001b[0mflags\u001b[0m\u001b[0;34m.\u001b[0m\u001b[0mutf8_mode\u001b[0m\u001b[0;34m:\u001b[0m\u001b[0;34m\u001b[0m\u001b[0;34m\u001b[0m\u001b[0m\n",
      "\u001b[0;31mKeyboardInterrupt\u001b[0m: "
     ]
    }
   ],
   "source": [
    "df_plot = []\n",
    "\n",
    "# for hsq in [0.1, 0.25, 0.5]:\n",
    "#     for pcausal in [0.00001, 0.0001, 0.001, 0.01]:\n",
    "for hsq in [0.1]:\n",
    "    for pcausal in [0.01]:\n",
    "        print(f\"Loading hsq={hsq}, pcausal={pcausal}\")\n",
    "        for cor in [0.9, 0.95, 1.0]:\n",
    "            for hermodel in [\"mafukb\"]:\n",
    "                for sim_i in range(0, 500):\n",
    "                    f_name = (\n",
    "                        f\"out/gcta-estimate/hsq-{hsq}-pcausal-{np.format_float_positional(pcausal)}-cor-{cor}\"\n",
    "                        + f\"-hermodel-{hermodel}.sim_{sim_i}\"\n",
    "                    )\n",
    "                    if not os.path.exists(f_name + \".hsq\"):\n",
    "                        continue\n",
    "                    try:\n",
    "                        est = admix.tools.gcta.read_reml(f_name)\n",
    "                        rg, rg_var = estimate_rg(\n",
    "                            est[\"est\"].Variance.values, est[\"varcov\"].values\n",
    "                        )\n",
    "                        rg_stderr = np.sqrt(rg_var)\n",
    "\n",
    "                        # results from likelihood ratio test\n",
    "                        reduced_est = admix.tools.gcta.read_reml(f_name + \".reduced\")\n",
    "                        pval_lrt = scipy.stats.chi2.sf(\n",
    "                            2 * (est[\"loglik\"] - reduced_est[\"loglik\"]), 1\n",
    "                        )\n",
    "                        pval_delta = scipy.stats.norm.cdf((rg - 1) / rg_stderr)\n",
    "                        df_plot.append(\n",
    "                            est[\"est\"].Variance.values.tolist()\n",
    "                            + [\n",
    "                                hsq,\n",
    "                                cor,\n",
    "                                pcausal,\n",
    "                                hermodel,\n",
    "                                rg,\n",
    "                                rg_stderr,\n",
    "                                pval_lrt,\n",
    "                                pval_delta,\n",
    "                                sim_i,\n",
    "                            ]\n",
    "                        )\n",
    "                    except ValueError:\n",
    "                        print(\"Invalid value!\")\n",
    "df_plot = pd.DataFrame(\n",
    "    df_plot,\n",
    "    columns=[\n",
    "        \"estimated_var_g\",\n",
    "        \"estimated_rho\",\n",
    "        \"estimated_var_e\",\n",
    "        \"hsq\",\n",
    "        \"cor\",\n",
    "        \"pcausal\",\n",
    "        \"hermodel\",\n",
    "        \"estimated_ratio\",\n",
    "        \"estimated_ratio_stderr\",\n",
    "        \"pval_lrt\",\n",
    "        \"pval_delta\",\n",
    "        \"sim_i\",\n",
    "    ],\n",
    ")"
   ]
  },
  {
   "cell_type": "code",
   "execution_count": null,
   "id": "5c159f35-6e56-4de0-be64-c472ef778c89",
   "metadata": {},
   "outputs": [],
   "source": [
    "df_plot.to_csv(\"results/raw.csv\", index=False)"
   ]
  }
 ],
 "metadata": {
  "kernelspec": {
   "display_name": "Python 3",
   "language": "python",
   "name": "python3"
  },
  "language_info": {
   "codemirror_mode": {
    "name": "ipython",
    "version": 3
   },
   "file_extension": ".py",
   "mimetype": "text/x-python",
   "name": "python",
   "nbconvert_exporter": "python",
   "pygments_lexer": "ipython3",
   "version": "3.8.5"
  }
 },
 "nbformat": 4,
 "nbformat_minor": 5
}
