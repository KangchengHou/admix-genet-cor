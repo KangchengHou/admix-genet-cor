{
 "cells": [
  {
   "cell_type": "markdown",
   "id": "48eff764-d694-4db6-bdf1-29f0e0554e2b",
   "metadata": {},
   "source": [
    "# Showcasing the results\n",
    "1. Estimation performance\n",
    "2. Hypothesis testing performance"
   ]
  },
  {
   "cell_type": "code",
   "execution_count": 1,
   "id": "dea432cd-3cb9-4d49-86ce-f3477a9095ad",
   "metadata": {},
   "outputs": [],
   "source": [
    "%load_ext autoreload\n",
    "%autoreload 2\n",
    "%load_ext lab_black\n",
    "\n",
    "import matplotlib.pyplot as plt\n",
    "import numpy as np\n",
    "import scipy\n",
    "import json\n",
    "import pandas as pd\n",
    "import seaborn as sns\n",
    "import os\n",
    "import admix\n",
    "import scipy.stats"
   ]
  },
  {
   "cell_type": "code",
   "execution_count": 2,
   "id": "7080fa92-4335-4093-9d39-b918b6c879ed",
   "metadata": {},
   "outputs": [],
   "source": [
    "def estimate_rg(est, est_var):\n",
    "    \"\"\"\n",
    "    Estimate the ratio of genetic correlation.\n",
    "    est: (3, ) numpy array\n",
    "    est_var (3, 3) variance-covariance matrix\n",
    "    \"\"\"\n",
    "    x, y = est[0], est[1]\n",
    "    rg = y / x\n",
    "    # grad = [-y / x^2, 1 / x]\n",
    "    grad = np.array([-y / (x ** 2), 1 / x])\n",
    "\n",
    "    def quad_form(x, A):\n",
    "        return np.dot(np.dot(x.T, A), x)\n",
    "\n",
    "    return rg, quad_form(grad, est_var[0:2, 0:2])"
   ]
  },
  {
   "cell_type": "markdown",
   "id": "d17c85c9-676d-4a0f-8fda-573b4b26217a",
   "metadata": {},
   "source": [
    "# Plot GCTA"
   ]
  },
  {
   "cell_type": "code",
   "execution_count": null,
   "id": "6d793f27-3c18-4581-b469-e0510760236e",
   "metadata": {},
   "outputs": [
    {
     "name": "stdout",
     "output_type": "stream",
     "text": [
      "Loading hsq=0.1, pcausal=1e-05\n",
      "Invalid value!\n",
      "Invalid value!\n",
      "Loading hsq=0.1, pcausal=0.0001\n",
      "Loading hsq=0.1, pcausal=0.001\n",
      "Loading hsq=0.1, pcausal=0.01\n",
      "Loading hsq=0.25, pcausal=1e-05\n",
      "Loading hsq=0.25, pcausal=0.0001\n"
     ]
    }
   ],
   "source": [
    "df_plot = []\n",
    "\n",
    "for hsq in [0.1, 0.25, 0.5]:\n",
    "    for pcausal in [0.00001, 0.0001, 0.001, 0.01]:\n",
    "        print(f\"Loading hsq={hsq}, pcausal={pcausal}\")\n",
    "        for cor in [0.9, 0.95, 1.0]:\n",
    "            for hermodel in [\"mafukb\"]:\n",
    "                for sim_i in range(0, 500):\n",
    "                    f_name = (\n",
    "                        f\"out/gcta-estimate/hsq-{hsq}-pcausal-{np.format_float_positional(pcausal)}-cor-{cor}\"\n",
    "                        + f\"-hermodel-{hermodel}.sim_{sim_i}\"\n",
    "                    )\n",
    "                    if not os.path.exists(f_name + \".hsq\"):\n",
    "                        continue\n",
    "                    try:\n",
    "                        est = admix.tools.gcta.read_reml(f_name)\n",
    "                        rg, rg_var = estimate_rg(\n",
    "                            est[\"est\"].Variance.values, est[\"varcov\"].values\n",
    "                        )\n",
    "                        rg_stderr = np.sqrt(rg_var)\n",
    "\n",
    "                        # results from likelihood ratio test\n",
    "                        reduced_est = admix.tools.gcta.read_reml(f_name + \".reduced\")\n",
    "                        pval_lrt = scipy.stats.chi2.sf(\n",
    "                            2 * (est[\"loglik\"] - reduced_est[\"loglik\"]), 1\n",
    "                        )\n",
    "                        pval_delta = scipy.stats.norm.cdf((rg - 1) / rg_stderr)\n",
    "                        df_plot.append(\n",
    "                            est[\"est\"].Variance.values.tolist()\n",
    "                            + [\n",
    "                                hsq,\n",
    "                                cor,\n",
    "                                pcausal,\n",
    "                                hermodel,\n",
    "                                rg,\n",
    "                                rg_stderr,\n",
    "                                pval_lrt,\n",
    "                                pval_delta,\n",
    "                                sim_i,\n",
    "                            ]\n",
    "                        )\n",
    "                    except ValueError:\n",
    "                        print(\"Invalid value!\")\n",
    "df_plot = pd.DataFrame(\n",
    "    df_plot,\n",
    "    columns=[\n",
    "        \"estimated_var_g\",\n",
    "        \"estimated_rho\",\n",
    "        \"estimated_var_e\",\n",
    "        \"hsq\",\n",
    "        \"cor\",\n",
    "        \"pcausal\",\n",
    "        \"hermodel\",\n",
    "        \"estimated_ratio\",\n",
    "        \"estimated_ratio_stderr\",\n",
    "        \"pval_lrt\",\n",
    "        \"pval_delta\",\n",
    "        \"sim_i\",\n",
    "    ],\n",
    ")"
   ]
  },
  {
   "cell_type": "code",
   "execution_count": 7,
   "id": "bd302fdf-d2f0-4ff9-a37f-d9592914559c",
   "metadata": {},
   "outputs": [],
   "source": [
    "df_plot.to_csv(\"results/raw.csv\", index=False)\n",
    "df_plot = pd.read_csv(\"results/raw.csv\")"
   ]
  },
  {
   "cell_type": "code",
   "execution_count": 8,
   "id": "39c65d76-6133-451d-be79-5ddc95f93905",
   "metadata": {},
   "outputs": [],
   "source": [
    "df_summary = (\n",
    "    df_plot.groupby([\"hsq\", \"cor\", \"pcausal\"])\n",
    "    .agg(\n",
    "        {\n",
    "            \"estimated_ratio\": [\"mean\", \"std\"],\n",
    "            \"estimated_ratio_stderr\": \"mean\",\n",
    "            \"pval_lrt\": lambda x: np.mean(x < 0.05),\n",
    "            \"pval_delta\": lambda x: np.mean(x < 0.05),\n",
    "        }\n",
    "    )\n",
    "    .reset_index()\n",
    ")"
   ]
  },
  {
   "cell_type": "markdown",
   "id": "734cfbaa-6fd8-4e32-b891-16713e45e112",
   "metadata": {},
   "source": [
    "# Main display table\n",
    "Fixing p_causal = 0.1%, varying other parameters"
   ]
  },
  {
   "cell_type": "code",
   "execution_count": 17,
   "id": "1e6cb87e-d456-4f70-bcd3-8ff693dc72ce",
   "metadata": {},
   "outputs": [
    {
     "name": "stdout",
     "output_type": "stream",
     "text": [
      "\\begin{tabular}{rrlll}\n",
      "\\toprule\n",
      " $h_g^2$ &  $r_g$ & $\\widehat{r_g}$ & $\\widehat{\\text{s.e.}(r_g)}$ & $\\text{Pr}[\\text{reject } `r_g=1']$ \\\\\n",
      "\\midrule\n",
      "    0.10 &   0.90 & 0.883$\\pm$0.114 &                        0.109 &                               0.268 \\\\\n",
      "    0.25 &   0.90 & 0.894$\\pm$0.052 &                        0.052 &                                0.66 \\\\\n",
      "    0.50 &   0.90 & 0.896$\\pm$0.035 &                        0.034 &                               0.936 \\\\\n",
      "    0.10 &   0.95 & 0.940$\\pm$0.093 &                         0.09 &                               0.104 \\\\\n",
      "    0.25 &   0.95 & 0.949$\\pm$0.042 &                        0.045 &                               0.214 \\\\\n",
      "    0.50 &   0.95 & 0.948$\\pm$0.030 &                         0.03 &                               0.476 \\\\\n",
      "    0.10 &   1.00 & 0.994$\\pm$0.083 &                        0.075 &                               0.064 \\\\\n",
      "    0.25 &   1.00 & 1.001$\\pm$0.039 &                        0.038 &                               0.064 \\\\\n",
      "    0.50 &   1.00 & 1.000$\\pm$0.025 &                        0.025 &                               0.056 \\\\\n",
      "\\bottomrule\n",
      "\\end{tabular}\n",
      "\n"
     ]
    }
   ],
   "source": [
    "# format table\n",
    "df_tbl = pd.DataFrame(\n",
    "    {\n",
    "        \"hsq\": df_summary[\"hsq\"],\n",
    "        \"cor\": df_summary[\"cor\"],\n",
    "        \"pcausal\": df_summary[\"pcausal\"],\n",
    "        \"estimate\": df_summary[\"estimated_ratio\"].apply(\n",
    "            lambda x: f\"{x['mean']:.3f}$\\pm${x['std']:.3f}\", axis=1\n",
    "        ),\n",
    "        \"estimated_stderr\": df_summary[\"estimated_ratio_stderr\"][\"mean\"]\n",
    "        .round(3)\n",
    "        .astype(str),\n",
    "        \"pval_delta\": df_summary[\"pval_delta\"][\"<lambda>\"].round(3).astype(str),\n",
    "        \"pval_lrt\": df_summary[\"pval_lrt\"][\"<lambda>\"].round(3).astype(str),\n",
    "    }\n",
    ")\n",
    "\n",
    "# main display table\n",
    "# hsq = 0.1, 0.25, 0.5; p_causal = 0.1%\n",
    "df_main = (\n",
    "    df_tbl[df_tbl.pcausal.isin([0.001])]\n",
    "    .drop(columns=[\"pcausal\", \"pval_delta\"])\n",
    "    .rename(\n",
    "        columns={\n",
    "            \"hsq\": \"$h_g^2$\",\n",
    "            \"cor\": \"$r_g$\",\n",
    "            \"estimate\": \"$\\widehat{r_g}$\",\n",
    "            \"estimated_stderr\": \"$\\widehat{\\text{s.e.}(r_g)}$\",\n",
    "            \"pval_lrt\": \"$\\text{Pr}[\\text{reject } `r_g=1']$\",\n",
    "        }\n",
    "    )\n",
    ")\n",
    "df_main = df_main.sort_values(df_main.columns[1])\n",
    "print(df_main.to_latex(escape=False, index=False))"
   ]
  },
  {
   "cell_type": "markdown",
   "id": "d312bfdd-602e-457b-9b53-3cc222ba4350",
   "metadata": {},
   "source": [
    "# Numerical supp. table"
   ]
  },
  {
   "cell_type": "code",
   "execution_count": 18,
   "id": "18b13047-825a-45ae-8dce-f262e5da0045",
   "metadata": {},
   "outputs": [],
   "source": [
    "# all configurations\n",
    "df_supp = df_tbl.rename(\n",
    "    columns={\n",
    "        \"cor\": \"rg\",\n",
    "        \"estimate\": \"rg_estimate\",\n",
    "        \"estimated_stderr\": \"rg_stderr\",\n",
    "        \"pval_lrt\": \"p[reject rg=1]\",\n",
    "    }\n",
    ")\n",
    "df_supp[\"rg_estimate\"] = df_supp[\"rg_estimate\"].apply(lambda x: x.replace(\"$\\pm$\", \"±\"))\n",
    "df_supp[\"p[reject rg=1]\"] = df_supp[\"p[reject rg=1]\"].astype(float).round(3)\n",
    "df_supp.to_excel(\"results/genome-wide-simulation.xlsx\", index=False)"
   ]
  },
  {
   "cell_type": "markdown",
   "id": "02c2b817-c33b-41d8-ac04-19024b62f25a",
   "metadata": {},
   "source": [
    "# Numbers to cite in the manuscript"
   ]
  },
  {
   "cell_type": "code",
   "execution_count": 19,
   "id": "36fc4bac-dfe4-442e-ad81-f173ff111f6a",
   "metadata": {},
   "outputs": [
    {
     "name": "stdout",
     "output_type": "stream",
     "text": [
      "Relative bias across 9 simulation settings (p_causal = 0.1%) is -0.56%\n",
      "Relative bias of standard error across 9 simulation settings (p_causal = 0.1%) is -1.79%\n"
     ]
    }
   ],
   "source": [
    "# relative bias\n",
    "df_tmp = df_summary[df_summary.pcausal == 0.001]\n",
    "relative_bias = (df_tmp[\"estimated_ratio\"][\"mean\"] - df_tmp[\"cor\"]) / df_tmp[\"cor\"]\n",
    "print(\n",
    "    f\"Relative bias across 9 simulation settings (p_causal = 0.1%) is {np.mean(relative_bias * 100):.2f}%\"\n",
    ")\n",
    "\n",
    "# standard errors\n",
    "df_tmp = df_summary[df_summary.pcausal == 0.001]\n",
    "relative_bias = (\n",
    "    df_tmp[\"estimated_ratio_stderr\"][\"mean\"] - df_tmp[\"estimated_ratio\"][\"std\"]\n",
    ") / df_tmp[\"estimated_ratio\"][\"std\"]\n",
    "print(\n",
    "    f\"Relative bias of standard error across 9 simulation settings (p_causal = 0.1%) is {np.mean(relative_bias * 100):.2f}%\"\n",
    ")"
   ]
  },
  {
   "cell_type": "code",
   "execution_count": 20,
   "id": "6356bd3b-d5f4-4a74-bc7e-5318e2329ac9",
   "metadata": {},
   "outputs": [
    {
     "name": "stdout",
     "output_type": "stream",
     "text": [
      "--------pcausal=1e-05--------\n",
      "Relative bias across 9 simulation settings (p_causal = 0.1%) is -1.70% (1.37%)\n",
      "Relative bias of standard error across 9 simulation settings (p_causal = 0.1%) is -40.20% (11.53%)\n",
      "Relative bias of standard error across 9 simulation settings (p_causal = 0.1%) is 0.22 (0.11)\n",
      "--------pcausal=0.0001--------\n",
      "Relative bias across 9 simulation settings (p_causal = 0.1%) is -0.53% (0.62%)\n",
      "Relative bias of standard error across 9 simulation settings (p_causal = 0.1%) is -11.13% (1.74%)\n",
      "Relative bias of standard error across 9 simulation settings (p_causal = 0.1%) is 0.08 (0.01)\n",
      "--------pcausal=0.001--------\n",
      "Relative bias across 9 simulation settings (p_causal = 0.1%) is -0.56% (0.58%)\n",
      "Relative bias of standard error across 9 simulation settings (p_causal = 0.1%) is -1.79% (3.90%)\n",
      "Relative bias of standard error across 9 simulation settings (p_causal = 0.1%) is 0.06 (0.00)\n",
      "--------pcausal=0.01--------\n",
      "Relative bias across 9 simulation settings (p_causal = 0.1%) is -0.30% (0.40%)\n",
      "Relative bias of standard error across 9 simulation settings (p_causal = 0.1%) is -2.25% (3.41%)\n",
      "Relative bias of standard error across 9 simulation settings (p_causal = 0.1%) is 0.05 (0.00)\n"
     ]
    }
   ],
   "source": [
    "for pcausal in df_summary.pcausal.unique():\n",
    "    print(f\"--------pcausal={pcausal}--------\")\n",
    "    # relative bias\n",
    "    df_tmp = df_summary[df_summary.pcausal == pcausal]\n",
    "    relative_bias = (df_tmp[\"estimated_ratio\"][\"mean\"] - df_tmp[\"cor\"]) / df_tmp[\"cor\"]\n",
    "    print(\n",
    "        f\"Relative bias across 9 simulation settings (p_causal = 0.1%) is {np.mean(relative_bias * 100):.2f}% ({np.std(relative_bias * 100):.2f}%)\"\n",
    "    )\n",
    "\n",
    "    # standard errors\n",
    "    relative_bias = (\n",
    "        df_tmp[\"estimated_ratio_stderr\"][\"mean\"] - df_tmp[\"estimated_ratio\"][\"std\"]\n",
    "    ) / df_tmp[\"estimated_ratio\"][\"std\"]\n",
    "    print(\n",
    "        f\"Relative bias of standard error across 9 simulation settings (p_causal = 0.1%) is {np.mean(relative_bias * 100):.2f}% ({np.std(relative_bias * 100):.2f}%)\"\n",
    "    )\n",
    "\n",
    "    # inflation under the null\n",
    "    pval = df_tmp.loc[df_tmp.cor == 1.0, \"pval_lrt\"][\"<lambda>\"]\n",
    "    print(\n",
    "        f\"Relative bias of standard error across 9 simulation settings (p_causal = 0.1%) is {np.mean(pval):.2f} ({np.std(pval):.2f})\"\n",
    "    )"
   ]
  },
  {
   "cell_type": "code",
   "execution_count": 22,
   "id": "5af2d1b2-0d58-45bc-abb4-ddfad00a3a38",
   "metadata": {},
   "outputs": [
    {
     "name": "stdout",
     "output_type": "stream",
     "text": [
      "\\begin{tabular}{lrlll}\n",
      "\\toprule\n",
      "$p_\\text{causal}$ &  $r_g$ & $\\widehat{r_g}$ & $\\widehat{\\text{s.e.}(r_g)}$ & $\\text{Pr}[\\text{reject } `r_g=1']$ \\\\\n",
      "\\midrule\n",
      "          0.001\\% &   0.90 & 0.891$\\pm$0.094 &                        0.054 &                               0.578 \\\\\n",
      "           0.01\\% &   0.90 & 0.900$\\pm$0.059 &                        0.052 &                               0.582 \\\\\n",
      "            0.1\\% &   0.90 & 0.894$\\pm$0.052 &                        0.052 &                                0.66 \\\\\n",
      "             1.\\% &   0.90 & 0.898$\\pm$0.057 &                        0.052 &                               0.626 \\\\\n",
      "          0.001\\% &   0.95 & 0.937$\\pm$0.084 &                        0.048 &                               0.356 \\\\\n",
      "           0.01\\% &   0.95 & 0.948$\\pm$0.049 &                        0.045 &                               0.258 \\\\\n",
      "            0.1\\% &   0.95 & 0.949$\\pm$0.042 &                        0.045 &                               0.214 \\\\\n",
      "             1.\\% &   0.95 & 0.948$\\pm$0.044 &                        0.045 &                               0.254 \\\\\n",
      "          0.001\\% &   1.00 & 0.990$\\pm$0.063 &                         0.04 &                               0.226 \\\\\n",
      "           0.01\\% &   1.00 & 0.998$\\pm$0.043 &                        0.038 &                               0.086 \\\\\n",
      "            0.1\\% &   1.00 & 1.001$\\pm$0.039 &                        0.038 &                               0.064 \\\\\n",
      "             1.\\% &   1.00 & 1.001$\\pm$0.038 &                        0.037 &                               0.054 \\\\\n",
      "\\bottomrule\n",
      "\\end{tabular}\n",
      "\n"
     ]
    }
   ],
   "source": [
    "# format table\n",
    "df_tbl = pd.DataFrame(\n",
    "    {\n",
    "        \"hsq\": df_summary[\"hsq\"],\n",
    "        \"cor\": df_summary[\"cor\"],\n",
    "        \"pcausal\": df_summary[\"pcausal\"].apply(\n",
    "            lambda x: f\"{np.format_float_positional(x * 100)}\\%\"\n",
    "        ),\n",
    "        \"estimate\": df_summary[\"estimated_ratio\"].apply(\n",
    "            lambda x: f\"{x['mean']:.3f}$\\pm${x['std']:.3f}\", axis=1\n",
    "        ),\n",
    "        \"estimated_stderr\": df_summary[\"estimated_ratio_stderr\"][\"mean\"]\n",
    "        .round(3)\n",
    "        .astype(str),\n",
    "        \"pval_delta\": df_summary[\"pval_delta\"][\"<lambda>\"].round(3).astype(str),\n",
    "        \"pval_lrt\": df_summary[\"pval_lrt\"][\"<lambda>\"].round(3).astype(str),\n",
    "    }\n",
    ")\n",
    "\n",
    "# main display table\n",
    "# hsq = 0.1, 0.25, 0.5; p_causal = 0.1%\n",
    "df_main = (\n",
    "    df_tbl[(df_tbl.hsq == 0.25)]\n",
    "    .drop(columns=[\"hsq\", \"pval_delta\"])\n",
    "    .rename(\n",
    "        columns={\n",
    "            \"cor\": \"$r_g$\",\n",
    "            \"pcausal\": \"$p_\\text{causal}$\",\n",
    "            \"estimate\": \"$\\widehat{r_g}$\",\n",
    "            \"estimated_stderr\": \"$\\widehat{\\text{s.e.}(r_g)}$\",\n",
    "            \"pval_lrt\": \"$\\text{Pr}[\\text{reject } `r_g=1']$\",\n",
    "        }\n",
    "    )\n",
    ")\n",
    "\n",
    "# exchange columns, such that, column 1: p_causal, column 2: rg\n",
    "df_main = df_main[\n",
    "    [df_main.columns[1], df_main.columns[0]] + df_main.columns[2:].tolist()\n",
    "]\n",
    "print(df_main.to_latex(escape=False, index=False))"
   ]
  },
  {
   "cell_type": "code",
   "execution_count": 23,
   "id": "64468f2b-a43c-4d98-832c-f867eb85b5c0",
   "metadata": {},
   "outputs": [
    {
     "ename": "AssertionError",
     "evalue": "",
     "output_type": "error",
     "traceback": [
      "\u001b[0;31m---------------------------------------------------------------------------\u001b[0m",
      "\u001b[0;31mAssertionError\u001b[0m                            Traceback (most recent call last)",
      "\u001b[0;32m<ipython-input-23-a871fdc9ebee>\u001b[0m in \u001b[0;36m<module>\u001b[0;34m\u001b[0m\n\u001b[0;32m----> 1\u001b[0;31m \u001b[0;32massert\u001b[0m \u001b[0;32mFalse\u001b[0m\u001b[0;34m\u001b[0m\u001b[0;34m\u001b[0m\u001b[0m\n\u001b[0m",
      "\u001b[0;31mAssertionError\u001b[0m: "
     ]
    }
   ],
   "source": [
    "assert False"
   ]
  },
  {
   "cell_type": "markdown",
   "id": "561e7bd9-e3dd-4d70-8d07-12e3b6a9c76c",
   "metadata": {},
   "source": [
    "# Deprecated below"
   ]
  },
  {
   "cell_type": "code",
   "execution_count": 21,
   "id": "ee523bb4-3adf-4e56-a4be-c70df6d0a7ad",
   "metadata": {},
   "outputs": [],
   "source": [
    "df_plot = []\n",
    "\n",
    "for hsq in [0.1, 0.25, 0.5]:\n",
    "    for pcausal in [0.0001, 0.001, 0.01, 1.0]:\n",
    "        for cor in [0.6, 0.8, 1.0]:\n",
    "            for hermodel in [\"mafukb\"]:\n",
    "                for sim_i in range(100):\n",
    "                    f_name = (\n",
    "                        f\"out/BACKUP-gcta-estimate/hsq-{hsq}-pcausal-{pcausal}-cor-{cor}\"\n",
    "                        + f\"-hermodel-{hermodel}.sim_{sim_i}\"\n",
    "                    )\n",
    "                    if not os.path.exists(f_name + \".hsq\"):\n",
    "                        continue\n",
    "                    try:\n",
    "                        est = admix.tools.gcta.read_reml(f_name)\n",
    "                        rg, rg_var = estimate_rg(\n",
    "                            est[\"est\"].Variance.values, est[\"varcov\"].values\n",
    "                        )\n",
    "                        rg_stderr = np.sqrt(rg_var)\n",
    "                        df_plot.append(\n",
    "                            est[\"est\"].Variance.values.tolist()\n",
    "                            + [hsq, cor, pcausal, hermodel, rg, rg_stderr, sim_i]\n",
    "                        )\n",
    "                    except ValueError:\n",
    "                        print(\"Invalid value!\")\n",
    "df_plot = pd.DataFrame(\n",
    "    df_plot,\n",
    "    columns=[\n",
    "        \"estimated_var_g\",\n",
    "        \"estimated_rho\",\n",
    "        \"estimated_var_e\",\n",
    "        \"hsq\",\n",
    "        \"cor\",\n",
    "        \"pcausal\",\n",
    "        \"hermodel\",\n",
    "        \"estimated_ratio\",\n",
    "        \"estimated_ratio_stderr\",\n",
    "        \"sim_i\",\n",
    "    ],\n",
    ")\n",
    "\n",
    "rg_hat_std = df_plot.groupby([\"hsq\", \"cor\", \"pcausal\"]).apply(\n",
    "    lambda x: np.std(x[\"estimated_ratio\"])\n",
    ")\n",
    "mean_rg_std_hat = df_plot.groupby([\"hsq\", \"cor\", \"pcausal\"]).apply(\n",
    "    lambda x: np.mean(x[\"estimated_ratio_stderr\"])\n",
    ")\n",
    "df_plot = pd.DataFrame({\"rg_hat_std\": rg_hat_std, \"mean_rg_std_hat\": mean_rg_std_hat})\n",
    "\n",
    "fig, ax = plt.subplots(figsize=(3, 3), dpi=150)\n",
    "ax.scatter(df_plot.rg_hat_std, df_plot.mean_rg_std_hat)\n",
    "ax.plot([0, 0.25], [0, 0.25], \"r--\", alpha=0.5)\n",
    "ax.set_xlabel(\"Standard deviation of $\\hat{r_g}$\")\n",
    "ax.set_ylabel(\"Mean of estimated standard error\")"
   ]
  },
  {
   "cell_type": "code",
   "execution_count": 5,
   "id": "bd6bb4ff-d499-4265-9c6d-e156b8bede0c",
   "metadata": {},
   "outputs": [],
   "source": []
  }
 ],
 "metadata": {
  "kernelspec": {
   "display_name": "Python 3",
   "language": "python",
   "name": "python3"
  },
  "language_info": {
   "codemirror_mode": {
    "name": "ipython",
    "version": 3
   },
   "file_extension": ".py",
   "mimetype": "text/x-python",
   "name": "python",
   "nbconvert_exporter": "python",
   "pygments_lexer": "ipython3",
   "version": "3.8.5"
  }
 },
 "nbformat": 4,
 "nbformat_minor": 5
}
