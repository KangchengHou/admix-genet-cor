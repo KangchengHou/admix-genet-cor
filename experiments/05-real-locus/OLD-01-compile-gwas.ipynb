{
 "cells": [
  {
   "cell_type": "code",
   "execution_count": 1,
   "id": "d4d0f4cd-51c7-4f93-90af-a9a2a2574ee0",
   "metadata": {},
   "outputs": [],
   "source": [
    "%load_ext autoreload\n",
    "%autoreload 2\n",
    "%load_ext lab_black\n",
    "\n",
    "import numpy as np\n",
    "import pandas as pd\n",
    "import admix\n",
    "import dask\n",
    "import dask.array as da\n",
    "from tqdm import tqdm\n",
    "import statsmodels.api as sm\n",
    "import matplotlib.pyplot as plt\n",
    "from os.path import join\n",
    "import os\n",
    "import admix_genet_cor"
   ]
  },
  {
   "cell_type": "code",
   "execution_count": 2,
   "id": "7566ca56-2366-46d4-b51e-e3a0ace7df9b",
   "metadata": {},
   "outputs": [],
   "source": [
    "DATA_DIR = (\n",
    "    \"/u/project/pasaniuc/pasaniucdata/admixture/projects/PAGE-QC/02-gwas/out/aframr\"\n",
    ")"
   ]
  },
  {
   "cell_type": "code",
   "execution_count": 3,
   "id": "efa1105a-39d9-42b9-803d-8aa3859ad1d0",
   "metadata": {},
   "outputs": [],
   "source": [
    "SUPP_TABLE_URL = \"https://www.dropbox.com/s/jck2mhjby2ur55j/supp_tables.xlsx?dl=1\"\n",
    "trait_info = pd.read_excel(SUPP_TABLE_URL, sheet_name=\"trait-tmp\")\n",
    "trait_list = trait_info[\"trait\"].values"
   ]
  },
  {
   "cell_type": "code",
   "execution_count": 21,
   "id": "ec964580-49bb-4393-bba6-1d284367f350",
   "metadata": {},
   "outputs": [],
   "source": [
    "df_clump_list = []\n",
    "for trait in trait_list:\n",
    "    clumped_file = join(DATA_DIR, trait, \"PLINK.imputed.clumped\")\n",
    "    if os.path.exists(clumped_file):\n",
    "        with open(clumped_file) as f:\n",
    "            lines = f.readlines()\n",
    "            if len(lines) == 1:\n",
    "                continue\n",
    "        df_clump = pd.read_csv(clumped_file, delim_whitespace=True)[\n",
    "            [\"CHR\", \"SNP\", \"BP\"]\n",
    "        ].rename(columns={\"CHR\": \"CHROM\", \"BP\": \"POS\"})\n",
    "        df_clump.insert(0, \"trait\", trait)\n",
    "        df_clump_list.append(df_clump)\n",
    "df_clump = pd.concat(df_clump_list)\n",
    "df_clump.index = (\n",
    "    df_clump[\"trait\"]\n",
    "    + \":\"\n",
    "    + df_clump[\"CHROM\"].astype(str)\n",
    "    + \":\"\n",
    "    + df_clump[\"POS\"].astype(str)\n",
    ")\n",
    "df_clump.to_csv(\"out/page-gwas-insample.tsv\", sep=\"\\t\")"
   ]
  }
 ],
 "metadata": {
  "kernelspec": {
   "display_name": "Python 3",
   "language": "python",
   "name": "python3"
  },
  "language_info": {
   "codemirror_mode": {
    "name": "ipython",
    "version": 3
   },
   "file_extension": ".py",
   "mimetype": "text/x-python",
   "name": "python",
   "nbconvert_exporter": "python",
   "pygments_lexer": "ipython3",
   "version": "3.8.5"
  }
 },
 "nbformat": 4,
 "nbformat_minor": 5
}
