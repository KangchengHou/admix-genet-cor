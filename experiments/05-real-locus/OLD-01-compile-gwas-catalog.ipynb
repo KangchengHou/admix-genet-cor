{
 "cells": [
  {
   "cell_type": "markdown",
   "id": "f882e5c2-0ffe-498d-a641-ef2e536e43b0",
   "metadata": {},
   "source": [
    "# Loci analysis\n",
    "1. Take the top SNPs for each significant loci\n",
    "2. Test the heterogeneity score.\n",
    "3. Aggregate over multiple traits and multiple regions and show QQ-plot\n",
    "\n",
    "`out/page-gwas.tsv` is downloaded from GWAS catalog https://www.ebi.ac.uk/gwas/publications/31217584 (Download catalog data)\n",
    "\n",
    "**Links below are not used in this notebook but I preserve these just in case**\n",
    "\n",
    "Also see \n",
    "- https://github.com/gokceneraslan/opentargets-genetics-python\n",
    "- https://community.opentargets.org/t/how-to-access-finngen-gwas-data-using-the-open-targets-genetics-portal-api/254/4\n",
    "- https://api.genetics.opentargets.org/graphql/schema\n",
    "\n",
    "!wget https://static-content.springer.com/esm/art%3A10.1038%2Fs41586-019-1310-4/MediaObjects/41586_2019_1310_MOESM3_ESM.xlsx -O page-supp-tables.xlsx\n"
   ]
  },
  {
   "cell_type": "code",
   "execution_count": 1,
   "id": "46d29173-2250-49c1-86e5-22edc2a126a1",
   "metadata": {},
   "outputs": [],
   "source": [
    "%load_ext autoreload\n",
    "%autoreload 2\n",
    "%load_ext lab_black\n",
    "\n",
    "import numpy as np\n",
    "import pandas as pd\n",
    "import admix\n",
    "import dask\n",
    "import dask.array as da\n",
    "from tqdm import tqdm\n",
    "import statsmodels.api as sm\n",
    "import matplotlib.pyplot as plt\n",
    "from admix.data import quantile_normalize\n",
    "import submitit\n",
    "\n",
    "import admix_genet_cor"
   ]
  },
  {
   "cell_type": "code",
   "execution_count": 2,
   "id": "f990844a-4b60-4a13-b3f8-a836d8d2514a",
   "metadata": {},
   "outputs": [],
   "source": [
    "SUPP_TABLE_URL = \"https://www.dropbox.com/s/jck2mhjby2ur55j/supp_tables.xlsx?dl=1\"\n",
    "trait_info = pd.read_excel(SUPP_TABLE_URL, sheet_name=\"trait-info\")\n",
    "trait_list = trait_info[\"trait\"].values"
   ]
  },
  {
   "cell_type": "code",
   "execution_count": 8,
   "id": "bd3bf357-1ebf-48bf-8410-f67b79dac6c8",
   "metadata": {},
   "outputs": [],
   "source": [
    "df_assoc = pd.read_csv(\"./out/page-gwas.tsv\", sep=\"\\t\")\n",
    "df_assoc = (\n",
    "    df_assoc[\n",
    "        [\n",
    "            \"DISEASE/TRAIT\",\n",
    "            \"INITIAL SAMPLE SIZE\",\n",
    "            \"REGION\",\n",
    "            \"SNPS\",\n",
    "            \"CHR_ID\",\n",
    "            \"CHR_POS\",\n",
    "            \"P-VALUE\",\n",
    "            \"STUDY ACCESSION\",\n",
    "        ]\n",
    "    ]\n",
    "    .dropna(subset=[\"CHR_POS\"])\n",
    "    .rename(columns={\"CHR_ID\": \"CHROM\", \"CHR_POS\": \"POS\"})\n",
    ")\n",
    "\n",
    "df_assoc = df_assoc.loc[df_assoc.CHROM.isin(np.arange(1, 23).astype(str))]\n",
    "# NOTE: the 24 + 2 additional traits are waist-hip ratio for males and females\n",
    "\n",
    "# convert trait_id\n",
    "gwas_catalog_name2id = {\n",
    "    row[\"GWAS catalog name\"]: row[\"trait\"] for _, row in trait_info.iterrows()\n",
    "}\n",
    "df_assoc.insert(\n",
    "    0, \"trait\", df_assoc[\"DISEASE/TRAIT\"].apply(lambda x: gwas_catalog_name2id[x])\n",
    ")\n",
    "df_assoc = (\n",
    "    df_assoc.sort_values([\"trait\", \"CHROM\", \"POS\"])\n",
    "    .drop_duplicates([\"trait\", \"CHROM\", \"POS\"])\n",
    "    .reset_index(drop=True)\n",
    "    .astype({\"CHROM\": int, \"POS\": int})\n",
    ")\n",
    "df_assoc.index = (\n",
    "    df_assoc[\"trait\"]\n",
    "    + \":\"\n",
    "    + df_assoc[\"CHROM\"].astype(str)\n",
    "    + \":\"\n",
    "    + df_assoc[\"POS\"].astype(str)\n",
    ")\n",
    "df_assoc.drop(columns=[\"REGION\", \"INITIAL SAMPLE SIZE\", \"STUDY ACCESSION\"]).to_csv(\n",
    "    \"out/page-gwas-formatted.tsv\", sep=\"\\t\"\n",
    ")"
   ]
  }
 ],
 "metadata": {
  "kernelspec": {
   "display_name": "Python 3",
   "language": "python",
   "name": "python3"
  },
  "language_info": {
   "codemirror_mode": {
    "name": "ipython",
    "version": 3
   },
   "file_extension": ".py",
   "mimetype": "text/x-python",
   "name": "python",
   "nbconvert_exporter": "python",
   "pygments_lexer": "ipython3",
   "version": "3.8.5"
  }
 },
 "nbformat": 4,
 "nbformat_minor": 5
}
