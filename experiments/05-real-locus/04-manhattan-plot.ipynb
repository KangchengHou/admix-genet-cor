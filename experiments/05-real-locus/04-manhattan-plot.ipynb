{
 "cells": [
  {
   "cell_type": "code",
   "execution_count": 1,
   "id": "8cfbcd5f-c116-4e9f-8cec-279a4034f00d",
   "metadata": {},
   "outputs": [],
   "source": [
    "suppressPackageStartupMessages({\n",
    "    library(dplyr)\n",
    "    library(tidyverse)\n",
    "    library(susieR)\n",
    "    library(glue)\n",
    "    library(latex2exp) # for latex the -log10(P)\n",
    "})\n",
    "library(ggplotify)"
   ]
  },
  {
   "cell_type": "code",
   "execution_count": 2,
   "id": "b41bf36e-36e6-4f9c-856c-e476012407f0",
   "metadata": {},
   "outputs": [],
   "source": [
    "L = 10\n",
    "DATA_DIR = \"/u/project/pasaniuc/kangchen/2021-admix-corr/experiments/05-real-locus\"\n",
    "SUSIE_DIR = '/u/project/pasaniuc/yiding/projects/admix-corr/out'\n",
    "FIG_DIR = './locus-plot'"
   ]
  },
  {
   "cell_type": "code",
   "execution_count": 3,
   "id": "4b9c62a3-a314-4eb4-ac6a-a183bd25ce73",
   "metadata": {},
   "outputs": [],
   "source": [
    "df_info = data.frame(\n",
    "    study = character(),\n",
    "    trait = character(),\n",
    "    chrom = integer(),\n",
    "    pos = integer()\n",
    ")\n",
    "\n",
    "df_info <- df_info %>% add_row(study = \"page\", trait = \"crp\", chrom = 1, pos = 159638387)\n",
    "df_info <- df_info %>% add_row(study = \"page\", trait = \"hdl\", chrom = 11, pos = 116810245)\n",
    "df_info <- df_info %>% add_row(study = \"ukb\", trait = \"erythrocyte\", chrom = 16, pos = 357598)\n",
    "df_info <- df_info %>% add_row(study = \"ukb\", trait = \"log_triglycerides\", chrom = 19, pos = 35065736)\n",
    "df_info <- df_info %>% add_row(study = \"ukb\", trait = \"MCH\", chrom = 16, pos = 1121191)\n"
   ]
  },
  {
   "cell_type": "markdown",
   "id": "77b9f3e1-503c-4ac9-b697-2b86cc8dcaca",
   "metadata": {},
   "source": [
    "# summarize susie"
   ]
  },
  {
   "cell_type": "code",
   "execution_count": 23,
   "id": "2ba70534-30e1-47cf-b8da-66040a15fe5e",
   "metadata": {},
   "outputs": [],
   "source": [
    "fnlist <- function(x, fil){ z <- deparse(substitute(x))\n",
    "                         cat(z, \"\\n\", file=fil)\n",
    "                         nams=names(x) \n",
    "                   for (i in seq_along(x) ){ cat(nams[i], \"\\t\",  x[[i]], \"\\n\", \n",
    "                                            file=fil, append=TRUE) }\n",
    "                         }\n",
    "fnlist(cs, \"test.txt\")"
   ]
  },
  {
   "cell_type": "code",
   "execution_count": 24,
   "id": "dd565c74-4222-484e-a1a6-cd7e0904ee87",
   "metadata": {},
   "outputs": [
    {
     "data": {
      "text/html": [
       "<table class=\"dataframe\">\n",
       "<caption>A data.frame: 5 × 6</caption>\n",
       "<thead>\n",
       "\t<tr><th scope=col>study</th><th scope=col>trait</th><th scope=col>chrom</th><th scope=col>pos</th><th scope=col>nCS</th><th scope=col>size</th></tr>\n",
       "\t<tr><th scope=col>&lt;chr&gt;</th><th scope=col>&lt;chr&gt;</th><th scope=col>&lt;dbl&gt;</th><th scope=col>&lt;dbl&gt;</th><th scope=col>&lt;int&gt;</th><th scope=col>&lt;chr&gt;</th></tr>\n",
       "</thead>\n",
       "<tbody>\n",
       "\t<tr><td>page</td><td>crp              </td><td> 1</td><td>159638387</td><td>4</td><td>1,9,6,5        </td></tr>\n",
       "\t<tr><td>page</td><td>hdl              </td><td>11</td><td>116810245</td><td>2</td><td>1,1            </td></tr>\n",
       "\t<tr><td>ukb </td><td>erythrocyte      </td><td>16</td><td>   357598</td><td>2</td><td>4,30           </td></tr>\n",
       "\t<tr><td>ukb </td><td>log_triglycerides</td><td>19</td><td> 35065736</td><td>1</td><td>6              </td></tr>\n",
       "\t<tr><td>ukb </td><td>MCH              </td><td>16</td><td>  1121191</td><td>7</td><td>1,1,1,3,4,41,12</td></tr>\n",
       "</tbody>\n",
       "</table>\n"
      ],
      "text/latex": [
       "A data.frame: 5 × 6\n",
       "\\begin{tabular}{llllll}\n",
       " study & trait & chrom & pos & nCS & size\\\\\n",
       " <chr> & <chr> & <dbl> & <dbl> & <int> & <chr>\\\\\n",
       "\\hline\n",
       "\t page & crp               &  1 & 159638387 & 4 & 1,9,6,5        \\\\\n",
       "\t page & hdl               & 11 & 116810245 & 2 & 1,1            \\\\\n",
       "\t ukb  & erythrocyte       & 16 &    357598 & 2 & 4,30           \\\\\n",
       "\t ukb  & log\\_triglycerides & 19 &  35065736 & 1 & 6              \\\\\n",
       "\t ukb  & MCH               & 16 &   1121191 & 7 & 1,1,1,3,4,41,12\\\\\n",
       "\\end{tabular}\n"
      ],
      "text/markdown": [
       "\n",
       "A data.frame: 5 × 6\n",
       "\n",
       "| study &lt;chr&gt; | trait &lt;chr&gt; | chrom &lt;dbl&gt; | pos &lt;dbl&gt; | nCS &lt;int&gt; | size &lt;chr&gt; |\n",
       "|---|---|---|---|---|---|\n",
       "| page | crp               |  1 | 159638387 | 4 | 1,9,6,5         |\n",
       "| page | hdl               | 11 | 116810245 | 2 | 1,1             |\n",
       "| ukb  | erythrocyte       | 16 |    357598 | 2 | 4,30            |\n",
       "| ukb  | log_triglycerides | 19 |  35065736 | 1 | 6               |\n",
       "| ukb  | MCH               | 16 |   1121191 | 7 | 1,1,1,3,4,41,12 |\n",
       "\n"
      ],
      "text/plain": [
       "  study trait             chrom pos       nCS size           \n",
       "1 page  crp                1    159638387 4   1,9,6,5        \n",
       "2 page  hdl               11    116810245 2   1,1            \n",
       "3 ukb   erythrocyte       16       357598 2   4,30           \n",
       "4 ukb   log_triglycerides 19     35065736 1   6              \n",
       "5 ukb   MCH               16      1121191 7   1,1,1,3,4,41,12"
      ]
     },
     "metadata": {},
     "output_type": "display_data"
    }
   ],
   "source": [
    "summary_cs = data.frame(\n",
    "    study = character(),\n",
    "    trait = character(),\n",
    "    chrom = integer(),\n",
    "    pos = integer(),\n",
    "    nCS = integer(),\n",
    "    size = character()\n",
    ")\n",
    "\n",
    "for (i in 1:5){\n",
    "    study = df_info[i, 'study']\n",
    "    trait = df_info[i, 'trait']\n",
    "    chrom = df_info[i, 'chrom'] \n",
    "    pos = df_info[i,'pos']\n",
    "\n",
    "    susie <- readRDS(glue('{SUSIE_DIR}/{study}-{trait}-{chrom}-{pos}/susie.L={L}.rds')) \n",
    "    X <- readRDS(glue('{SUSIE_DIR}/{study}-{trait}-{chrom}-{pos}/susie.X.rds'))\n",
    "\n",
    "    cs <- susie_get_cs(susie, X = X, dedup = TRUE, min_abs_corr = 0.5, coverage = 0.95)$cs\n",
    "    summary_cs <- summary_cs %>% \n",
    "        add_row(\n",
    "            study = study,\n",
    "            trait = trait, \n",
    "            chrom = chrom,\n",
    "            pos = pos,\n",
    "            nCS = length(cs),\n",
    "            size = paste(sapply(cs, function(x) length(x)), collapse = ',')\n",
    "        )\n",
    "    cs$PIP <- susie_get_pip(susie)\n",
    "    fnlist(cs, glue('out/locus-plot/{study}-{trait}-{chrom}-{pos}.txt'))\n",
    "}\n",
    "\n",
    "summary_cs"
   ]
  },
  {
   "cell_type": "markdown",
   "id": "56ba60f8-7a11-4886-823c-3e0407ef9270",
   "metadata": {},
   "source": [
    "# manhattan and susie plot"
   ]
  },
  {
   "cell_type": "code",
   "execution_count": 9,
   "id": "2da3d7f7-6816-4e6a-b866-191ee98e5f7e",
   "metadata": {},
   "outputs": [],
   "source": [
    "\n",
    "    study = df_info[i, 'study']\n",
    "    trait = df_info[i, 'trait']\n",
    "    chrom = df_info[i, 'chrom'] \n",
    "    pos = df_info[i,'pos']\n",
    "\n",
    "\n",
    "    # load susie object\n",
    "    susie <- readRDS(glue('{SUSIE_DIR}/{study}-{trait}-{chrom}-{pos}/susie.L={L}.rds'))\n",
    "\n",
    "    # read association\n",
    "    df_assoc = read_tsv(\n",
    "        glue(\"{DATA_DIR}/out/gwas-assoc/{study}-{trait}.assoc\"), \n",
    "        col_types = cols()\n",
    "    )\n",
    "\n",
    "    # get the region for plot \n",
    "    plot_df <- df_assoc %>% \n",
    "        filter(`#CHROM` == chrom, POS > pos - 1.5e6, POS < pos + 1.5e6)\n",
    "    # set the SNP index\n",
    "    plot_df <- plot_df %>% \n",
    "        mutate(idx = 1:nrow(plot_df)) %>% \n",
    "        filter(P < 0.05) \n",
    "\n",
    "    # get clumped SNPs\n",
    "    clumped_SNPs <- read_tsv(glue(\"{DATA_DIR}/out/gwas-assoc/{study}-{trait}.clumped\"), col_types = cols()) %>% \n",
    "        filter(CHR == chrom) %>% \n",
    "        pull(SNP)\n",
    "    # plot aesthetic\n",
    "    plot_df <- plot_df %>%\n",
    "        mutate(\n",
    "            P = -log10(P), \n",
    "            ORDER = (ID %in% clumped_SNPs) * 1, # put the clumped SNPs on top of the other SNPs\n",
    "            COLOR = ifelse(ORDER == 1, '#fa7f0e', alpha('#2579b4', 0.5)), \n",
    "            SIZE = ifelse(ORDER == 1, 2, 1), \n",
    "        ) %>% \n",
    "        arrange(ORDER) # put the clumped SNPs on top of the other SNPs\n"
   ]
  },
  {
   "cell_type": "code",
   "execution_count": 42,
   "id": "de681747-0918-4262-9586-02a0c048b695",
   "metadata": {},
   "outputs": [
    {
     "data": {
      "text/html": [
       "<strong>png:</strong> 2"
      ],
      "text/latex": [
       "\\textbf{png:} 2"
      ],
      "text/markdown": [
       "**png:** 2"
      ],
      "text/plain": [
       "png \n",
       "  2 "
      ]
     },
     "metadata": {},
     "output_type": "display_data"
    }
   ],
   "source": [
    "\n",
    "## save plot \n",
    "out_fig <- file.path(glue('{FIG_DIR}/{study}-{trait}-{chrom}-{pos}.pdf'))\n",
    "pdf(file=out_fig, width = 14, height = 11)\n",
    "par(mfrow = c(2, 1), mar = c(3, 7, 4, 7))\n",
    "\n",
    "\n",
    "plot(x = plot_df$idx, \n",
    "     y = plot_df$P, \n",
    "     col = \"blue\", \n",
    "     cex = plot_df$SIZE,\n",
    "     pch = 20, \n",
    "     main = glue('{study} {trait} chr{chrom}'),\n",
    "     font.main = 1,\n",
    "     cex.axis=2, cex.main=3, cex.lab = 2, \n",
    "     xlab = '',\n",
    "     ylab = TeX('-log_{10}($P$)'))\n",
    "abline(h = -log10(5/10**8), col = 'red', lwd=2, lty=2)\n",
    "\n",
    "susie_plot(susie, \n",
    "           xlab = '',\n",
    "           y = 'PIP', \n",
    "           cex.axis=2, cex.main=3, cex.lab = 2, cex = 1, col = alpha('black', 0.5))\n",
    "\n",
    "dev.off()"
   ]
  },
  {
   "cell_type": "code",
   "execution_count": 7,
   "id": "c96987f0-f73f-45d1-b4c4-3a18308d9ba4",
   "metadata": {},
   "outputs": [],
   "source": [
    "for (i in 1:5){\n",
    "\n",
    "    study = df_info[i, 'study']\n",
    "    trait = df_info[i, 'trait']\n",
    "    chrom = df_info[i, 'chrom'] \n",
    "    pos = df_info[i,'pos']\n",
    "\n",
    "\n",
    "    # load susie object\n",
    "    susie <- readRDS(glue('{SUSIE_DIR}/{study}-{trait}-{chrom}-{pos}/susie.L={L}.rds'))\n",
    "\n",
    "    # read association\n",
    "    df_assoc = read_tsv(\n",
    "        glue(\"{DATA_DIR}/out/gwas-assoc/{study}-{trait}.assoc\"), \n",
    "        col_types = cols()\n",
    "    )\n",
    "\n",
    "    # get the region for plot \n",
    "    plot_df <- df_assoc %>% \n",
    "        filter(`#CHROM` == chrom, POS > pos - 1.5e6, POS < pos + 1.5e6)\n",
    "    # set the SNP index\n",
    "    plot_df <- plot_df %>% \n",
    "        mutate(idx = 1:nrow(plot_df)) %>% \n",
    "        filter(P < 0.05) \n",
    "\n",
    "    # get clumped SNPs\n",
    "    clumped_SNPs <- read_tsv(glue(\"{DATA_DIR}/out/gwas-assoc/{study}-{trait}.clumped\"), col_types = cols()) %>% \n",
    "        filter(CHR == chrom) %>% \n",
    "        pull(SNP)\n",
    "    # plot aesthetic\n",
    "    plot_df <- plot_df %>%\n",
    "        mutate(\n",
    "            P = -log10(P), \n",
    "            ORDER = (ID %in% clumped_SNPs) * 1, # put the clumped SNPs on top of the other SNPs\n",
    "            COLOR = ifelse(ORDER == 1, '#fa7f0e', alpha('#2579b4', 0.5)), \n",
    "            SIZE = ifelse(ORDER == 1, 2, 1), \n",
    "        ) %>% \n",
    "        arrange(ORDER) # put the clumped SNPs on top of the other SNPs\n",
    "\n",
    "    ## save plot \n",
    "    out_fig <- file.path(glue('{FIG_DIR}/{study}-{trait}-{chrom}-{pos}.pdf'))\n",
    "    pdf(file=out_fig, width = 14, height = 11)\n",
    "    par(mfrow = c(2, 1), mar = c(3, 7, 4, 7))\n",
    "\n",
    "    plot(x = plot_df$idx, \n",
    "         y = plot_df$P, \n",
    "         col = plot_df$COLOR, \n",
    "         cex = plot_df$SIZE,\n",
    "         pch = 20, \n",
    "         main = glue('{study} {trait} chr{chrom}'),\n",
    "         font.main = 1,\n",
    "         cex.axis=2, cex.main=3, cex.lab = 2, \n",
    "         xlab = '',\n",
    "         ylab = TeX('-log_{10}($P$)'))\n",
    "    abline(h = -log10(5/10**8), col = 'red', lwd=2, lty=2)\n",
    "    susie_plot(susie, \n",
    "               xlab = '',\n",
    "               y = 'PIP', \n",
    "               cex.axis=2, cex.main=3, cex.lab = 2, cex = 1, col = alpha('black', 0.5))\n",
    "    dev.off()\n",
    "}"
   ]
  },
  {
   "cell_type": "code",
   "execution_count": null,
   "id": "99fe5e16-4887-4aa4-b31d-3e529d569338",
   "metadata": {},
   "outputs": [],
   "source": []
  }
 ],
 "metadata": {
  "kernelspec": {
   "display_name": "R",
   "language": "R",
   "name": "ir"
  },
  "language_info": {
   "codemirror_mode": "r",
   "file_extension": ".r",
   "mimetype": "text/x-r-source",
   "name": "R",
   "pygments_lexer": "r",
   "version": "4.1.0"
  }
 },
 "nbformat": 4,
 "nbformat_minor": 5
}
