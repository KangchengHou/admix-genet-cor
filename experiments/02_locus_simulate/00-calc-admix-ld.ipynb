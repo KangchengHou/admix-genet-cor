{
 "cells": [
  {
   "cell_type": "code",
   "execution_count": null,
   "id": "5e4dc6b0-61c0-413d-b4e1-d2e16ce4b1d2",
   "metadata": {},
   "outputs": [],
   "source": [
    "%load_ext autoreload\n",
    "%autoreload 2\n",
    "%load_ext lab_black\n",
    "\n",
    "import numpy as np\n",
    "import pandas as pd\n",
    "import admix\n",
    "import matplotlib.pyplot as plt\n",
    "import numpy as np\n",
    "import json\n",
    "import pandas as pd\n",
    "import seaborn as sns\n",
    "import os\n",
    "import dapgen\n",
    "from os.path import join\n",
    "import admix_genet_cor"
   ]
  },
  {
   "cell_type": "code",
   "execution_count": null,
   "id": "4f0d792a-4a2c-4d73-8ad5-d25d5f29f923",
   "metadata": {},
   "outputs": [],
   "source": [
    "GENO_DIR = (\n",
    "    \"/u/project/pasaniuc/pasaniucdata/admixture/projects/PAGE-QC/01_dataset/out/aframr\"\n",
    ")"
   ]
  },
  {
   "cell_type": "code",
   "execution_count": 3,
   "id": "d8dcafea-b7fb-4d97-acff-a3627db76fe8",
   "metadata": {},
   "outputs": [],
   "source": [
    "pfile = f\"{GENO_DIR}/imputed/chr1\"\n",
    "geno, df_snp, df_indiv = dapgen.read_pfile(pfile, phase=True, snp_chunk=2048)\n",
    "lanc = admix.io.read_lanc(pfile + \".lanc\", snp_chunk=2048)\n",
    "df_snp_info = pd.read_csv(pfile + \".snp_info\", sep=\"\\t\").set_index(\"SNP\")\n",
    "assert np.all(df_snp_info.index == df_snp.index.values)\n",
    "df_snp = pd.merge(df_snp, df_snp_info, left_index=True, right_index=True)\n",
    "\n",
    "freq_filter = (\n",
    "    (0.005 <= df_snp.EUR_FREQ)\n",
    "    & (df_snp.EUR_FREQ <= 0.995)\n",
    "    & (0.005 <= df_snp.AFR_FREQ)\n",
    "    & (df_snp.AFR_FREQ <= 0.995)\n",
    ")\n",
    "\n",
    "geno = geno[freq_filter.values, :, :]\n",
    "lanc = lanc[freq_filter.values, :, :]\n",
    "df_snp = df_snp.iloc[freq_filter.values, :]"
   ]
  },
  {
   "cell_type": "code",
   "execution_count": 4,
   "id": "2043e752-f0be-4f58-bf47-8080c7d0a213",
   "metadata": {},
   "outputs": [],
   "source": [
    "apa = admix.data.allele_per_anc(geno, lanc)\n",
    "geno_cnt = geno.sum(axis=2)"
   ]
  },
  {
   "cell_type": "code",
   "execution_count": 5,
   "id": "6785b3da-e649-4ec4-9ddd-caae8796028e",
   "metadata": {},
   "outputs": [],
   "source": [
    "window_size = 10000\n",
    "step_size = 25\n",
    "n_region = 30"
   ]
  },
  {
   "cell_type": "code",
   "execution_count": 6,
   "id": "b214c12f-71e4-4918-94cf-1ad70fdfc0b2",
   "metadata": {},
   "outputs": [
    {
     "name": "stderr",
     "output_type": "stream",
     "text": [
      "100%|██████████| 800/800 [00:01<00:00, 699.44it/s]\n",
      "100%|██████████| 800/800 [00:01<00:00, 686.82it/s]\n",
      "100%|██████████| 800/800 [00:01<00:00, 657.36it/s]\n",
      "100%|██████████| 800/800 [00:01<00:00, 683.71it/s]\n",
      "100%|██████████| 800/800 [00:01<00:00, 690.79it/s]\n",
      "100%|██████████| 800/800 [00:01<00:00, 691.34it/s]\n",
      "100%|██████████| 800/800 [00:01<00:00, 693.21it/s]\n",
      "100%|██████████| 800/800 [00:01<00:00, 688.50it/s]\n",
      "100%|██████████| 800/800 [00:01<00:00, 690.51it/s]\n",
      "100%|██████████| 800/800 [00:01<00:00, 684.51it/s]\n",
      "100%|██████████| 800/800 [00:01<00:00, 683.49it/s]\n",
      "100%|██████████| 800/800 [00:01<00:00, 692.89it/s]\n",
      "100%|██████████| 800/800 [00:01<00:00, 683.87it/s]\n",
      "100%|██████████| 800/800 [00:01<00:00, 676.89it/s]\n",
      "100%|██████████| 800/800 [00:01<00:00, 643.16it/s]\n",
      "100%|██████████| 800/800 [00:01<00:00, 681.15it/s]\n",
      "100%|██████████| 800/800 [00:01<00:00, 692.55it/s]\n",
      "100%|██████████| 800/800 [00:01<00:00, 694.10it/s]\n",
      "100%|██████████| 800/800 [00:01<00:00, 678.54it/s]\n",
      "100%|██████████| 800/800 [00:01<00:00, 682.27it/s]\n",
      "100%|██████████| 800/800 [00:01<00:00, 690.03it/s]\n",
      "100%|██████████| 800/800 [00:01<00:00, 686.47it/s]\n",
      "100%|██████████| 800/800 [00:01<00:00, 670.55it/s]\n",
      "100%|██████████| 800/800 [00:01<00:00, 697.91it/s]\n",
      "100%|██████████| 800/800 [00:01<00:00, 694.05it/s]\n",
      "100%|██████████| 800/800 [00:01<00:00, 699.88it/s]\n"
     ]
    },
    {
     "ename": "KeyboardInterrupt",
     "evalue": "",
     "output_type": "error",
     "traceback": [
      "\u001b[0;31m---------------------------------------------------------------------------\u001b[0m",
      "\u001b[0;31mKeyboardInterrupt\u001b[0m                         Traceback (most recent call last)",
      "\u001b[0;32m<ipython-input-6-8055964ff609>\u001b[0m in \u001b[0;36m<module>\u001b[0;34m\u001b[0m\n\u001b[1;32m     10\u001b[0m         admix_genet_cor.calc_apa_cov(\n\u001b[1;32m     11\u001b[0m             \u001b[0mapa\u001b[0m\u001b[0;34m[\u001b[0m\u001b[0mregion_idx\u001b[0m\u001b[0;34m,\u001b[0m \u001b[0;34m:\u001b[0m\u001b[0;34m,\u001b[0m \u001b[0;34m:\u001b[0m\u001b[0;34m]\u001b[0m\u001b[0;34m.\u001b[0m\u001b[0mcompute\u001b[0m\u001b[0;34m(\u001b[0m\u001b[0;34m)\u001b[0m\u001b[0;34m,\u001b[0m\u001b[0;34m\u001b[0m\u001b[0;34m\u001b[0m\u001b[0m\n\u001b[0;32m---> 12\u001b[0;31m             \u001b[0mgeno_cnt\u001b[0m\u001b[0;34m[\u001b[0m\u001b[0midx\u001b[0m\u001b[0;34m,\u001b[0m \u001b[0;34m:\u001b[0m\u001b[0;34m]\u001b[0m\u001b[0;34m.\u001b[0m\u001b[0mcompute\u001b[0m\u001b[0;34m(\u001b[0m\u001b[0;34m)\u001b[0m\u001b[0;34m,\u001b[0m\u001b[0;34m\u001b[0m\u001b[0;34m\u001b[0m\u001b[0m\n\u001b[0m\u001b[1;32m     13\u001b[0m         )\n\u001b[1;32m     14\u001b[0m     )\n",
      "\u001b[0;32m/u/project/pasaniuc/kangchen/software/miniconda3/lib/python3.8/site-packages/dask/base.py\u001b[0m in \u001b[0;36mcompute\u001b[0;34m(self, **kwargs)\u001b[0m\n\u001b[1;32m    284\u001b[0m         \u001b[0mdask\u001b[0m\u001b[0;34m.\u001b[0m\u001b[0mbase\u001b[0m\u001b[0;34m.\u001b[0m\u001b[0mcompute\u001b[0m\u001b[0;34m\u001b[0m\u001b[0;34m\u001b[0m\u001b[0m\n\u001b[1;32m    285\u001b[0m         \"\"\"\n\u001b[0;32m--> 286\u001b[0;31m         \u001b[0;34m(\u001b[0m\u001b[0mresult\u001b[0m\u001b[0;34m,\u001b[0m\u001b[0;34m)\u001b[0m \u001b[0;34m=\u001b[0m \u001b[0mcompute\u001b[0m\u001b[0;34m(\u001b[0m\u001b[0mself\u001b[0m\u001b[0;34m,\u001b[0m \u001b[0mtraverse\u001b[0m\u001b[0;34m=\u001b[0m\u001b[0;32mFalse\u001b[0m\u001b[0;34m,\u001b[0m \u001b[0;34m**\u001b[0m\u001b[0mkwargs\u001b[0m\u001b[0;34m)\u001b[0m\u001b[0;34m\u001b[0m\u001b[0;34m\u001b[0m\u001b[0m\n\u001b[0m\u001b[1;32m    287\u001b[0m         \u001b[0;32mreturn\u001b[0m \u001b[0mresult\u001b[0m\u001b[0;34m\u001b[0m\u001b[0;34m\u001b[0m\u001b[0m\n\u001b[1;32m    288\u001b[0m \u001b[0;34m\u001b[0m\u001b[0m\n",
      "\u001b[0;32m/u/project/pasaniuc/kangchen/software/miniconda3/lib/python3.8/site-packages/dask/base.py\u001b[0m in \u001b[0;36mcompute\u001b[0;34m(*args, **kwargs)\u001b[0m\n\u001b[1;32m    566\u001b[0m         \u001b[0mpostcomputes\u001b[0m\u001b[0;34m.\u001b[0m\u001b[0mappend\u001b[0m\u001b[0;34m(\u001b[0m\u001b[0mx\u001b[0m\u001b[0;34m.\u001b[0m\u001b[0m__dask_postcompute__\u001b[0m\u001b[0;34m(\u001b[0m\u001b[0;34m)\u001b[0m\u001b[0;34m)\u001b[0m\u001b[0;34m\u001b[0m\u001b[0;34m\u001b[0m\u001b[0m\n\u001b[1;32m    567\u001b[0m \u001b[0;34m\u001b[0m\u001b[0m\n\u001b[0;32m--> 568\u001b[0;31m     \u001b[0mresults\u001b[0m \u001b[0;34m=\u001b[0m \u001b[0mschedule\u001b[0m\u001b[0;34m(\u001b[0m\u001b[0mdsk\u001b[0m\u001b[0;34m,\u001b[0m \u001b[0mkeys\u001b[0m\u001b[0;34m,\u001b[0m \u001b[0;34m**\u001b[0m\u001b[0mkwargs\u001b[0m\u001b[0;34m)\u001b[0m\u001b[0;34m\u001b[0m\u001b[0;34m\u001b[0m\u001b[0m\n\u001b[0m\u001b[1;32m    569\u001b[0m     \u001b[0;32mreturn\u001b[0m \u001b[0mrepack\u001b[0m\u001b[0;34m(\u001b[0m\u001b[0;34m[\u001b[0m\u001b[0mf\u001b[0m\u001b[0;34m(\u001b[0m\u001b[0mr\u001b[0m\u001b[0;34m,\u001b[0m \u001b[0;34m*\u001b[0m\u001b[0ma\u001b[0m\u001b[0;34m)\u001b[0m \u001b[0;32mfor\u001b[0m \u001b[0mr\u001b[0m\u001b[0;34m,\u001b[0m \u001b[0;34m(\u001b[0m\u001b[0mf\u001b[0m\u001b[0;34m,\u001b[0m \u001b[0ma\u001b[0m\u001b[0;34m)\u001b[0m \u001b[0;32min\u001b[0m \u001b[0mzip\u001b[0m\u001b[0;34m(\u001b[0m\u001b[0mresults\u001b[0m\u001b[0;34m,\u001b[0m \u001b[0mpostcomputes\u001b[0m\u001b[0;34m)\u001b[0m\u001b[0;34m]\u001b[0m\u001b[0;34m)\u001b[0m\u001b[0;34m\u001b[0m\u001b[0;34m\u001b[0m\u001b[0m\n\u001b[1;32m    570\u001b[0m \u001b[0;34m\u001b[0m\u001b[0m\n",
      "\u001b[0;32m/u/project/pasaniuc/kangchen/software/miniconda3/lib/python3.8/site-packages/dask/threaded.py\u001b[0m in \u001b[0;36mget\u001b[0;34m(dsk, result, cache, num_workers, pool, **kwargs)\u001b[0m\n\u001b[1;32m     77\u001b[0m             \u001b[0mpool\u001b[0m \u001b[0;34m=\u001b[0m \u001b[0mMultiprocessingPoolExecutor\u001b[0m\u001b[0;34m(\u001b[0m\u001b[0mpool\u001b[0m\u001b[0;34m)\u001b[0m\u001b[0;34m\u001b[0m\u001b[0;34m\u001b[0m\u001b[0m\n\u001b[1;32m     78\u001b[0m \u001b[0;34m\u001b[0m\u001b[0m\n\u001b[0;32m---> 79\u001b[0;31m     results = get_async(\n\u001b[0m\u001b[1;32m     80\u001b[0m         \u001b[0mpool\u001b[0m\u001b[0;34m.\u001b[0m\u001b[0msubmit\u001b[0m\u001b[0;34m,\u001b[0m\u001b[0;34m\u001b[0m\u001b[0;34m\u001b[0m\u001b[0m\n\u001b[1;32m     81\u001b[0m         \u001b[0mpool\u001b[0m\u001b[0;34m.\u001b[0m\u001b[0m_max_workers\u001b[0m\u001b[0;34m,\u001b[0m\u001b[0;34m\u001b[0m\u001b[0;34m\u001b[0m\u001b[0m\n",
      "\u001b[0;32m/u/project/pasaniuc/kangchen/software/miniconda3/lib/python3.8/site-packages/dask/local.py\u001b[0m in \u001b[0;36mget_async\u001b[0;34m(submit, num_workers, dsk, result, cache, get_id, rerun_exceptions_locally, pack_exception, raise_exception, callbacks, dumps, loads, chunksize, **kwargs)\u001b[0m\n\u001b[1;32m    501\u001b[0m             \u001b[0;32mwhile\u001b[0m \u001b[0mstate\u001b[0m\u001b[0;34m[\u001b[0m\u001b[0;34m\"waiting\"\u001b[0m\u001b[0;34m]\u001b[0m \u001b[0;32mor\u001b[0m \u001b[0mstate\u001b[0m\u001b[0;34m[\u001b[0m\u001b[0;34m\"ready\"\u001b[0m\u001b[0;34m]\u001b[0m \u001b[0;32mor\u001b[0m \u001b[0mstate\u001b[0m\u001b[0;34m[\u001b[0m\u001b[0;34m\"running\"\u001b[0m\u001b[0;34m]\u001b[0m\u001b[0;34m:\u001b[0m\u001b[0;34m\u001b[0m\u001b[0;34m\u001b[0m\u001b[0m\n\u001b[1;32m    502\u001b[0m                 \u001b[0mfire_tasks\u001b[0m\u001b[0;34m(\u001b[0m\u001b[0mchunksize\u001b[0m\u001b[0;34m)\u001b[0m\u001b[0;34m\u001b[0m\u001b[0;34m\u001b[0m\u001b[0m\n\u001b[0;32m--> 503\u001b[0;31m                 \u001b[0;32mfor\u001b[0m \u001b[0mkey\u001b[0m\u001b[0;34m,\u001b[0m \u001b[0mres_info\u001b[0m\u001b[0;34m,\u001b[0m \u001b[0mfailed\u001b[0m \u001b[0;32min\u001b[0m \u001b[0mqueue_get\u001b[0m\u001b[0;34m(\u001b[0m\u001b[0mqueue\u001b[0m\u001b[0;34m)\u001b[0m\u001b[0;34m.\u001b[0m\u001b[0mresult\u001b[0m\u001b[0;34m(\u001b[0m\u001b[0;34m)\u001b[0m\u001b[0;34m:\u001b[0m\u001b[0;34m\u001b[0m\u001b[0;34m\u001b[0m\u001b[0m\n\u001b[0m\u001b[1;32m    504\u001b[0m                     \u001b[0;32mif\u001b[0m \u001b[0mfailed\u001b[0m\u001b[0;34m:\u001b[0m\u001b[0;34m\u001b[0m\u001b[0;34m\u001b[0m\u001b[0m\n\u001b[1;32m    505\u001b[0m                         \u001b[0mexc\u001b[0m\u001b[0;34m,\u001b[0m \u001b[0mtb\u001b[0m \u001b[0;34m=\u001b[0m \u001b[0mloads\u001b[0m\u001b[0;34m(\u001b[0m\u001b[0mres_info\u001b[0m\u001b[0;34m)\u001b[0m\u001b[0;34m\u001b[0m\u001b[0;34m\u001b[0m\u001b[0m\n",
      "\u001b[0;32m/u/project/pasaniuc/kangchen/software/miniconda3/lib/python3.8/site-packages/dask/local.py\u001b[0m in \u001b[0;36mqueue_get\u001b[0;34m(q)\u001b[0m\n\u001b[1;32m    132\u001b[0m \u001b[0;34m\u001b[0m\u001b[0m\n\u001b[1;32m    133\u001b[0m     \u001b[0;32mdef\u001b[0m \u001b[0mqueue_get\u001b[0m\u001b[0;34m(\u001b[0m\u001b[0mq\u001b[0m\u001b[0;34m)\u001b[0m\u001b[0;34m:\u001b[0m\u001b[0;34m\u001b[0m\u001b[0;34m\u001b[0m\u001b[0m\n\u001b[0;32m--> 134\u001b[0;31m         \u001b[0;32mreturn\u001b[0m \u001b[0mq\u001b[0m\u001b[0;34m.\u001b[0m\u001b[0mget\u001b[0m\u001b[0;34m(\u001b[0m\u001b[0;34m)\u001b[0m\u001b[0;34m\u001b[0m\u001b[0;34m\u001b[0m\u001b[0m\n\u001b[0m\u001b[1;32m    135\u001b[0m \u001b[0;34m\u001b[0m\u001b[0m\n\u001b[1;32m    136\u001b[0m \u001b[0;34m\u001b[0m\u001b[0m\n",
      "\u001b[0;32m/u/project/pasaniuc/kangchen/software/miniconda3/lib/python3.8/queue.py\u001b[0m in \u001b[0;36mget\u001b[0;34m(self, block, timeout)\u001b[0m\n\u001b[1;32m    168\u001b[0m             \u001b[0;32melif\u001b[0m \u001b[0mtimeout\u001b[0m \u001b[0;32mis\u001b[0m \u001b[0;32mNone\u001b[0m\u001b[0;34m:\u001b[0m\u001b[0;34m\u001b[0m\u001b[0;34m\u001b[0m\u001b[0m\n\u001b[1;32m    169\u001b[0m                 \u001b[0;32mwhile\u001b[0m \u001b[0;32mnot\u001b[0m \u001b[0mself\u001b[0m\u001b[0;34m.\u001b[0m\u001b[0m_qsize\u001b[0m\u001b[0;34m(\u001b[0m\u001b[0;34m)\u001b[0m\u001b[0;34m:\u001b[0m\u001b[0;34m\u001b[0m\u001b[0;34m\u001b[0m\u001b[0m\n\u001b[0;32m--> 170\u001b[0;31m                     \u001b[0mself\u001b[0m\u001b[0;34m.\u001b[0m\u001b[0mnot_empty\u001b[0m\u001b[0;34m.\u001b[0m\u001b[0mwait\u001b[0m\u001b[0;34m(\u001b[0m\u001b[0;34m)\u001b[0m\u001b[0;34m\u001b[0m\u001b[0;34m\u001b[0m\u001b[0m\n\u001b[0m\u001b[1;32m    171\u001b[0m             \u001b[0;32melif\u001b[0m \u001b[0mtimeout\u001b[0m \u001b[0;34m<\u001b[0m \u001b[0;36m0\u001b[0m\u001b[0;34m:\u001b[0m\u001b[0;34m\u001b[0m\u001b[0;34m\u001b[0m\u001b[0m\n\u001b[1;32m    172\u001b[0m                 \u001b[0;32mraise\u001b[0m \u001b[0mValueError\u001b[0m\u001b[0;34m(\u001b[0m\u001b[0;34m\"'timeout' must be a non-negative number\"\u001b[0m\u001b[0;34m)\u001b[0m\u001b[0;34m\u001b[0m\u001b[0;34m\u001b[0m\u001b[0m\n",
      "\u001b[0;32m/u/project/pasaniuc/kangchen/software/miniconda3/lib/python3.8/threading.py\u001b[0m in \u001b[0;36mwait\u001b[0;34m(self, timeout)\u001b[0m\n\u001b[1;32m    300\u001b[0m         \u001b[0;32mtry\u001b[0m\u001b[0;34m:\u001b[0m    \u001b[0;31m# restore state no matter what (e.g., KeyboardInterrupt)\u001b[0m\u001b[0;34m\u001b[0m\u001b[0;34m\u001b[0m\u001b[0m\n\u001b[1;32m    301\u001b[0m             \u001b[0;32mif\u001b[0m \u001b[0mtimeout\u001b[0m \u001b[0;32mis\u001b[0m \u001b[0;32mNone\u001b[0m\u001b[0;34m:\u001b[0m\u001b[0;34m\u001b[0m\u001b[0;34m\u001b[0m\u001b[0m\n\u001b[0;32m--> 302\u001b[0;31m                 \u001b[0mwaiter\u001b[0m\u001b[0;34m.\u001b[0m\u001b[0macquire\u001b[0m\u001b[0;34m(\u001b[0m\u001b[0;34m)\u001b[0m\u001b[0;34m\u001b[0m\u001b[0;34m\u001b[0m\u001b[0m\n\u001b[0m\u001b[1;32m    303\u001b[0m                 \u001b[0mgotit\u001b[0m \u001b[0;34m=\u001b[0m \u001b[0;32mTrue\u001b[0m\u001b[0;34m\u001b[0m\u001b[0;34m\u001b[0m\u001b[0m\n\u001b[1;32m    304\u001b[0m             \u001b[0;32melse\u001b[0m\u001b[0;34m:\u001b[0m\u001b[0;34m\u001b[0m\u001b[0;34m\u001b[0m\u001b[0m\n",
      "\u001b[0;31mKeyboardInterrupt\u001b[0m: "
     ]
    }
   ],
   "source": [
    "np.random.seed(1234)\n",
    "causal_snps = np.random.choice(df_snp.index, size=n_region, replace=False)\n",
    "causal_idx = [df_snp.index.get_loc(s) for s in causal_snps]\n",
    "\n",
    "df_cov_diff = {\"cov_diff\": [], \"pos\": [], \"causal_snp\": []}\n",
    "\n",
    "for snp, idx in zip(causal_snps, causal_idx):\n",
    "    region_idx = np.arange(idx - window_size, idx + window_size, step_size)\n",
    "    df_cov_diff[\"cov_diff\"].extend(\n",
    "        admix_genet_cor.calc_apa_cov(\n",
    "            apa[region_idx, :, :].compute(),\n",
    "            geno_cnt[idx, :].compute(),\n",
    "        )\n",
    "    )\n",
    "    # relative base pairs\n",
    "    df_cov_diff[\"pos\"].extend(\n",
    "        (df_snp.POS.iloc[region_idx] - df_snp.POS.iloc[idx]).values\n",
    "    )\n",
    "    df_cov_diff[\"causal_snp\"].extend([snp] * len(region_idx))\n",
    "df_cov_diff = pd.DataFrame(df_cov_diff)"
   ]
  },
  {
   "cell_type": "code",
   "execution_count": 8,
   "id": "936dc686-2e20-491a-82ee-637916193b48",
   "metadata": {},
   "outputs": [],
   "source": [
    "df_cov_diff = pd.DataFrame(df_cov_diff)"
   ]
  },
  {
   "cell_type": "code",
   "execution_count": 22,
   "id": "dc36a23d-7f6e-4b9b-8ed6-d4a2a0e6a225",
   "metadata": {},
   "outputs": [],
   "source": [
    "df_plot = df_cov_diff.copy()\n",
    "# convert to Mb\n",
    "df_plot[\"pos\"] /= 1e6\n",
    "df_plot[\"abs_pos\"] = np.abs(df_plot[\"pos\"])\n",
    "df_plot[\"squared_cov_diff\"] = df_plot[\"cov_diff\"] ** 2\n",
    "# df_plot = df_plot[df_plot.abs_pos < 6]"
   ]
  },
  {
   "cell_type": "code",
   "execution_count": 23,
   "id": "8abb2f75-7efe-455e-b035-b8ce3f6a2371",
   "metadata": {},
   "outputs": [],
   "source": [
    "import statsmodels.formula.api as smf\n",
    "import statsmodels.api as sm"
   ]
  },
  {
   "cell_type": "code",
   "execution_count": 24,
   "id": "c7458a0c-4d5a-48e0-8876-ab6a2c3b8fc5",
   "metadata": {},
   "outputs": [
    {
     "name": "stderr",
     "output_type": "stream",
     "text": [
      "/u/project/pasaniuc/kangchen/software/miniconda3/lib/python3.8/site-packages/statsmodels/regression/quantile_regression.py:190: IterationLimitWarning: Maximum number of iterations (1000) reached.\n",
      "  warnings.warn(\"Maximum number of iterations (\" + str(max_iter) +\n"
     ]
    }
   ],
   "source": [
    "model = smf.quantreg(\n",
    "    \"squared_cov_diff ~ abs_pos + I(abs_pos ** 2.0) + I(abs_pos ** 3.0) \", df_plot\n",
    ").fit(q=0.95)"
   ]
  },
  {
   "cell_type": "code",
   "execution_count": 25,
   "id": "5eb63578-4161-4848-9ae5-871eada79864",
   "metadata": {},
   "outputs": [
    {
     "data": {
      "text/plain": [
       "Text(0.5, 0, 'Distance (Mb)')"
      ]
     },
     "execution_count": 25,
     "metadata": {},
     "output_type": "execute_result"
    },
    {
     "data": {
      "image/png": "[encoded data removed]",
      "text/plain": [
       "<Figure size 450x450 with 1 Axes>"
      ]
     },
     "metadata": {
      "needs_background": "light"
     },
     "output_type": "display_data"
    }
   ],
   "source": [
    "fig, ax = plt.subplots(figsize=(3, 3), dpi=150)\n",
    "ax.scatter(\n",
    "    df_plot.abs_pos,\n",
    "    df_plot.squared_cov_diff,\n",
    "    marker=\".\",\n",
    "    alpha=0.5,\n",
    "    s=5,\n",
    ")\n",
    "x_grid = np.linspace(0, df_plot.abs_pos.max(), 50)\n",
    "\n",
    "\n",
    "plt.plot(\n",
    "    x_grid,\n",
    "    model.predict({\"abs_pos\": x_grid}),\n",
    "    linestyle=\"--\",\n",
    "    lw=1,\n",
    "    color=\"k\",\n",
    "    zorder=2,\n",
    ")\n",
    "ax.set_xlabel(\"Distance (Mb)\")"
   ]
  },
  {
   "cell_type": "code",
   "execution_count": 3,
   "id": "eb7869e2-c297-4645-a06e-4092c419a820",
   "metadata": {},
   "outputs": [],
   "source": [
    "# select a 10 Mb region\n",
    "# simulate a single causal (with expected p-value of 1e-10)\n",
    "# perform study"
   ]
  },
  {
   "cell_type": "code",
   "execution_count": 217,
   "id": "6af315c7-bdba-43fc-8a1f-86cf99aad42a",
   "metadata": {},
   "outputs": [],
   "source": [
    "# causal_snp = \"chr1:109593836:A:G\"\n",
    "# causal_snp = \"chr1:11472468:C:G\"\n",
    "causal_snp = \"chr1:229573921:C:A\"\n",
    "hsq = 0.005"
   ]
  },
  {
   "cell_type": "code",
   "execution_count": 218,
   "id": "62e41448-005d-43c0-853b-48d7f253b94c",
   "metadata": {},
   "outputs": [],
   "source": [
    "def submit_simulate_pheno(\n",
    "    hsq,\n",
    "    causal_snp,\n",
    "    region_window=500,\n",
    "    #     out_prefix: str,\n",
    "    #     n_sim=10,\n",
    "):\n",
    "    \"\"\"\n",
    "    hsq: heritability of the causal SNPs.\n",
    "    causal_snp: index of the causal SNP\n",
    "    region_window: window size in Mb\n",
    "    \"\"\"\n",
    "    np.random.seed(0)\n",
    "    pfile = f\"{GENO_DIR}/imputed/chr1\"\n",
    "    geno, df_snp, df_indiv = dapgen.read_pfile(pfile, phase=True, snp_chunk=2048)\n",
    "    lanc = admix.io.read_lanc(pfile + \".lanc\", snp_chunk=2048)\n",
    "    df_snp_info = pd.read_csv(pfile + \".snp_info\", sep=\"\\t\").set_index(\"SNP\")\n",
    "    assert np.all(df_snp_info.index == df_snp.index.values)\n",
    "    df_snp = pd.merge(df_snp, df_snp_info, left_index=True, right_index=True)\n",
    "\n",
    "    # determine subset of SNPs\n",
    "    causal_idx = df_snp.index.get_loc(causal_snp)\n",
    "\n",
    "    region_snp_idx = np.arange(\n",
    "        causal_idx - region_window, causal_idx + region_window + 1\n",
    "    )\n",
    "    df_tmp = df_snp.iloc[region_snp_idx, :]\n",
    "    freq_filter = (\n",
    "        (0.005 <= df_tmp.EUR_FREQ)\n",
    "        & (df_tmp.EUR_FREQ <= 0.995)\n",
    "        & (0.005 <= df_tmp.AFR_FREQ)\n",
    "        & (df_tmp.AFR_FREQ <= 0.995)\n",
    "    )\n",
    "    region_snp_idx = region_snp_idx[freq_filter]\n",
    "\n",
    "    geno = geno[region_snp_idx, :, :]\n",
    "    lanc = lanc[region_snp_idx, :, :]\n",
    "    df_snp = df_snp.iloc[region_snp_idx, :]\n",
    "\n",
    "    n_eff_snp = df_snp.shape[0]\n",
    "\n",
    "    beta = np.zeros((n_eff_snp, 2, 1))  # (n_snp, n_anc, n_sim)\n",
    "    causal_idx = df_snp.index.get_loc(causal_snp)\n",
    "\n",
    "    beta[causal_idx, :, :] = 1.0\n",
    "\n",
    "    sim = admix_genet_cor.simulate_quant_pheno(\n",
    "        geno=geno, lanc=lanc, hsq=hsq, beta=beta, n_sim=1\n",
    "    )\n",
    "    pheno = sim[\"pheno\"].flatten()\n",
    "    df_rls = admix_genet_cor.marginal_het(\n",
    "        geno=geno,\n",
    "        lanc=lanc,\n",
    "        y=pheno,\n",
    "    )\n",
    "\n",
    "    # calculate covariance\n",
    "    apa = admix.data.allele_per_anc(geno, lanc, n_anc=2).compute()\n",
    "    geno_cnt = geno.sum(axis=2).compute()\n",
    "\n",
    "    df_rls[\"cov_diff_z\"] = admix_genet_cor.calc_apa_cov(apa, geno_cnt[causal_idx, :])\n",
    "\n",
    "    df_rls[\"total_cov\"] = admix_genet_cor.calc_cov(\n",
    "        geno_cnt, geno_cnt[[causal_idx], :]\n",
    "    ).flatten()\n",
    "\n",
    "    df_rls[\"assoc_pval\"] = admix.assoc.marginal_fast(\n",
    "        geno=geno, lanc=lanc, pheno=pheno, cov=None\n",
    "    )\n",
    "    causal_mask = np.full(df_rls.shape[0], False, dtype=bool)\n",
    "    causal_mask[causal_idx] = True\n",
    "    df_rls[\"causal\"] = causal_mask\n",
    "    #     return df_rls\n",
    "\n",
    "    return df_rls, df_snp, apa, pheno"
   ]
  },
  {
   "cell_type": "code",
   "execution_count": 219,
   "id": "5272e6d4-0e38-43ae-9a3c-0a030444f2f1",
   "metadata": {},
   "outputs": [
    {
     "name": "stderr",
     "output_type": "stream",
     "text": [
      "admix_genet_cor.simulate_continuous_pheno: 100%|██████████| 2/2 [00:03<00:00,  1.64s/it]\n",
      "100%|██████████| 344/344 [00:02<00:00, 129.36it/s]\n",
      "100%|██████████| 344/344 [00:00<00:00, 709.26it/s]\n"
     ]
    }
   ],
   "source": [
    "df_rls, df_snp, apa, pheno = submit_simulate_pheno(hsq=0.05, causal_snp=causal_snp)"
   ]
  },
  {
   "cell_type": "code",
   "execution_count": 220,
   "id": "f68b8aa5-5864-41cb-ae52-eaf3cdcacb65",
   "metadata": {},
   "outputs": [
    {
     "data": {
      "text/plain": [
       "<matplotlib.collections.PathCollection at 0x2b439a9211c0>"
      ]
     },
     "execution_count": 220,
     "metadata": {},
     "output_type": "execute_result"
    },
    {
     "data": {
      "image/png": "[encoded data removed]",
      "text/plain": [
       "<Figure size 432x288 with 1 Axes>"
      ]
     },
     "metadata": {
      "needs_background": "light"
     },
     "output_type": "display_data"
    }
   ],
   "source": [
    "plt.scatter(np.arange(len(df_rls)), df_rls[\"cov_diff_z\"] ** 2)"
   ]
  },
  {
   "cell_type": "code",
   "execution_count": 222,
   "id": "e3e3c005-8ac2-4ee1-97a3-e1ea35fd4095",
   "metadata": {},
   "outputs": [
    {
     "data": {
      "text/plain": [
       "<matplotlib.collections.PathCollection at 0x2b439a868dc0>"
      ]
     },
     "execution_count": 222,
     "metadata": {},
     "output_type": "execute_result"
    },
    {
     "data": {
      "image/png": "[encoded data removed]",
      "text/plain": [
       "<Figure size 432x288 with 1 Axes>"
      ]
     },
     "metadata": {
      "needs_background": "light"
     },
     "output_type": "display_data"
    }
   ],
   "source": [
    "plt.scatter(df_rls[\"cov_diff_z\"] ** 2, -np.log10(df_rls[\"het_pval\"]))"
   ]
  },
  {
   "cell_type": "code",
   "execution_count": 224,
   "id": "ee45b5fc-33e4-4e96-af4b-528b2673ebdb",
   "metadata": {},
   "outputs": [
    {
     "data": {
      "image/png": "[encoded data removed]",
      "text/plain": [
       "<Figure size 900x600 with 1 Axes>"
      ]
     },
     "metadata": {
      "needs_background": "light"
     },
     "output_type": "display_data"
    }
   ],
   "source": [
    "fig, ax = plt.subplots(dpi=150)\n",
    "admix.plot.manhattan(df_rls.assoc_pval)"
   ]
  },
  {
   "cell_type": "code",
   "execution_count": 225,
   "id": "51a4be1a-eaa0-4b40-87db-a29bb7749d56",
   "metadata": {},
   "outputs": [
    {
     "data": {
      "image/png": "[encoded data removed]",
      "text/plain": [
       "<Figure size 900x600 with 1 Axes>"
      ]
     },
     "metadata": {
      "needs_background": "light"
     },
     "output_type": "display_data"
    }
   ],
   "source": [
    "fig, ax = plt.subplots(dpi=150)\n",
    "admix.plot.manhattan(df_rls.het_pval)"
   ]
  },
  {
   "cell_type": "code",
   "execution_count": 121,
   "id": "8abdff4d-cd63-4d35-92dc-43d258801b79",
   "metadata": {},
   "outputs": [
    {
     "data": {
      "text/html": [
       "<div>\n",
       "<style scoped>\n",
       "    .dataframe tbody tr th:only-of-type {\n",
       "        vertical-align: middle;\n",
       "    }\n",
       "\n",
       "    .dataframe tbody tr th {\n",
       "        vertical-align: top;\n",
       "    }\n",
       "\n",
       "    .dataframe thead th {\n",
       "        text-align: right;\n",
       "    }\n",
       "</style>\n",
       "<table border=\"1\" class=\"dataframe\">\n",
       "  <thead>\n",
       "    <tr style=\"text-align: right;\">\n",
       "      <th></th>\n",
       "      <th>het_pval</th>\n",
       "      <th>coef1</th>\n",
       "      <th>se1</th>\n",
       "      <th>coef2</th>\n",
       "      <th>se2</th>\n",
       "      <th>cov_diff_z</th>\n",
       "      <th>total_cov</th>\n",
       "      <th>assoc_pval</th>\n",
       "      <th>causal</th>\n",
       "    </tr>\n",
       "  </thead>\n",
       "  <tbody>\n",
       "    <tr>\n",
       "      <th>57</th>\n",
       "      <td>0.66792</td>\n",
       "      <td>0.128966</td>\n",
       "      <td>0.015731</td>\n",
       "      <td>0.119797</td>\n",
       "      <td>0.016811</td>\n",
       "      <td>7.667304e-12</td>\n",
       "      <td>0.375205</td>\n",
       "      <td>2.900806e-24</td>\n",
       "      <td>True</td>\n",
       "    </tr>\n",
       "  </tbody>\n",
       "</table>\n",
       "</div>"
      ],
      "text/plain": [
       "    het_pval     coef1       se1     coef2       se2    cov_diff_z  total_cov  \\\n",
       "57   0.66792  0.128966  0.015731  0.119797  0.016811  7.667304e-12   0.375205   \n",
       "\n",
       "      assoc_pval  causal  \n",
       "57  2.900806e-24    True  "
      ]
     },
     "execution_count": 121,
     "metadata": {},
     "output_type": "execute_result"
    }
   ],
   "source": [
    "df_rls[df_rls[\"causal\"]]"
   ]
  },
  {
   "cell_type": "code",
   "execution_count": null,
   "id": "492c14b9-a5f5-475c-9209-b48fc95077ab",
   "metadata": {},
   "outputs": [],
   "source": [
    "n_snp = apa.shape[0]\n",
    "assert apa.shape[1] == m.shape[0]\n",
    "# center apa\n",
    "apa = apa - apa.mean(axis=0)[None, :, :]\n",
    "m = m - m.mean()\n",
    "\n",
    "z_list = np.zeros(n_snp)\n",
    "# for each snp, calculate the covariance\n",
    "transform_vec = np.array([[1], [-1]])\n",
    "for snp_i in range(apa.shape[0]):\n",
    "    cov_inv = np.linalg.inv(np.cov(apa[snp_i, :, :]))\n",
    "    # expectation and variance\n",
    "    ex = cov_inv @ apa[snp_i, :, :].T @ m\n",
    "    varcov = cov_inv\n",
    "    z_list[snp_i] = (ex[0] - ex[1]) / np.sqrt(transform_vec @ varcov @ transform_vec.T)\n",
    "return z_list"
   ]
  },
  {
   "cell_type": "code",
   "execution_count": null,
   "id": "108b03e9-cfba-48e0-bb1f-ee6ad2108be5",
   "metadata": {},
   "outputs": [],
   "source": [
    "def calc_apa_cov(apa, m):\n",
    "    # apa: (n_snp, n_indiv, 2)\n",
    "    # m: (n_indiv, )\n"
   ]
  },
  {
   "cell_type": "code",
   "execution_count": 269,
   "id": "636740d1-5441-4de6-865c-e328da442a27",
   "metadata": {},
   "outputs": [
    {
     "name": "stderr",
     "output_type": "stream",
     "text": [
      "admix_genet_cor.simulate_continuous_pheno: 100%|██████████| 1/1 [00:01<00:00,  1.54s/it]\n",
      "100%|██████████| 137/137 [00:01<00:00, 134.95it/s]\n"
     ]
    }
   ],
   "source": [
    "df_rls = submit_simulate_pheno(hsq=0.02, causal_snp=causal_snp)"
   ]
  },
  {
   "cell_type": "code",
   "execution_count": 256,
   "id": "73b2acff-1cc0-43d2-84e4-b032f4963e08",
   "metadata": {},
   "outputs": [
    {
     "data": {
      "text/plain": [
       "<matplotlib.collections.PathCollection at 0x2b369e9be3d0>"
      ]
     },
     "execution_count": 256,
     "metadata": {},
     "output_type": "execute_result"
    },
    {
     "data": {
      "image/png": "[encoded data removed]",
      "text/plain": [
       "<Figure size 432x288 with 1 Axes>"
      ]
     },
     "metadata": {
      "needs_background": "light"
     },
     "output_type": "display_data"
    }
   ],
   "source": [
    "plt.scatter(df_rls.cov1 - df_rls.cov2, -np.log10(df_rls.het_pval))"
   ]
  },
  {
   "cell_type": "code",
   "execution_count": null,
   "id": "a0d3b425-6076-4dce-b517-4b1b0bcb1408",
   "metadata": {},
   "outputs": [],
   "source": [
    "tmp_snp = [causal_idx, 62]\n",
    "tmp_apa = apa[62, :, :]"
   ]
  },
  {
   "cell_type": "code",
   "execution_count": 264,
   "id": "0a9fa44a-e42a-4bca-beeb-5437710ed909",
   "metadata": {},
   "outputs": [
    {
     "data": {
      "text/plain": [
       "het_pval      0.599686\n",
       "coef1        -0.166931\n",
       "se1           0.011382\n",
       "coef2        -0.178054\n",
       "se2           0.022366\n",
       "cov1         -0.301997\n",
       "cov2         -0.020244\n",
       "total_cov    -0.322241\n",
       "assoc_pval         0.0\n",
       "causal            True\n",
       "Name: 62, dtype: object"
      ]
     },
     "execution_count": 264,
     "metadata": {},
     "output_type": "execute_result"
    }
   ],
   "source": [
    "df_rls.iloc[62, :]"
   ]
  },
  {
   "cell_type": "code",
   "execution_count": null,
   "id": "e1189f56-5a1d-42ec-9f0b-6c5989727c13",
   "metadata": {},
   "outputs": [],
   "source": [
    "tmp_apa.shape"
   ]
  },
  {
   "cell_type": "code",
   "execution_count": 72,
   "id": "c71ea82a-5f44-4fba-92db-4f7ef5da9c19",
   "metadata": {},
   "outputs": [],
   "source": [
    "# df_pheno = pd.DataFrame(\n",
    "#     sim[\"pheno\"],\n",
    "#     index=df_indiv.index,\n",
    "#     columns=[f\"SIM_{i}\" for i in range(n_sim)],\n",
    "# )\n",
    "# df_pheno.to_csv(out_prefix + \".pheno.tsv.gz\", index=True, sep=\"\\t\")"
   ]
  },
  {
   "cell_type": "code",
   "execution_count": null,
   "id": "3e4117c9-81f3-4b76-816a-0f782e5ce174",
   "metadata": {},
   "outputs": [],
   "source": [
    "def submit_gwas(prefix, sim_i):\n",
    "\n",
    "    df_sample_info = pd.read_csv(\n",
    "        join(SIM_PHENO_DIR, prefix + \".pheno.tsv.gz\"), sep=\"\\t\", index_col=0\n",
    "    )\n",
    "    out_prefix = f\"out/simulated_gwas/{prefix}.sim_{sim_i}\"\n",
    "\n",
    "    admix.tools.plink2.gwas(\n",
    "        pfile=join(GENO_DIR, f\"imputed/chr1\"),\n",
    "        df_sample_info=df_sample_info,\n",
    "        pheno_col=f\"SIM_{sim_i}\",\n",
    "        out_prefix=out_prefix,\n",
    "        clean_tmp_file=True,\n",
    "    )\n",
    "    admix.tools.plink2.clump(\n",
    "        pfile=join(GENO_DIR, f\"imputed/chr1\"),\n",
    "        assoc_path=out_prefix + \".assoc\",\n",
    "        out_prefix=out_prefix,\n",
    "        p1=5e-8,\n",
    "    )\n",
    "    df_sample_info[[f\"SIM_{sim_i}\"]].rename(columns={f\"SIM_{sim_i}\": \"trait\"}).to_csv(\n",
    "        out_prefix + \".pheno\", sep=\"\\t\"\n",
    "    )"
   ]
  },
  {
   "cell_type": "code",
   "execution_count": null,
   "id": "24ade7a5-4a73-429b-b3d0-d848afdb4bf3",
   "metadata": {},
   "outputs": [],
   "source": [
    "def submit_gwas(prefix, sim_i):\n",
    "\n",
    "    df_sample_info = pd.read_csv(\n",
    "        join(SIM_PHENO_DIR, prefix + \".pheno.tsv.gz\"), sep=\"\\t\", index_col=0\n",
    "    )\n",
    "    out_prefix = f\"out/simulated_gwas/{prefix}.sim_{sim_i}\"\n",
    "\n",
    "    admix.tools.plink2.gwas(\n",
    "        pfile=join(GENO_DIR, f\"imputed/chr1\"),\n",
    "        df_sample_info=df_sample_info,\n",
    "        pheno_col=f\"SIM_{sim_i}\",\n",
    "        out_prefix=out_prefix,\n",
    "        clean_tmp_file=True,\n",
    "    )\n",
    "    admix.tools.plink2.clump(\n",
    "        pfile=join(GENO_DIR, f\"imputed/chr1\"),\n",
    "        assoc_path=out_prefix + \".assoc\",\n",
    "        out_prefix=out_prefix,\n",
    "        p1=5e-8,\n",
    "    )\n",
    "    df_sample_info[[f\"SIM_{sim_i}\"]].rename(columns={f\"SIM_{sim_i}\": \"trait\"}).to_csv(\n",
    "        out_prefix + \".pheno\", sep=\"\\t\"\n",
    "    )"
   ]
  }
 ],
 "metadata": {
  "kernelspec": {
   "display_name": "Python 3",
   "language": "python",
   "name": "python3"
  },
  "language_info": {
   "codemirror_mode": {
    "name": "ipython",
    "version": 3
   },
   "file_extension": ".py",
   "mimetype": "text/x-python",
   "name": "python",
   "nbconvert_exporter": "python",
   "pygments_lexer": "ipython3",
   "version": "3.8.5"
  }
 },
 "nbformat": 4,
 "nbformat_minor": 5
}
