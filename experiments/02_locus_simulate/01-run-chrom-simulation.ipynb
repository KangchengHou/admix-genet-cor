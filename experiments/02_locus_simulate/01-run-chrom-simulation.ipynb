{
 "cells": [
  {
   "cell_type": "markdown",
   "id": "051181f6-c6da-4461-8b0b-6684170c1fc1",
   "metadata": {},
   "source": [
    "# Simulation to evaluate the reason of inflation\n",
    "\n",
    "1. \n",
    "1. Take the chromosome-wide simulation in 1st experiment.\n",
    "2. Perform a GWAS on the data on chromosome 22.\n",
    "3. Perform clumping on the data on chromosome 22.\n",
    "4. For every GWAS hit, find the true SNPs, and evaluate the properties. Heterogeneity ~ distance to causal, strategies to find causal variables.\n",
    "5. Run heterogeneity test on the index SNPs."
   ]
  },
  {
   "cell_type": "markdown",
   "id": "b432c77e-06fb-4297-88a3-42a37167e650",
   "metadata": {},
   "source": [
    "# Perform GWAS clumping"
   ]
  },
  {
   "cell_type": "code",
   "execution_count": 7,
   "id": "4d6a2af3-09e0-4add-a5a9-60d27be0a702",
   "metadata": {},
   "outputs": [
    {
     "name": "stdout",
     "output_type": "stream",
     "text": [
      "The autoreload extension is already loaded. To reload it, use:\n",
      "  %reload_ext autoreload\n",
      "The lab_black extension is already loaded. To reload it, use:\n",
      "  %reload_ext lab_black\n"
     ]
    }
   ],
   "source": [
    "%load_ext autoreload\n",
    "%autoreload 2\n",
    "%load_ext lab_black\n",
    "\n",
    "import matplotlib.pyplot as plt\n",
    "import numpy as np\n",
    "import json\n",
    "import pandas as pd\n",
    "import seaborn as sns\n",
    "import os\n",
    "import admix\n",
    "from os.path import join\n",
    "import itertools\n",
    "import admix_genet_cor\n",
    "import submitit\n",
    "import glob"
   ]
  },
  {
   "cell_type": "code",
   "execution_count": 8,
   "id": "20e78ac8-3b6e-425c-ac89-c07ec505757a",
   "metadata": {},
   "outputs": [],
   "source": [
    "GENO_DIR = (\n",
    "    \"/u/project/pasaniuc/pasaniucdata/admixture/projects/PAGE-QC/01_dataset/out/aframr\"\n",
    ")\n",
    "SIM_PHENO_DIR = \"/u/project/pasaniuc/kangchen/2021-admix-corr/experiments/01_genome_wide_simulate/out/pheno\"\n",
    "# convert to PLINK1\n",
    "def convert_plink1():\n",
    "    for chrom in range(1, 23):\n",
    "        pfile = join(GENO_DIR, f\"imputed/chr{chrom}\")\n",
    "        admix.tools.plink2.run(\n",
    "            f\"--pfile {pfile} --make-bed --out out/genome-wide/PLINK/chr{chrom}\"\n",
    "        )\n",
    "\n",
    "\n",
    "# convert_plink1()"
   ]
  },
  {
   "cell_type": "code",
   "execution_count": 9,
   "id": "0f77f890-515f-4a5d-a223-e39f8590ade1",
   "metadata": {},
   "outputs": [],
   "source": [
    "def submit_gwas_clump(prefix, sim_i):\n",
    "\n",
    "    df_sample_info = pd.read_csv(\n",
    "        join(SIM_PHENO_DIR, prefix + \".pheno.tsv.gz\"), sep=\"\\t\", index_col=0\n",
    "    )\n",
    "    for chrom in range(1, 23):\n",
    "        out_prefix = f\"out/genome-wide/clump/{prefix}.sim_{sim_i}.chr{chrom}\"\n",
    "        admix.tools.plink2.gwas(\n",
    "            pfile=join(GENO_DIR, f\"imputed/chr{chrom}\"),\n",
    "            df_sample_info=df_sample_info,\n",
    "            pheno_col=f\"SIM_{sim_i}\",\n",
    "            out_prefix=out_prefix,\n",
    "            clean_tmp_file=True,\n",
    "        )\n",
    "        admix.tools.plink.clump(\n",
    "            bfile=f\"out/genome-wide/PLINK/chr{chrom}\",\n",
    "            assoc_path=out_prefix + \".assoc\",\n",
    "            out_prefix=out_prefix,\n",
    "            p1=5e-8,\n",
    "            p2=1e-4,\n",
    "            r2=0.1,\n",
    "            kb=3000,\n",
    "        )\n",
    "        os.remove(out_prefix + \".assoc\")\n",
    "    # merging all the clumping\n",
    "    df_clump = []\n",
    "    clump_file_prefix = f\"out/genome-wide/clump/{prefix}.sim_{sim_i}\"\n",
    "    for chrom in range(1, 23):\n",
    "        clumped_file = clump_file_prefix + f\".chr{chrom}.clumped\"\n",
    "        with open(clumped_file) as f:\n",
    "            lines = f.readlines()\n",
    "            if len(lines) == 1:\n",
    "                continue\n",
    "        df_clump.append(pd.read_csv(clumped_file, delim_whitespace=True))\n",
    "    df_clump = pd.concat(df_clump)\n",
    "    df_clump.to_csv(clump_file_prefix + f\".clumped\", index=False, sep=\"\\t\")\n",
    "    # clean up\n",
    "    for f in glob.glob(clump_file_prefix + \".chr*\"):\n",
    "        os.remove(f)"
   ]
  },
  {
   "cell_type": "code",
   "execution_count": 10,
   "id": "26258966-56e9-4154-afcc-c34ddc024852",
   "metadata": {},
   "outputs": [],
   "source": [
    "# define the simulation parameters\n",
    "df_params = pd.DataFrame(\n",
    "    [\n",
    "        params\n",
    "        for params in itertools.product(\n",
    "            [0.5], [0.0001, 0.001, 0.01, 1.0], [1.0], [\"mafukb\"], np.arange(100)\n",
    "        )\n",
    "    ],\n",
    "    columns=[\"hsq\", \"pcausal\", \"cor\", \"hermodel\", \"sim_i\"],\n",
    ")\n",
    "df_params[\"prefix\"] = df_params.apply(\n",
    "    lambda row: f\"hsq-{row.hsq}-pcausal-{row.pcausal}-cor-{row.cor}-hermodel-{row.hermodel}\",\n",
    "    axis=1,\n",
    ")"
   ]
  },
  {
   "cell_type": "code",
   "execution_count": 11,
   "id": "ac08b25f-a4ee-48aa-a528-c8d7a46dcf80",
   "metadata": {},
   "outputs": [],
   "source": [
    "executor = submitit.SgeExecutor(folder=\"./submitit-logs\")\n",
    "\n",
    "executor.update_parameters(\n",
    "    time_min=80,\n",
    "    memory_g=20,\n",
    "    queue=\"highp\",\n",
    "    setup=[\n",
    "        \"export PATH=~/project-pasaniuc/software/miniconda3/bin:$PATH\",\n",
    "        \"export PYTHONNOUSERSITE=True\",\n",
    "    ],\n",
    ")\n",
    "\n",
    "jobs = executor.map_array(submit_gwas_clump, df_params.prefix, df_params.sim_i)"
   ]
  },
  {
   "cell_type": "markdown",
   "id": "2c9f7498-45d6-494f-a48f-fdfbb0348356",
   "metadata": {},
   "source": [
    "# Heterogeneity test"
   ]
  },
  {
   "cell_type": "code",
   "execution_count": 114,
   "id": "22af18f4-ecaf-464e-931f-38aa2b31630a",
   "metadata": {},
   "outputs": [],
   "source": [
    "def submit_test_het(prefix, sim_i):\n",
    "    df_clump = (\n",
    "        pd.read_csv(f\"out/genome-wide/clump/{prefix}.sim_{sim_i}.clumped\", sep=\"\\t\")\n",
    "        .set_index(\"SNP\")\n",
    "        .sort_values([\"CHR\", \"BP\"])\n",
    "    )\n",
    "    df_pheno = pd.read_csv(\n",
    "        join(SIM_PHENO_DIR, prefix + \".pheno.tsv.gz\"), sep=\"\\t\", index_col=0\n",
    "    )[f\"SIM_{sim_i}\"]\n",
    "\n",
    "    df_sum = []\n",
    "    for chrom, df_chrom in df_clump.groupby(\"CHR\"):\n",
    "\n",
    "        dset_chrom = admix.dataset.read_dataset(\n",
    "            pfile=join(GENO_DIR, f\"imputed/chr{chrom}\"), n_anc=2\n",
    "        )[df_chrom.index.values]\n",
    "\n",
    "        df_tmp = admix_genet_cor.marginal_het(\n",
    "            dset_chrom.geno, dset_chrom.lanc, df_pheno\n",
    "        )\n",
    "        df_tmp[\"assoc_p\"] = admix.assoc.marginal_fast(\n",
    "            geno=dset_chrom.geno, lanc=dset_chrom.lanc, pheno=df_pheno, cov=None\n",
    "        )\n",
    "        df_tmp[\"plink_assoc_p\"] = df_chrom[\"P\"].values\n",
    "        df_tmp[\"snp\"] = df_chrom.index.values\n",
    "        df_sum.append(df_tmp)\n",
    "    df_sum = pd.concat(df_sum)\n",
    "    df_sum = df_sum[\n",
    "        [\n",
    "            \"snp\",\n",
    "            \"het_pval\",\n",
    "            \"coef1\",\n",
    "            \"se1\",\n",
    "            \"coef2\",\n",
    "            \"se2\",\n",
    "            \"assoc_p\",\n",
    "            \"plink_assoc_p\",\n",
    "        ]\n",
    "    ]\n",
    "    df_sum.to_csv(\n",
    "        f\"out/genome-wide/clump-summary/{prefix}.sim_{sim_i}.tsv\", index=False, sep=\"\\t\"\n",
    "    )"
   ]
  },
  {
   "cell_type": "code",
   "execution_count": 117,
   "id": "917a94da-6e8a-45eb-a0ea-a9ea7caf52d1",
   "metadata": {},
   "outputs": [],
   "source": [
    "executor = submitit.SgeExecutor(folder=\"./submitit-logs\")\n",
    "\n",
    "executor.update_parameters(\n",
    "    time_min=10,\n",
    "    memory_g=16,\n",
    "    queue=\"highp\",\n",
    "    setup=[\n",
    "        \"export PATH=~/project-pasaniuc/software/miniconda3/bin:$PATH\",\n",
    "        \"export PYTHONNOUSERSITE=True\",\n",
    "    ],\n",
    ")\n",
    "\n",
    "jobs = executor.map_array(submit_test_het, df_params.prefix, df_params.sim_i)"
   ]
  },
  {
   "cell_type": "code",
   "execution_count": 184,
   "id": "feeba5a9-1ed9-41ae-a3b4-dbdb29043829",
   "metadata": {},
   "outputs": [],
   "source": [
    "df_params[\"out\"] = df_params.apply(\n",
    "    lambda x: f\"out/genome-wide/clump-summary/{x.prefix}.sim_{x.sim_i}.tsv\", axis=1\n",
    ")"
   ]
  },
  {
   "cell_type": "code",
   "execution_count": 185,
   "id": "f7cd4676-7b8a-40eb-b9cc-886349425758",
   "metadata": {},
   "outputs": [],
   "source": [
    "df_rls = []\n",
    "for i, param in df_params.iterrows():\n",
    "    if os.path.exists(param.out):\n",
    "        df_tmp = pd.read_csv(param.out, sep=\"\\t\")\n",
    "        df_tmp[\"pcausal\"] = param.pcausal\n",
    "        df_tmp[\"hsq\"] = param.hsq\n",
    "        df_tmp[\"sim_i\"] = param.sim_i\n",
    "        df_rls.append(df_tmp)\n",
    "df_rls = pd.concat(df_rls).reset_index(drop=True)\n",
    "# filter for SNPs with super small MAF in either one of the populations\n",
    "df_rls = df_rls[(df_rls.se1 > 1e-6) & (df_rls.se2 > 1e-6)]\n",
    "df_rls[\"plink_assoc_p_bin\"] = pd.qcut(df_rls[\"plink_assoc_p\"], q=5)"
   ]
  },
  {
   "cell_type": "code",
   "execution_count": 186,
   "id": "11cc9479-5756-418f-90b0-f2aa559c7928",
   "metadata": {},
   "outputs": [],
   "source": [
    "df_rls_grouped = df_rls.groupby([\"pcausal\", \"plink_assoc_p_bin\"])\n",
    "df_plot = pd.concat(\n",
    "    [\n",
    "        df_rls_grouped.apply(lambda x: admix.data.lambda_gc(x[\"het_pval\"])),\n",
    "        df_rls_grouped.apply(lambda x: pearsonr(x[\"coef1\"], x[\"coef2\"])[0]),\n",
    "    ],\n",
    "    axis=1,\n",
    ")\n",
    "df_plot.columns = [\"lambda_gc\", \"pearsonr\"]\n",
    "df_plot = df_plot.reset_index(drop=False)"
   ]
  },
  {
   "cell_type": "code",
   "execution_count": 193,
   "id": "5179640b-b138-4553-a244-f170bc138434",
   "metadata": {},
   "outputs": [
    {
     "data": {
      "text/plain": [
       "Text(0, 0.5, \"Pearson's correlation\")"
      ]
     },
     "execution_count": 193,
     "metadata": {},
     "output_type": "execute_result"
    },
    {
     "data": {
      "image/png": "[encoded data removed]",
      "text/plain": [
       "<Figure size 450x450 with 1 Axes>"
      ]
     },
     "metadata": {
      "needs_background": "light"
     },
     "output_type": "display_data"
    }
   ],
   "source": [
    "fig, ax = plt.subplots(figsize=(3, 3), dpi=150)\n",
    "for pcausal in df_plot.pcausal.unique():\n",
    "    df_tmp = df_plot[df_plot.pcausal == pcausal]\n",
    "    ax.plot(\n",
    "        df_tmp.plink_assoc_p_bin.cat.codes,\n",
    "        df_tmp.pearsonr,\n",
    "        \".--\",\n",
    "        label=f\"{pcausal * 100 : .1f}%\",\n",
    "    )\n",
    "\n",
    "ax.legend(\n",
    "    loc=\"center\",\n",
    "    bbox_to_anchor=[0.5, 1.2],\n",
    "    ncol=3,\n",
    "    title=\"Simulated $p_{causal}$ ($h_g^2$ = 0.5)\",\n",
    ")\n",
    "ax.axhline(y=1, color=\"black\", ls=\"--\", alpha=0.3)\n",
    "ax.set_xticks(df_tmp.plink_assoc_p_bin.cat.codes)\n",
    "ax.set_xticklabels(df_tmp.plink_assoc_p_bin.cat.codes)\n",
    "ax.set_xlabel(\"Association p-value quintiles\")\n",
    "ax.set_ylabel(\"Pearson's correlation\")"
   ]
  }
 ],
 "metadata": {
  "kernelspec": {
   "display_name": "Python 3",
   "language": "python",
   "name": "python3"
  },
  "language_info": {
   "codemirror_mode": {
    "name": "ipython",
    "version": 3
   },
   "file_extension": ".py",
   "mimetype": "text/x-python",
   "name": "python",
   "nbconvert_exporter": "python",
   "pygments_lexer": "ipython3",
   "version": "3.8.5"
  }
 },
 "nbformat": 4,
 "nbformat_minor": 5
}
