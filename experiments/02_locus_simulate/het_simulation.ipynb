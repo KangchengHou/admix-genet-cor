{
 "cells": [
  {
   "cell_type": "markdown",
   "id": "0f52835d-ef6f-4adc-b66c-94b185b1a138",
   "metadata": {},
   "source": [
    "# Evaluating properties of testing heterogeneity"
   ]
  },
  {
   "cell_type": "code",
   "execution_count": 3,
   "id": "d11be3ad-27df-4c15-8650-72a1a3273d51",
   "metadata": {},
   "outputs": [],
   "source": [
    "%load_ext autoreload\n",
    "%autoreload 2\n",
    "%load_ext lab_black\n",
    "\n",
    "import numpy as np\n",
    "import pandas as pd\n",
    "import pickle\n",
    "import xarray as xr\n",
    "import admix\n",
    "import matplotlib.pyplot as plt\n",
    "import statsmodels.api as sm\n",
    "from tqdm import tqdm"
   ]
  },
  {
   "cell_type": "code",
   "execution_count": 4,
   "id": "303055c9-6beb-4be3-9666-ab85864d6821",
   "metadata": {},
   "outputs": [],
   "source": [
    "def simulate(apa, beta, cov):\n",
    "    cov_effects = np.random.normal(loc=0, scale=0.1, size=cov.shape[1])\n",
    "    y = (\n",
    "        np.dot(apa, beta)\n",
    "        + np.dot(cov, cov_effects)\n",
    "        + np.random.normal(size=apa.shape[0])\n",
    "    )\n",
    "    return y\n",
    "\n",
    "\n",
    "def test_het(apa, y, cov):\n",
    "    design = sm.add_constant(np.hstack([apa, cov]))\n",
    "    model = sm.OLS(y, design).fit()\n",
    "\n",
    "    A = np.zeros([1, len(model.params)])\n",
    "    A[0, 1] = 1\n",
    "    A[0, 2] = -1\n",
    "    p_ftest = model.f_test(A).pvalue.item()\n",
    "    return p_ftest, model"
   ]
  },
  {
   "cell_type": "code",
   "execution_count": 7,
   "id": "2830e413-c1a6-4e94-ba03-9639dba550ee",
   "metadata": {},
   "outputs": [],
   "source": [
    "# read dataset and do minimal processing\n",
    "dset = xr.open_zarr(\"out/gwas_hit.zarr/\", chunks=-1)\n",
    "admix.tools.af_per_anc(dset)\n",
    "maf = np.minimum(dset[\"af_per_anc\"].values, 1 - dset[\"af_per_anc\"].values).min(axis=1)\n",
    "dset = dset.sel(snp=maf > 0.005)"
   ]
  },
  {
   "cell_type": "markdown",
   "id": "1d44f47a-2de2-4dcf-b762-68dd8e7dda16",
   "metadata": {},
   "source": [
    "# Simulate beta heterogeneity effect sizes\n",
    "Use two practices with / without conditioning local ancestry"
   ]
  },
  {
   "cell_type": "code",
   "execution_count": 31,
   "id": "d76cb199-a580-4724-9b6c-0211eee99567",
   "metadata": {},
   "outputs": [
    {
     "name": "stderr",
     "output_type": "stream",
     "text": [
      "100%|██████████| 77/77 [01:20<00:00,  1.05s/it]\n"
     ]
    }
   ],
   "source": [
    "np.random.seed(1234)\n",
    "n_sim = 5\n",
    "\n",
    "dict_rls = {\"snp_i\": [], \"effect\": [], \"sim_i\": [], \"method\": [], \"pval\": []}\n",
    "\n",
    "cov = np.column_stack(\n",
    "    [\n",
    "        dset.coords[col].values\n",
    "        for col in [\"age\", \"sex\"] + [f\"geno_EV{i}\" for i in range(1, 10)]\n",
    "    ]\n",
    ")\n",
    "allele_per_anc = dset[\"allele_per_anc\"].values\n",
    "lanc = dset.lanc.sum(axis=2).values\n",
    "\n",
    "for snp_i in tqdm(range(0, dset.dims[\"snp\"], 10)):\n",
    "    # for snp_i in tqdm(range(10)):\n",
    "    apa_snp = allele_per_anc[:, snp_i, :]\n",
    "    lanc_snp = lanc[:, snp_i]\n",
    "    for effect in [0.15, 0.2, 0.25]:\n",
    "        pvals1 = []\n",
    "        pvals2 = []\n",
    "\n",
    "        for sim_i in range(n_sim):\n",
    "            y_sim = simulate(apa_snp, [effect, 0.25], cov)\n",
    "            # w/o conditioning\n",
    "            pval1, model1 = test_het(apa_snp, y_sim, cov)\n",
    "            pvals1.append(pval1)\n",
    "            # w conditioning\n",
    "            pval2, model2 = test_het(\n",
    "                apa_snp, sm.OLS(y_sim, sm.add_constant(lanc_snp)).fit().resid, cov\n",
    "            )\n",
    "            #             pval2, model2 = test_het(apa_snp, y_sim, np.column_stack([cov, lanc_snp]))\n",
    "            pvals2.append(pval2)\n",
    "        for method, pvals in zip([\"w/o lanc\", \"w lanc\"], [pvals1, pvals2]):\n",
    "            dict_rls[\"pval\"].extend(pvals)\n",
    "            dict_rls[\"method\"].extend([method] * n_sim)\n",
    "            dict_rls[\"sim_i\"].extend(np.arange(n_sim))\n",
    "            dict_rls[\"effect\"].extend([effect] * n_sim)\n",
    "            dict_rls[\"snp_i\"].extend([snp_i] * n_sim)\n",
    "\n",
    "df_rls = pd.DataFrame(dict_rls)"
   ]
  },
  {
   "cell_type": "code",
   "execution_count": 39,
   "id": "996999d3-6437-4aed-9508-3c3cec32b09c",
   "metadata": {},
   "outputs": [
    {
     "name": "stderr",
     "output_type": "stream",
     "text": [
      "100%|██████████| 766/766 [00:02<00:00, 377.98it/s]\n"
     ]
    }
   ],
   "source": [
    "np.random.seed(1234)\n",
    "\n",
    "allele_per_anc = dset[\"allele_per_anc\"].values\n",
    "lanc = dset.lanc.sum(axis=2).values\n",
    "\n",
    "df_corr_list = []\n",
    "for snp_i in tqdm(range(dset.dims[\"snp\"])):\n",
    "    apa_snp = allele_per_anc[:, snp_i, :]\n",
    "    lanc_snp = lanc[:, snp_i]\n",
    "\n",
    "    df_corr = pd.DataFrame(\n",
    "        np.column_stack([apa_snp, lanc_snp]), columns=[\"EUR\", \"AFR\", \"lanc\"]\n",
    "    ).corr()\n",
    "    df_corr_list.append(df_corr)"
   ]
  },
  {
   "cell_type": "code",
   "execution_count": 44,
   "id": "8ecc96a3-f87f-4431-ba8e-21ef41c2676f",
   "metadata": {},
   "outputs": [],
   "source": [
    "avg_df_corr = np.zeros_like(df_corr_list[0])\n",
    "for d in df_corr_list:\n",
    "    avg_df_corr += d\n",
    "avg_df_corr /= len(df_corr_list)"
   ]
  },
  {
   "cell_type": "code",
   "execution_count": 45,
   "id": "42c7cb36-3ab3-48ec-9ec4-713c67bbfc1b",
   "metadata": {},
   "outputs": [
    {
     "data": {
      "text/html": [
       "<div>\n",
       "<style scoped>\n",
       "    .dataframe tbody tr th:only-of-type {\n",
       "        vertical-align: middle;\n",
       "    }\n",
       "\n",
       "    .dataframe tbody tr th {\n",
       "        vertical-align: top;\n",
       "    }\n",
       "\n",
       "    .dataframe thead th {\n",
       "        text-align: right;\n",
       "    }\n",
       "</style>\n",
       "<table border=\"1\" class=\"dataframe\">\n",
       "  <thead>\n",
       "    <tr style=\"text-align: right;\">\n",
       "      <th></th>\n",
       "      <th>EUR</th>\n",
       "      <th>AFR</th>\n",
       "      <th>lanc</th>\n",
       "    </tr>\n",
       "  </thead>\n",
       "  <tbody>\n",
       "    <tr>\n",
       "      <th>EUR</th>\n",
       "      <td>1.000000</td>\n",
       "      <td>-0.257193</td>\n",
       "      <td>-0.580517</td>\n",
       "    </tr>\n",
       "    <tr>\n",
       "      <th>AFR</th>\n",
       "      <td>-0.257193</td>\n",
       "      <td>1.000000</td>\n",
       "      <td>0.395211</td>\n",
       "    </tr>\n",
       "    <tr>\n",
       "      <th>lanc</th>\n",
       "      <td>-0.580517</td>\n",
       "      <td>0.395211</td>\n",
       "      <td>1.000000</td>\n",
       "    </tr>\n",
       "  </tbody>\n",
       "</table>\n",
       "</div>"
      ],
      "text/plain": [
       "           EUR       AFR      lanc\n",
       "EUR   1.000000 -0.257193 -0.580517\n",
       "AFR  -0.257193  1.000000  0.395211\n",
       "lanc -0.580517  0.395211  1.000000"
      ]
     },
     "execution_count": 45,
     "metadata": {},
     "output_type": "execute_result"
    }
   ],
   "source": [
    "avg_df_corr"
   ]
  },
  {
   "cell_type": "code",
   "execution_count": 48,
   "id": "0fe3d8d8-2d68-4189-ad49-cb54137b69a8",
   "metadata": {},
   "outputs": [
    {
     "data": {
      "text/plain": [
       "array([[0.        , 0.20539735, 0.20029442],\n",
       "       [0.20539735, 0.        , 0.24368693],\n",
       "       [0.20029442, 0.24368693, 0.        ]])"
      ]
     },
     "execution_count": 48,
     "metadata": {},
     "output_type": "execute_result"
    }
   ],
   "source": [
    "np.std(df_corr_list, axis=0)"
   ]
  },
  {
   "cell_type": "code",
   "execution_count": 37,
   "id": "f0d957e1-a110-4705-a8a0-498c94fa9298",
   "metadata": {},
   "outputs": [
    {
     "data": {
      "text/html": [
       "<div>\n",
       "<style scoped>\n",
       "    .dataframe tbody tr th:only-of-type {\n",
       "        vertical-align: middle;\n",
       "    }\n",
       "\n",
       "    .dataframe tbody tr th {\n",
       "        vertical-align: top;\n",
       "    }\n",
       "\n",
       "    .dataframe thead th {\n",
       "        text-align: right;\n",
       "    }\n",
       "</style>\n",
       "<table border=\"1\" class=\"dataframe\">\n",
       "  <thead>\n",
       "    <tr style=\"text-align: right;\">\n",
       "      <th></th>\n",
       "      <th>EUR</th>\n",
       "      <th>AFR</th>\n",
       "      <th>lanc</th>\n",
       "    </tr>\n",
       "  </thead>\n",
       "  <tbody>\n",
       "    <tr>\n",
       "      <th>EUR</th>\n",
       "      <td>1.000000</td>\n",
       "      <td>-0.077690</td>\n",
       "      <td>-0.463532</td>\n",
       "    </tr>\n",
       "    <tr>\n",
       "      <th>AFR</th>\n",
       "      <td>-0.077690</td>\n",
       "      <td>1.000000</td>\n",
       "      <td>0.199059</td>\n",
       "    </tr>\n",
       "    <tr>\n",
       "      <th>lanc</th>\n",
       "      <td>-0.463532</td>\n",
       "      <td>0.199059</td>\n",
       "      <td>1.000000</td>\n",
       "    </tr>\n",
       "  </tbody>\n",
       "</table>\n",
       "</div>"
      ],
      "text/plain": [
       "           EUR       AFR      lanc\n",
       "EUR   1.000000 -0.077690 -0.463532\n",
       "AFR  -0.077690  1.000000  0.199059\n",
       "lanc -0.463532  0.199059  1.000000"
      ]
     },
     "execution_count": 37,
     "metadata": {},
     "output_type": "execute_result"
    }
   ],
   "source": [
    "df_corr"
   ]
  },
  {
   "cell_type": "code",
   "execution_count": 33,
   "id": "5b842aed-34ed-4a54-bca5-1da8b69da8e7",
   "metadata": {},
   "outputs": [],
   "source": [
    "af = dset[\"af_per_anc\"].values\n",
    "df_af = pd.DataFrame(\n",
    "    {\"snp_i\": np.arange(af.shape[0]), \"EUR_af\": af[:, 0], \"AFR_af\": af[:, 1]}\n",
    ")\n",
    "\n",
    "df_plot = pd.merge(df_rls, df_af, on=\"snp_i\")\n",
    "df_plot[\"diff_af\"] = df_plot[\"EUR_af\"] - df_plot[\"AFR_af\"]"
   ]
  },
  {
   "cell_type": "code",
   "execution_count": 34,
   "id": "fcfd4cab-0718-4ae7-a4af-4ec175dde822",
   "metadata": {},
   "outputs": [
    {
     "data": {
      "text/html": [
       "<div>\n",
       "<style scoped>\n",
       "    .dataframe tbody tr th:only-of-type {\n",
       "        vertical-align: middle;\n",
       "    }\n",
       "\n",
       "    .dataframe tbody tr th {\n",
       "        vertical-align: top;\n",
       "    }\n",
       "\n",
       "    .dataframe thead th {\n",
       "        text-align: right;\n",
       "    }\n",
       "</style>\n",
       "<table border=\"1\" class=\"dataframe\">\n",
       "  <thead>\n",
       "    <tr style=\"text-align: right;\">\n",
       "      <th></th>\n",
       "      <th></th>\n",
       "      <th>pval</th>\n",
       "    </tr>\n",
       "    <tr>\n",
       "      <th>method</th>\n",
       "      <th>effect</th>\n",
       "      <th></th>\n",
       "    </tr>\n",
       "  </thead>\n",
       "  <tbody>\n",
       "    <tr>\n",
       "      <th rowspan=\"3\" valign=\"top\">w lanc</th>\n",
       "      <th>0.15</th>\n",
       "      <td>0.701299</td>\n",
       "    </tr>\n",
       "    <tr>\n",
       "      <th>0.20</th>\n",
       "      <td>0.594805</td>\n",
       "    </tr>\n",
       "    <tr>\n",
       "      <th>0.25</th>\n",
       "      <td>0.636364</td>\n",
       "    </tr>\n",
       "    <tr>\n",
       "      <th rowspan=\"3\" valign=\"top\">w/o lanc</th>\n",
       "      <th>0.15</th>\n",
       "      <td>0.896104</td>\n",
       "    </tr>\n",
       "    <tr>\n",
       "      <th>0.20</th>\n",
       "      <td>0.542857</td>\n",
       "    </tr>\n",
       "    <tr>\n",
       "      <th>0.25</th>\n",
       "      <td>0.054545</td>\n",
       "    </tr>\n",
       "  </tbody>\n",
       "</table>\n",
       "</div>"
      ],
      "text/plain": [
       "                     pval\n",
       "method   effect          \n",
       "w lanc   0.15    0.701299\n",
       "         0.20    0.594805\n",
       "         0.25    0.636364\n",
       "w/o lanc 0.15    0.896104\n",
       "         0.20    0.542857\n",
       "         0.25    0.054545"
      ]
     },
     "execution_count": 34,
     "metadata": {},
     "output_type": "execute_result"
    }
   ],
   "source": [
    "df_plot.groupby([\"method\", \"effect\"]).agg({\"pval\": lambda x: np.mean(x < 0.05)})"
   ]
  },
  {
   "cell_type": "code",
   "execution_count": null,
   "id": "35bd82b4-da08-48f3-946c-6f6e51e5c5ba",
   "metadata": {},
   "outputs": [],
   "source": []
  },
  {
   "cell_type": "code",
   "execution_count": 233,
   "id": "76af562a-ad25-4a4d-a6c6-ed5211302cb0",
   "metadata": {},
   "outputs": [
    {
     "data": {
      "text/html": [
       "<div>\n",
       "<style scoped>\n",
       "    .dataframe tbody tr th:only-of-type {\n",
       "        vertical-align: middle;\n",
       "    }\n",
       "\n",
       "    .dataframe tbody tr th {\n",
       "        vertical-align: top;\n",
       "    }\n",
       "\n",
       "    .dataframe thead th {\n",
       "        text-align: right;\n",
       "    }\n",
       "</style>\n",
       "<table border=\"1\" class=\"dataframe\">\n",
       "  <thead>\n",
       "    <tr style=\"text-align: right;\">\n",
       "      <th></th>\n",
       "      <th></th>\n",
       "      <th>pval</th>\n",
       "    </tr>\n",
       "    <tr>\n",
       "      <th>method</th>\n",
       "      <th>effect</th>\n",
       "      <th></th>\n",
       "    </tr>\n",
       "  </thead>\n",
       "  <tbody>\n",
       "    <tr>\n",
       "      <th rowspan=\"3\" valign=\"top\">w lanc</th>\n",
       "      <th>0.15</th>\n",
       "      <td>0.861765</td>\n",
       "    </tr>\n",
       "    <tr>\n",
       "      <th>0.20</th>\n",
       "      <td>0.352941</td>\n",
       "    </tr>\n",
       "    <tr>\n",
       "      <th>0.25</th>\n",
       "      <td>0.064706</td>\n",
       "    </tr>\n",
       "    <tr>\n",
       "      <th rowspan=\"3\" valign=\"top\">w/o lanc</th>\n",
       "      <th>0.15</th>\n",
       "      <td>0.994118</td>\n",
       "    </tr>\n",
       "    <tr>\n",
       "      <th>0.20</th>\n",
       "      <td>0.767647</td>\n",
       "    </tr>\n",
       "    <tr>\n",
       "      <th>0.25</th>\n",
       "      <td>0.047059</td>\n",
       "    </tr>\n",
       "  </tbody>\n",
       "</table>\n",
       "</div>"
      ],
      "text/plain": [
       "                     pval\n",
       "method   effect          \n",
       "w lanc   0.15    0.861765\n",
       "         0.20    0.352941\n",
       "         0.25    0.064706\n",
       "w/o lanc 0.15    0.994118\n",
       "         0.20    0.767647\n",
       "         0.25    0.047059"
      ]
     },
     "execution_count": 233,
     "metadata": {},
     "output_type": "execute_result"
    }
   ],
   "source": [
    "df_plot[df_plot.diff_corr > 1.0].groupby([\"method\", \"effect\"]).agg({\"pval\": lambda x : np.mean(x < 0.05)})"
   ]
  },
  {
   "cell_type": "code",
   "execution_count": 232,
   "id": "6dde4f35-245b-4e0b-9afa-11232d58faa5",
   "metadata": {},
   "outputs": [
    {
     "data": {
      "text/html": [
       "<div>\n",
       "<style scoped>\n",
       "    .dataframe tbody tr th:only-of-type {\n",
       "        vertical-align: middle;\n",
       "    }\n",
       "\n",
       "    .dataframe tbody tr th {\n",
       "        vertical-align: top;\n",
       "    }\n",
       "\n",
       "    .dataframe thead th {\n",
       "        text-align: right;\n",
       "    }\n",
       "</style>\n",
       "<table border=\"1\" class=\"dataframe\">\n",
       "  <thead>\n",
       "    <tr style=\"text-align: right;\">\n",
       "      <th></th>\n",
       "      <th></th>\n",
       "      <th>pval</th>\n",
       "    </tr>\n",
       "    <tr>\n",
       "      <th>method</th>\n",
       "      <th>effect</th>\n",
       "      <th></th>\n",
       "    </tr>\n",
       "  </thead>\n",
       "  <tbody>\n",
       "    <tr>\n",
       "      <th rowspan=\"3\" valign=\"top\">w lanc</th>\n",
       "      <th>0.15</th>\n",
       "      <td>0.724138</td>\n",
       "    </tr>\n",
       "    <tr>\n",
       "      <th>0.20</th>\n",
       "      <td>0.314943</td>\n",
       "    </tr>\n",
       "    <tr>\n",
       "      <th>0.25</th>\n",
       "      <td>0.043678</td>\n",
       "    </tr>\n",
       "    <tr>\n",
       "      <th rowspan=\"3\" valign=\"top\">w/o lanc</th>\n",
       "      <th>0.15</th>\n",
       "      <td>0.767816</td>\n",
       "    </tr>\n",
       "    <tr>\n",
       "      <th>0.20</th>\n",
       "      <td>0.367816</td>\n",
       "    </tr>\n",
       "    <tr>\n",
       "      <th>0.25</th>\n",
       "      <td>0.050575</td>\n",
       "    </tr>\n",
       "  </tbody>\n",
       "</table>\n",
       "</div>"
      ],
      "text/plain": [
       "                     pval\n",
       "method   effect          \n",
       "w lanc   0.15    0.724138\n",
       "         0.20    0.314943\n",
       "         0.25    0.043678\n",
       "w/o lanc 0.15    0.767816\n",
       "         0.20    0.367816\n",
       "         0.25    0.050575"
      ]
     },
     "execution_count": 232,
     "metadata": {},
     "output_type": "execute_result"
    }
   ],
   "source": [
    "df_plot[df_plot.diff_corr < 1.0].groupby([\"method\", \"effect\"]).agg({\"pval\": lambda x : np.mean(x < 0.05)})"
   ]
  },
  {
   "cell_type": "code",
   "execution_count": null,
   "id": "64640587-9966-4677-8b77-46c24045e5b5",
   "metadata": {},
   "outputs": [],
   "source": [
    "gt = np.dstack([dict_hit_info[snp][\"gt\"] for snp in dict_hit_info])"
   ]
  },
  {
   "cell_type": "code",
   "execution_count": null,
   "id": "9b5823b8-1050-4f61-98a2-493a1ec35f24",
   "metadata": {},
   "outputs": [],
   "source": [
    "gt = np.dstack([dict_hit_info[snp][\"gt\"] for snp in dict_hit_info])\n",
    "sample = [dict_hit_info[snp][\"sample\"] for snp in dict_hit_info]\n",
    "assert all(x == sample[0] for x in sample)\n",
    "sample = sample[0]\n",
    "\n",
    "R2 = [dict_hit_info[snp][\"info\"][\"R2\"] for snp in dict_hit_info]\n",
    "AF = [dict_hit_info[snp][\"info\"][\"AF\"] for snp in dict_hit_info]\n",
    "\n",
    "dset_gwas_hit = xr.Dataset(\n",
    "    data_vars={\n",
    "        \"geno\": (\n",
    "            (\"indiv\", \"snp\", \"ploidy\"),\n",
    "            da.from_array(np.swapaxes(gt, 1, 2), chunks=-1),\n",
    "        ),\n",
    "    },\n",
    "    coords={\n",
    "        \"snp\": np.array(list(dict_hit_info.keys())).astype(str),\n",
    "        \"indiv\": np.array(sample).astype(str),\n",
    "        \"R2@snp\": (\"snp\", np.array(R2, dtype=float)),\n",
    "        \"AF@snp\": (\"snp\", np.array(AF, dtype=float)),\n",
    "    },\n",
    "    attrs={\"n_anc\": 2},\n",
    ")\n",
    "\n",
    "info = [s.split(\"_\") for s in dset_gwas_hit.snp.values]\n",
    "dset_gwas_hit = dset_gwas_hit.assign_coords(\n",
    "    {\n",
    "        \"CHROM@snp\": (\"snp\", [int(i[0]) for i in info]),\n",
    "        \"POS@snp\": (\"snp\", [int(i[1]) for i in info]),\n",
    "        \"REF@snp\": (\"snp\", [str(i[2]) for i in info]),\n",
    "        \"ALT@snp\": (\"snp\", [str(i[3]) for i in info]),\n",
    "    }\n",
    ")\n",
    "\n",
    "# align `dset_gwas_hit to `dset`\n",
    "dset_gwas_hit = dset_gwas_hit.sel(indiv=dset.indiv.values)\n",
    "\n",
    "# fill in lanc\n",
    "df_dset = dset.snp.to_dataframe().reset_index(drop=True)\n",
    "snp_index = []\n",
    "for _, snp in tqdm(dset_gwas_hit.snp.to_dataframe().iterrows()):\n",
    "    chrom, pos = snp[\"CHROM@snp\"], snp[\"POS@snp\"]\n",
    "    df_tmp = df_dset[df_dset[\"CHROM@snp\"] == chrom]\n",
    "    snp_index.append((df_tmp[\"POS@snp\"] - pos).abs().idxmin())\n",
    "lanc = dset.isel(snp=snp_index).lanc.values\n",
    "dset_gwas_hit = dset_gwas_hit.assign(\n",
    "    lanc=((\"indiv\", \"snp\", \"ploidy\"), da.from_array(lanc, chunks=-1))\n",
    ")\n",
    "\n",
    "# fill in individual information\n",
    "for col in dset:\n",
    "    if col.endswith(\"@indiv\"):\n",
    "        dset_gwas_hit[col] = (\"indiv\", dset[col].values)\n",
    "admix.tools.allele_per_anc(dset_gwas_hit)"
   ]
  }
 ],
 "metadata": {
  "kernelspec": {
   "display_name": "Python 3",
   "language": "python",
   "name": "python3"
  },
  "language_info": {
   "codemirror_mode": {
    "name": "ipython",
    "version": 3
   },
   "file_extension": ".py",
   "mimetype": "text/x-python",
   "name": "python",
   "nbconvert_exporter": "python",
   "pygments_lexer": "ipython3",
   "version": "3.8.5"
  }
 },
 "nbformat": 4,
 "nbformat_minor": 5
}
