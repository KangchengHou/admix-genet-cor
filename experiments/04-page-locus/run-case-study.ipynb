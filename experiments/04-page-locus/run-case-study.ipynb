{
 "cells": [
  {
   "cell_type": "markdown",
   "id": "40201ed0-7fd7-4ba5-8d8d-4ab5f4288862",
   "metadata": {},
   "source": [
    "# Case study on significant heterogeneity trait"
   ]
  },
  {
   "cell_type": "code",
   "execution_count": 1,
   "id": "bf1da1a6-5074-4c14-8407-d890ce371927",
   "metadata": {},
   "outputs": [],
   "source": [
    "%load_ext lab_black\n",
    "import pandas as pd\n",
    "import matplotlib.pyplot as plt\n",
    "import numpy as np\n",
    "from scipy import stats\n",
    "import seaborn as sns\n",
    "import admix\n",
    "import dapgen\n",
    "from os.path import join\n",
    "import admix_genet_cor"
   ]
  },
  {
   "cell_type": "code",
   "execution_count": 2,
   "id": "a42fe318-a1c1-4891-9806-acb8c5ef273c",
   "metadata": {},
   "outputs": [],
   "source": [
    "df_assoc = []\n",
    "for trait in [\"total_wbc_cnt\"]:\n",
    "    df_assoc.append(pd.read_csv(f\"out/locus_hetero/{trait}.csv\", index_col=0))\n",
    "df_assoc = pd.concat(df_assoc).dropna()\n",
    "df_assoc = df_assoc[df_assoc.HET_pval < 1e-5]\n",
    "df_assoc = df_assoc[(df_assoc.EUR_af > 0.005) & (df_assoc.AFR_af > 0.005)].reset_index(\n",
    "    drop=True\n",
    ")"
   ]
  },
  {
   "cell_type": "code",
   "execution_count": 3,
   "id": "bc7631ff-0278-4cc7-9f4d-01338cb7dfb6",
   "metadata": {},
   "outputs": [
    {
     "data": {
      "text/html": [
       "<div>\n",
       "<style scoped>\n",
       "    .dataframe tbody tr th:only-of-type {\n",
       "        vertical-align: middle;\n",
       "    }\n",
       "\n",
       "    .dataframe tbody tr th {\n",
       "        vertical-align: top;\n",
       "    }\n",
       "\n",
       "    .dataframe thead th {\n",
       "        text-align: right;\n",
       "    }\n",
       "</style>\n",
       "<table border=\"1\" class=\"dataframe\">\n",
       "  <thead>\n",
       "    <tr style=\"text-align: right;\">\n",
       "      <th></th>\n",
       "      <th></th>\n",
       "      <th>CHR_ID</th>\n",
       "      <th>CHR_POS</th>\n",
       "      <th>P-VALUE</th>\n",
       "      <th>EUR_af</th>\n",
       "      <th>AFR_af</th>\n",
       "      <th>assoc_pval</th>\n",
       "      <th>HET_pval</th>\n",
       "      <th>EUR_beta</th>\n",
       "      <th>AFR_beta</th>\n",
       "      <th>EUR_beta_stderr</th>\n",
       "      <th>AFR_beta_stderr</th>\n",
       "    </tr>\n",
       "    <tr>\n",
       "      <th>trait_id</th>\n",
       "      <th>REGION</th>\n",
       "      <th></th>\n",
       "      <th></th>\n",
       "      <th></th>\n",
       "      <th></th>\n",
       "      <th></th>\n",
       "      <th></th>\n",
       "      <th></th>\n",
       "      <th></th>\n",
       "      <th></th>\n",
       "      <th></th>\n",
       "      <th></th>\n",
       "    </tr>\n",
       "  </thead>\n",
       "  <tbody>\n",
       "    <tr>\n",
       "      <th rowspan=\"7\" valign=\"top\">total_wbc_cnt</th>\n",
       "      <th>1p13.1</th>\n",
       "      <td>1</td>\n",
       "      <td>115630459</td>\n",
       "      <td>3.000000e-12</td>\n",
       "      <td>0.031613</td>\n",
       "      <td>0.665952</td>\n",
       "      <td>1.818608e-32</td>\n",
       "      <td>2.034134e-17</td>\n",
       "      <td>-0.004484</td>\n",
       "      <td>0.272866</td>\n",
       "      <td>0.027315</td>\n",
       "      <td>0.021249</td>\n",
       "    </tr>\n",
       "    <tr>\n",
       "      <th>1p13.2</th>\n",
       "      <td>1</td>\n",
       "      <td>111820023</td>\n",
       "      <td>2.000000e-07</td>\n",
       "      <td>0.056683</td>\n",
       "      <td>0.612460</td>\n",
       "      <td>1.917093e-11</td>\n",
       "      <td>4.040046e-09</td>\n",
       "      <td>-0.038866</td>\n",
       "      <td>0.198910</td>\n",
       "      <td>0.035301</td>\n",
       "      <td>0.022715</td>\n",
       "    </tr>\n",
       "    <tr>\n",
       "      <th>1q21.2</th>\n",
       "      <td>1</td>\n",
       "      <td>147588715</td>\n",
       "      <td>2.000000e-27</td>\n",
       "      <td>0.889040</td>\n",
       "      <td>0.133103</td>\n",
       "      <td>1.759031e-45</td>\n",
       "      <td>8.840271e-14</td>\n",
       "      <td>-0.261816</td>\n",
       "      <td>0.070880</td>\n",
       "      <td>0.017162</td>\n",
       "      <td>0.045210</td>\n",
       "    </tr>\n",
       "    <tr>\n",
       "      <th>1q21.3</th>\n",
       "      <td>1</td>\n",
       "      <td>150602219</td>\n",
       "      <td>2.000000e-18</td>\n",
       "      <td>0.074574</td>\n",
       "      <td>0.406109</td>\n",
       "      <td>9.215751e-30</td>\n",
       "      <td>1.751948e-40</td>\n",
       "      <td>-0.071917</td>\n",
       "      <td>0.305017</td>\n",
       "      <td>0.026673</td>\n",
       "      <td>0.022386</td>\n",
       "    </tr>\n",
       "    <tr>\n",
       "      <th>1q23.1</th>\n",
       "      <td>1</td>\n",
       "      <td>159092646</td>\n",
       "      <td>1.000000e-130</td>\n",
       "      <td>0.011479</td>\n",
       "      <td>0.794816</td>\n",
       "      <td>2.140118e-176</td>\n",
       "      <td>1.033909e-15</td>\n",
       "      <td>-0.006795</td>\n",
       "      <td>0.600564</td>\n",
       "      <td>0.073814</td>\n",
       "      <td>0.019934</td>\n",
       "    </tr>\n",
       "    <tr>\n",
       "      <th>1q23.2</th>\n",
       "      <td>1</td>\n",
       "      <td>159205095</td>\n",
       "      <td>1.000000e-28</td>\n",
       "      <td>0.110969</td>\n",
       "      <td>0.237900</td>\n",
       "      <td>4.917879e-84</td>\n",
       "      <td>3.508727e-201</td>\n",
       "      <td>-0.678589</td>\n",
       "      <td>0.022608</td>\n",
       "      <td>0.025666</td>\n",
       "      <td>0.030721</td>\n",
       "    </tr>\n",
       "    <tr>\n",
       "      <th>1q23.3</th>\n",
       "      <td>1</td>\n",
       "      <td>161043331</td>\n",
       "      <td>2.000000e-61</td>\n",
       "      <td>0.020884</td>\n",
       "      <td>0.151523</td>\n",
       "      <td>2.916198e-68</td>\n",
       "      <td>3.104250e-73</td>\n",
       "      <td>-0.379751</td>\n",
       "      <td>0.108740</td>\n",
       "      <td>0.016857</td>\n",
       "      <td>0.020578</td>\n",
       "    </tr>\n",
       "  </tbody>\n",
       "</table>\n",
       "</div>"
      ],
      "text/plain": [
       "                      CHR_ID    CHR_POS        P-VALUE    EUR_af    AFR_af  \\\n",
       "trait_id      REGION                                                         \n",
       "total_wbc_cnt 1p13.1       1  115630459   3.000000e-12  0.031613  0.665952   \n",
       "              1p13.2       1  111820023   2.000000e-07  0.056683  0.612460   \n",
       "              1q21.2       1  147588715   2.000000e-27  0.889040  0.133103   \n",
       "              1q21.3       1  150602219   2.000000e-18  0.074574  0.406109   \n",
       "              1q23.1       1  159092646  1.000000e-130  0.011479  0.794816   \n",
       "              1q23.2       1  159205095   1.000000e-28  0.110969  0.237900   \n",
       "              1q23.3       1  161043331   2.000000e-61  0.020884  0.151523   \n",
       "\n",
       "                         assoc_pval       HET_pval  EUR_beta  AFR_beta  \\\n",
       "trait_id      REGION                                                     \n",
       "total_wbc_cnt 1p13.1   1.818608e-32   2.034134e-17 -0.004484  0.272866   \n",
       "              1p13.2   1.917093e-11   4.040046e-09 -0.038866  0.198910   \n",
       "              1q21.2   1.759031e-45   8.840271e-14 -0.261816  0.070880   \n",
       "              1q21.3   9.215751e-30   1.751948e-40 -0.071917  0.305017   \n",
       "              1q23.1  2.140118e-176   1.033909e-15 -0.006795  0.600564   \n",
       "              1q23.2   4.917879e-84  3.508727e-201 -0.678589  0.022608   \n",
       "              1q23.3   2.916198e-68   3.104250e-73 -0.379751  0.108740   \n",
       "\n",
       "                      EUR_beta_stderr  AFR_beta_stderr  \n",
       "trait_id      REGION                                    \n",
       "total_wbc_cnt 1p13.1         0.027315         0.021249  \n",
       "              1p13.2         0.035301         0.022715  \n",
       "              1q21.2         0.017162         0.045210  \n",
       "              1q21.3         0.026673         0.022386  \n",
       "              1q23.1         0.073814         0.019934  \n",
       "              1q23.2         0.025666         0.030721  \n",
       "              1q23.3         0.016857         0.020578  "
      ]
     },
     "execution_count": 3,
     "metadata": {},
     "output_type": "execute_result"
    }
   ],
   "source": [
    "df_assoc.groupby([\"trait_id\", \"REGION\"]).min([\"assoc_pval\", \"HET_pval\"])"
   ]
  },
  {
   "cell_type": "code",
   "execution_count": null,
   "id": "dcddad5d-4fd7-44c4-9fdd-883cce4e3b14",
   "metadata": {},
   "outputs": [],
   "source": [
    "159204893"
   ]
  },
  {
   "cell_type": "code",
   "execution_count": 4,
   "id": "893f3438-4a5f-42ff-8c4e-d1668f6bfd9a",
   "metadata": {},
   "outputs": [],
   "source": [
    "PFILE_DIR = \"/u/project/pasaniuc/pasaniucdata/admixture/projects/PAGE-QC/01_dataset/out/aframr/imputed\"\n",
    "SAMPLE_INFO_PATH = \"/u/project/pasaniuc/pasaniucdata/admixture/projects/PAGE-QC/01_dataset/out/aframr/sample_info.txt\""
   ]
  },
  {
   "cell_type": "code",
   "execution_count": 5,
   "id": "ade5ab25-046a-46cd-8aca-f79a7b9c9034",
   "metadata": {},
   "outputs": [],
   "source": [
    "trait = \"total_wbc_cnt\"\n",
    "\n",
    "dset = admix.dataset.read_dataset(\n",
    "    join(PFILE_DIR, \"chr1\"),\n",
    "    indiv_info=SAMPLE_INFO_PATH,\n",
    "    n_anc=2,\n",
    ")\n",
    "\n",
    "dset = dset[:, ~np.isnan(dset.indiv[trait]).values]\n",
    "dset = dset[:, (dset.indiv.study == \"WHI\").values]\n",
    "covar_cols = [\"age\", \"sex\", \"study\"] + [f\"geno_EV{i}\" for i in range(1, 11)]\n",
    "\n",
    "df_pheno = dset.indiv[[trait]].copy()\n",
    "df_covar = dset.indiv[covar_cols].copy()\n",
    "# create study dummies variables\n",
    "study_dummies = pd.get_dummies(df_covar[\"study\"], drop_first=True)\n",
    "study_dummies.columns = [f\"study_dummy_{s}\" for s in study_dummies.columns]\n",
    "df_covar = pd.concat([df_covar, study_dummies], axis=1)\n",
    "df_covar = df_covar.drop(columns=[\"study\"])\n",
    "\n",
    "for col in df_pheno.columns:\n",
    "    df_pheno[col] = admix.data.quantile_normalize(df_pheno[col])\n",
    "\n",
    "for col in df_covar.columns:\n",
    "    df_covar[col] = admix.data.quantile_normalize(df_covar[col])"
   ]
  },
  {
   "cell_type": "code",
   "execution_count": 25,
   "id": "710ff0d4-dd69-4b8e-b9b4-03e98c078879",
   "metadata": {},
   "outputs": [
    {
     "data": {
      "text/plain": [
       "785041"
      ]
     },
     "execution_count": 25,
     "metadata": {},
     "output_type": "execute_result"
    }
   ],
   "source": [
    "np.argmin(np.abs(dset.snp.POS - 159204893))"
   ]
  },
  {
   "cell_type": "code",
   "execution_count": 33,
   "id": "4de08758-fe13-4244-a0b7-89518688c340",
   "metadata": {},
   "outputs": [
    {
     "data": {
      "text/plain": [
       "snp\n",
       "chr1:782520:T:C       1\n",
       "chr1:786325:A:G       1\n",
       "chr1:805145:G:A       1\n",
       "chr1:809277:C:T       1\n",
       "chr1:844364:T:G       1\n",
       "                     ..\n",
       "chr1:247770229:A:C    1\n",
       "chr1:247770270:C:A    1\n",
       "chr1:247770277:T:C    1\n",
       "chr1:247770421:A:G    1\n",
       "chr1:247770525:G:T    1\n",
       "Name: CHROM, Length: 1340372, dtype: int64"
      ]
     },
     "execution_count": 33,
     "metadata": {},
     "output_type": "execute_result"
    }
   ],
   "source": [
    "dset.snp.CHROM"
   ]
  },
  {
   "cell_type": "code",
   "execution_count": 34,
   "id": "039a70ef-7d14-4f45-8916-e1bd11421c3d",
   "metadata": {},
   "outputs": [
    {
     "data": {
      "text/plain": [
       "array([0, 1, 0, ..., 1, 1, 1])"
      ]
     },
     "execution_count": 34,
     "metadata": {},
     "output_type": "execute_result"
    }
   ],
   "source": [
    "dset[785041].lanc.sum(axis=[0, 2]).compute()"
   ]
  },
  {
   "cell_type": "code",
   "execution_count": 31,
   "id": "ec37aeaa-4d6b-43f1-812e-490a9cd5a64c",
   "metadata": {},
   "outputs": [
    {
     "data": {
      "text/plain": [
       "1.0"
      ]
     },
     "execution_count": 31,
     "metadata": {},
     "output_type": "execute_result"
    }
   ],
   "source": [
    "np.mean(dset[785041].lanc.sum(axis=[0, 2]).compute() == lanc[9])"
   ]
  },
  {
   "cell_type": "code",
   "execution_count": 6,
   "id": "52487338-cb96-4f2c-bb19-57d9dd61ca53",
   "metadata": {},
   "outputs": [],
   "source": [
    "dset_subset = dset[(dset.snp.POS.isin(df_assoc.CHR_POS)).values]\n",
    "dset_subset.persist()"
   ]
  },
  {
   "cell_type": "code",
   "execution_count": 7,
   "id": "50a49069-ccb7-432f-a09c-40ee8749b65f",
   "metadata": {},
   "outputs": [],
   "source": [
    "apa = dset_subset.allele_per_anc().compute()\n",
    "af = dset_subset.af_per_anc()\n",
    "lanc = dset_subset.lanc.sum(axis=2).compute()"
   ]
  },
  {
   "cell_type": "code",
   "execution_count": 22,
   "id": "776f8211-a985-4c9d-aed5-944ff83e3396",
   "metadata": {},
   "outputs": [
    {
     "data": {
      "text/plain": [
       "159204893"
      ]
     },
     "execution_count": 22,
     "metadata": {},
     "output_type": "execute_result"
    }
   ],
   "source": [
    "159204893"
   ]
  },
  {
   "cell_type": "code",
   "execution_count": 23,
   "id": "6dc984d3-226a-4f4d-9ed2-69c37b072ed8",
   "metadata": {},
   "outputs": [
    {
     "data": {
      "text/plain": [
       "9"
      ]
     },
     "execution_count": 23,
     "metadata": {},
     "output_type": "execute_result"
    }
   ],
   "source": [
    "dset_subset.snp.index.get_loc(\"chr1:159205095:T:C\")"
   ]
  },
  {
   "cell_type": "code",
   "execution_count": 24,
   "id": "71f29fd3-01d4-457d-bc66-e27176de909c",
   "metadata": {},
   "outputs": [
    {
     "data": {
      "text/plain": [
       "0.9879482219907751"
      ]
     },
     "execution_count": 24,
     "metadata": {},
     "output_type": "execute_result"
    }
   ],
   "source": [
    "np.mean(lanc[9] == lanc[8])"
   ]
  },
  {
   "cell_type": "code",
   "execution_count": 15,
   "id": "1f8c09b8-f4f4-45b1-8051-b78b7b8b89b0",
   "metadata": {},
   "outputs": [
    {
     "data": {
      "text/plain": [
       "array([[0, 1, 0, ..., 1, 1, 1],\n",
       "       [0, 1, 0, ..., 1, 1, 1],\n",
       "       [0, 1, 0, ..., 1, 1, 1]])"
      ]
     },
     "execution_count": 15,
     "metadata": {},
     "output_type": "execute_result"
    }
   ],
   "source": [
    "lanc[7:10, :]"
   ]
  },
  {
   "cell_type": "code",
   "execution_count": 13,
   "id": "ba3dd72e-279a-4cd2-b523-6dc776040142",
   "metadata": {},
   "outputs": [
    {
     "data": {
      "text/plain": [
       "(17, 6721)"
      ]
     },
     "execution_count": 13,
     "metadata": {},
     "output_type": "execute_result"
    }
   ],
   "source": [
    "lanc.shape"
   ]
  },
  {
   "cell_type": "code",
   "execution_count": null,
   "id": "12b0b969-9311-459d-8eed-a3618551f8d5",
   "metadata": {},
   "outputs": [],
   "source": [
    "159092646"
   ]
  },
  {
   "cell_type": "code",
   "execution_count": 12,
   "id": "c9ab913b-e734-478c-9092-b4878e512dec",
   "metadata": {},
   "outputs": [
    {
     "data": {
      "text/plain": [
       "8"
      ]
     },
     "execution_count": 12,
     "metadata": {},
     "output_type": "execute_result"
    }
   ],
   "source": [
    "dset_subset.snp.index.get_loc(\"chr1:159092646:G:A\")"
   ]
  },
  {
   "cell_type": "code",
   "execution_count": null,
   "id": "4260b67a-26bf-4588-bf54-411985fe9971",
   "metadata": {},
   "outputs": [],
   "source": [
    "import statsmodels.api as sm"
   ]
  },
  {
   "cell_type": "code",
   "execution_count": 53,
   "id": "eacf6801-21de-4aa8-882c-d8e6ef9c14da",
   "metadata": {},
   "outputs": [
    {
     "name": "stdout",
     "output_type": "stream",
     "text": [
      "=========snp_i: 0==========\n",
      "p_het1: 1.23e-08, p_het2: 0.876\n",
      "p_assoc1: 5.78e-10, p_assoc2: 0.325\n",
      "=========snp_i: 1==========\n",
      "p_het1: 2.9e-13, p_het2: 0.26\n",
      "p_assoc1: 2.64e-18, p_assoc2: 0.893\n",
      "=========snp_i: 2==========\n",
      "p_het1: 4.22e-06, p_het2: 0.856\n",
      "p_assoc1: 3.69e-28, p_assoc2: 0.239\n",
      "=========snp_i: 3==========\n",
      "p_het1: 6.24e-15, p_het2: 0.53\n",
      "p_assoc1: 1.43e-42, p_assoc2: 0.196\n",
      "=========snp_i: 4==========\n",
      "p_het1: 7.91e-17, p_het2: 0.174\n",
      "p_assoc1: 5.51e-18, p_assoc2: 0.412\n",
      "=========snp_i: 5==========\n",
      "p_het1: 1.78e-18, p_het2: 0.547\n",
      "p_assoc1: 3.73e-15, p_assoc2: 0.89\n",
      "=========snp_i: 6==========\n",
      "p_het1: 4.64e-20, p_het2: 0.882\n",
      "p_assoc1: 3.04e-12, p_assoc2: 0.174\n",
      "=========snp_i: 7==========\n",
      "p_het1: 4.27e-30, p_het2: 0.832\n",
      "p_assoc1: 6.08e-26, p_assoc2: 0.395\n",
      "=========snp_i: 8==========\n",
      "p_het1: 3.72e-13, p_het2: 0.886\n",
      "p_assoc1: 5.32e-148, p_assoc2: 0.821\n",
      "=========snp_i: 9==========\n",
      "p_het1: 1.14e-37, p_het2: 0.769\n",
      "p_assoc1: 1.33e-08, p_assoc2: 0.0679\n",
      "=========snp_i: 10==========\n",
      "p_het1: 5.03e-171, p_het2: 0.0297\n",
      "p_assoc1: 1.44e-69, p_assoc2: 0.81\n",
      "=========snp_i: 11==========\n",
      "p_het1: 4.78e-63, p_het2: 0.408\n",
      "p_assoc1: 1.4e-27, p_assoc2: 0.178\n",
      "=========snp_i: 12==========\n",
      "p_het1: 1.16e-09, p_het2: 0.555\n",
      "p_assoc1: 2.62e-13, p_assoc2: 0.151\n",
      "=========snp_i: 13==========\n",
      "p_het1: 1.68e-43, p_het2: 0.136\n",
      "p_assoc1: 4.92e-62, p_assoc2: 0.71\n",
      "=========snp_i: 14==========\n",
      "p_het1: 7.31e-30, p_het2: 0.741\n",
      "p_assoc1: 9.98e-54, p_assoc2: 0.373\n",
      "=========snp_i: 15==========\n",
      "p_het1: 7.66e-39, p_het2: 0.227\n",
      "p_assoc1: 1.04e-27, p_assoc2: 0.737\n",
      "=========snp_i: 16==========\n",
      "p_het1: 7.71e-27, p_het2: 0.521\n",
      "p_assoc1: 4.03e-29, p_assoc2: 0.636\n"
     ]
    }
   ],
   "source": [
    "for snp_i in range(dset_subset.n_snp):\n",
    "\n",
    "    # without conditioning on local ancestry\n",
    "    p_het1, model_het = admix_genet_cor.test_snp_het(\n",
    "        apa[snp_i, :, :], df_pheno.values, df_covar.values\n",
    "    )\n",
    "\n",
    "    p_assoc1, model_assoc = admix_genet_cor.test_snp_assoc(\n",
    "        apa[snp_i, :, :], df_pheno.values, df_covar.values\n",
    "    )\n",
    "\n",
    "    # conditioning on local ancestry\n",
    "\n",
    "    p_het2, model_het = admix_genet_cor.test_snp_het(\n",
    "        apa[snp_i, :, :],\n",
    "        df_pheno.values,\n",
    "        np.concatenate([df_covar.values, lanc[[snp_i], :].T], axis=1),\n",
    "    )\n",
    "\n",
    "    p_assoc2, model_assoc = admix_genet_cor.test_snp_assoc(\n",
    "        apa[snp_i, :, :],\n",
    "        df_pheno.values,\n",
    "        np.concatenate([df_covar.values, lanc[[snp_i], :].T], axis=1),\n",
    "    )\n",
    "    print(f\"=========snp_i: {snp_i}==========\")\n",
    "    print(f\"p_het1: {p_het1:.3g}, p_het2: {p_het2:.3g}\")\n",
    "    print(f\"p_assoc1: {p_assoc1:.3g}, p_assoc2: {p_assoc2:.3g}\")"
   ]
  },
  {
   "cell_type": "code",
   "execution_count": 61,
   "id": "988dee4e-a299-47d2-9387-e96652bacefc",
   "metadata": {},
   "outputs": [],
   "source": [
    "snp_i = 10"
   ]
  },
  {
   "cell_type": "code",
   "execution_count": 63,
   "id": "7128d071-4ff5-4d36-a3e8-ff97b8572bfd",
   "metadata": {},
   "outputs": [],
   "source": [
    "df_plot = df_pheno.copy()\n",
    "df_plot[\"lanc\"] = dset_subset[snp_i].lanc.sum(axis=2).compute().flatten()\n",
    "df_plot[\"geno\"] = dset_subset[snp_i].geno.sum(axis=2).compute().flatten()\n",
    "df_plot[[\"AFR\", \"EUR\"]] = apa[snp_i, :, :]"
   ]
  },
  {
   "cell_type": "code",
   "execution_count": 64,
   "id": "e2139f44-3e7e-44ac-bc4b-6f1049bb1f7c",
   "metadata": {},
   "outputs": [
    {
     "data": {
      "text/html": [
       "<div>\n",
       "<style scoped>\n",
       "    .dataframe tbody tr th:only-of-type {\n",
       "        vertical-align: middle;\n",
       "    }\n",
       "\n",
       "    .dataframe tbody tr th {\n",
       "        vertical-align: top;\n",
       "    }\n",
       "\n",
       "    .dataframe thead th {\n",
       "        text-align: right;\n",
       "    }\n",
       "</style>\n",
       "<table border=\"1\" class=\"dataframe\">\n",
       "  <thead>\n",
       "    <tr style=\"text-align: right;\">\n",
       "      <th></th>\n",
       "      <th>total_wbc_cnt</th>\n",
       "      <th>lanc</th>\n",
       "      <th>geno</th>\n",
       "      <th>AFR</th>\n",
       "      <th>EUR</th>\n",
       "    </tr>\n",
       "  </thead>\n",
       "  <tbody>\n",
       "    <tr>\n",
       "      <th>total_wbc_cnt</th>\n",
       "      <td>1.000000</td>\n",
       "      <td>0.394212</td>\n",
       "      <td>-0.239253</td>\n",
       "      <td>-0.394865</td>\n",
       "      <td>0.297634</td>\n",
       "    </tr>\n",
       "    <tr>\n",
       "      <th>lanc</th>\n",
       "      <td>0.394212</td>\n",
       "      <td>1.000000</td>\n",
       "      <td>-0.611638</td>\n",
       "      <td>-0.998634</td>\n",
       "      <td>0.747199</td>\n",
       "    </tr>\n",
       "    <tr>\n",
       "      <th>geno</th>\n",
       "      <td>-0.239253</td>\n",
       "      <td>-0.611638</td>\n",
       "      <td>1.000000</td>\n",
       "      <td>0.614651</td>\n",
       "      <td>0.066191</td>\n",
       "    </tr>\n",
       "    <tr>\n",
       "      <th>AFR</th>\n",
       "      <td>-0.394865</td>\n",
       "      <td>-0.998634</td>\n",
       "      <td>0.614651</td>\n",
       "      <td>1.000000</td>\n",
       "      <td>-0.746385</td>\n",
       "    </tr>\n",
       "    <tr>\n",
       "      <th>EUR</th>\n",
       "      <td>0.297634</td>\n",
       "      <td>0.747199</td>\n",
       "      <td>0.066191</td>\n",
       "      <td>-0.746385</td>\n",
       "      <td>1.000000</td>\n",
       "    </tr>\n",
       "  </tbody>\n",
       "</table>\n",
       "</div>"
      ],
      "text/plain": [
       "               total_wbc_cnt      lanc      geno       AFR       EUR\n",
       "total_wbc_cnt       1.000000  0.394212 -0.239253 -0.394865  0.297634\n",
       "lanc                0.394212  1.000000 -0.611638 -0.998634  0.747199\n",
       "geno               -0.239253 -0.611638  1.000000  0.614651  0.066191\n",
       "AFR                -0.394865 -0.998634  0.614651  1.000000 -0.746385\n",
       "EUR                 0.297634  0.747199  0.066191 -0.746385  1.000000"
      ]
     },
     "execution_count": 64,
     "metadata": {},
     "output_type": "execute_result"
    }
   ],
   "source": [
    "df_plot.corr()"
   ]
  },
  {
   "cell_type": "code",
   "execution_count": 55,
   "id": "f778df69-e4c1-48f4-b2e3-41eee3feef8d",
   "metadata": {},
   "outputs": [],
   "source": [
    "from scipy.stats import pearsonr"
   ]
  },
  {
   "cell_type": "code",
   "execution_count": 80,
   "id": "a7709a2a-18f4-48b7-a03b-0245561ad90f",
   "metadata": {},
   "outputs": [
    {
     "name": "stdout",
     "output_type": "stream",
     "text": [
      "0.15540287252146487\n"
     ]
    }
   ],
   "source": [
    "print(pearsonr(df_plot.total_wbc_cnt, df_plot.lanc)[0] ** 2)"
   ]
  },
  {
   "cell_type": "code",
   "execution_count": 68,
   "id": "2b86fe55-8163-4a5d-bde6-51842149d320",
   "metadata": {},
   "outputs": [
    {
     "name": "stdout",
     "output_type": "stream",
     "text": [
      "(-0.015240938975652226, 0.7471279927616673)\n",
      "(0.01826293888394753, 0.23651485838837516)\n"
     ]
    }
   ],
   "source": [
    "print(pearsonr(df_plot.loc[eur_indiv, \"geno\"], df_plot.loc[eur_indiv, trait]))\n",
    "print(pearsonr(df_plot.loc[afr_indiv, \"geno\"], df_plot.loc[afr_indiv, trait]))"
   ]
  },
  {
   "cell_type": "code",
   "execution_count": 61,
   "id": "06255a0e-e2b7-4ec0-abc5-8be65000783b",
   "metadata": {},
   "outputs": [
    {
     "data": {
      "text/plain": [
       "admix.Dataset object with n_snp x n_indiv = 1 x 6721, n_anc=2\n",
       "\tsnp: 'CHROM', 'POS', 'REF', 'ALT', 'FILTER', 'INFO'\n",
       "\tindiv: 'SEX', 'study', 'age', 'sex', 'race_ethnicity', 'center', 'geno_EV1', 'geno_EV2', 'geno_EV3', 'geno_EV4', 'geno_EV5', 'geno_EV6', 'geno_EV7', 'geno_EV8', 'geno_EV9', 'geno_EV10', 'geno_EV11', 'geno_EV12', 'geno_EV13', 'geno_EV14', 'geno_EV15', 'geno_EV16', 'geno_EV17', 'geno_EV18', 'geno_EV19', 'geno_EV20', 'geno_EV21', 'geno_EV22', 'geno_EV23', 'geno_EV24', 'geno_EV25', 'geno_EV26', 'geno_EV27', 'geno_EV28', 'geno_EV29', 'geno_EV30', 'geno_EV31', 'geno_EV32', 'geno_EV33', 'geno_EV34', 'geno_EV35', 'geno_EV36', 'geno_EV37', 'geno_EV38', 'geno_EV39', 'geno_EV40', 'geno_EV41', 'geno_EV42', 'geno_EV43', 'geno_EV44', 'geno_EV45', 'geno_EV46', 'geno_EV47', 'geno_EV48', 'geno_EV49', 'geno_EV50', 'crp', 'total_wbc_cnt', 'mean_corp_hgb_conc', 'platelet_cnt', 'hdl', 'ldl', 'triglycerides', 'total_cholesterol', 'cigs_per_day_excl_nonsmk_updated', 'coffee_cup_day', 'a1c', 'insulin', 'glucose', 't2d_status', 'qt_interval', 'qrs_interval', 'pr_interval', 'systolic_bp', 'diastolic_bp', 'hypertension', 'waist_hip_ratio', 'height', 'bmi', 'egfrckdepi'"
      ]
     },
     "execution_count": 61,
     "metadata": {},
     "output_type": "execute_result"
    }
   ],
   "source": [
    "dset_snp"
   ]
  },
  {
   "cell_type": "code",
   "execution_count": 45,
   "id": "764dd112-f835-483a-a907-475499262648",
   "metadata": {},
   "outputs": [
    {
     "data": {
      "text/plain": [
       "<matplotlib.collections.PathCollection at 0x2b26a6846100>"
      ]
     },
     "execution_count": 45,
     "metadata": {},
     "output_type": "execute_result"
    },
    {
     "data": {
      "image/png": "[encoded data removed]",
      "text/plain": [
       "<Figure size 432x288 with 1 Axes>"
      ]
     },
     "metadata": {
      "needs_background": "light"
     },
     "output_type": "display_data"
    }
   ],
   "source": [
    "plt.scatter(dset.indiv[\"geno_EV1\"], dset.indiv.total_wbc_cnt)"
   ]
  }
 ],
 "metadata": {
  "kernelspec": {
   "display_name": "Python 3",
   "language": "python",
   "name": "python3"
  },
  "language_info": {
   "codemirror_mode": {
    "name": "ipython",
    "version": 3
   },
   "file_extension": ".py",
   "mimetype": "text/x-python",
   "name": "python",
   "nbconvert_exporter": "python",
   "pygments_lexer": "ipython3",
   "version": "3.8.5"
  }
 },
 "nbformat": 4,
 "nbformat_minor": 5
}
