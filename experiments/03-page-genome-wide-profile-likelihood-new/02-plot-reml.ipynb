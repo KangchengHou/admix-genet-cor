{
 "cells": [
  {
   "cell_type": "code",
   "execution_count": 1,
   "id": "d3b0f850-b5e5-4724-91d4-222d6036e514",
   "metadata": {},
   "outputs": [],
   "source": [
    "%load_ext lab_black\n",
    "\n",
    "from scipy.interpolate import CubicSpline\n",
    "from scipy import stats\n",
    "import numpy as np\n",
    "import admix\n",
    "import pandas as pd\n",
    "import itertools\n",
    "import os\n",
    "import glob\n",
    "from tqdm import tqdm\n",
    "import admix_genet_cor\n",
    "import matplotlib.pyplot as plt"
   ]
  },
  {
   "cell_type": "code",
   "execution_count": 128,
   "id": "d3d698d7-94e2-450d-86a7-b2d3871e5325",
   "metadata": {},
   "outputs": [],
   "source": [
    "SUPP_TABLE_URL = \"https://www.dropbox.com/s/jck2mhjby2ur55j/supp_tables.xlsx?dl=1\"\n",
    "ROOT_DIR = (\n",
    "    \"/u/project/pasaniuc/pasaniucdata/admixture/projects/PAGE-QC/01-dataset/out/aframr\"\n",
    ")\n",
    "PFILE_DIR = os.path.join(ROOT_DIR, \"imputed\")\n",
    "trait_list = [\n",
    "    f.split(\"/\")[-1].split(\".\")[0]\n",
    "    for f in glob.glob(os.path.join(\"out/pheno\", \"*.tsv\"))\n",
    "]\n",
    "\n",
    "trait_list = [t for t in trait_list if \"duffy\" in t]"
   ]
  },
  {
   "cell_type": "code",
   "execution_count": 107,
   "id": "3282602d-a373-4875-8bac-e24bdc8b12d6",
   "metadata": {},
   "outputs": [],
   "source": [
    "df_params = pd.DataFrame(\n",
    "    [\n",
    "        params\n",
    "        for params in itertools.product(\n",
    "            [\"hm3\", \"imputed\"],\n",
    "            [\"mafukb\", \"gcta\"],\n",
    "            [0.005, 0.05],\n",
    "        )\n",
    "    ],\n",
    "    columns=[\n",
    "        \"snpset\",\n",
    "        \"hermodel\",\n",
    "        \"maf\",\n",
    "    ],\n",
    ")\n",
    "\n",
    "df_params[\"grm_prefix\"] = df_params.apply(\n",
    "    lambda p: f\"{p.snpset}.{p.hermodel}.{str(p.maf)[2:]}\",\n",
    "    axis=1,\n",
    ")\n",
    "df_params = pd.DataFrame(\n",
    "    #     [params for params in itertools.product(df_params.grm_prefix, trait_list)],\n",
    "    [params for params in itertools.product([\"imputed.mafukb.005\"], trait_list)],\n",
    "    columns=[\"grm_prefix\", \"trait\"],\n",
    ")"
   ]
  },
  {
   "cell_type": "code",
   "execution_count": 108,
   "id": "5a8e0384-ca7a-4848-91b7-71125f192dc3",
   "metadata": {},
   "outputs": [
    {
     "name": "stderr",
     "output_type": "stream",
     "text": [
      " 88%|████████▊ | 21/24 [00:02<00:00,  9.85it/s]"
     ]
    },
    {
     "name": "stdout",
     "output_type": "stream",
     "text": [
      "hypertension can only convert an array of size 1 to a Python scalar\n"
     ]
    },
    {
     "name": "stderr",
     "output_type": "stream",
     "text": [
      "100%|██████████| 24/24 [00:02<00:00,  9.31it/s]\n"
     ]
    }
   ],
   "source": [
    "dict_loglik = {trait: dict() for trait in trait_list}\n",
    "rho_list = np.linspace(0, 1, 21)\n",
    "xs = np.linspace(0, 1, 1001)\n",
    "\n",
    "for i, param in tqdm(df_params.iterrows(), total=len(df_params)):\n",
    "    trait, grm_prefix = param.trait, param.grm_prefix\n",
    "    est_dir = f\"out-newPC/gcta-estimate/{trait}-{grm_prefix}\"\n",
    "    try:\n",
    "        loglik_list = [\n",
    "            admix.tools.gcta.read_reml(os.path.join(est_dir, f\"rho{int(rho * 100)}\"))[\n",
    "                \"loglik\"\n",
    "            ]\n",
    "            for rho in rho_list\n",
    "        ]\n",
    "        cs = CubicSpline(rho_list, loglik_list)\n",
    "        ll = cs(xs)\n",
    "        dict_loglik[trait][grm_prefix] = ll\n",
    "    except ValueError as err:\n",
    "        print(param.trait, err)"
   ]
  },
  {
   "cell_type": "code",
   "execution_count": 109,
   "id": "9b6b2131-4cce-44a1-a977-78c99d5640e8",
   "metadata": {},
   "outputs": [
    {
     "name": "stdout",
     "output_type": "stream",
     "text": [
      "imputed.mafukb.005 0.728 (0.652, 0.793)\n"
     ]
    }
   ],
   "source": [
    "for grm_prefix in df_params.grm_prefix.unique():\n",
    "    meta_ll = 0\n",
    "    for trait in trait_list:\n",
    "        if trait != \"hypertension\":\n",
    "            meta_ll += dict_loglik[trait][grm_prefix]\n",
    "    print(grm_prefix, meta_ll.argmax() / 1000, admix_genet_cor.hdi(xs, meta_ll))"
   ]
  },
  {
   "cell_type": "code",
   "execution_count": 112,
   "id": "cc23c079-a5b6-4df2-816a-d039e734beb6",
   "metadata": {},
   "outputs": [
    {
     "data": {
      "text/plain": [
       "'hypertension'"
      ]
     },
     "execution_count": 112,
     "metadata": {},
     "output_type": "execute_result"
    }
   ],
   "source": [
    "trait"
   ]
  },
  {
   "cell_type": "code",
   "execution_count": 121,
   "id": "88644a6f-d5c1-4abd-8dd5-3b371a292330",
   "metadata": {},
   "outputs": [
    {
     "name": "stderr",
     "output_type": "stream",
     "text": [
      "100%|██████████| 24/24 [00:00<00:00, 807.93it/s]\n"
     ]
    }
   ],
   "source": [
    "df_plot = {\"trait\": [], \"grm_prefix\": [], \"mode\": [], \"lower\": [], \"upper\": []}\n",
    "\n",
    "for i, param in tqdm(df_params.iterrows(), total=len(df_params)):\n",
    "\n",
    "    trait, grm_prefix = param.trait, param.grm_prefix\n",
    "\n",
    "    if trait == \"hypertension\":\n",
    "        continue\n",
    "    mode = dict_loglik[trait][grm_prefix].argmax() / 1000\n",
    "    interval = admix_genet_cor.hdi(xs, dict_loglik[trait][grm_prefix])\n",
    "    df_plot[\"trait\"].append(trait)\n",
    "    df_plot[\"grm_prefix\"].append(grm_prefix)\n",
    "    df_plot[\"mode\"].append(mode)\n",
    "    if isinstance(interval, list):\n",
    "        print(f\"{trait}, {grm_prefix} has more than 1 interval, making them nan\")\n",
    "        interval = [np.nan, np.nan]\n",
    "    df_plot[\"lower\"].append(interval[0])\n",
    "    df_plot[\"upper\"].append(interval[1])\n",
    "df_plot = pd.DataFrame(df_plot)\n",
    "df_plot[\"length\"] = df_plot[\"upper\"] - df_plot[\"lower\"]"
   ]
  },
  {
   "cell_type": "code",
   "execution_count": 122,
   "id": "1e05490e-bad9-4277-b538-f31567333b96",
   "metadata": {},
   "outputs": [],
   "source": [
    "df_plot_old = pd.read_csv(\"results/all-duffy-covar.tsv\", sep=\"\\t\")"
   ]
  },
  {
   "cell_type": "code",
   "execution_count": 123,
   "id": "1d59e36a-7e99-4d6e-849b-c256b00c43f8",
   "metadata": {},
   "outputs": [],
   "source": [
    "df_plot_old2 = pd.read_csv(\"../03-page-genome-wide/results/all-estimates.tsv\", sep=\"\\t\")"
   ]
  },
  {
   "cell_type": "code",
   "execution_count": 124,
   "id": "d9751eaa-1e64-4671-9798-f30aa817edef",
   "metadata": {},
   "outputs": [],
   "source": [
    "df_tmp = df_plot_old2[\n",
    "    (df_plot_old2.hermodel == \"mafukb\")\n",
    "    & (df_plot_old2.trait.isin([t[:-6] for t in trait_list]))\n",
    "    & (df_plot_old2.duffy_covar == True)\n",
    "].set_index(\"trait\")"
   ]
  },
  {
   "cell_type": "code",
   "execution_count": 125,
   "id": "5b453a01-ca0f-4630-ac54-3dca98b5cf10",
   "metadata": {},
   "outputs": [],
   "source": [
    "df_tmp2 = df_plot_old[df_plot_old.grm_prefix == \"imputed.mafukb.005\"].set_index(\"trait\")"
   ]
  },
  {
   "cell_type": "code",
   "execution_count": 126,
   "id": "41271ad0-4709-4f29-8e65-53d47d7b8459",
   "metadata": {},
   "outputs": [
    {
     "data": {
      "text/plain": [
       "[<matplotlib.lines.Line2D at 0x2b868b5f25b0>]"
      ]
     },
     "execution_count": 126,
     "metadata": {},
     "output_type": "execute_result"
    },
    {
     "data": {
      "image/png": "[encoded data removed]",
      "text/plain": [
       "<Figure size 450x450 with 1 Axes>"
      ]
     },
     "metadata": {
      "needs_background": "light"
     },
     "output_type": "display_data"
    }
   ],
   "source": [
    "fig, ax = plt.subplots(figsize=(3, 3), dpi=150)\n",
    "ax.scatter(df_tmp.rg, df_tmp2[\"mode\"].reindex(df_tmp.index))\n",
    "ax.plot([0.7, 1.2], [0.7, 1.2], \"k--\", alpha=0.8)"
   ]
  },
  {
   "cell_type": "code",
   "execution_count": 127,
   "id": "3af0ce84-35a3-41a4-a3f7-07341cacef27",
   "metadata": {},
   "outputs": [
    {
     "data": {
      "text/plain": [
       "Text(0, 0.5, 'Old')"
      ]
     },
     "execution_count": 127,
     "metadata": {},
     "output_type": "execute_result"
    },
    {
     "data": {
      "image/png": "[encoded data removed]",
      "text/plain": [
       "<Figure size 450x450 with 1 Axes>"
      ]
     },
     "metadata": {
      "needs_background": "light"
     },
     "output_type": "display_data"
    }
   ],
   "source": [
    "df_merged = pd.merge(df_plot, df_plot_old, on=[\"trait\", \"grm_prefix\"])\n",
    "df_merged = df_merged[df_merged.grm_prefix == \"imputed.mafukb.005\"]\n",
    "fig, ax = plt.subplots(figsize=(3, 3), dpi=150)\n",
    "ax.scatter(df_merged[\"mode_x\"], df_merged[\"mode_y\"])\n",
    "ax.plot([0.7, 1.0], [0.7, 1.0], ls=\"--\", color=\"k\")\n",
    "ax.set_xlim(0.3, 1.1)\n",
    "ax.set_ylim(0.3, 1.1)\n",
    "ax.set_xlabel(\"New\")\n",
    "ax.set_ylabel(\"Old\")"
   ]
  },
  {
   "cell_type": "markdown",
   "id": "8f5ee5f9-7164-49b0-9198-11632469983d",
   "metadata": {},
   "source": [
    "# Compare new PC and old PC"
   ]
  },
  {
   "cell_type": "code",
   "execution_count": 129,
   "id": "e8b6b12e-60ad-4d0e-86cc-d78cfc2c55dd",
   "metadata": {},
   "outputs": [],
   "source": [
    "trait_list = [\n",
    "    f.split(\"/\")[-1].split(\".\")[0]\n",
    "    for f in glob.glob(os.path.join(\"out/pheno\", \"*.tsv\"))\n",
    "]\n",
    "\n",
    "trait_list = [t for t in trait_list if not \"duffy\" in t]"
   ]
  },
  {
   "cell_type": "code",
   "execution_count": 136,
   "id": "0e3a9431-e82f-4bd5-ad27-4ba7fca3bf49",
   "metadata": {},
   "outputs": [
    {
     "name": "stderr",
     "output_type": "stream",
     "text": [
      " 88%|████████▊ | 21/24 [00:02<00:00,  9.67it/s]"
     ]
    },
    {
     "name": "stdout",
     "output_type": "stream",
     "text": [
      "hypertension can only convert an array of size 1 to a Python scalar\n"
     ]
    },
    {
     "name": "stderr",
     "output_type": "stream",
     "text": [
      "100%|██████████| 24/24 [00:02<00:00,  9.43it/s]\n"
     ]
    }
   ],
   "source": [
    "dict_loglik1 = {}\n",
    "rho_list = np.linspace(0, 1, 21)\n",
    "xs = np.linspace(0, 1, 1001)\n",
    "\n",
    "for i, param in tqdm(df_params.iterrows(), total=len(df_params)):\n",
    "    trait, grm_prefix = param.trait, param.grm_prefix\n",
    "    est_dir = f\"out-newPC/gcta-estimate/{trait}-{grm_prefix}\"\n",
    "    try:\n",
    "        loglik_list = [\n",
    "            admix.tools.gcta.read_reml(os.path.join(est_dir, f\"rho{int(rho * 100)}\"))[\n",
    "                \"loglik\"\n",
    "            ]\n",
    "            for rho in rho_list\n",
    "        ]\n",
    "        cs = CubicSpline(rho_list, loglik_list)\n",
    "        ll = cs(xs)\n",
    "        dict_loglik1[trait] = ll\n",
    "    except ValueError as err:\n",
    "        print(param.trait, err)"
   ]
  },
  {
   "cell_type": "code",
   "execution_count": 137,
   "id": "d894612b-7d81-4114-9724-295a0a70a966",
   "metadata": {},
   "outputs": [
    {
     "name": "stderr",
     "output_type": "stream",
     "text": [
      "100%|██████████| 24/24 [00:02<00:00,  9.24it/s]\n"
     ]
    }
   ],
   "source": [
    "dict_loglik2 = {}\n",
    "rho_list = np.linspace(0, 1, 21)\n",
    "xs = np.linspace(0, 1, 1001)\n",
    "\n",
    "for i, param in tqdm(df_params.iterrows(), total=len(df_params)):\n",
    "    trait, grm_prefix = param.trait, param.grm_prefix\n",
    "    est_dir = f\"out/gcta-estimate/{trait}-{grm_prefix}\"\n",
    "    try:\n",
    "        loglik_list = [\n",
    "            admix.tools.gcta.read_reml(os.path.join(est_dir, f\"rho{int(rho * 100)}\"))[\n",
    "                \"loglik\"\n",
    "            ]\n",
    "            for rho in rho_list\n",
    "        ]\n",
    "        cs = CubicSpline(rho_list, loglik_list)\n",
    "        ll = cs(xs)\n",
    "        dict_loglik2[trait] = ll\n",
    "    except ValueError as err:\n",
    "        print(param.trait, err)"
   ]
  },
  {
   "cell_type": "code",
   "execution_count": 148,
   "id": "95cb4653-e648-4ee5-af06-5cd42656b43f",
   "metadata": {},
   "outputs": [],
   "source": [
    "est = []\n",
    "for trait in trait_list:\n",
    "    if (trait in dict_loglik1) and (trait in dict_loglik2):\n",
    "        mode1 = dict_loglik1[trait].argmax() / 1000\n",
    "        mode2 = dict_loglik2[trait].argmax() / 1000\n",
    "        est.append([trait, mode1, mode2])\n",
    "df_est = pd.DataFrame(est)"
   ]
  },
  {
   "cell_type": "code",
   "execution_count": 147,
   "id": "91df5631-8bee-495a-b8b3-7cfe6178e6b4",
   "metadata": {},
   "outputs": [
    {
     "data": {
      "text/plain": [
       "[<matplotlib.lines.Line2D at 0x2b868b865880>]"
      ]
     },
     "execution_count": 147,
     "metadata": {},
     "output_type": "execute_result"
    },
    {
     "data": {
      "image/png": "[encoded data removed]",
      "text/plain": [
       "<Figure size 432x288 with 1 Axes>"
      ]
     },
     "metadata": {
      "needs_background": "light"
     },
     "output_type": "display_data"
    }
   ],
   "source": [
    "plt.scatter(df_est[1], df_est[2])\n",
    "plt.plot([0, 1], [0, 1])"
   ]
  },
  {
   "cell_type": "code",
   "execution_count": null,
   "id": "d33b4a60-a6ca-4de4-a7cb-6960fd266942",
   "metadata": {},
   "outputs": [],
   "source": []
  }
 ],
 "metadata": {
  "kernelspec": {
   "display_name": "Python 3",
   "language": "python",
   "name": "python3"
  },
  "language_info": {
   "codemirror_mode": {
    "name": "ipython",
    "version": 3
   },
   "file_extension": ".py",
   "mimetype": "text/x-python",
   "name": "python",
   "nbconvert_exporter": "python",
   "pygments_lexer": "ipython3",
   "version": "3.8.5"
  }
 },
 "nbformat": 4,
 "nbformat_minor": 5
}
