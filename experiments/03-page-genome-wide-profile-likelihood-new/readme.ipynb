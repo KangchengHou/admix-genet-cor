{
 "cells": [
  {
   "cell_type": "markdown",
   "id": "4feb78ca-5ab2-4ff6-b14f-a4effd471625",
   "metadata": {},
   "source": [
    "# PAGE hm3 analysis"
   ]
  },
  {
   "cell_type": "markdown",
   "id": "e2677c4b-1135-4b17-b06d-064d74a282ff",
   "metadata": {},
   "source": [
    "### Step 2: Calculate GRM\n",
    "Calculate GRM matrices\n",
    "```\n",
    "\n",
    "### Step 3: estimate parameters\n",
    "```bash\n",
    "for n_indiv in 5000 10000 20000; do\n",
    "    for anc_prop in 0.2 0.5; do\n",
    "        dset_prefix=n_indiv_${n_indiv}_anc_prop_${anc_prop}\n",
    "        for cor in 0.5 0.8 1.0; do\n",
    "            qsub estimate_HE.sh ${dset_prefix} ${cor}\n",
    "        done\n",
    "    done\n",
    "done\n",
    "```"
   ]
  },
  {
   "cell_type": "code",
   "execution_count": 1,
   "id": "b5e8f6f6-4997-46d7-9c1b-6de14502dcc7",
   "metadata": {},
   "outputs": [],
   "source": [
    "%load_ext autoreload\n",
    "%autoreload 2\n",
    "%load_ext lab_black"
   ]
  },
  {
   "cell_type": "code",
   "execution_count": 2,
   "id": "2b0764c8-b9bf-4d89-a0dd-0c933a2afebc",
   "metadata": {},
   "outputs": [],
   "source": [
    "import xarray as xr\n",
    "import numpy as np\n",
    "import admix\n",
    "import matplotlib.pyplot as plt\n",
    "import dask\n",
    "import dask.array as da\n",
    "from tqdm import tqdm\n",
    "import admix_genet_cor\n",
    "import pandas as pd"
   ]
  },
  {
   "cell_type": "code",
   "execution_count": 3,
   "id": "d7ec46a1-82d5-4fe8-b1e5-8e06f99d823c",
   "metadata": {},
   "outputs": [
    {
     "name": "stderr",
     "output_type": "stream",
     "text": [
      "100%|██████████| 22/22 [00:04<00:00,  4.84it/s]\n"
     ]
    }
   ],
   "source": [
    "dset = admix_genet_cor.load_page_hm3()"
   ]
  },
  {
   "cell_type": "code",
   "execution_count": 5,
   "id": "aec791f3-cedc-41f3-b8cd-02eace9bd762",
   "metadata": {},
   "outputs": [],
   "source": [
    "# a = np.load(\"out/OLD_admix_grm/K1.all.npy\")[0:100, :] + np.load(\"out/OLD_admix_grm/K2.all.npy\")[0:100, :]\n",
    "# b = np.load(\"out/admix-grm/hm3.uniform.all.A1.npy\")[0: 100, :]\n",
    "# c = np.load(\"out/admix-grm/imputed.mafukb.all.A1.npy\")[0:100, :]"
   ]
  },
  {
   "cell_type": "code",
   "execution_count": 6,
   "id": "c702b761-7cdc-404d-80c4-854dfec44c86",
   "metadata": {},
   "outputs": [],
   "source": [
    "# K1 = np.load(\"out/OLD_admix_grm/K1.all.npy\")\n",
    "# K2 = np.load(\"out/OLD_admix_grm/K2.all.npy\")\n",
    "# K12 = np.load(\"out/OLD_admix_grm/K12.all.npy\")\n",
    "# dset[\"A1\"] = ((\"indiv\", \"indiv\"), np.load(\"out/admix-grm/imputed.mafukb.all.A1.npy\"))\n",
    "# dset[\"A2\"] = ((\"indiv\", \"indiv\"), np.load(\"out/admix-grm/imputed.mafukb.all.A2.npy\"))\n",
    "# del K1, K2, K12\n",
    "\n",
    "dset[\"A1\"] = ((\"indiv\", \"indiv\"), np.load(\"out/admix-grm/hm3.mafukb.all.A1.npy\"))\n",
    "dset[\"A2\"] = ((\"indiv\", \"indiv\"), np.load(\"out/admix-grm/hm3.mafukb.all.A2.npy\"))"
   ]
  },
  {
   "cell_type": "code",
   "execution_count": 7,
   "id": "9c06d879-4b5c-42ee-b0d1-f9ff8e2adf90",
   "metadata": {},
   "outputs": [],
   "source": [
    "trait_list = [\n",
    "    # Inflammtory traits\n",
    "    \"crp\",\n",
    "    \"total_wbc_cnt\",\n",
    "    \"mean_corp_hgb_conc\",\n",
    "    \"platelet_cnt\",\n",
    "    # lipid traits\n",
    "    \"hdl\",\n",
    "    \"ldl\",\n",
    "    \"triglycerides\",\n",
    "    \"total_cholesterol\",\n",
    "    # lifestyle traits\n",
    "    \"cigs_per_day_excl_nonsmk_updated\",\n",
    "    \"coffee_cup_day\",\n",
    "    # glycemic traits\n",
    "    \"a1c\",\n",
    "    \"insulin\",\n",
    "    \"glucose\",\n",
    "    \"t2d_status\",\n",
    "    # electrocardiogram traits\n",
    "    \"qt_interval\",\n",
    "    \"qrs_interval\",\n",
    "    \"pr_interval\",\n",
    "    # blood pressure traits\n",
    "    \"systolic_bp\",\n",
    "    \"diastolic_bp\",\n",
    "    \"hypertension\",\n",
    "    # anthropometric traits\n",
    "    \"waist_hip_ratio\",\n",
    "    \"height\",\n",
    "    \"bmi\",\n",
    "    # kidney traits\n",
    "    \"egfrckdepi\",\n",
    "]"
   ]
  },
  {
   "cell_type": "code",
   "execution_count": null,
   "id": "974007ee-b106-4fd8-9889-fcde3e51d914",
   "metadata": {},
   "outputs": [
    {
     "name": "stderr",
     "output_type": "stream",
     "text": [
      "  0%|          | 0/24 [00:00<?, ?it/s]/u/project/pasaniuc/kangchen/software/miniconda3/lib/python3.8/site-packages/xarray/core/indexing.py:1226: PerformanceWarning: Slicing is producing a large chunk. To accept the large\n",
      "chunk and silence this warning, set the option\n",
      "    >>> with dask.config.set(**{'array.slicing.split_large_chunks': False}):\n",
      "    ...     array[indexer]\n",
      "\n",
      "To avoid creating the large chunks, set the option\n",
      "    >>> with dask.config.set(**{'array.slicing.split_large_chunks': True}):\n",
      "    ...     array[indexer]\n",
      "  return self.array[key]\n",
      "\n",
      "  0%|          | 0/1 [00:00<?, ?it/s]\u001b[A\n",
      "100%|██████████| 1/1 [00:58<00:00, 58.72s/it]\u001b[A\n",
      "  4%|▍         | 1/24 [02:50<1:05:11, 170.08s/it]"
     ]
    },
    {
     "name": "stdout",
     "output_type": "stream",
     "text": [
      "--------------\n",
      "crp (N=8521)\n",
      "[0.88029924 0.83271288 0.69111675]\n",
      "[[ 0.02788207  0.03028527 -0.00789622]\n",
      " [ 0.03028527  0.03522145 -0.0084219 ]\n",
      " [-0.00789622 -0.0084219   0.00246023]]\n"
     ]
    },
    {
     "name": "stderr",
     "output_type": "stream",
     "text": [
      "\n",
      "  0%|          | 0/1 [00:00<?, ?it/s]\u001b[A\n",
      "100%|██████████| 1/1 [01:06<00:00, 66.62s/it]\u001b[A\n",
      "  8%|▊         | 2/24 [06:01<1:06:55, 182.54s/it]"
     ]
    },
    {
     "name": "stdout",
     "output_type": "stream",
     "text": [
      "--------------\n",
      "total_wbc_cnt (N=8889)\n",
      "[1.74641433 0.68560884 0.30634003]\n",
      "[[ 0.13933774  0.13696613 -0.04127721]\n",
      " [ 0.13696613  0.19858521 -0.03718428]\n",
      " [-0.04127721 -0.03718428  0.01261213]]\n"
     ]
    },
    {
     "name": "stderr",
     "output_type": "stream",
     "text": [
      "\n",
      "  0%|          | 0/1 [00:00<?, ?it/s]\u001b[A\n",
      "100%|██████████| 1/1 [00:05<00:00,  5.97s/it]\u001b[A\n",
      " 12%|█▎        | 3/24 [06:18<37:31, 107.24s/it]  "
     ]
    },
    {
     "name": "stdout",
     "output_type": "stream",
     "text": [
      "--------------\n",
      "mean_corp_hgb_conc (N=3816)\n",
      "[0.77494268 0.77926016 0.68818139]\n",
      "[[ 0.09375044  0.10409616 -0.02691856]\n",
      " [ 0.10409616  0.11975832 -0.02956756]\n",
      " [-0.02691856 -0.02956756  0.00819808]]\n"
     ]
    },
    {
     "name": "stderr",
     "output_type": "stream",
     "text": [
      "\n",
      "  0%|          | 0/1 [00:00<?, ?it/s]\u001b[A\n",
      "100%|██████████| 1/1 [01:07<00:00, 67.14s/it]\u001b[A\n",
      " 17%|█▋        | 4/24 [09:33<47:13, 141.65s/it]"
     ]
    },
    {
     "name": "stdout",
     "output_type": "stream",
     "text": [
      "--------------\n",
      "platelet_cnt (N=8871)\n",
      "[0.49392196 0.43896752 0.79236156]\n",
      "[[ 0.02149385  0.0235601  -0.00616198]\n",
      " [ 0.0235601   0.02749632 -0.00664832]\n",
      " [-0.00616198 -0.00664832  0.00197389]]\n"
     ]
    },
    {
     "name": "stderr",
     "output_type": "stream",
     "text": [
      "\n",
      "  0%|          | 0/1 [00:00<?, ?it/s]\u001b[A\n",
      "100%|██████████| 1/1 [01:42<00:00, 102.18s/it]\u001b[A\n",
      " 21%|██        | 5/24 [14:29<1:02:26, 197.21s/it]"
     ]
    },
    {
     "name": "stdout",
     "output_type": "stream",
     "text": [
      "--------------\n",
      "hdl (N=10248)\n",
      "[0.51158664 0.45558797 0.74830912]\n",
      "[[ 0.01603851  0.01747448 -0.00458396]\n",
      " [ 0.01747448  0.02045756 -0.00490504]\n",
      " [-0.00458396 -0.00490504  0.00147529]]\n"
     ]
    },
    {
     "name": "stderr",
     "output_type": "stream",
     "text": [
      "\n",
      "  0%|          | 0/1 [00:00<?, ?it/s]\u001b[A\n",
      "100%|██████████| 1/1 [01:31<00:00, 91.27s/it]\u001b[A\n",
      " 25%|██▌       | 6/24 [18:53<1:05:58, 219.89s/it]"
     ]
    },
    {
     "name": "stdout",
     "output_type": "stream",
     "text": [
      "--------------\n",
      "ldl (N=9875)\n",
      "[0.37571103 0.35042785 0.75026797]\n",
      "[[ 0.01413599  0.01556989 -0.00405984]\n",
      " [ 0.01556989  0.01797671 -0.00441476]\n",
      " [-0.00405984 -0.00441476  0.00132129]]\n"
     ]
    },
    {
     "name": "stderr",
     "output_type": "stream",
     "text": [
      "\n",
      "  0%|          | 0/1 [00:00<?, ?it/s]\u001b[A\n",
      "100%|██████████| 1/1 [01:43<00:00, 103.49s/it]\u001b[A\n",
      " 29%|██▉       | 7/24 [23:48<1:09:19, 244.70s/it]"
     ]
    },
    {
     "name": "stdout",
     "output_type": "stream",
     "text": [
      "--------------\n",
      "triglycerides (N=10217)\n",
      "[0.58297196 0.5524159  0.77315998]\n",
      "[[ 0.01732809  0.01894667 -0.00492521]\n",
      " [ 0.01894667  0.02197755 -0.00530185]\n",
      " [-0.00492521 -0.00530185  0.00158128]]\n"
     ]
    },
    {
     "name": "stderr",
     "output_type": "stream",
     "text": [
      "\n",
      "  0%|          | 0/1 [00:00<?, ?it/s]\u001b[A\n",
      "100%|██████████| 1/1 [01:47<00:00, 107.30s/it]\u001b[A\n",
      " 33%|███▎      | 8/24 [28:55<1:10:32, 264.53s/it]"
     ]
    },
    {
     "name": "stdout",
     "output_type": "stream",
     "text": [
      "--------------\n",
      "total_cholesterol (N=10300)\n",
      "[0.33505173 0.25069395 0.75631938]\n",
      "[[ 0.01415283  0.01541836 -0.00409553]\n",
      " [ 0.01541836  0.01823924 -0.00437504]\n",
      " [-0.00409553 -0.00437504  0.00133486]]\n"
     ]
    },
    {
     "name": "stderr",
     "output_type": "stream",
     "text": [
      "\n",
      "  0%|          | 0/1 [00:00<?, ?it/s]\u001b[A\n",
      "100%|██████████| 1/1 [00:35<00:00, 35.22s/it]\u001b[A\n",
      " 38%|███▊      | 9/24 [30:39<53:33, 214.24s/it]  "
     ]
    },
    {
     "name": "stdout",
     "output_type": "stream",
     "text": [
      "--------------\n",
      "cigs_per_day_excl_nonsmk_updated (N=7171)\n",
      "[0.35779495 0.35253069 0.82336708]\n",
      "[[ 0.02878913  0.03198806 -0.00834649]\n",
      " [ 0.03198806  0.03651117 -0.00919309]\n",
      " [-0.00834649 -0.00919309  0.00266916]]\n"
     ]
    },
    {
     "name": "stderr",
     "output_type": "stream",
     "text": [
      "\n",
      "  0%|          | 0/1 [00:00<?, ?it/s]\u001b[A\n",
      "100%|██████████| 1/1 [02:38<00:00, 158.83s/it]\u001b[A\n",
      " 42%|████▏     | 10/24 [38:10<1:07:02, 287.35s/it]"
     ]
    },
    {
     "name": "stdout",
     "output_type": "stream",
     "text": [
      "--------------\n",
      "coffee_cup_day (N=11862)\n",
      "[0.27855091 0.28503287 0.61405621]\n",
      "[[ 0.00618125  0.00684091 -0.00176774]\n",
      " [ 0.00684091  0.00779935 -0.00193777]\n",
      " [-0.00176774 -0.00193777  0.00058896]]\n"
     ]
    },
    {
     "name": "stderr",
     "output_type": "stream",
     "text": [
      "\n",
      "  0%|          | 0/1 [00:00<?, ?it/s]\u001b[A\n",
      "100%|██████████| 1/1 [00:00<00:00,  1.23it/s]\u001b[A\n",
      " 46%|████▌     | 11/24 [38:13<43:22, 200.19s/it]  "
     ]
    },
    {
     "name": "stdout",
     "output_type": "stream",
     "text": [
      "--------------\n",
      "a1c (N=1854)\n",
      "[1.08367148 1.21599014 0.65604049]\n",
      "[[ 0.35669547  0.39905094 -0.10239748]\n",
      " [ 0.39905094  0.46057478 -0.11328944]\n",
      " [-0.10239748 -0.11328944  0.03052875]]\n"
     ]
    },
    {
     "name": "stderr",
     "output_type": "stream",
     "text": [
      "\n",
      "  0%|          | 0/1 [00:00<?, ?it/s]\u001b[A\n",
      "100%|██████████| 1/1 [00:48<00:00, 48.43s/it]\u001b[A\n",
      " 50%|█████     | 12/24 [40:31<36:16, 181.38s/it]"
     ]
    },
    {
     "name": "stdout",
     "output_type": "stream",
     "text": [
      "--------------\n",
      "insulin (N=7927)\n",
      "[0.59421066 0.61952427 0.79864545]\n",
      "[[ 0.02678899  0.02968644 -0.00764744]\n",
      " [ 0.02968644  0.03379579 -0.00839804]\n",
      " [-0.00764744 -0.00839804  0.00242914]]\n"
     ]
    },
    {
     "name": "stderr",
     "output_type": "stream",
     "text": [
      "\n",
      "  0%|          | 0/1 [00:00<?, ?it/s]\u001b[A\n",
      "100%|██████████| 1/1 [01:32<00:00, 92.73s/it]\u001b[A\n",
      " 54%|█████▍    | 13/24 [44:59<38:05, 207.78s/it]"
     ]
    },
    {
     "name": "stdout",
     "output_type": "stream",
     "text": [
      "--------------\n",
      "glucose (N=9937)\n",
      "[0.21655688 0.19201887 0.8281267 ]\n",
      "[[ 0.01390763  0.01541751 -0.00404126]\n",
      " [ 0.01541751  0.0177312  -0.00443304]\n",
      " [-0.00404126 -0.00443304  0.0013393 ]]\n"
     ]
    },
    {
     "name": "stderr",
     "output_type": "stream",
     "text": [
      "\n",
      "  0%|          | 0/1 [00:00<?, ?it/s]\u001b[A"
     ]
    }
   ],
   "source": [
    "dict_result = {\"trait\": [], \n",
    "             \"n_indiv\": [], \n",
    "             \"est\": [],\n",
    "             \"est_var\": []}\n",
    "\n",
    "for trait in tqdm(trait_list):\n",
    "    dset_cor = dset.isel(indiv=~np.isnan(dset[f\"{trait}\"].values))\n",
    "    study_dummies = pd.get_dummies(dset_cor[\"study\"], drop_first=True)\n",
    "    for c in study_dummies:\n",
    "        dset_cor[f\"study_dummy_{c}\"] = (\"indiv\", study_dummies[c])\n",
    "    study_dummy_cols = [f\"study_dummy_{c}\" for c in study_dummies]\n",
    "    \n",
    "    pheno = dset_cor[f\"{trait}\"].values\n",
    "    pheno = admix.data.quantile_normalize(pheno)\n",
    "    \n",
    "    cov_cols=[\"age\", \"sex\"] + study_dummy_cols + [f\"geno_EV{i}\" for i in range(1, 11)]\n",
    "    cov = np.c_[np.ones((dset_cor.dims[\"indiv\"], 1)), np.vstack([dset_cor[col].data for col in cov_cols]).T]\n",
    "    normalized_cov = np.array(cov)\n",
    "    for i in range(1, cov.shape[1]):\n",
    "#         normalized_cov[:, i] = admix.data.quantile_normalize(normalized_cov[:, i])\n",
    "        normalized_cov[:, i] = (normalized_cov[:, i] - normalized_cov[:, i].mean()) / normalized_cov[:, i].std()\n",
    "    est, est_var = admix_genet_cor.estimate_genetic_cor(A1=dset_cor[\"A1\"].data, A2=dset_cor[\"A2\"].data, pheno=pheno, cov=normalized_cov, compute_varcov=True)[0]\n",
    "    \n",
    "#     est, est_var = admix.estimate.admix_gen_cor(dset=dset_cor, \n",
    "#                                                 pheno=pheno, \n",
    "#                                                 cov_cols=[\"age\", \"sex\"] + study_dummy_cols + [f\"geno_EV{i}\" for i in range(1, 11)])[0]\n",
    "    print('--------------')\n",
    "    print(f\"{trait} (N={dset_cor.dims['indiv']})\")\n",
    "    print(est)\n",
    "    print(est_var)\n",
    "    \n",
    "    dict_result[\"trait\"].append(trait)\n",
    "    dict_result[\"n_indiv\"].append(dset_cor.dims['indiv'])\n",
    "    dict_result[\"est\"].append(est)\n",
    "    dict_result[\"est_var\"].append(est_var)"
   ]
  },
  {
   "cell_type": "code",
   "execution_count": null,
   "id": "c6b55380-3eb2-42cd-a712-4c9988927de6",
   "metadata": {},
   "outputs": [],
   "source": [
    "df_rls = dict()\n",
    "for name in [\"trait\", \"n_indiv\"]:\n",
    "    df_rls[name] = dict_result[name]\n",
    "\n",
    "for i, name in enumerate([\"sigma_g\", \"gamma\", \"sigma_e\"]):\n",
    "    df_rls[name] = [f\"{e[i]:.2f} ({np.sqrt(v[i, i]):.2f})\" for e, v in zip(dict_result[\"est\"], dict_result[\"est_var\"])]\n",
    "df_rls = pd.DataFrame(df_rls)"
   ]
  },
  {
   "cell_type": "code",
   "execution_count": null,
   "id": "d8b1a39f-37da-4c32-a27f-e43a8205bd8f",
   "metadata": {},
   "outputs": [],
   "source": [
    "df_rls"
   ]
  },
  {
   "cell_type": "code",
   "execution_count": null,
   "id": "7bb25fd5-688a-48f0-be69-905b294fadfa",
   "metadata": {},
   "outputs": [],
   "source": [
    "df_rls.to_csv(\"result/page.csv\", index=False)"
   ]
  }
 ],
 "metadata": {
  "kernelspec": {
   "display_name": "Python 3",
   "language": "python",
   "name": "python3"
  },
  "language_info": {
   "codemirror_mode": {
    "name": "ipython",
    "version": 3
   },
   "file_extension": ".py",
   "mimetype": "text/x-python",
   "name": "python",
   "nbconvert_exporter": "python",
   "pygments_lexer": "ipython3",
   "version": "3.8.5"
  }
 },
 "nbformat": 4,
 "nbformat_minor": 5
}
