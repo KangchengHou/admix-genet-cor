{
 "cells": [
  {
   "cell_type": "code",
   "execution_count": 1,
   "id": "50f26f90-edc8-47d2-b931-43f317aebc1e",
   "metadata": {},
   "outputs": [],
   "source": [
    "%load_ext lab_black\n",
    "%load_ext autoreload\n",
    "%autoreload 2\n",
    "\n",
    "import pandas as pd\n",
    "import numpy as np\n",
    "import dapgen\n",
    "import admix_genet_cor\n",
    "import admix\n",
    "import os\n",
    "import matplotlib.pyplot as plt\n",
    "from tqdm import tqdm\n",
    "import glob"
   ]
  },
  {
   "cell_type": "code",
   "execution_count": 2,
   "id": "5a36fb78-c517-406c-8ded-aabc085e7850",
   "metadata": {},
   "outputs": [],
   "source": [
    "ROOT_DIR = (\n",
    "    \"/u/project/pasaniuc/pasaniucdata/admixture/projects/PAGE-QC/01-dataset/out/aframr\"\n",
    ")\n",
    "PFILE_DIR = os.path.join(ROOT_DIR, \"imputed\")\n",
    "\n",
    "SUPP_TABLE_URL = \"https://www.dropbox.com/s/jck2mhjby2ur55j/supp-tables.xlsx?dl=1\"\n",
    "\n",
    "# trait_list = [\n",
    "#     f.split(\"/\")[-1].split(\".\")[0]\n",
    "#     for f in glob.glob(os.path.join(ROOT_DIR, \"pheno\", \"*.tsv\"))\n",
    "# ]\n",
    "trait_info = pd.read_excel(SUPP_TABLE_URL, sheet_name=\"page-trait-info\")\n",
    "trait_list = trait_info[\"trait\"].values\n",
    "dict_trait_display_name = {\n",
    "    row[\"trait\"]: row[\"display-name\"] for _, row in trait_info.iterrows()\n",
    "}"
   ]
  },
  {
   "cell_type": "code",
   "execution_count": 3,
   "id": "f220d72a-5b45-4720-b33b-cb408020d956",
   "metadata": {},
   "outputs": [
    {
     "name": "stdout",
     "output_type": "stream",
     "text": [
      "2022-03-24 09:33.47 [info     ] admix.Dataset: read local ancestry from /u/project/pasaniuc/pasaniucdata/admixture/projects/PAGE-QC/01-dataset/out/aframr/imputed/chr1.lanc\n"
     ]
    }
   ],
   "source": [
    "# include duffy SNP information\n",
    "dset = admix.io.read_dataset(\n",
    "    os.path.join(ROOT_DIR, \"imputed\", \"chr1\"),\n",
    "    n_anc=2,\n",
    ")\n",
    "# find closest SNPs\n",
    "duffy_snp_loc = np.argmin(np.abs(dset.snp.POS - 159204893))\n",
    "assert dset.snp.CHROM.iloc[duffy_snp_loc] == 1\n",
    "duffy_lanc = pd.Series(\n",
    "    dset[duffy_snp_loc].lanc.sum(axis=[0, 2]).compute(), index=dset.indiv.index\n",
    ")"
   ]
  },
  {
   "cell_type": "code",
   "execution_count": 4,
   "id": "819bfe36-c192-48de-8b1e-0cd20af2b69f",
   "metadata": {},
   "outputs": [],
   "source": [
    "PFILE_DIR = \"/u/home/k/kangchen/PAGE-QC/01-dataset/out/aframr/hm3/\"\n",
    "with open(os.path.join(PFILE_DIR, \"merged/merged.king.cutoff.in.id\")) as f:\n",
    "    unrelated_indiv = [i.strip() for i in f.readlines()[1:]]"
   ]
  },
  {
   "cell_type": "code",
   "execution_count": 6,
   "id": "c89cddec-009f-44fc-945e-7b957a4227d4",
   "metadata": {},
   "outputs": [
    {
     "name": "stdout",
     "output_type": "stream",
     "text": [
      "crp: 8321/8521 ( 97.7%) unrelated individuals are retained\n",
      "total_wbc_cnt: 8615/8889 ( 96.9%) unrelated individuals are retained\n",
      "mean_corp_hgb_conc: 3650/3816 ( 95.6%) unrelated individuals are retained\n",
      "platelet_cnt: 8597/8871 ( 96.9%) unrelated individuals are retained\n",
      "hdl: 9929/10248 ( 96.9%) unrelated individuals are retained\n",
      "ldl: 9574/9875 ( 97%) unrelated individuals are retained\n",
      "triglycerides: 9896/10217 ( 96.9%) unrelated individuals are retained\n",
      "total_cholesterol: 9981/10300 ( 96.9%) unrelated individuals are retained\n",
      "cigs_per_day_excl_nonsmk_updated: 6995/7171 ( 97.5%) unrelated individuals are retained\n",
      "coffee_cup_day: 11587/11862 ( 97.7%) unrelated individuals are retained\n",
      "a1c: 1740/1854 ( 93.9%) unrelated individuals are retained\n",
      "insulin: 7753/7927 ( 97.8%) unrelated individuals are retained\n",
      "glucose: 9646/9937 ( 97.1%) unrelated individuals are retained\n",
      "t2d_status: 14516/15014 ( 96.7%) unrelated individuals are retained\n",
      "qt_interval: 4089/4196 ( 97.4%) unrelated individuals are retained\n",
      "qrs_interval: 4078/4185 ( 97.4%) unrelated individuals are retained\n",
      "pr_interval: 4071/4178 ( 97.4%) unrelated individuals are retained\n",
      "systolic_bp: 11006/11425 ( 96.3%) unrelated individuals are retained\n",
      "diastolic_bp: 11005/11424 ( 96.3%) unrelated individuals are retained\n",
      "hypertension: 16617/17195 ( 96.6%) unrelated individuals are retained\n",
      "waist_hip_ratio: 10067/10307 ( 97.7%) unrelated individuals are retained\n",
      "height: 16705/17286 ( 96.6%) unrelated individuals are retained\n",
      "bmi: 16684/17264 ( 96.6%) unrelated individuals are retained\n",
      "egfrckdepi: 7978/8261 ( 96.6%) unrelated individuals are retained\n"
     ]
    }
   ],
   "source": [
    "for trait in trait_list:\n",
    "\n",
    "    df_trait = (\n",
    "        pd.read_csv(os.path.join(ROOT_DIR, f\"pheno/{trait}.tsv\"), sep=\"\\t\", index_col=0)\n",
    "        .dropna(subset=[trait])\n",
    "        .rename(columns={trait: \"pheno\"})\n",
    "    )\n",
    "    df_trait.index = df_trait.index.astype(str)\n",
    "    n_indiv1 = len(df_trait)\n",
    "    df_trait = df_trait[df_trait.index.isin(unrelated_indiv)]\n",
    "    n_indiv2 = len(df_trait)\n",
    "    print(\n",
    "        f\"{trait}: {n_indiv2}/{n_indiv1} ({n_indiv2 / n_indiv1 * 100 : .3g}%) unrelated individuals are retained\"\n",
    "    )\n",
    "    # include duffy as covariates for total_wbc_cnt\n",
    "    if trait in [\"total_wbc_cnt\", \"crp\"]:\n",
    "        df_trait[\"duffy_lanc\"] = duffy_lanc.reindex(df_trait.index)\n",
    "    #     for covar in [\"page1pc\", \"page10pc\", \"sample10pc\"]:\n",
    "    for covar in [\"sample10pc\"]:\n",
    "        df_trait_covar = df_trait.copy()\n",
    "        if covar == \"page1pc\":\n",
    "            df_trait_covar = df_trait_covar.drop(\n",
    "                columns=[f\"geno_EV{i}\" for i in range(2, 11)]\n",
    "                + [f\"PC{i}\" for i in range(1, 11)]\n",
    "            )\n",
    "        elif covar == \"page10pc\":\n",
    "            df_trait_covar = df_trait_covar.drop(\n",
    "                columns=[f\"PC{i}\" for i in range(1, 11)]\n",
    "            )\n",
    "        elif covar == \"sample10pc\":\n",
    "            df_trait_covar = df_trait_covar.drop(\n",
    "                columns=[f\"geno_EV{i}\" for i in range(1, 11)]\n",
    "            )\n",
    "        else:\n",
    "            raise NotImplementedError\n",
    "        df_trait_covar.to_csv(f\"out/pheno/{trait}-{covar}.tsv\", sep=\"\\t\", na_rep=\"NA\")"
   ]
  }
 ],
 "metadata": {
  "kernelspec": {
   "display_name": "Python 3",
   "language": "python",
   "name": "python3"
  },
  "language_info": {
   "codemirror_mode": {
    "name": "ipython",
    "version": 3
   },
   "file_extension": ".py",
   "mimetype": "text/x-python",
   "name": "python",
   "nbconvert_exporter": "python",
   "pygments_lexer": "ipython3",
   "version": "3.8.5"
  }
 },
 "nbformat": 4,
 "nbformat_minor": 5
}
