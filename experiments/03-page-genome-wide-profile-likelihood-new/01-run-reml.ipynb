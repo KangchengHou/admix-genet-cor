{
 "cells": [
  {
   "cell_type": "code",
   "execution_count": 1,
   "id": "55dcd7bf-9400-4860-b738-f943d10f3a61",
   "metadata": {},
   "outputs": [],
   "source": [
    "%load_ext lab_black\n",
    "%load_ext autoreload\n",
    "%autoreload 2\n",
    "\n",
    "import pandas as pd\n",
    "import numpy as np\n",
    "import itertools\n",
    "import submitit\n",
    "import matplotlib.pyplot as plt\n",
    "import admix_genet_cor\n",
    "import admix\n",
    "import os\n",
    "import glob\n",
    "import scipy\n",
    "import subprocess"
   ]
  },
  {
   "cell_type": "code",
   "execution_count": 2,
   "id": "e6d9d656-c6a0-4f68-90c1-7125da71412a",
   "metadata": {},
   "outputs": [],
   "source": [
    "SUPP_TABLE_URL = \"https://www.dropbox.com/s/jck2mhjby2ur55j/supp-tables.xlsx?dl=1\"\n",
    "\n",
    "ROOT_DIR = (\n",
    "    \"/u/project/pasaniuc/pasaniucdata/admixture/projects/PAGE-QC/01-dataset/out/aframr\"\n",
    ")\n",
    "GRM_DIR = \"/u/scratch/k/kangchen/admix-grm/rho-model\"\n",
    "trait_list = [t.split(\"/\")[-1].split(\".\")[0] for t in glob.glob(f\"out/pheno/*.tsv\")]"
   ]
  },
  {
   "cell_type": "code",
   "execution_count": 3,
   "id": "e5d8a7e4-f65c-4e56-8ebc-d0ee3a53cb51",
   "metadata": {},
   "outputs": [],
   "source": [
    "df_params = pd.DataFrame(\n",
    "    [\n",
    "        params\n",
    "        for params in itertools.product(\n",
    "            [\"hm3\", \"imputed\"],\n",
    "            [\"mafukb\", \"gcta\"],\n",
    "            [0.005, 0.05],\n",
    "        )\n",
    "    ],\n",
    "    columns=[\n",
    "        \"snpset\",\n",
    "        \"hermodel\",\n",
    "        \"maf\",\n",
    "    ],\n",
    ")\n",
    "\n",
    "df_params[\"grm_prefix\"] = df_params.apply(\n",
    "    lambda p: f\"{p.snpset}.{p.hermodel}.{str(p.maf)[2:]}\",\n",
    "    axis=1,\n",
    ")"
   ]
  },
  {
   "cell_type": "code",
   "execution_count": 4,
   "id": "7075bbbb-5cec-495c-823b-5558802e8bc9",
   "metadata": {},
   "outputs": [],
   "source": [
    "def submit_gcta_estimate(grm_prefix, trait):\n",
    "    pheno_path = f\"out/pheno/{trait}.tsv\"\n",
    "\n",
    "    out_dir = f\"out/gcta-estimate/{trait}-{grm_prefix}\"\n",
    "    grm_dir = os.path.join(GRM_DIR, f\"{grm_prefix}\")\n",
    "    cmds = [\n",
    "        \"admix estimate-genetic-cor\",\n",
    "        f\"--grm-dir {grm_dir}\",\n",
    "        f\"--pheno {pheno_path}\",\n",
    "        f\"--out-dir {out_dir}\",\n",
    "        \"--n-thread 4\",\n",
    "    ]\n",
    "    cmd = \" \".join(cmds)\n",
    "    subprocess.check_call(cmd, shell=True)\n",
    "\n",
    "\n",
    "def submit_gcta_estimate2(grm_prefix, trait, rho):\n",
    "    pheno_path = f\"out/pheno/{trait}.tsv\"\n",
    "\n",
    "    out_dir = f\"out/gcta-estimate/{trait}-{grm_prefix}\"\n",
    "    grm_prefix = os.path.join(GRM_DIR, grm_prefix, f\"rho{rho}\")\n",
    "    cmds = [\n",
    "        \"admix estimate-genetic-cor\",\n",
    "        f\"--grm-prefix {grm_prefix}\",\n",
    "        f\"--pheno {pheno_path}\",\n",
    "        f\"--out-dir {out_dir}\",\n",
    "        \"--n-thread 2\",\n",
    "    ]\n",
    "    cmd = \" \".join(cmds)\n",
    "    subprocess.check_call(cmd, shell=True)"
   ]
  },
  {
   "cell_type": "code",
   "execution_count": 5,
   "id": "3c46829d-acec-40a9-9de1-caf4021cb6dd",
   "metadata": {},
   "outputs": [],
   "source": [
    "df_params = pd.DataFrame(\n",
    "    [params for params in itertools.product(df_params.grm_prefix.unique(), trait_list)],\n",
    "    columns=[\"grm_prefix\", \"trait\"],\n",
    ")\n",
    "\n",
    "df_params = df_params.merge(\n",
    "    pd.DataFrame({\"rho\": np.linspace(0, 100, 21).astype(int)}), how=\"cross\"\n",
    ")\n",
    "\n",
    "df_todo_params = df_params[\n",
    "    df_params.apply(\n",
    "        lambda x: not os.path.exists(\n",
    "            f\"out/gcta-estimate/{x.trait}-{x.grm_prefix}/rho{x.rho}.hsq\"\n",
    "        ),\n",
    "        axis=1,\n",
    "    )\n",
    "]"
   ]
  },
  {
   "cell_type": "code",
   "execution_count": 7,
   "id": "78e05d3c-5a81-429d-9f0f-8e589e00ea76",
   "metadata": {},
   "outputs": [],
   "source": [
    "executor = submitit.SgeExecutor(folder=\"./submitit-logs\")\n",
    "\n",
    "executor.update_parameters(\n",
    "    time_min=30,\n",
    "    memory_g=10,\n",
    "    cores=2,\n",
    "    setup=[\n",
    "        \"export PATH=~/project-pasaniuc/software/miniconda3/bin:$PATH\",\n",
    "        \"export PYTHONNOUSERSITE=True\",\n",
    "    ],\n",
    ")\n",
    "\n",
    "jobs = executor.map_array(\n",
    "    submit_gcta_estimate2,\n",
    "    df_todo_params.grm_prefix,\n",
    "    df_todo_params.trait,\n",
    "    df_todo_params.rho,\n",
    ")"
   ]
  },
  {
   "cell_type": "code",
   "execution_count": null,
   "id": "4d7984e9-6c21-4266-98ca-9fb71885afbd",
   "metadata": {},
   "outputs": [],
   "source": []
  }
 ],
 "metadata": {
  "kernelspec": {
   "display_name": "Python 3",
   "language": "python",
   "name": "python3"
  },
  "language_info": {
   "codemirror_mode": {
    "name": "ipython",
    "version": 3
   },
   "file_extension": ".py",
   "mimetype": "text/x-python",
   "name": "python",
   "nbconvert_exporter": "python",
   "pygments_lexer": "ipython3",
   "version": "3.8.5"
  }
 },
 "nbformat": 4,
 "nbformat_minor": 5
}
