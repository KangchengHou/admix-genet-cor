{
 "cells": [
  {
   "cell_type": "markdown",
   "id": "7cc87f31-481f-4c4a-b1d1-f305003f625c",
   "metadata": {},
   "source": [
    "# Compare the estimate including different number of PCs"
   ]
  },
  {
   "cell_type": "code",
   "execution_count": 1,
   "id": "39259902-f6ba-4e77-bd73-363b9533ca40",
   "metadata": {},
   "outputs": [],
   "source": [
    "%load_ext lab_black\n",
    "\n",
    "import pandas as pd\n",
    "import numpy as np\n",
    "import glob\n",
    "import os\n",
    "import admix\n",
    "from scipy.interpolate import CubicSpline\n",
    "from tqdm import tqdm\n",
    "import admix_genet_cor"
   ]
  },
  {
   "cell_type": "code",
   "execution_count": 2,
   "id": "6c843c7d-4d02-426a-baf9-f73827eaf0fa",
   "metadata": {},
   "outputs": [],
   "source": [
    "trait_list = [\n",
    "    f.split(\"/\")[-1].split(\".\")[0]\n",
    "    for f in glob.glob(os.path.join(\"out/pheno\", \"*.tsv\"))\n",
    "]"
   ]
  },
  {
   "cell_type": "code",
   "execution_count": 3,
   "id": "43bce804-a936-45ee-a17e-5ef00e9e9f80",
   "metadata": {},
   "outputs": [],
   "source": [
    "grm_prefix_list = [\n",
    "    \"hm3.mafukb.005\",\n",
    "    \"hm3.mafukb.05\",\n",
    "    \"hm3.gcta.005\",\n",
    "    \"hm3.gcta.05\",\n",
    "    \"imputed.mafukb.005\",\n",
    "    \"imputed.mafukb.05\",\n",
    "    \"imputed.gcta.005\",\n",
    "    \"imputed.gcta.05\",\n",
    "]"
   ]
  },
  {
   "cell_type": "code",
   "execution_count": 4,
   "id": "e6bcf705-25ba-492b-9905-448e979f5d3a",
   "metadata": {},
   "outputs": [
    {
     "name": "stderr",
     "output_type": "stream",
     "text": [
      "100%|██████████| 72/72 [00:09<00:00,  7.81it/s]\n",
      "100%|██████████| 72/72 [00:09<00:00,  7.80it/s]\n",
      "100%|██████████| 72/72 [00:09<00:00,  7.72it/s]\n",
      "100%|██████████| 72/72 [00:09<00:00,  7.82it/s]\n",
      "100%|██████████| 72/72 [00:09<00:00,  7.67it/s]\n",
      "100%|██████████| 72/72 [00:09<00:00,  7.68it/s]\n",
      "100%|██████████| 72/72 [00:09<00:00,  7.87it/s]\n",
      "100%|██████████| 72/72 [00:09<00:00,  7.76it/s]\n"
     ]
    }
   ],
   "source": [
    "dict_loglik = {trait: dict() for trait in trait_list}\n",
    "rho_list = np.linspace(0, 1, 21)\n",
    "xs = np.linspace(0, 1, 1001)\n",
    "\n",
    "for grm_prefix in grm_prefix_list:\n",
    "    for trait in tqdm(trait_list):\n",
    "        est_dir = f\"out/gcta-estimate/{trait}-{grm_prefix}\"\n",
    "\n",
    "        loglik = {\n",
    "            rho: admix.tools.gcta.read_reml(\n",
    "                os.path.join(est_dir, f\"rho{int(rho * 100)}\")\n",
    "            )[\"loglik\"]\n",
    "            for rho in rho_list\n",
    "            if os.path.exists(os.path.join(est_dir, f\"rho{int(rho * 100)}.hsq\"))\n",
    "        }\n",
    "        cs = CubicSpline([r for r in loglik], [loglik[r] for r in loglik])\n",
    "        ll = cs(xs)\n",
    "        dict_loglik[trait][grm_prefix] = ll"
   ]
  },
  {
   "cell_type": "code",
   "execution_count": 5,
   "id": "f36af6ce-00bb-40a8-aeae-496b6726f7f2",
   "metadata": {},
   "outputs": [],
   "source": [
    "trait_list = list(set([t.split(\"-\")[0] for t in trait_list]))"
   ]
  },
  {
   "cell_type": "code",
   "execution_count": 6,
   "id": "d76a69e9-8aa3-4d2c-8977-deda9ca99228",
   "metadata": {},
   "outputs": [
    {
     "name": "stdout",
     "output_type": "stream",
     "text": [
      "page1pc 0.928 [0.883, 0.964]\n",
      "page10pc 0.922 [0.876, 0.96]\n",
      "sample10pc 0.911 [0.864, 0.951]\n"
     ]
    }
   ],
   "source": [
    "for covar in [\"page1pc\", \"page10pc\", \"sample10pc\"]:\n",
    "    meta_ll = 0\n",
    "    for trait in trait_list:\n",
    "        meta_ll += dict_loglik[trait + \"-\" + covar][\"imputed.mafukb.005\"]\n",
    "    interval = admix_genet_cor.hdi(xs, meta_ll)\n",
    "    interval = [np.round(i, 3) for i in interval]\n",
    "\n",
    "    print(covar, meta_ll.argmax() / 1000, interval)"
   ]
  },
  {
   "cell_type": "code",
   "execution_count": 7,
   "id": "9256aba8-29a1-42c0-89f1-fe1693f62a6d",
   "metadata": {},
   "outputs": [
    {
     "name": "stdout",
     "output_type": "stream",
     "text": [
      "hm3.mafukb.005 0.944 [0.909, 0.973]\n",
      "hm3.mafukb.05 0.92 [0.881, 0.952]\n",
      "hm3.gcta.005 0.952 [0.921, 0.978]\n",
      "hm3.gcta.05 0.923 [0.887, 0.954]\n",
      "imputed.mafukb.005 0.911 [0.864, 0.951]\n",
      "imputed.mafukb.05 0.863 [0.809, 0.909]\n",
      "imputed.gcta.005 0.915 [0.87, 0.951]\n",
      "imputed.gcta.05 0.865 [0.813, 0.909]\n"
     ]
    }
   ],
   "source": [
    "for grm_prefix in grm_prefix_list:\n",
    "    meta_ll = 0\n",
    "    for trait in trait_list:\n",
    "        meta_ll += dict_loglik[trait + \"-\" + \"sample10pc\"][grm_prefix]\n",
    "    interval = admix_genet_cor.hdi(xs, meta_ll)\n",
    "    interval = [np.round(i, 3) for i in interval]\n",
    "    print(grm_prefix, meta_ll.argmax() / 1000, interval)"
   ]
  }
 ],
 "metadata": {
  "kernelspec": {
   "display_name": "Python 3",
   "language": "python",
   "name": "python3"
  },
  "language_info": {
   "codemirror_mode": {
    "name": "ipython",
    "version": 3
   },
   "file_extension": ".py",
   "mimetype": "text/x-python",
   "name": "python",
   "nbconvert_exporter": "python",
   "pygments_lexer": "ipython3",
   "version": "3.8.5"
  }
 },
 "nbformat": 4,
 "nbformat_minor": 5
}
