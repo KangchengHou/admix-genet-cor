{
 "cells": [
  {
   "cell_type": "code",
   "execution_count": 1,
   "id": "28bade58-a8ba-47cb-a3c7-7f7bb3eee0b1",
   "metadata": {},
   "outputs": [],
   "source": [
    "%load_ext lab_black\n",
    "\n",
    "import pandas as pd\n",
    "import numpy as np\n",
    "import dapgen\n",
    "import itertools\n",
    "import submitit\n",
    "import json\n",
    "import matplotlib.pyplot as plt\n",
    "import admix_genet_cor\n",
    "import admix\n",
    "from os.path import join\n",
    "import os"
   ]
  },
  {
   "cell_type": "code",
   "execution_count": 2,
   "id": "12768d1a-0bb4-4aa0-b2ed-d30beaaed847",
   "metadata": {},
   "outputs": [],
   "source": [
    "def calc_snp_prior_var(df_snp_info, her_model):\n",
    "    \"\"\"\n",
    "    Calculate the SNP prior variance from SNP information\n",
    "    \"\"\"\n",
    "    assert her_model in [\"uniform\", \"gcta\", \"ldak\", \"mafukb\"]\n",
    "    if her_model == \"uniform\":\n",
    "        return np.ones(len(df_snp_info))\n",
    "    elif her_model == \"gcta\":\n",
    "        freq = df_snp_info[\"FREQ\"].values\n",
    "        assert np.all(freq > 0), \"frequencies should be larger than zero\"\n",
    "        return np.float_power(freq * (1 - freq), -1)\n",
    "    elif her_model == \"mafukb\":\n",
    "        # MAF-dependent genetic architecture, \\alpha = -0.38 estimated from meta-analysis in UKB traits\n",
    "        freq = df_snp_info[\"FREQ\"].values\n",
    "        assert np.all(freq > 0), \"frequencies should be larger than zero\"\n",
    "        return np.float_power(freq * (1 - freq), -0.38)\n",
    "    elif her_model == \"ldak\":\n",
    "        freq, weight = df_snp_info[\"FREQ\"].values, df_snp_info[\"LDAK_WEIGHT\"].values\n",
    "        return np.float_power(freq * (1 - freq), -0.25) * weight\n",
    "    else:\n",
    "        raise NotImplementedError"
   ]
  },
  {
   "cell_type": "code",
   "execution_count": 3,
   "id": "04279dea-556b-42f3-a5bf-693c75d3ffaf",
   "metadata": {},
   "outputs": [],
   "source": [
    "DATA_ROOT_DIR = (\n",
    "    \"/u/project/pasaniuc/pasaniucdata/admixture/projects/PAGE-QC/01_dataset/out/aframr\"\n",
    ")\n",
    "\n",
    "\n",
    "def compute_grm(snpset, hermodel, chrom):\n",
    "    out_prefix = f\"out/admix-grm/{snpset}.{hermodel}.chr{chrom}\"\n",
    "    pfile = f\"{DATA_ROOT_DIR}/{snpset}/chr{chrom}\"\n",
    "\n",
    "    dset = admix.dataset.read_dataset(pfile=pfile, snp_chunk=512, n_anc=2)\n",
    "    df_snp_info = pd.read_csv(pfile + \".snp_info\", sep=\"\\t\", index_col=0)\n",
    "    dset._snp = pd.merge(dset.snp, df_snp_info, left_index=True, right_index=True)\n",
    "\n",
    "    snp_subset = np.where((dset.snp.EUR_FREQ > 0.005) & (dset.snp.AFR_FREQ > 0.005))[0]\n",
    "\n",
    "    dset = dset[snp_subset]\n",
    "    dset.snp[\"PRIOR_VAR\"] = calc_snp_prior_var(dset.snp, hermodel)\n",
    "\n",
    "    K1, K2, K12 = admix_genet_cor.compute_grm(\n",
    "        geno=dset.geno,\n",
    "        lanc=dset.lanc,\n",
    "        snp_prior_var=dset.snp.PRIOR_VAR.values,\n",
    "        apa_center=True,\n",
    "    )\n",
    "\n",
    "    np.save(out_prefix + \".A1.npy\", K1 + K2)\n",
    "    np.save(out_prefix + \".A2.npy\", K12 + K12.T)\n",
    "    dset.snp[[\"PRIOR_VAR\"]].to_csv(out_prefix + \".weight.tsv\", sep=\"\\t\")"
   ]
  },
  {
   "cell_type": "code",
   "execution_count": 4,
   "id": "73acd263-ceba-4809-9bb6-81291657f189",
   "metadata": {},
   "outputs": [],
   "source": [
    "df_params = pd.DataFrame(\n",
    "    [\n",
    "        params\n",
    "        for params in itertools.product(\n",
    "            [\"imputed\", \"hm3\"], [\"mafukb\", \"gcta\"], np.arange(1, 23)\n",
    "        )\n",
    "    ],\n",
    "    columns=[\"snpset\", \"hermodel\", \"chrom\"],\n",
    ")"
   ]
  },
  {
   "cell_type": "code",
   "execution_count": 7,
   "id": "33ad8446-30b2-4667-a908-8caa12064b28",
   "metadata": {},
   "outputs": [],
   "source": [
    "executor = submitit.SgeExecutor(folder=\"./submitit-logs\")\n",
    "\n",
    "executor.update_parameters(\n",
    "    time_min=900,\n",
    "    memory_g=32,\n",
    "    setup=[\n",
    "        \"export PATH=~/project-pasaniuc/software/miniconda3/bin:$PATH\",\n",
    "        \"export PYTHONNOUSERSITE=True\",\n",
    "    ],\n",
    ")\n",
    "\n",
    "jobs = executor.map_array(\n",
    "    compute_grm, df_params.snpset, df_params.hermodel, df_params.chrom\n",
    ")"
   ]
  }
 ],
 "metadata": {
  "kernelspec": {
   "display_name": "Python 3",
   "language": "python",
   "name": "python3"
  },
  "language_info": {
   "codemirror_mode": {
    "name": "ipython",
    "version": 3
   },
   "file_extension": ".py",
   "mimetype": "text/x-python",
   "name": "python",
   "nbconvert_exporter": "python",
   "pygments_lexer": "ipython3",
   "version": "3.8.5"
  }
 },
 "nbformat": 4,
 "nbformat_minor": 5
}
