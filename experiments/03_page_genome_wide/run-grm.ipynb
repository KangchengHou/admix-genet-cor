{
 "cells": [
  {
   "cell_type": "code",
   "execution_count": 1,
   "id": "28bade58-a8ba-47cb-a3c7-7f7bb3eee0b1",
   "metadata": {},
   "outputs": [],
   "source": [
    "%load_ext lab_black\n",
    "\n",
    "import pandas as pd\n",
    "import numpy as np\n",
    "import dapgen\n",
    "import itertools\n",
    "import submitit\n",
    "import json\n",
    "import matplotlib.pyplot as plt\n",
    "import admix_genet_cor\n",
    "import admix\n",
    "from os.path import join\n",
    "import os\n",
    "import pandas as pd\n",
    "from tqdm import tqdm\n",
    "from admix_genet_cor import calc_snp_prior_var"
   ]
  },
  {
   "cell_type": "markdown",
   "id": "0c5b086d-e2e7-4c9f-9dbe-30ab0c0c6e7d",
   "metadata": {},
   "source": [
    "# Compute GRM per chromosome"
   ]
  },
  {
   "cell_type": "code",
   "execution_count": 2,
   "id": "04279dea-556b-42f3-a5bf-693c75d3ffaf",
   "metadata": {},
   "outputs": [],
   "source": [
    "DATA_ROOT_DIR = (\n",
    "    \"/u/project/pasaniuc/pasaniucdata/admixture/projects/PAGE-QC/01_dataset/out/aframr\"\n",
    ")\n",
    "\n",
    "\n",
    "def compute_grm(snpset, hermodel, chrom):\n",
    "    \"\"\"\n",
    "    Given snpset: [hm3, imputed]\n",
    "    hermodel: [gcta, mafukb]\n",
    "    chrom: 1-22\n",
    "\n",
    "    Compute the GRM and store to out/admix-grm/{snpset}.{hermodel}.chr{chrom}[.A1.npy | .A2.npy | .weight.tsv]\n",
    "    \"\"\"\n",
    "    out_prefix = f\"out/admix-grm/{snpset}.{hermodel}.chr{chrom}\"\n",
    "    pfile = f\"{DATA_ROOT_DIR}/{snpset}/chr{chrom}\"\n",
    "\n",
    "    dset = admix.dataset.read_dataset(pfile=pfile, snp_chunk=512, n_anc=2)\n",
    "    df_snp_info = pd.read_csv(pfile + \".snp_info\", sep=\"\\t\", index_col=0)\n",
    "    dset._snp = pd.merge(dset.snp, df_snp_info, left_index=True, right_index=True)\n",
    "\n",
    "    snp_subset = np.where((dset.snp.EUR_FREQ > 0.005) & (dset.snp.AFR_FREQ > 0.005))[0]\n",
    "\n",
    "    dset = dset[snp_subset]\n",
    "    dset.snp[\"PRIOR_VAR\"] = calc_snp_prior_var(dset.snp, hermodel)\n",
    "\n",
    "    K1, K2, K12 = admix_genet_cor.compute_grm(\n",
    "        geno=dset.geno,\n",
    "        lanc=dset.lanc,\n",
    "        snp_prior_var=dset.snp.PRIOR_VAR.values,\n",
    "        apa_center=False,\n",
    "    )\n",
    "\n",
    "    np.save(out_prefix + \".A1.npy\", K1 + K2)\n",
    "    np.save(out_prefix + \".A2.npy\", K12 + K12.T)\n",
    "    dset.snp[[\"PRIOR_VAR\"]].to_csv(out_prefix + \".weight.tsv\", sep=\"\\t\")"
   ]
  },
  {
   "cell_type": "code",
   "execution_count": 3,
   "id": "73acd263-ceba-4809-9bb6-81291657f189",
   "metadata": {},
   "outputs": [],
   "source": [
    "df_params = pd.DataFrame(\n",
    "    [\n",
    "        params\n",
    "        for params in itertools.product(\n",
    "            [\"imputed\"], [\"mafukb\", \"gcta\"], np.arange(1, 23)\n",
    "        )\n",
    "    ],\n",
    "    columns=[\"snpset\", \"hermodel\", \"chrom\"],\n",
    ")\n",
    "\n",
    "# find unfinished\n",
    "df_params = df_params[\n",
    "    ~df_params.apply(\n",
    "        lambda p: os.path.exists(\n",
    "            f\"out/admix-grm/{p.snpset}.{p.hermodel}.chr{p.chrom}.weight.tsv\"\n",
    "        ),\n",
    "        axis=1,\n",
    "    )\n",
    "]"
   ]
  },
  {
   "cell_type": "code",
   "execution_count": 10,
   "id": "33ad8446-30b2-4667-a908-8caa12064b28",
   "metadata": {},
   "outputs": [],
   "source": [
    "executor = submitit.SgeExecutor(folder=\"./submitit-logs\")\n",
    "\n",
    "executor.update_parameters(\n",
    "    time_min=600,\n",
    "    memory_g=32,\n",
    "    setup=[\n",
    "        \"export PATH=~/project-pasaniuc/software/miniconda3/bin:$PATH\",\n",
    "        \"export PYTHONNOUSERSITE=True\",\n",
    "    ],\n",
    ")\n",
    "\n",
    "jobs = executor.map_array(\n",
    "    compute_grm, df_params.snpset, df_params.hermodel, df_params.chrom\n",
    ")"
   ]
  },
  {
   "cell_type": "markdown",
   "id": "d201437d-e1c2-4c3c-9c7e-f9b31c51fc63",
   "metadata": {},
   "source": [
    "# Merge GRMs for all chromosomes"
   ]
  },
  {
   "cell_type": "code",
   "execution_count": 14,
   "id": "3d5f05da-3365-4c02-8e48-453161e8ce43",
   "metadata": {},
   "outputs": [],
   "source": [
    "def merge_grm(snpset, hermodel):\n",
    "    \"\"\"\n",
    "    Given snpset: [hm3, imputed]\n",
    "    hermodel: [gcta, mafukb]\n",
    "    chrom: 1-22\n",
    "\n",
    "    Compute the GRM and store to out/admix-grm/{snpset}.{hermodel}.chr{chrom}[.A1.npy | .A2.npy | .weight.tsv]\n",
    "    \"\"\"\n",
    "    prior_var_list = []\n",
    "    for chrom in tqdm(range(1, 23)):\n",
    "        prefix = f\"out/admix-grm/{snpset}.{hermodel}.chr{chrom}\"\n",
    "        prior_var_list.append(\n",
    "            pd.read_csv(prefix + \".weight.tsv\", sep=\"\\t\", index_col=0)\n",
    "        )\n",
    "\n",
    "    def _merge(suffix):\n",
    "        A = None\n",
    "        weight_list = []\n",
    "        for chrom in tqdm(range(1, 23)):\n",
    "            prefix = f\"out/admix-grm/{snpset}.{hermodel}.chr{chrom}\"\n",
    "            prior_var = prior_var_list[chrom - 1]\n",
    "            weight = prior_var[\"PRIOR_VAR\"].sum()\n",
    "            weight_list.append(weight)\n",
    "            if A is None:\n",
    "                A = np.load(prefix + f\".{suffix}.npy\") * weight\n",
    "            else:\n",
    "                A += np.load(prefix + f\".{suffix}.npy\") * weight\n",
    "        print(weight_list)\n",
    "        A /= np.sum(weight_list)\n",
    "        return A\n",
    "\n",
    "    for m in [\"A1\", \"A2\"]:\n",
    "        np.save(f\"out/admix-grm/{snpset}.{hermodel}.all.{m}.npy\", _merge(m))\n",
    "\n",
    "    # save prior variance\n",
    "    pd.concat(prior_var_list).to_csv(\n",
    "        f\"out/admix-grm/{snpset}.{hermodel}.all.weight.tsv\", sep=\"\\t\"\n",
    "    )"
   ]
  },
  {
   "cell_type": "code",
   "execution_count": 15,
   "id": "572f0234-24d9-4ffb-8936-51d3dae65ac6",
   "metadata": {},
   "outputs": [],
   "source": [
    "executor = submitit.SgeExecutor(folder=\"./submitit-logs\")\n",
    "\n",
    "executor.update_parameters(\n",
    "    time_min=50,\n",
    "    memory_g=32,\n",
    "    setup=[\n",
    "        \"export PATH=~/project-pasaniuc/software/miniconda3/bin:$PATH\",\n",
    "        \"export PYTHONNOUSERSITE=True\",\n",
    "    ],\n",
    ")\n",
    "\n",
    "jobs = executor.map_array(merge_grm, [\"imputed\"] * 2, [\"mafukb\", \"gcta\"])"
   ]
  },
  {
   "cell_type": "code",
   "execution_count": 16,
   "id": "54a318ee-e4ca-408f-aee5-55456b8af68a",
   "metadata": {},
   "outputs": [
    {
     "name": "stderr",
     "output_type": "stream",
     "text": [
      "100%|██████████| 22/22 [00:11<00:00,  1.88it/s]\n",
      "100%|██████████| 22/22 [09:18<00:00, 25.38s/it]\n"
     ]
    },
    {
     "name": "stdout",
     "output_type": "stream",
     "text": [
      "[1289703.173148756, 1402585.7159166832, 1254025.4145697274, 1268447.9511024333, 976196.7500592659, 1153682.9368682944, 991895.3512073429, 928251.7910215487, 743000.7183180011, 865861.7759291537, 839902.7262701564, 829435.3297007686, 648486.888337685, 558413.5064843419, 485657.8397037065, 535384.1034400922, 434140.15471844905, 497283.3959523505, 384211.0614354833, 372220.1673066944, 226517.419652645, 222240.29334847987]\n"
     ]
    },
    {
     "name": "stderr",
     "output_type": "stream",
     "text": [
      "100%|██████████| 22/22 [09:15<00:00, 25.24s/it]\n"
     ]
    },
    {
     "name": "stdout",
     "output_type": "stream",
     "text": [
      "[1289703.173148756, 1402585.7159166832, 1254025.4145697274, 1268447.9511024333, 976196.7500592659, 1153682.9368682944, 991895.3512073429, 928251.7910215487, 743000.7183180011, 865861.7759291537, 839902.7262701564, 829435.3297007686, 648486.888337685, 558413.5064843419, 485657.8397037065, 535384.1034400922, 434140.15471844905, 497283.3959523505, 384211.0614354833, 372220.1673066944, 226517.419652645, 222240.29334847987]\n"
     ]
    }
   ],
   "source": [
    "merge_grm(\"imputed\", \"mafukb\")"
   ]
  }
 ],
 "metadata": {
  "kernelspec": {
   "display_name": "Python 3",
   "language": "python",
   "name": "python3"
  },
  "language_info": {
   "codemirror_mode": {
    "name": "ipython",
    "version": 3
   },
   "file_extension": ".py",
   "mimetype": "text/x-python",
   "name": "python",
   "nbconvert_exporter": "python",
   "pygments_lexer": "ipython3",
   "version": "3.8.5"
  }
 },
 "nbformat": 4,
 "nbformat_minor": 5
}
