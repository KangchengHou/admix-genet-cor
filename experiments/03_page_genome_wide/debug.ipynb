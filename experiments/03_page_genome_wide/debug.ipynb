{
 "cells": [
  {
   "cell_type": "code",
   "execution_count": 1,
   "id": "9991b8c2-d8d5-49a3-9e64-5a95f0a989bb",
   "metadata": {},
   "outputs": [],
   "source": [
    "%load_ext lab_black\n",
    "%load_ext autoreload\n",
    "%autoreload 2\n",
    "\n",
    "import xarray as xr\n",
    "import numpy as np\n",
    "import admix\n",
    "import matplotlib.pyplot as plt\n",
    "import dask\n",
    "import dask.array as da\n",
    "import admix_genet_cor\n",
    "import xarray as xr"
   ]
  },
  {
   "cell_type": "code",
   "execution_count": 2,
   "id": "8340d23d-91db-44cb-832e-2c1ba15a1ff4",
   "metadata": {},
   "outputs": [],
   "source": [
    "a = np.load(\"out/debug/correct-A1.chr22.npy\")[0:100, :]\n",
    "b = np.load(\"out/debug/A1.chr22.npy\")[0:100, :]\n",
    "c = np.load(\"out/admix-grm/hm3.uniform.chr22.A1.npy\")[0:100, :]\n",
    "d = (\n",
    "    np.load(\"out/OLD_admix_grm/K1.chr22.npy\")[0:100, :]\n",
    "    + np.load(\"out/OLD_admix_grm/K2.chr22.npy\")[0:100, :]\n",
    ")"
   ]
  },
  {
   "cell_type": "code",
   "execution_count": 6,
   "id": "682d4715-e16e-49e3-a01f-74afb38a964b",
   "metadata": {},
   "outputs": [
    {
     "data": {
      "text/plain": [
       "<matplotlib.collections.PathCollection at 0x2b46e4e26f40>"
      ]
     },
     "execution_count": 6,
     "metadata": {},
     "output_type": "execute_result"
    },
    {
     "data": {
      "image/png": "[encoded data removed]",
      "text/plain": [
       "<Figure size 432x288 with 1 Axes>"
      ]
     },
     "metadata": {
      "needs_background": "light"
     },
     "output_type": "display_data"
    }
   ],
   "source": [
    "plt.scatter(a.flatten(), c.flatten())"
   ]
  },
  {
   "cell_type": "code",
   "execution_count": 7,
   "id": "ec54878a-5164-4aeb-80ad-9910f4d82cbb",
   "metadata": {},
   "outputs": [
    {
     "data": {
      "text/plain": [
       "<matplotlib.collections.PathCollection at 0x2b46e4ea4cd0>"
      ]
     },
     "execution_count": 7,
     "metadata": {},
     "output_type": "execute_result"
    },
    {
     "data": {
      "image/png": "[encoded data removed]",
      "text/plain": [
       "<Figure size 432x288 with 1 Axes>"
      ]
     },
     "metadata": {
      "needs_background": "light"
     },
     "output_type": "display_data"
    }
   ],
   "source": [
    "plt.scatter(b.flatten(), d.flatten())"
   ]
  },
  {
   "cell_type": "code",
   "execution_count": 8,
   "id": "67b88309-9d87-4968-8489-f2bbc3944017",
   "metadata": {},
   "outputs": [
    {
     "data": {
      "text/plain": [
       "<matplotlib.collections.PathCollection at 0x2b46e4f20460>"
      ]
     },
     "execution_count": 8,
     "metadata": {},
     "output_type": "execute_result"
    },
    {
     "data": {
      "image/png": "[encoded data removed]",
      "text/plain": [
       "<Figure size 432x288 with 1 Axes>"
      ]
     },
     "metadata": {
      "needs_background": "light"
     },
     "output_type": "display_data"
    }
   ],
   "source": [
    "plt.scatter(b.flatten(), c.flatten())"
   ]
  },
  {
   "cell_type": "code",
   "execution_count": 2,
   "id": "f705fa7d-66fc-4aef-bb8d-fc231c54780c",
   "metadata": {},
   "outputs": [],
   "source": [
    "# a = np.load(\"out/debug/correct-A1.chr22.npy\")[0:100, :]\n",
    "# b = np.load(\"out/debug/A1.chr22.npy\")[0:100, :]\n",
    "# c = np.load(\"out/admix-grm/hm3.uniform.chr22.A1.npy\")[0:100, :]\n",
    "\n",
    "# fig, ax = plt.subplots(figsize=(3, 3), dpi=150)\n",
    "# plt.scatter(a.flatten(), b.flatten())\n",
    "# fig.show()\n",
    "\n",
    "# fig, ax = plt.subplots(figsize=(3, 3), dpi=150)\n",
    "# plt.scatter(a.flatten(), c.flatten())\n",
    "# ax.plot([-0.1, 0.4], [-0.1, 0.4])\n",
    "# ax.set_xlim(-0.1, 0.4)\n",
    "# ax.set_ylim(-0.1, 0.4)\n",
    "# fig.show()"
   ]
  },
  {
   "cell_type": "code",
   "execution_count": 3,
   "id": "a25c5ad0-2824-4715-a360-7011b96d030a",
   "metadata": {},
   "outputs": [],
   "source": [
    "def af_per_anc(dset: xr.Dataset, inplace=True):\n",
    "    \"\"\"\n",
    "    Calculate allele frequency per ancestry\n",
    "    Parameters\n",
    "    ----------\n",
    "    dset: xr.Dataset\n",
    "        Containing geno, lanc, n_anc\n",
    "    Returns\n",
    "    -------\n",
    "    List[np.ndarray]\n",
    "        `n_anc` length list of allele frequencies.\n",
    "    \"\"\"\n",
    "    assert \"geno\" in dset.data_vars, \"`geno` not in `ds.data_vars`\"\n",
    "    assert \"lanc\" in dset.data_vars, \"`lanc` not in `ds.data_vars`\"\n",
    "    n_anc = dset.attrs[\"n_anc\"]\n",
    "    geno = dset.data_vars[\"geno\"]\n",
    "    lanc = dset.data_vars[\"lanc\"]\n",
    "    rls = []\n",
    "    for i_anc in range(n_anc):\n",
    "        # mask SNPs with local ancestry not `i_anc`\n",
    "        rls.append(\n",
    "            da.ma.getdata(\n",
    "                da.ma.masked_where(lanc != i_anc, geno).mean(axis=(0, 2))\n",
    "            ).compute()\n",
    "        )\n",
    "    rls = da.from_array(np.array(rls)).T\n",
    "    if inplace:\n",
    "        dset[\"af_per_anc\"] = xr.DataArray(\n",
    "            rls,\n",
    "            dims=(\n",
    "                \"snp\",\n",
    "                \"anc\",\n",
    "            ),\n",
    "        )\n",
    "        return None\n",
    "    else:\n",
    "        return rls\n",
    "\n",
    "\n",
    "def allele_per_anc(ds, center=False, inplace=True):\n",
    "    \"\"\"Get allele count per ancestry\n",
    "    Parameters\n",
    "    ----------\n",
    "    ds: xr.Dataset\n",
    "        Containing geno, lanc, n_anc\n",
    "    center: bool\n",
    "        whether to center the data around empirical frequencies of each ancestry\n",
    "    inplace: bool\n",
    "        whether to return a new dataset or modify the input dataset\n",
    "    Returns\n",
    "    -------\n",
    "    Return allele counts per ancestries\n",
    "    \"\"\"\n",
    "    geno, lanc = ds.data_vars[\"geno\"].data, ds.data_vars[\"lanc\"].data\n",
    "\n",
    "    n_anc = ds.attrs[\"n_anc\"]\n",
    "    assert np.all(geno.shape == lanc.shape), \"shape of `hap` and `lanc` are not equal\"\n",
    "    assert geno.ndim == 3, \"`hap` and `lanc` should have three dimension\"\n",
    "    n_indiv, n_snp, n_haplo = geno.shape\n",
    "    assert n_haplo == 2, \"`n_haplo` should equal to 2, check your data\"\n",
    "\n",
    "    assert isinstance(geno, da.Array) & isinstance(\n",
    "        lanc, da.Array\n",
    "    ), \"`geno` and `lanc` should be dask array\"\n",
    "\n",
    "    # make sure the chunk size along the ploidy axis to be 2\n",
    "    geno = geno.rechunk({2: 2})\n",
    "    lanc = lanc.rechunk({2: 2})\n",
    "\n",
    "    assert (\n",
    "        geno.chunks == lanc.chunks\n",
    "    ), \"`geno` and `lanc` should have the same chunk size\"\n",
    "\n",
    "    def helper(geno_chunk, lanc_chunk, n_anc, af_chunk=None):\n",
    "\n",
    "        n_indiv, n_snp, n_haplo = geno_chunk.shape\n",
    "        apa = np.zeros((n_indiv, n_snp, n_anc), dtype=np.float64)\n",
    "\n",
    "        for i_haplo in range(n_haplo):\n",
    "            haplo_hap = geno_chunk[:, :, i_haplo]\n",
    "            haplo_lanc = lanc_chunk[:, :, i_haplo]\n",
    "            for i_anc in range(n_anc):\n",
    "                if af_chunk is None:\n",
    "                    apa[:, :, i_anc][haplo_lanc == i_anc] += haplo_hap[\n",
    "                        haplo_lanc == i_anc\n",
    "                    ]\n",
    "                else:\n",
    "                    apa[:, :, i_anc][haplo_lanc == i_anc] += haplo_hap[\n",
    "                        haplo_lanc == i_anc\n",
    "                    ] - af_chunk[:, np.where(haplo_lanc == i_anc)[1], i_anc].squeeze(\n",
    "                        axis=0\n",
    "                    )\n",
    "        return apa\n",
    "\n",
    "    if center:\n",
    "        if inplace:\n",
    "            af_per_anc(ds, inplace=True)\n",
    "            af = ds.data_vars[\"af_per_anc\"].data\n",
    "        else:\n",
    "            af = af_per_anc(ds, inplace=False)\n",
    "        # rechunk so that all chunk of `n_anc` is passed into the helper function\n",
    "        assert (\n",
    "            n_anc == 2\n",
    "        ), \"`n_anc` should be 2, NOTE: not so clear what happens when `n_anc = 3`\"\n",
    "        af = af.rechunk({0: geno.chunks[1], 1: n_anc})\n",
    "\n",
    "        rls_allele_per_anc = da.map_blocks(\n",
    "            lambda geno_chunk, lanc_chunk, af_chunk: helper(\n",
    "                geno_chunk=geno_chunk,\n",
    "                lanc_chunk=lanc_chunk,\n",
    "                n_anc=n_anc,\n",
    "                af_chunk=af_chunk,\n",
    "            ),\n",
    "            geno,\n",
    "            lanc,\n",
    "            af[None, :, :],\n",
    "            dtype=np.float64,\n",
    "        )\n",
    "\n",
    "    else:\n",
    "        rls_allele_per_anc = da.map_blocks(\n",
    "            lambda geno_chunk, lanc_chunk: helper(\n",
    "                geno_chunk=geno_chunk, lanc_chunk=lanc_chunk, n_anc=n_anc\n",
    "            ),\n",
    "            geno,\n",
    "            lanc,\n",
    "            dtype=np.float64,\n",
    "        )\n",
    "    if inplace:\n",
    "        ds[\"allele_per_anc\"] = xr.DataArray(\n",
    "            rls_allele_per_anc, dims=(\"indiv\", \"snp\", \"anc\")\n",
    "        )\n",
    "    else:\n",
    "        return rls_allele_per_anc"
   ]
  },
  {
   "cell_type": "code",
   "execution_count": 4,
   "id": "afb43a3b-10d7-42a5-b200-cbc8e9466484",
   "metadata": {},
   "outputs": [],
   "source": [
    "def admix_grm(dset, center: bool = False, inplace=True):\n",
    "    \"\"\"Calculate ancestry specific GRM matrix\n",
    "    Parameters\n",
    "    ----------\n",
    "    center: bool\n",
    "        whether to center the `allele_per_ancestry` matrix\n",
    "        in the calculation\n",
    "    inplace: bool\n",
    "        whether to return a new dataset or modify the input dataset\n",
    "    Returns\n",
    "    -------\n",
    "    If `inplace` is False, return a dictionary of GRM matrices\n",
    "        - K1: np.ndarray\n",
    "            ancestry specific GRM matrix for the 1st ancestry\n",
    "        - K2: np.ndarray\n",
    "            ancestry specific GRM matrix for the 2nd ancestry\n",
    "        - K12: np.ndarray\n",
    "            ancestry specific GRM matrix for cross term of the 1st and 2nd ancestry\n",
    "    If `inplace` is True, return None\n",
    "        \"admix_grm_K1\", \"admix_grm_K2\", \"admix_grm_K12\" will be added to the dataset\n",
    "    \"\"\"\n",
    "\n",
    "    geno = dset[\"geno\"].data\n",
    "    lanc = dset[\"lanc\"].data\n",
    "    n_anc = dset.attrs[\"n_anc\"]\n",
    "    assert n_anc == 2, \"only two-way admixture is implemented\"\n",
    "    assert np.all(geno.shape == lanc.shape)\n",
    "    # TODO: everytime should we recompute? or use the cached version?\n",
    "    # how to make sure the cache is up to date?\n",
    "    apa = allele_per_anc(dset, center=center, inplace=False).astype(float)\n",
    "\n",
    "    n_indiv, n_snp = apa.shape[0:2]\n",
    "\n",
    "    a1, a2 = apa[:, :, 0], apa[:, :, 1]\n",
    "\n",
    "    K1 = np.dot(a1, a1.T) / n_snp\n",
    "    K2 = np.dot(a2, a2.T) / n_snp\n",
    "    K12 = np.dot(a1, a2.T) / n_snp\n",
    "\n",
    "    if inplace:\n",
    "        dset[\"admix_grm_K1\"] = xr.DataArray(K1, dims=(\"indiv\", \"indiv\"))\n",
    "        dset[\"admix_grm_K2\"] = xr.DataArray(K2, dims=(\"indiv\", \"indiv\"))\n",
    "        dset[\"admix_grm_K12\"] = xr.DataArray(K12, dims=(\"indiv\", \"indiv\"))\n",
    "        return None\n",
    "    else:\n",
    "        return {\"K1\": K1, \"K2\": K2, \"K12\": K12}"
   ]
  },
  {
   "cell_type": "code",
   "execution_count": 5,
   "id": "3a31cdc2-a0cb-4a63-b54d-84900089429f",
   "metadata": {},
   "outputs": [],
   "source": [
    "def submit_grm(chrom):\n",
    "    from dask.distributed import Client, progress\n",
    "\n",
    "    client = Client(\n",
    "        processes=False, threads_per_worker=1, n_workers=1, memory_limit=\"32GB\"\n",
    "    )\n",
    "\n",
    "    dset = admix_genet_cor.load_page_hm3(chrom=chrom)\n",
    "    admix_grm(dset, center=True)\n",
    "    dset[\"A1\"] = (\n",
    "        (\"indiv\", \"indiv\"),\n",
    "        dset[\"admix_grm_K1\"].data + dset[\"admix_grm_K2\"].data,\n",
    "    )\n",
    "    dset[\"A2\"] = (\n",
    "        (\"indiv\", \"indiv\"),\n",
    "        dset[\"admix_grm_K12\"].data + dset[\"admix_grm_K12\"].data.T,\n",
    "    )\n",
    "\n",
    "    A1, A2 = dask.compute(dset[\"A1\"], dset[\"A2\"])\n",
    "\n",
    "    np.save(f\"out/debug/correct-A1.chr{chrom}.npy\", A1)\n",
    "    np.save(f\"out/debug/correct-A2.chr{chrom}.npy\", A2)"
   ]
  },
  {
   "cell_type": "code",
   "execution_count": 6,
   "id": "79a3397b-2dc9-49fb-b50f-1f4f341ffd61",
   "metadata": {},
   "outputs": [],
   "source": [
    "import submitit\n",
    "\n",
    "executor = submitit.SgeExecutor(folder=\"./submitit-logs\")\n",
    "\n",
    "executor.update_parameters(\n",
    "    time_min=240,\n",
    "    memory_g=36,\n",
    "    setup=[\n",
    "        \"export PATH=~/project-pasaniuc/software/miniconda3/bin:$PATH\",\n",
    "        \"export PYTHONNOUSERSITE=True\",\n",
    "    ],\n",
    ")\n",
    "\n",
    "jobs = executor.map_array(submit_grm, np.arange(1, 23).tolist())"
   ]
  }
 ],
 "metadata": {
  "kernelspec": {
   "display_name": "Python 3",
   "language": "python",
   "name": "python3"
  },
  "language_info": {
   "codemirror_mode": {
    "name": "ipython",
    "version": 3
   },
   "file_extension": ".py",
   "mimetype": "text/x-python",
   "name": "python",
   "nbconvert_exporter": "python",
   "pygments_lexer": "ipython3",
   "version": "3.8.5"
  }
 },
 "nbformat": 4,
 "nbformat_minor": 5
}
