{
 "cells": [
  {
   "cell_type": "code",
   "execution_count": 1,
   "id": "55dcd7bf-9400-4860-b738-f943d10f3a61",
   "metadata": {},
   "outputs": [],
   "source": [
    "%load_ext lab_black\n",
    "%load_ext autoreload\n",
    "%autoreload 2\n",
    "\n",
    "import pandas as pd\n",
    "import numpy as np\n",
    "import dapgen\n",
    "import itertools\n",
    "import submitit\n",
    "import json\n",
    "import matplotlib.pyplot as plt\n",
    "import admix_genet_cor\n",
    "import admix\n",
    "from os.path import join\n",
    "import os\n",
    "import json"
   ]
  },
  {
   "cell_type": "code",
   "execution_count": 2,
   "id": "e6d9d656-c6a0-4f68-90c1-7125da71412a",
   "metadata": {},
   "outputs": [],
   "source": [
    "SUPP_TABLE_URL = \"https://www.dropbox.com/s/jck2mhjby2ur55j/supp_tables.xlsx?dl=1\"\n",
    "PFILE_DIR = \"/u/project/pasaniuc/pasaniucdata/admixture/projects/PAGE-QC/01_dataset/out/aframr/imputed\"\n",
    "SAMPLE_INFO_PATH = \"/u/project/pasaniuc/pasaniucdata/admixture/projects/PAGE-QC/01_dataset/out/aframr/sample_info.txt\"\n",
    "trait_info = pd.read_excel(SUPP_TABLE_URL, sheet_name=\"trait-info\")\n",
    "trait_list = trait_info[\"trait\"].values"
   ]
  },
  {
   "cell_type": "code",
   "execution_count": 3,
   "id": "7075bbbb-5cec-495c-823b-5558802e8bc9",
   "metadata": {},
   "outputs": [],
   "source": [
    "def submit_gcta_estimate(snpset, hermodel, trait, duffy_covar=True):\n",
    "    # compile phenotype and covariates\n",
    "    dset = admix.dataset.read_dataset(\n",
    "        join(PFILE_DIR, \"chr1\"),\n",
    "        indiv_info=SAMPLE_INFO_PATH,\n",
    "        n_anc=2,\n",
    "    )\n",
    "\n",
    "    # special case for duffy SNPs, include the duffy SNPs in the covariate\n",
    "\n",
    "    subset_indiv = np.where(~np.isnan(dset.indiv[trait]).values)[0]\n",
    "    dset_assoc = dset[:, subset_indiv]\n",
    "\n",
    "    covar_cols = [\"age\", \"sex\", \"study\"] + [f\"geno_EV{i}\" for i in range(1, 11)]\n",
    "\n",
    "    df_pheno = dset_assoc.indiv[[trait]].copy()\n",
    "    df_covar = dset_assoc.indiv[covar_cols].copy()\n",
    "    # create study dummies variables\n",
    "    study_dummies = pd.get_dummies(df_covar[\"study\"], drop_first=True)\n",
    "    study_dummies.columns = [f\"study_dummy_{s}\" for s in study_dummies.columns]\n",
    "    df_covar = pd.concat([df_covar, study_dummies], axis=1)\n",
    "    df_covar = df_covar.drop(columns=[\"study\"])\n",
    "\n",
    "    if duffy_covar:\n",
    "        # find closest SNPs\n",
    "        duffy_snp_loc = np.argmin(np.abs(dset_assoc.snp.POS - 159204893))\n",
    "        assert dset_assoc.snp.CHROM.iloc[duffy_snp_loc] == 1\n",
    "        duffy_lanc = dset_assoc[duffy_snp_loc].lanc.sum(axis=[0, 2]).compute()\n",
    "        df_covar[\"duffy_lanc\"] = duffy_lanc\n",
    "\n",
    "    for col in df_pheno.columns:\n",
    "        df_pheno[col] = admix.data.quantile_normalize(df_pheno[col])\n",
    "\n",
    "    df_id = pd.DataFrame(\n",
    "        {\"FID\": df_pheno.index.values, \"IID\": df_pheno.index.values},\n",
    "        index=df_pheno.index.values,\n",
    "    )\n",
    "    df_pheno = pd.merge(df_id, df_pheno, left_index=True, right_index=True)\n",
    "    df_covar = pd.merge(df_id, df_covar, left_index=True, right_index=True)\n",
    "\n",
    "    out_prefix = f\"out/gcta-estimate/estimate/{trait}.{snpset}.{hermodel}\"\n",
    "    if duffy_covar:\n",
    "        out_prefix += \".duffy_covar\"\n",
    "    mgrm_path = f\"out/gcta-estimate/grm/{snpset}.{hermodel}.mgrm.txt\"\n",
    "    admix.tools.gcta.reml(\n",
    "        mgrm_path=mgrm_path, df_pheno=df_pheno, df_covar=df_covar, out_prefix=out_prefix\n",
    "    )"
   ]
  },
  {
   "cell_type": "code",
   "execution_count": 4,
   "id": "3c46829d-acec-40a9-9de1-caf4021cb6dd",
   "metadata": {},
   "outputs": [],
   "source": [
    "df_params = pd.DataFrame(\n",
    "    [\n",
    "        params\n",
    "        for params in itertools.product(\n",
    "            [\"imputed\"], [\"mafukb\", \"gcta\"], trait_list, [True, False]\n",
    "        )\n",
    "    ],\n",
    "    columns=[\"snpset\", \"hermodel\", \"trait\", \"duffy_covar\"],\n",
    ")"
   ]
  },
  {
   "cell_type": "code",
   "execution_count": 5,
   "id": "9ac91b4d-86a7-4916-a8ad-6f9006e81b30",
   "metadata": {},
   "outputs": [],
   "source": [
    "executor = submitit.SgeExecutor(folder=\"./submitit-logs\")\n",
    "\n",
    "executor.update_parameters(\n",
    "    time_min=150,\n",
    "    memory_g=20,\n",
    "    setup=[\n",
    "        \"export PATH=~/project-pasaniuc/software/miniconda3/bin:$PATH\",\n",
    "        \"export PYTHONNOUSERSITE=True\",\n",
    "    ],\n",
    ")\n",
    "\n",
    "jobs = executor.map_array(\n",
    "    submit_gcta_estimate, df_params.snpset, df_params.hermodel, df_params.trait\n",
    ")"
   ]
  }
 ],
 "metadata": {
  "kernelspec": {
   "display_name": "Python 3",
   "language": "python",
   "name": "python3"
  },
  "language_info": {
   "codemirror_mode": {
    "name": "ipython",
    "version": 3
   },
   "file_extension": ".py",
   "mimetype": "text/x-python",
   "name": "python",
   "nbconvert_exporter": "python",
   "pygments_lexer": "ipython3",
   "version": "3.8.5"
  }
 },
 "nbformat": 4,
 "nbformat_minor": 5
}
