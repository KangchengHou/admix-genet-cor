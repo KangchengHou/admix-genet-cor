{
 "cells": [
  {
   "cell_type": "markdown",
   "id": "4feb78ca-5ab2-4ff6-b14f-a4effd471625",
   "metadata": {},
   "source": [
    "# PAGE hm3 analysis"
   ]
  },
  {
   "cell_type": "markdown",
   "id": "e2677c4b-1135-4b17-b06d-064d74a282ff",
   "metadata": {},
   "source": [
    "### Step 2: Calculate GRM\n",
    "Calculate GRM matrices\n",
    "```\n",
    "\n",
    "### Step 3: estimate parameters\n",
    "```bash\n",
    "for n_indiv in 5000 10000 20000; do\n",
    "    for anc_prop in 0.2 0.5; do\n",
    "        dset_prefix=n_indiv_${n_indiv}_anc_prop_${anc_prop}\n",
    "        for cor in 0.5 0.8 1.0; do\n",
    "            qsub estimate_HE.sh ${dset_prefix} ${cor}\n",
    "        done\n",
    "    done\n",
    "done\n",
    "```"
   ]
  },
  {
   "cell_type": "code",
   "execution_count": 6,
   "id": "b5e8f6f6-4997-46d7-9c1b-6de14502dcc7",
   "metadata": {},
   "outputs": [
    {
     "name": "stdout",
     "output_type": "stream",
     "text": [
      "The autoreload extension is already loaded. To reload it, use:\n",
      "  %reload_ext autoreload\n"
     ]
    }
   ],
   "source": [
    "%load_ext autoreload\n",
    "%autoreload 2"
   ]
  },
  {
   "cell_type": "code",
   "execution_count": 7,
   "id": "2b0764c8-b9bf-4d89-a0dd-0c933a2afebc",
   "metadata": {},
   "outputs": [],
   "source": [
    "import xarray as xr\n",
    "import numpy as np\n",
    "import admix\n",
    "import matplotlib.pyplot as plt\n",
    "from utils import *\n",
    "import dask\n",
    "import dask.array as da\n",
    "from tqdm import tqdm\n",
    "\n",
    "def quantile_normalize(val):\n",
    "    from scipy.stats import rankdata, norm\n",
    "    return norm.ppf((rankdata(val) - 0.5) / len(val)) "
   ]
  },
  {
   "cell_type": "code",
   "execution_count": 9,
   "id": "d7ec46a1-82d5-4fe8-b1e5-8e06f99d823c",
   "metadata": {},
   "outputs": [
    {
     "name": "stderr",
     "output_type": "stream",
     "text": [
      "100%|██████████| 22/22 [00:00<00:00, 57.94it/s]\n"
     ]
    }
   ],
   "source": [
    "dset = load_hm3()"
   ]
  },
  {
   "cell_type": "code",
   "execution_count": 10,
   "id": "c702b761-7cdc-404d-80c4-854dfec44c86",
   "metadata": {},
   "outputs": [],
   "source": [
    "K1 = np.load(\"out/admix_grm/K1.all.npy\")\n",
    "K2 = np.load(\"out/admix_grm/K2.all.npy\")\n",
    "K12 = np.load(\"out/admix_grm/K12.all.npy\")"
   ]
  },
  {
   "cell_type": "code",
   "execution_count": 11,
   "id": "d015f0e8-5753-4269-9be4-2b24d0f11c32",
   "metadata": {},
   "outputs": [],
   "source": [
    "dset[\"A1\"] = ((\"indiv\", \"indiv\"), K1 + K2)\n",
    "dset[\"A2\"] = ((\"indiv\", \"indiv\"), K12 + K12.T)"
   ]
  },
  {
   "cell_type": "code",
   "execution_count": 1,
   "id": "9c06d879-4b5c-42ee-b0d1-f9ff8e2adf90",
   "metadata": {},
   "outputs": [],
   "source": [
    "trait_list = [\n",
    "    # Inflammtory traits\n",
    "    \"crp\",\n",
    "    \"total_wbc_cnt\",\n",
    "    \"mean_corp_hgb_conc\",\n",
    "    \"platelet_cnt\",\n",
    "    # lipid traits\n",
    "    \"hdl\",\n",
    "    \"ldl\",\n",
    "    \"triglycerides\",\n",
    "    \"total_cholesterol\",\n",
    "    # lifestyle traits\n",
    "    \"cigs_per_day_excl_nonsmk_updated\",\n",
    "    \"coffee_cup_day\",\n",
    "    # glycemic traits\n",
    "    \"a1c\",\n",
    "    \"insulin\",\n",
    "    \"glucose\",\n",
    "    \"t2d_status\",\n",
    "    # electrocardiogram traits\n",
    "    \"qt_interval\",\n",
    "    \"qrs_interval\",\n",
    "    \"pr_interval\",\n",
    "    # blood pressure traits\n",
    "    \"systolic_bp\",\n",
    "    \"diastolic_bp\",\n",
    "    \"hypertension\",\n",
    "    # anthropometric traits\n",
    "    \"waist_hip_ratio\",\n",
    "    \"height\",\n",
    "    \"bmi\",\n",
    "    # kidney traits\n",
    "    \"egfrckdepi\",\n",
    "]\n"
   ]
  },
  {
   "cell_type": "code",
   "execution_count": 9,
   "id": "62eeee53-ca60-48a0-875d-4096a54ba5ce",
   "metadata": {},
   "outputs": [],
   "source": [
    "with open(\"trait_list.txt\", 'w') as f:\n",
    "    f.writelines('\\n'.join(trait_list))"
   ]
  },
  {
   "cell_type": "code",
   "execution_count": 137,
   "id": "974007ee-b106-4fd8-9889-fcde3e51d914",
   "metadata": {},
   "outputs": [
    {
     "name": "stderr",
     "output_type": "stream",
     "text": [
      "  0%|          | 0/24 [00:00<?, ?it/s]/u/project/pasaniuc/kangchen/software/miniconda3/lib/python3.8/site-packages/xarray/core/indexing.py:1226: PerformanceWarning: Slicing is producing a large chunk. To accept the large\n",
      "chunk and silence this warning, set the option\n",
      "    >>> with dask.config.set(**{'array.slicing.split_large_chunks': False}):\n",
      "    ...     array[indexer]\n",
      "\n",
      "To avoid creating the large chunks, set the option\n",
      "    >>> with dask.config.set(**{'array.slicing.split_large_chunks': True}):\n",
      "    ...     array[indexer]\n",
      "  return self.array[key]\n",
      "  4%|▍         | 1/24 [00:20<07:58, 20.82s/it]"
     ]
    },
    {
     "name": "stdout",
     "output_type": "stream",
     "text": [
      "--------------\n",
      "crp (N=8521)\n",
      "[0.42140723 0.39212931 0.82550683]\n",
      "[[ 0.00601432  0.00846136 -0.00176934]\n",
      " [ 0.00846136  0.01635791 -0.00238153]\n",
      " [-0.00176934 -0.00238153  0.00074112]]\n"
     ]
    },
    {
     "name": "stderr",
     "output_type": "stream",
     "text": [
      "  8%|▊         | 2/24 [00:43<08:03, 21.99s/it]"
     ]
    },
    {
     "name": "stdout",
     "output_type": "stream",
     "text": [
      "--------------\n",
      "total_wbc_cnt (N=8889)\n",
      "[ 0.64724382 -1.05345162  0.65345385]\n",
      "[[ 0.03220871  0.03939174 -0.00999912]\n",
      " [ 0.03939174  0.15508984 -0.01077568]\n",
      " [-0.00999912 -0.01077568  0.00334822]]\n"
     ]
    },
    {
     "name": "stderr",
     "output_type": "stream",
     "text": [
      " 12%|█▎        | 3/24 [00:47<04:51, 13.87s/it]"
     ]
    },
    {
     "name": "stdout",
     "output_type": "stream",
     "text": [
      "--------------\n",
      "mean_corp_hgb_conc (N=3816)\n",
      "[0.38898219 0.453761   0.79923986]\n",
      "[[ 0.02307919  0.03400366 -0.00691036]\n",
      " [ 0.03400366  0.05704732 -0.00994381]\n",
      " [-0.00691036 -0.00994381  0.00252558]]\n"
     ]
    },
    {
     "name": "stderr",
     "output_type": "stream",
     "text": [
      " 17%|█▋        | 4/24 [01:10<05:49, 17.50s/it]"
     ]
    },
    {
     "name": "stdout",
     "output_type": "stream",
     "text": [
      "--------------\n",
      "platelet_cnt (N=8871)\n",
      "[0.21047784 0.14839214 0.87670605]\n",
      "[[ 0.0048363   0.0070087  -0.00145156]\n",
      " [ 0.0070087   0.01291104 -0.00203896]\n",
      " [-0.00145156 -0.00203896  0.00063983]]\n"
     ]
    },
    {
     "name": "stderr",
     "output_type": "stream",
     "text": [
      " 21%|██        | 5/24 [01:43<07:15, 22.94s/it]"
     ]
    },
    {
     "name": "stdout",
     "output_type": "stream",
     "text": [
      "--------------\n",
      "hdl (N=10248)\n",
      "[0.25728543 0.20740644 0.82340057]\n",
      "[[ 0.00357949  0.0050979  -0.00106347]\n",
      " [ 0.0050979   0.00976471 -0.00145797]\n",
      " [-0.00106347 -0.00145797  0.00047856]]\n"
     ]
    },
    {
     "name": "stderr",
     "output_type": "stream",
     "text": [
      " 25%|██▌       | 6/24 [02:11<07:25, 24.77s/it]"
     ]
    },
    {
     "name": "stdout",
     "output_type": "stream",
     "text": [
      "--------------\n",
      "ldl (N=9875)\n",
      "[0.17649221 0.15675546 0.80875166]\n",
      "[[ 0.0031697   0.00460667 -0.00094956]\n",
      " [ 0.00460667  0.00822378 -0.00133846]\n",
      " [-0.00094956 -0.00133846  0.00043804]]\n"
     ]
    },
    {
     "name": "stderr",
     "output_type": "stream",
     "text": [
      " 29%|██▉       | 7/24 [02:42<07:34, 26.76s/it]"
     ]
    },
    {
     "name": "stdout",
     "output_type": "stream",
     "text": [
      "--------------\n",
      "triglycerides (N=10217)\n",
      "[0.28831102 0.28268692 0.85939772]\n",
      "[[ 0.00383346  0.00549872 -0.00113085]\n",
      " [ 0.00549872  0.01010744 -0.00156662]\n",
      " [-0.00113085 -0.00156662  0.00051294]]\n"
     ]
    },
    {
     "name": "stderr",
     "output_type": "stream",
     "text": [
      " 33%|███▎      | 8/24 [03:15<07:36, 28.54s/it]"
     ]
    },
    {
     "name": "stdout",
     "output_type": "stream",
     "text": [
      "--------------\n",
      "total_cholesterol (N=10300)\n",
      "[0.16878066 0.07105047 0.80719309]\n",
      "[[ 0.00316884  0.0045221  -0.00095653]\n",
      " [ 0.0045221   0.00885488 -0.00131399]\n",
      " [-0.00095653 -0.00131399  0.00043554]]\n"
     ]
    },
    {
     "name": "stderr",
     "output_type": "stream",
     "text": [
      " 38%|███▊      | 9/24 [03:28<05:59, 23.99s/it]"
     ]
    },
    {
     "name": "stdout",
     "output_type": "stream",
     "text": [
      "--------------\n",
      "cigs_per_day_excl_nonsmk_updated (N=7171)\n",
      "[0.1953002  0.21026018 0.86981171]\n",
      "[[ 0.00638569  0.0094231  -0.00192279]\n",
      " [ 0.0094231   0.01607254 -0.00275878]\n",
      " [-0.00192279 -0.00275878  0.00082527]]\n"
     ]
    },
    {
     "name": "stderr",
     "output_type": "stream",
     "text": [
      " 42%|████▏     | 10/24 [04:11<06:57, 29.86s/it]"
     ]
    },
    {
     "name": "stdout",
     "output_type": "stream",
     "text": [
      "--------------\n",
      "coffee_cup_day (N=11862)\n",
      "[0.12520405 0.14712328 0.65859038]\n",
      "[[ 0.00127476  0.00185596 -0.00037981]\n",
      " [ 0.00185596  0.00316793 -0.00053628]\n",
      " [-0.00037981 -0.00053628  0.00019614]]\n"
     ]
    },
    {
     "name": "stderr",
     "output_type": "stream",
     "text": [
      " 46%|████▌     | 11/24 [04:13<04:33, 21.06s/it]"
     ]
    },
    {
     "name": "stdout",
     "output_type": "stream",
     "text": [
      "--------------\n",
      "a1c (N=1854)\n",
      "[0.63306532 1.04932616 0.78363982]\n",
      "[[ 0.105331    0.15650988 -0.03155093]\n",
      " [ 0.15650988  0.25046873 -0.04597796]\n",
      " [-0.03155093 -0.04597796  0.01052222]]\n"
     ]
    },
    {
     "name": "stderr",
     "output_type": "stream",
     "text": [
      " 50%|█████     | 12/24 [04:31<04:02, 20.17s/it]"
     ]
    },
    {
     "name": "stdout",
     "output_type": "stream",
     "text": [
      "--------------\n",
      "insulin (N=7927)\n",
      "[0.30018263 0.38293101 0.88315166]\n",
      "[[ 0.0059739   0.00876503 -0.0017673 ]\n",
      " [ 0.00876503  0.01471117 -0.00252183]\n",
      " [-0.0017673  -0.00252183  0.00076709]]\n"
     ]
    },
    {
     "name": "stderr",
     "output_type": "stream",
     "text": [
      " 54%|█████▍    | 13/24 [04:59<04:10, 22.75s/it]"
     ]
    },
    {
     "name": "stdout",
     "output_type": "stream",
     "text": [
      "--------------\n",
      "glucose (N=9937)\n",
      "[0.10820453 0.09736257 0.86079365]\n",
      "[[ 0.00313816  0.00462918 -0.00095034]\n",
      " [ 0.00462918  0.00793464 -0.00136514]\n",
      " [-0.00095034 -0.00136514  0.0004511 ]]\n"
     ]
    },
    {
     "name": "stderr",
     "output_type": "stream",
     "text": [
      " 58%|█████▊    | 14/24 [06:39<07:38, 45.84s/it]"
     ]
    },
    {
     "name": "stdout",
     "output_type": "stream",
     "text": [
      "--------------\n",
      "t2d_status (N=16176)\n",
      "[0.06996226 0.0684802  0.47584202]\n",
      "[[ 3.88384027e-04  5.62437804e-04 -1.15753144e-04]\n",
      " [ 5.62437804e-04  9.92612187e-04 -1.62792595e-04]\n",
      " [-1.15753144e-04 -1.62792595e-04  6.53962151e-05]]\n"
     ]
    },
    {
     "name": "stderr",
     "output_type": "stream",
     "text": [
      " 62%|██████▎   | 15/24 [06:44<05:02, 33.56s/it]"
     ]
    },
    {
     "name": "stdout",
     "output_type": "stream",
     "text": [
      "--------------\n",
      "qt_interval (N=4196)\n",
      "[0.2525082  0.32103828 0.8986728 ]\n",
      "[[ 0.02036245  0.03029722 -0.00615727]\n",
      " [ 0.03029722  0.05007502 -0.00894707]\n",
      " [-0.00615727 -0.00894707  0.00232919]]\n"
     ]
    },
    {
     "name": "stderr",
     "output_type": "stream",
     "text": [
      " 67%|██████▋   | 16/24 [06:48<03:17, 24.75s/it]"
     ]
    },
    {
     "name": "stdout",
     "output_type": "stream",
     "text": [
      "--------------\n",
      "qrs_interval (N=4185)\n",
      "[0.40813032 0.56560672 0.83883576]\n",
      "[[ 0.02043545  0.03033205 -0.00609705]\n",
      " [ 0.03033205  0.04980681 -0.00883633]\n",
      " [-0.00609705 -0.00883633  0.00227562]]\n"
     ]
    },
    {
     "name": "stderr",
     "output_type": "stream",
     "text": [
      " 71%|███████   | 17/24 [06:53<02:11, 18.72s/it]"
     ]
    },
    {
     "name": "stdout",
     "output_type": "stream",
     "text": [
      "--------------\n",
      "pr_interval (N=4178)\n",
      "[0.4022199  0.44532517 0.84462778]\n",
      "[[ 0.02143748  0.03156717 -0.00642499]\n",
      " [ 0.03156717  0.05374054 -0.00921667]\n",
      " [-0.00642499 -0.00921667  0.00238969]]\n"
     ]
    },
    {
     "name": "stderr",
     "output_type": "stream",
     "text": [
      " 75%|███████▌  | 18/24 [07:32<02:29, 25.00s/it]"
     ]
    },
    {
     "name": "stdout",
     "output_type": "stream",
     "text": [
      "--------------\n",
      "systolic_bp (N=11425)\n",
      "[0.09143118 0.13835599 0.91418628]\n",
      "[[ 0.00255633  0.00380927 -0.00077074]\n",
      " [ 0.00380927  0.00617015 -0.00112386]\n",
      " [-0.00077074 -0.00112386  0.00038916]]\n"
     ]
    },
    {
     "name": "stderr",
     "output_type": "stream",
     "text": [
      " 79%|███████▉  | 19/24 [08:12<02:26, 29.36s/it]"
     ]
    },
    {
     "name": "stdout",
     "output_type": "stream",
     "text": [
      "--------------\n",
      "diastolic_bp (N=11424)\n",
      "[0.04543015 0.06252073 0.96944557]\n",
      "[[ 0.00274493  0.00409577 -0.00083755]\n",
      " [ 0.00409577  0.00668504 -0.001223  ]\n",
      " [-0.00083755 -0.001223    0.00042641]]\n"
     ]
    },
    {
     "name": "stderr",
     "output_type": "stream",
     "text": [
      " 83%|████████▎ | 20/24 [10:01<03:33, 53.25s/it]"
     ]
    },
    {
     "name": "stdout",
     "output_type": "stream",
     "text": [
      "--------------\n",
      "hypertension (N=17195)\n",
      "[0.03414533 0.04625798 0.38825278]\n",
      "[[ 1.95250339e-04  2.88258019e-04 -5.86183892e-05]\n",
      " [ 2.88258019e-04  4.72772110e-04 -8.44635755e-05]\n",
      " [-5.86183892e-05 -8.44635755e-05  3.62157150e-05]]\n"
     ]
    },
    {
     "name": "stderr",
     "output_type": "stream",
     "text": [
      " 88%|████████▊ | 21/24 [10:32<02:20, 46.71s/it]"
     ]
    },
    {
     "name": "stdout",
     "output_type": "stream",
     "text": [
      "--------------\n",
      "waist_hip_ratio (N=10307)\n",
      "[0.11409023 0.10967004 0.77954601]\n",
      "[[ 0.00238857  0.00349933 -0.00072149]\n",
      " [ 0.00349933  0.00601172 -0.0010272 ]\n",
      " [-0.00072149 -0.0010272   0.00034869]]\n"
     ]
    },
    {
     "name": "stderr",
     "output_type": "stream",
     "text": [
      " 92%|█████████▏| 22/24 [12:18<02:09, 64.56s/it]"
     ]
    },
    {
     "name": "stdout",
     "output_type": "stream",
     "text": [
      "--------------\n",
      "height (N=17286)\n",
      "[0.39970117 0.38581886 0.47209472]\n",
      "[[ 0.00104545  0.00128381 -0.00029493]\n",
      " [ 0.00128381  0.0032907  -0.00032907]\n",
      " [-0.00029493 -0.00032907  0.00012583]]\n"
     ]
    },
    {
     "name": "stderr",
     "output_type": "stream",
     "text": [
      " 96%|█████████▌| 23/24 [14:07<01:17, 77.82s/it]"
     ]
    },
    {
     "name": "stdout",
     "output_type": "stream",
     "text": [
      "--------------\n",
      "bmi (N=17264)\n",
      "[0.37357099 0.41306849 0.8248541 ]\n",
      "[[ 0.00157557  0.00213294 -0.00044475]\n",
      " [ 0.00213294  0.00424611 -0.0005712 ]\n",
      " [-0.00044475 -0.0005712   0.00022924]]\n"
     ]
    },
    {
     "name": "stderr",
     "output_type": "stream",
     "text": [
      "100%|██████████| 24/24 [14:26<00:00, 36.10s/it]"
     ]
    },
    {
     "name": "stdout",
     "output_type": "stream",
     "text": [
      "--------------\n",
      "egfrckdepi (N=8261)\n",
      "[0.14721418 0.12131103 0.68707128]\n",
      "[[ 0.00322823  0.00472596 -0.00097069]\n",
      " [ 0.00472596  0.00834396 -0.00138296]\n",
      " [-0.00097069 -0.00138296  0.00042424]]\n"
     ]
    },
    {
     "name": "stderr",
     "output_type": "stream",
     "text": [
      "\n"
     ]
    }
   ],
   "source": [
    "dict_result = {\"trait\": [], \n",
    "             \"n_indiv\": [], \n",
    "             \"est\": [],\n",
    "             \"est_var\": []}\n",
    "\n",
    "for trait in tqdm(trait_list):\n",
    "    dset_cor = dset.isel(indiv=~np.isnan(dset[f\"{trait}@indiv\"].values))\n",
    "    study_dummies = pd.get_dummies(dset_cor[\"study@indiv\"], drop_first=True)\n",
    "    for c in study_dummies:\n",
    "        dset_cor[f\"study_dummy_{c}@indiv\"] = (\"indiv\", study_dummies[c])\n",
    "    study_dummy_cols = [f\"study_dummy_{c}\" for c in study_dummies]\n",
    "    \n",
    "    pheno = dset_cor[f\"{trait}@indiv\"].values\n",
    "#     pheno = (pheno - pheno.mean()) / pheno.std()\n",
    "    pheno = quantile_normalize(pheno)\n",
    "    est, est_var = admix.estimate.admix_gen_cor(dset=dset_cor, \n",
    "                                                pheno=pheno, \n",
    "                                                cov_cols=[\"age\", \"sex\"] + study_dummy_cols + [f\"geno_EV{i}\" for i in range(1, 11)])[0]\n",
    "    print('--------------')\n",
    "    print(f\"{trait} (N={dset_cor.dims['indiv']})\")\n",
    "    print(est)\n",
    "    print(est_var)\n",
    "    \n",
    "    dict_result[\"trait\"].append(trait)\n",
    "    dict_result[\"n_indiv\"].append(dset_cor.dims['indiv'])\n",
    "    dict_result[\"est\"].append(est)\n",
    "    dict_result[\"est_var\"].append(est_var)"
   ]
  },
  {
   "cell_type": "code",
   "execution_count": 138,
   "id": "c6b55380-3eb2-42cd-a712-4c9988927de6",
   "metadata": {},
   "outputs": [],
   "source": [
    "df_rls = dict()\n",
    "for name in [\"trait\", \"n_indiv\"]:\n",
    "    df_rls[name] = dict_result[name]\n",
    "\n",
    "for i, name in enumerate([\"sigma_g\", \"gamma\", \"sigma_e\"]):\n",
    "    df_rls[name] = [f\"{e[i]:.2f} ({np.sqrt(v[i, i]):.2f})\" for e, v in zip(dict_result[\"est\"], dict_result[\"est_var\"])]\n",
    "df_rls = pd.DataFrame(df_rls)"
   ]
  },
  {
   "cell_type": "code",
   "execution_count": null,
   "id": "d8b1a39f-37da-4c32-a27f-e43a8205bd8f",
   "metadata": {},
   "outputs": [],
   "source": [
    "df_rls"
   ]
  },
  {
   "cell_type": "code",
   "execution_count": 142,
   "id": "7bb25fd5-688a-48f0-be69-905b294fadfa",
   "metadata": {},
   "outputs": [],
   "source": [
    "df_rls.to_csv(\"result/page.csv\", index=False)"
   ]
  }
 ],
 "metadata": {
  "kernelspec": {
   "display_name": "Python 3",
   "language": "python",
   "name": "python3"
  },
  "language_info": {
   "codemirror_mode": {
    "name": "ipython",
    "version": 3
   },
   "file_extension": ".py",
   "mimetype": "text/x-python",
   "name": "python",
   "nbconvert_exporter": "python",
   "pygments_lexer": "ipython3",
   "version": "3.8.5"
  }
 },
 "nbformat": 4,
 "nbformat_minor": 5
}
