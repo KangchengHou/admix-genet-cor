{
 "cells": [
  {
   "cell_type": "code",
   "execution_count": 19,
   "id": "f811d5cd-df7e-4641-8719-69be29c8afd7",
   "metadata": {},
   "outputs": [
    {
     "name": "stdout",
     "output_type": "stream",
     "text": [
      "The lab_black extension is already loaded. To reload it, use:\n",
      "  %reload_ext lab_black\n"
     ]
    }
   ],
   "source": [
    "%load_ext lab_black\n",
    "\n",
    "import numpy as np\n",
    "import admix\n",
    "import dapgen\n",
    "import pandas as pd\n",
    "from tqdm import tqdm\n",
    "import matplotlib.pyplot as plt"
   ]
  },
  {
   "cell_type": "code",
   "execution_count": 2,
   "id": "d46f5d60-1a41-4574-9742-4b04b5c7543b",
   "metadata": {},
   "outputs": [],
   "source": [
    "DATA_ROOT_DIR = (\n",
    "    \"/u/project/pasaniuc/pasaniucdata/admixture/projects/PAGE-QC/01-dataset/out/aframr\"\n",
    ")"
   ]
  },
  {
   "cell_type": "code",
   "execution_count": 3,
   "id": "58ffc389-0132-43ea-be73-6b8587ac2d32",
   "metadata": {},
   "outputs": [],
   "source": [
    "N_ANC = 2\n",
    "pfile_list = [f\"{DATA_ROOT_DIR}/imputed/chr{chrom}\" for chrom in range(1, 23)]\n",
    "df_snp_info = pd.concat(\n",
    "    [pd.read_csv(pfile + \".snp_info\", sep=\"\\t\") for pfile in pfile_list]\n",
    ").reset_index(drop=True)"
   ]
  },
  {
   "cell_type": "code",
   "execution_count": 4,
   "id": "2f0097f4-afd6-4fe0-a0cf-0b856250dcfa",
   "metadata": {},
   "outputs": [],
   "source": [
    "df_snp_info = df_snp_info[\n",
    "    df_snp_info.EUR_FREQ.between(0.005, 0.995)\n",
    "    & df_snp_info.AFR_FREQ.between(0.005, 0.995)\n",
    "]"
   ]
  },
  {
   "cell_type": "code",
   "execution_count": 5,
   "id": "95e5c244-3ac2-47d3-bce9-01dee9c8159c",
   "metadata": {},
   "outputs": [
    {
     "name": "stdout",
     "output_type": "stream",
     "text": [
      "Number of chromosome 1 variants with MAF > 0.5% in both populations: 515087\n"
     ]
    }
   ],
   "source": [
    "print(\n",
    "    \"Number of chromosome 1 variants with MAF > 0.5% in both populations:\",\n",
    "    sum(df_snp_info.SNP.str.startswith(\"chr1:\")),\n",
    ")"
   ]
  },
  {
   "cell_type": "code",
   "execution_count": 6,
   "id": "a834aa35-e05e-4e8e-8654-bf23ab954986",
   "metadata": {},
   "outputs": [
    {
     "name": "stdout",
     "output_type": "stream",
     "text": [
      "Number of total variants with MAF > 0.5% in both populations: 6887424\n"
     ]
    }
   ],
   "source": [
    "print(\"Number of total variants with MAF > 0.5% in both populations:\", len(df_snp_info))"
   ]
  },
  {
   "cell_type": "code",
   "execution_count": 42,
   "id": "203637e0-ac30-41d7-9708-e0df0d47d984",
   "metadata": {},
   "outputs": [
    {
     "name": "stderr",
     "output_type": "stream",
     "text": [
      "100%|██████████| 22/22 [00:16<00:00,  1.37it/s]\n"
     ]
    },
    {
     "name": "stdout",
     "output_type": "stream",
     "text": [
      "PAGE: 0.78 (0.15)\n"
     ]
    },
    {
     "name": "stderr",
     "output_type": "stream",
     "text": [
      "100%|██████████| 22/22 [00:02<00:00,  8.14it/s]\n"
     ]
    },
    {
     "name": "stdout",
     "output_type": "stream",
     "text": [
      "UKB: 0.59 (0.29)\n"
     ]
    }
   ],
   "source": [
    "# PAGE\n",
    "PAGE_DIR = \"/u/project/pasaniuc/pasaniucdata/admixture/projects/PAGE-QC/01-dataset/out/aframr/hm3/\"\n",
    "UKB_DIR = \"/u/project/sgss/UKBB/UKB-ADMIXED/01-dataset/out/PLINK2/hm3\"\n",
    "\n",
    "for name, data_dir in zip([\"PAGE\", \"UKB\"], [PAGE_DIR, UKB_DIR]):\n",
    "\n",
    "    lanc_count = 0\n",
    "    for chrom in tqdm(range(1, 23)):\n",
    "        lanc_count += admix.data.Lanc(f\"{data_dir}/chr{chrom}.lanc\").lanc_count()\n",
    "    lanc_prop = (lanc_count / lanc_count.sum(axis=1)[:, None])[:, 1]\n",
    "    print(f\"{name}: {lanc_prop.mean():.2f} ({lanc_prop.std():.2f})\")"
   ]
  }
 ],
 "metadata": {
  "kernelspec": {
   "display_name": "Python 3",
   "language": "python",
   "name": "python3"
  },
  "language_info": {
   "codemirror_mode": {
    "name": "ipython",
    "version": 3
   },
   "file_extension": ".py",
   "mimetype": "text/x-python",
   "name": "python",
   "nbconvert_exporter": "python",
   "pygments_lexer": "ipython3",
   "version": "3.8.5"
  }
 },
 "nbformat": 4,
 "nbformat_minor": 5
}
