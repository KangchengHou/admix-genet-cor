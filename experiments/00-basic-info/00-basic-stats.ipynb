{
 "cells": [
  {
   "cell_type": "code",
   "execution_count": 1,
   "id": "f811d5cd-df7e-4641-8719-69be29c8afd7",
   "metadata": {},
   "outputs": [],
   "source": [
    "%load_ext lab_black\n",
    "\n",
    "import numpy as np\n",
    "import admix\n",
    "import dapgen\n",
    "import pandas as pd"
   ]
  },
  {
   "cell_type": "code",
   "execution_count": 2,
   "id": "d46f5d60-1a41-4574-9742-4b04b5c7543b",
   "metadata": {},
   "outputs": [],
   "source": [
    "DATA_ROOT_DIR = (\n",
    "    \"/u/project/pasaniuc/pasaniucdata/admixture/projects/PAGE-QC/01-dataset/out/aframr\"\n",
    ")"
   ]
  },
  {
   "cell_type": "code",
   "execution_count": 3,
   "id": "58ffc389-0132-43ea-be73-6b8587ac2d32",
   "metadata": {},
   "outputs": [],
   "source": [
    "N_ANC = 2\n",
    "pfile_list = [f\"{DATA_ROOT_DIR}/imputed/chr{chrom}\" for chrom in range(1, 23)]\n",
    "df_snp_info = pd.concat(\n",
    "    [pd.read_csv(pfile + \".snp_info\", sep=\"\\t\") for pfile in pfile_list]\n",
    ").reset_index(drop=True)"
   ]
  },
  {
   "cell_type": "code",
   "execution_count": 4,
   "id": "2f0097f4-afd6-4fe0-a0cf-0b856250dcfa",
   "metadata": {},
   "outputs": [],
   "source": [
    "df_snp_info = df_snp_info[\n",
    "    df_snp_info.EUR_FREQ.between(0.005, 0.995)\n",
    "    & df_snp_info.AFR_FREQ.between(0.005, 0.995)\n",
    "]"
   ]
  },
  {
   "cell_type": "code",
   "execution_count": 5,
   "id": "95e5c244-3ac2-47d3-bce9-01dee9c8159c",
   "metadata": {},
   "outputs": [
    {
     "name": "stdout",
     "output_type": "stream",
     "text": [
      "Number of chromosome 1 variants with MAF > 0.5% in both populations: 515087\n"
     ]
    }
   ],
   "source": [
    "print(\n",
    "    \"Number of chromosome 1 variants with MAF > 0.5% in both populations:\",\n",
    "    sum(df_snp_info.SNP.str.startswith(\"chr1:\")),\n",
    ")"
   ]
  },
  {
   "cell_type": "code",
   "execution_count": 6,
   "id": "a834aa35-e05e-4e8e-8654-bf23ab954986",
   "metadata": {},
   "outputs": [
    {
     "name": "stdout",
     "output_type": "stream",
     "text": [
      "Number of total variants with MAF > 0.5% in both populations: 6887424\n"
     ]
    }
   ],
   "source": [
    "print(\"Number of total variants with MAF > 0.5% in both populations:\", len(df_snp_info))"
   ]
  }
 ],
 "metadata": {
  "kernelspec": {
   "display_name": "Python 3",
   "language": "python",
   "name": "python3"
  },
  "language_info": {
   "codemirror_mode": {
    "name": "ipython",
    "version": 3
   },
   "file_extension": ".py",
   "mimetype": "text/x-python",
   "name": "python",
   "nbconvert_exporter": "python",
   "pygments_lexer": "ipython3",
   "version": "3.8.5"
  }
 },
 "nbformat": 4,
 "nbformat_minor": 5
}
