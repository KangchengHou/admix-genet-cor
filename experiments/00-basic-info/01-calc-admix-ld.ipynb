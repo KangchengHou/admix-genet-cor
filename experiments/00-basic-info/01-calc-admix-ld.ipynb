{
 "cells": [
  {
   "cell_type": "code",
   "execution_count": 1,
   "id": "5e4dc6b0-61c0-413d-b4e1-d2e16ce4b1d2",
   "metadata": {},
   "outputs": [],
   "source": [
    "%load_ext autoreload\n",
    "%autoreload 2\n",
    "%load_ext lab_black\n",
    "\n",
    "import numpy as np\n",
    "import pandas as pd\n",
    "import admix\n",
    "import matplotlib.pyplot as plt\n",
    "import numpy as np\n",
    "import json\n",
    "import pandas as pd\n",
    "import seaborn as sns\n",
    "import os\n",
    "import dapgen\n",
    "from os.path import join\n",
    "import admix_genet_cor"
   ]
  },
  {
   "cell_type": "code",
   "execution_count": 2,
   "id": "4f0d792a-4a2c-4d73-8ad5-d25d5f29f923",
   "metadata": {},
   "outputs": [],
   "source": [
    "GENO_DIR = (\n",
    "    \"/u/project/pasaniuc/pasaniucdata/admixture/projects/PAGE-QC/01-dataset/out/aframr\"\n",
    ")"
   ]
  },
  {
   "cell_type": "code",
   "execution_count": 3,
   "id": "81af3494-de5c-43b4-bc79-510294d58f7b",
   "metadata": {},
   "outputs": [
    {
     "name": "stdout",
     "output_type": "stream",
     "text": [
      "2022-01-21 15:57.49 [info     ] admix.Dataset: read local ancestry from /u/project/pasaniuc/pasaniucdata/admixture/projects/PAGE-QC/01-dataset/out/aframr/imputed/chr1.lanc\n",
      "2022-01-21 15:57.58 [info     ] admix.Dataset: `n_anc` is not provided, infered n_anc from the first 1,000 SNPs is 2. If this is not correct, provide `n_anc` when constructing admix.Dataset\n"
     ]
    }
   ],
   "source": [
    "pfile = f\"{GENO_DIR}/imputed/chr1\"\n",
    "dset = admix.io.read_dataset(pfile, snp_chunk=512)\n",
    "\n",
    "dset = dset[\n",
    "    (\n",
    "        dset.snp.EUR_FREQ.between(0.005, 0.995)\n",
    "        & dset.snp.AFR_FREQ.between(0.005, 0.995)\n",
    "    ).values\n",
    "]"
   ]
  },
  {
   "cell_type": "markdown",
   "id": "ad640ab3-5b94-4df0-aa23-5a3720a3c462",
   "metadata": {},
   "source": [
    "Find `n_region=30` regions, select the center SNP as the causal SNP, select 800 SNPs in the +- 10k SNPs, every 25 SNPs, and calculate the covariance difference."
   ]
  },
  {
   "cell_type": "code",
   "execution_count": 4,
   "id": "54a3e829-28fa-423e-ba60-f789ec2dfd8e",
   "metadata": {},
   "outputs": [],
   "source": [
    "window_size = 10000\n",
    "step_size = 25\n",
    "n_region = 30"
   ]
  },
  {
   "cell_type": "code",
   "execution_count": 5,
   "id": "cac9cfab-7825-4b57-9426-7ec36d076259",
   "metadata": {},
   "outputs": [],
   "source": [
    "apa = dset.allele_per_anc()\n",
    "geno_cnt = dset.geno.sum(axis=2)"
   ]
  },
  {
   "cell_type": "code",
   "execution_count": 6,
   "id": "b214c12f-71e4-4918-94cf-1ad70fdfc0b2",
   "metadata": {},
   "outputs": [
    {
     "name": "stderr",
     "output_type": "stream",
     "text": [
      "100%|██████████| 800/800 [00:01<00:00, 697.73it/s]\n"
     ]
    }
   ],
   "source": [
    "np.random.seed(1234)\n",
    "causal_snps = np.random.choice(dset.snp.index, size=n_region, replace=False)\n",
    "causal_idx = [dset.snp.index.get_loc(s) for s in causal_snps]\n",
    "\n",
    "df_cov_diff = {\"cov_diff\": [], \"ex_diff\": [], \"pos\": [], \"causal_snp\": []}\n",
    "\n",
    "for snp, idx in zip(causal_snps, causal_idx):\n",
    "    region_idx = np.arange(idx - window_size, idx + window_size, step_size)\n",
    "    z_list, ex_list = admix_genet_cor.calc_apa_cov(\n",
    "        apa[region_idx, :, :].compute(),\n",
    "        geno_cnt[idx, :].compute(),\n",
    "    )\n",
    "    df_cov_diff[\"cov_diff\"].extend(z_list)\n",
    "    df_cov_diff[\"ex_diff\"].extend(ex_list[:, 0] - ex_list[:, 1])\n",
    "    # relative base pairs\n",
    "    df_cov_diff[\"pos\"].extend(\n",
    "        (dset.snp.POS.iloc[region_idx] - dset.snp.POS.iloc[idx]).values\n",
    "    )\n",
    "    df_cov_diff[\"causal_snp\"].extend([snp] * len(region_idx))\n",
    "    break\n",
    "df_cov_diff = pd.DataFrame(df_cov_diff)"
   ]
  },
  {
   "cell_type": "code",
   "execution_count": 41,
   "id": "23a2ec1d-6765-4b50-9b18-2fda54fc340a",
   "metadata": {},
   "outputs": [],
   "source": [
    "# alternative way to calculate LD\n",
    "admix_ld = admix.data.admix_ld(dset[region_idx])\n",
    "\n",
    "def GG(admix_ld, i, j):\n",
    "    \"\"\"\n",
    "    Obtain\n",
    "    gi1 x gj1, gi1 x gj2\n",
    "    gj1 x gi2, gi2 x gj2\n",
    "\n",
    "    Note that the matrix is not symmetric\n",
    "    \"\"\"\n",
    "    ld1, ld2, ld12 = admix_ld[\"11\"], admix_ld[\"22\"], admix_ld[\"12\"]\n",
    "    return np.array([[ld1[i, j], ld12[i, j]], [ld12[j, i], ld2[i, j]]])\n",
    "\n",
    "center_i = np.where(idx == region_idx)[0].item()\n",
    "\n",
    "res = []\n",
    "for i in range(len(region_idx)):\n",
    "    GiGi = GG(admix_ld, i, i)\n",
    "    GiGj = GG(admix_ld, i, center_i)\n",
    "    tag = np.linalg.inv(GiGi) @ GiGj @ np.ones(2)[:, None]\n",
    "    res.append(tag.T)\n",
    "res = np.vstack(res)"
   ]
  },
  {
   "cell_type": "code",
   "execution_count": 45,
   "id": "449a0729-74bb-45d4-91a4-8cc91c10794d",
   "metadata": {},
   "outputs": [
    {
     "data": {
      "text/plain": [
       "array([[ 0.04092604, -0.01607983],\n",
       "       [ 0.0386749 , -0.00474231],\n",
       "       [ 0.04215021, -0.01192268],\n",
       "       ...,\n",
       "       [ 0.05328106, -0.01627517],\n",
       "       [ 0.03317822, -0.00346181],\n",
       "       [ 0.01362962, -0.01590849]])"
      ]
     },
     "execution_count": 45,
     "metadata": {},
     "output_type": "execute_result"
    }
   ],
   "source": [
    "ex_list / dset.n_indiv"
   ]
  },
  {
   "cell_type": "code",
   "execution_count": 35,
   "id": "a9e3a811-b87c-4293-83ee-5c14136cda35",
   "metadata": {},
   "outputs": [
    {
     "data": {
      "text/plain": [
       "[<matplotlib.lines.Line2D at 0x2b5c5186b7c0>]"
      ]
     },
     "execution_count": 35,
     "metadata": {},
     "output_type": "execute_result"
    },
    {
     "data": {
      "image/png": "[encoded data removed]",
      "text/plain": [
       "<Figure size 450x450 with 1 Axes>"
      ]
     },
     "metadata": {
      "needs_background": "light"
     },
     "output_type": "display_data"
    }
   ],
   "source": [
    "fig, ax = plt.subplots(figsize=(3, 3), dpi=150)\n",
    "ax.scatter(ex_list[:, 0] / dset.n_indiv, ex_list[:, 1] / dset.n_indiv, s=3)\n",
    "ax.plot([-1, 1], [-1, 1], \"k--\")"
   ]
  },
  {
   "cell_type": "code",
   "execution_count": 48,
   "id": "220c0ae1-879e-4eb3-9081-1bbe871fc190",
   "metadata": {},
   "outputs": [
    {
     "data": {
      "text/plain": [
       "(array([  4.,   1.,   8.,  23., 120., 417.,  99.,  53.,  39.,   7.,   6.,\n",
       "          3.,   6.,   2.,   3.,   4.,   1.,   0.,   1.,   1.,   0.,   0.,\n",
       "          0.,   0.,   0.,   0.,   1.,   0.,   0.,   1.]),\n",
       " array([-0.08650603, -0.06118869, -0.03587136, -0.01055402,  0.01476332,\n",
       "         0.04008066,  0.06539799,  0.09071533,  0.11603267,  0.14135001,\n",
       "         0.16666734,  0.19198468,  0.21730202,  0.24261935,  0.26793669,\n",
       "         0.29325403,  0.31857137,  0.3438887 ,  0.36920604,  0.39452338,\n",
       "         0.41984072,  0.44515805,  0.47047539,  0.49579273,  0.52111006,\n",
       "         0.5464274 ,  0.57174474,  0.59706208,  0.62237941,  0.64769675,\n",
       "         0.67301409]),\n",
       " <BarContainer object of 30 artists>)"
      ]
     },
     "execution_count": 48,
     "metadata": {},
     "output_type": "execute_result"
    },
    {
     "data": {
      "image/png": "[encoded data removed]",
      "text/plain": [
       "<Figure size 432x288 with 1 Axes>"
      ]
     },
     "metadata": {
      "needs_background": "light"
     },
     "output_type": "display_data"
    }
   ],
   "source": [
    "plt.hist((ex_list[:, 0] - ex_list[:, 1]) / dset.n_indiv, bins=30)"
   ]
  },
  {
   "cell_type": "code",
   "execution_count": 25,
   "id": "10626817-c949-4a87-9788-82b62d4ded9f",
   "metadata": {},
   "outputs": [
    {
     "data": {
      "text/plain": [
       "(array([ 15., 398., 347.,  35.,   3.,   1.,   0.,   0.,   0.,   1.]),\n",
       " array([-281.7769003 ,  -12.87423668,  256.02842694,  524.93109056,\n",
       "         793.83375419, 1062.73641781, 1331.63908143, 1600.54174505,\n",
       "        1869.44440867, 2138.34707229, 2407.24973591]),\n",
       " <BarContainer object of 10 artists>)"
      ]
     },
     "execution_count": 25,
     "metadata": {},
     "output_type": "execute_result"
    },
    {
     "data": {
      "image/png": "[encoded data removed]",
      "text/plain": [
       "<Figure size 432x288 with 1 Axes>"
      ]
     },
     "metadata": {
      "needs_background": "light"
     },
     "output_type": "display_data"
    }
   ],
   "source": [
    "plt.hist(z_list)"
   ]
  },
  {
   "cell_type": "code",
   "execution_count": 10,
   "id": "283f01cf-69c0-4f8d-96f8-d27c4fb21492",
   "metadata": {},
   "outputs": [],
   "source": [
    "df_cov_diff = pd.DataFrame(df_cov_diff)"
   ]
  },
  {
   "cell_type": "code",
   "execution_count": 19,
   "id": "b92ea09c-438b-4a36-b03e-de9dc0ae035f",
   "metadata": {},
   "outputs": [
    {
     "data": {
      "text/plain": [
       "(array([1.000e+00, 0.000e+00, 2.000e+00, 0.000e+00, 0.000e+00, 0.000e+00,\n",
       "        4.000e+00, 1.000e+00, 3.000e+00, 7.000e+00, 0.000e+00, 0.000e+00,\n",
       "        6.000e+00, 9.000e+00, 1.700e+01, 1.220e+02, 1.385e+03, 1.545e+03,\n",
       "        7.780e+02, 4.070e+02, 2.630e+02, 2.000e+02, 1.690e+02, 1.870e+02,\n",
       "        1.510e+02, 1.250e+02, 1.350e+02, 1.200e+02, 1.090e+02, 9.800e+01,\n",
       "        8.100e+01, 8.600e+01, 5.100e+01, 5.500e+01, 4.300e+01, 3.200e+01,\n",
       "        2.600e+01, 2.600e+01, 3.200e+01, 2.300e+01, 1.900e+01, 2.800e+01,\n",
       "        8.000e+00, 1.200e+01, 1.800e+01, 6.000e+00, 5.000e+00, 3.000e+00,\n",
       "        1.000e+00, 1.000e+00]),\n",
       " array([-2445.19534538, -2300.0608188 , -2154.92629222, -2009.79176565,\n",
       "        -1864.65723907, -1719.5227125 , -1574.38818592, -1429.25365935,\n",
       "        -1284.11913277, -1138.98460619,  -993.85007962,  -848.71555304,\n",
       "         -703.58102647,  -558.44649989,  -413.31197332,  -268.17744674,\n",
       "         -123.04292016,    22.09160641,   167.22613299,   312.36065956,\n",
       "          457.49518614,   602.62971271,   747.76423929,   892.89876587,\n",
       "         1038.03329244,  1183.16781902,  1328.30234559,  1473.43687217,\n",
       "         1618.57139874,  1763.70592532,  1908.8404519 ,  2053.97497847,\n",
       "         2199.10950505,  2344.24403162,  2489.3785582 ,  2634.51308477,\n",
       "         2779.64761135,  2924.78213793,  3069.9166645 ,  3215.05119108,\n",
       "         3360.18571765,  3505.32024423,  3650.4547708 ,  3795.58929738,\n",
       "         3940.72382396,  4085.85835053,  4230.99287711,  4376.12740368,\n",
       "         4521.26193026,  4666.39645683,  4811.53098341]),\n",
       " <BarContainer object of 50 artists>)"
      ]
     },
     "execution_count": 19,
     "metadata": {},
     "output_type": "execute_result"
    },
    {
     "data": {
      "image/png": "[encoded data removed]",
      "text/plain": [
       "<Figure size 432x288 with 1 Axes>"
      ]
     },
     "metadata": {
      "needs_background": "light"
     },
     "output_type": "display_data"
    }
   ],
   "source": [
    "plt.hist(df_cov_diff[\"cov_diff\"], bins=50)"
   ]
  },
  {
   "cell_type": "code",
   "execution_count": 11,
   "id": "dc36a23d-7f6e-4b9b-8ed6-d4a2a0e6a225",
   "metadata": {},
   "outputs": [],
   "source": [
    "df_plot = df_cov_diff.copy()\n",
    "# convert to Mb\n",
    "df_plot[\"pos\"] /= 1e6\n",
    "df_plot[\"abs_pos\"] = np.abs(df_plot[\"pos\"])\n",
    "df_plot[\"squared_cov_diff\"] = df_plot[\"cov_diff\"] ** 2\n",
    "# df_plot = df_plot[df_plot.abs_pos < 6]"
   ]
  },
  {
   "cell_type": "code",
   "execution_count": 12,
   "id": "8abb2f75-7efe-455e-b035-b8ce3f6a2371",
   "metadata": {},
   "outputs": [],
   "source": [
    "import statsmodels.formula.api as smf\n",
    "import statsmodels.api as sm"
   ]
  },
  {
   "cell_type": "code",
   "execution_count": 13,
   "id": "c7458a0c-4d5a-48e0-8876-ab6a2c3b8fc5",
   "metadata": {},
   "outputs": [],
   "source": [
    "model = smf.quantreg(\n",
    "    \"squared_cov_diff ~ abs_pos + I(abs_pos ** 2.0) + I(abs_pos ** 3.0) \", df_plot\n",
    ").fit(q=0.95)"
   ]
  },
  {
   "cell_type": "code",
   "execution_count": 14,
   "id": "5eb63578-4161-4848-9ae5-871eada79864",
   "metadata": {},
   "outputs": [
    {
     "data": {
      "text/plain": [
       "Text(0.5, 0, 'Distance (Mb)')"
      ]
     },
     "execution_count": 14,
     "metadata": {},
     "output_type": "execute_result"
    },
    {
     "data": {
      "image/png": "[encoded data removed]",
      "text/plain": [
       "<Figure size 450x450 with 1 Axes>"
      ]
     },
     "metadata": {
      "needs_background": "light"
     },
     "output_type": "display_data"
    }
   ],
   "source": [
    "fig, ax = plt.subplots(figsize=(3, 3), dpi=150)\n",
    "ax.scatter(\n",
    "    df_plot.abs_pos,\n",
    "    df_plot.squared_cov_diff,\n",
    "    marker=\".\",\n",
    "    alpha=0.5,\n",
    "    s=5,\n",
    ")\n",
    "x_grid = np.linspace(0, df_plot.abs_pos.max(), 50)\n",
    "\n",
    "\n",
    "plt.plot(\n",
    "    x_grid,\n",
    "    model.predict({\"abs_pos\": x_grid}),\n",
    "    linestyle=\"--\",\n",
    "    lw=1,\n",
    "    color=\"k\",\n",
    "    zorder=2,\n",
    ")\n",
    "ax.set_xlabel(\"Distance (Mb)\")"
   ]
  },
  {
   "cell_type": "code",
   "execution_count": null,
   "id": "eb7869e2-c297-4645-a06e-4092c419a820",
   "metadata": {},
   "outputs": [],
   "source": [
    "# select a 10 Mb region\n",
    "# simulate a single causal (with expected p-value of 1e-10)\n",
    "# perform study"
   ]
  },
  {
   "cell_type": "code",
   "execution_count": null,
   "id": "6af315c7-bdba-43fc-8a1f-86cf99aad42a",
   "metadata": {},
   "outputs": [],
   "source": [
    "# causal_snp = \"chr1:109593836:A:G\"\n",
    "# causal_snp = \"chr1:11472468:C:G\"\n",
    "causal_snp = \"chr1:229573921:C:A\"\n",
    "hsq = 0.005"
   ]
  },
  {
   "cell_type": "code",
   "execution_count": null,
   "id": "62e41448-005d-43c0-853b-48d7f253b94c",
   "metadata": {},
   "outputs": [],
   "source": [
    "def submit_simulate_pheno(\n",
    "    hsq,\n",
    "    causal_snp,\n",
    "    region_window=500,\n",
    "    #     out_prefix: str,\n",
    "    #     n_sim=10,\n",
    "):\n",
    "    \"\"\"\n",
    "    hsq: heritability of the causal SNPs.\n",
    "    causal_snp: index of the causal SNP\n",
    "    region_window: window size in Mb\n",
    "    \"\"\"\n",
    "    np.random.seed(0)\n",
    "    pfile = f\"{GENO_DIR}/imputed/chr1\"\n",
    "    geno, df_snp, df_indiv = dapgen.read_pfile(pfile, phase=True, snp_chunk=2048)\n",
    "    lanc = admix.io.read_lanc(pfile + \".lanc\", snp_chunk=2048)\n",
    "    df_snp_info = pd.read_csv(pfile + \".snp_info\", sep=\"\\t\").set_index(\"SNP\")\n",
    "    assert np.all(df_snp_info.index == df_snp.index.values)\n",
    "    df_snp = pd.merge(df_snp, df_snp_info, left_index=True, right_index=True)\n",
    "\n",
    "    # determine subset of SNPs\n",
    "    causal_idx = df_snp.index.get_loc(causal_snp)\n",
    "\n",
    "    region_snp_idx = np.arange(\n",
    "        causal_idx - region_window, causal_idx + region_window + 1\n",
    "    )\n",
    "    df_tmp = df_snp.iloc[region_snp_idx, :]\n",
    "    freq_filter = (\n",
    "        (0.005 <= df_tmp.EUR_FREQ)\n",
    "        & (df_tmp.EUR_FREQ <= 0.995)\n",
    "        & (0.005 <= df_tmp.AFR_FREQ)\n",
    "        & (df_tmp.AFR_FREQ <= 0.995)\n",
    "    )\n",
    "    region_snp_idx = region_snp_idx[freq_filter]\n",
    "\n",
    "    geno = geno[region_snp_idx, :, :]\n",
    "    lanc = lanc[region_snp_idx, :, :]\n",
    "    df_snp = df_snp.iloc[region_snp_idx, :]\n",
    "\n",
    "    n_eff_snp = df_snp.shape[0]\n",
    "\n",
    "    beta = np.zeros((n_eff_snp, 2, 1))  # (n_snp, n_anc, n_sim)\n",
    "    causal_idx = df_snp.index.get_loc(causal_snp)\n",
    "\n",
    "    beta[causal_idx, :, :] = 1.0\n",
    "\n",
    "    sim = admix_genet_cor.simulate_quant_pheno(\n",
    "        geno=geno, lanc=lanc, hsq=hsq, beta=beta, n_sim=1\n",
    "    )\n",
    "    pheno = sim[\"pheno\"].flatten()\n",
    "    df_rls = admix_genet_cor.marginal_het(\n",
    "        geno=geno,\n",
    "        lanc=lanc,\n",
    "        y=pheno,\n",
    "    )\n",
    "\n",
    "    # calculate covariance\n",
    "    apa = admix.data.allele_per_anc(geno, lanc, n_anc=2).compute()\n",
    "    geno_cnt = geno.sum(axis=2).compute()\n",
    "\n",
    "    df_rls[\"cov_diff_z\"] = admix_genet_cor.calc_apa_cov(apa, geno_cnt[causal_idx, :])\n",
    "\n",
    "    df_rls[\"total_cov\"] = admix_genet_cor.calc_cov(\n",
    "        geno_cnt, geno_cnt[[causal_idx], :]\n",
    "    ).flatten()\n",
    "\n",
    "    df_rls[\"assoc_pval\"] = admix.assoc.marginal_fast(\n",
    "        geno=geno, lanc=lanc, pheno=pheno, cov=None\n",
    "    )\n",
    "    causal_mask = np.full(df_rls.shape[0], False, dtype=bool)\n",
    "    causal_mask[causal_idx] = True\n",
    "    df_rls[\"causal\"] = causal_mask\n",
    "    #     return df_rls\n",
    "\n",
    "    return df_rls, df_snp, apa, pheno"
   ]
  },
  {
   "cell_type": "code",
   "execution_count": null,
   "id": "5272e6d4-0e38-43ae-9a3c-0a030444f2f1",
   "metadata": {},
   "outputs": [],
   "source": [
    "df_rls, df_snp, apa, pheno = submit_simulate_pheno(hsq=0.05, causal_snp=causal_snp)"
   ]
  },
  {
   "cell_type": "code",
   "execution_count": null,
   "id": "f68b8aa5-5864-41cb-ae52-eaf3cdcacb65",
   "metadata": {},
   "outputs": [],
   "source": [
    "plt.scatter(np.arange(len(df_rls)), df_rls[\"cov_diff_z\"] ** 2)"
   ]
  },
  {
   "cell_type": "code",
   "execution_count": null,
   "id": "e3e3c005-8ac2-4ee1-97a3-e1ea35fd4095",
   "metadata": {},
   "outputs": [],
   "source": [
    "plt.scatter(df_rls[\"cov_diff_z\"] ** 2, -np.log10(df_rls[\"het_pval\"]))"
   ]
  },
  {
   "cell_type": "code",
   "execution_count": null,
   "id": "ee45b5fc-33e4-4e96-af4b-528b2673ebdb",
   "metadata": {},
   "outputs": [],
   "source": [
    "fig, ax = plt.subplots(dpi=150)\n",
    "admix.plot.manhattan(df_rls.assoc_pval)"
   ]
  },
  {
   "cell_type": "code",
   "execution_count": null,
   "id": "51a4be1a-eaa0-4b40-87db-a29bb7749d56",
   "metadata": {},
   "outputs": [],
   "source": [
    "fig, ax = plt.subplots(dpi=150)\n",
    "admix.plot.manhattan(df_rls.het_pval)"
   ]
  },
  {
   "cell_type": "code",
   "execution_count": null,
   "id": "8abdff4d-cd63-4d35-92dc-43d258801b79",
   "metadata": {},
   "outputs": [],
   "source": [
    "df_rls[df_rls[\"causal\"]]"
   ]
  },
  {
   "cell_type": "code",
   "execution_count": null,
   "id": "492c14b9-a5f5-475c-9209-b48fc95077ab",
   "metadata": {},
   "outputs": [],
   "source": [
    "n_snp = apa.shape[0]\n",
    "assert apa.shape[1] == m.shape[0]\n",
    "# center apa\n",
    "apa = apa - apa.mean(axis=0)[None, :, :]\n",
    "m = m - m.mean()\n",
    "\n",
    "z_list = np.zeros(n_snp)\n",
    "# for each snp, calculate the covariance\n",
    "transform_vec = np.array([[1], [-1]])\n",
    "for snp_i in range(apa.shape[0]):\n",
    "    cov_inv = np.linalg.inv(np.cov(apa[snp_i, :, :]))\n",
    "    # expectation and variance\n",
    "    ex = cov_inv @ apa[snp_i, :, :].T @ m\n",
    "    varcov = cov_inv\n",
    "    z_list[snp_i] = (ex[0] - ex[1]) / np.sqrt(transform_vec @ varcov @ transform_vec.T)\n",
    "return z_list"
   ]
  },
  {
   "cell_type": "code",
   "execution_count": null,
   "id": "108b03e9-cfba-48e0-bb1f-ee6ad2108be5",
   "metadata": {},
   "outputs": [],
   "source": [
    "def calc_apa_cov(apa, m):\n",
    "    # apa: (n_snp, n_indiv, 2)\n",
    "    # m: (n_indiv, )\n"
   ]
  },
  {
   "cell_type": "code",
   "execution_count": null,
   "id": "636740d1-5441-4de6-865c-e328da442a27",
   "metadata": {},
   "outputs": [],
   "source": [
    "df_rls = submit_simulate_pheno(hsq=0.02, causal_snp=causal_snp)"
   ]
  },
  {
   "cell_type": "code",
   "execution_count": null,
   "id": "73b2acff-1cc0-43d2-84e4-b032f4963e08",
   "metadata": {},
   "outputs": [],
   "source": [
    "plt.scatter(df_rls.cov1 - df_rls.cov2, -np.log10(df_rls.het_pval))"
   ]
  },
  {
   "cell_type": "code",
   "execution_count": null,
   "id": "a0d3b425-6076-4dce-b517-4b1b0bcb1408",
   "metadata": {},
   "outputs": [],
   "source": [
    "tmp_snp = [causal_idx, 62]\n",
    "tmp_apa = apa[62, :, :]"
   ]
  },
  {
   "cell_type": "code",
   "execution_count": null,
   "id": "0a9fa44a-e42a-4bca-beeb-5437710ed909",
   "metadata": {},
   "outputs": [],
   "source": [
    "df_rls.iloc[62, :]"
   ]
  },
  {
   "cell_type": "code",
   "execution_count": null,
   "id": "e1189f56-5a1d-42ec-9f0b-6c5989727c13",
   "metadata": {},
   "outputs": [],
   "source": [
    "tmp_apa.shape"
   ]
  },
  {
   "cell_type": "code",
   "execution_count": null,
   "id": "c71ea82a-5f44-4fba-92db-4f7ef5da9c19",
   "metadata": {},
   "outputs": [],
   "source": [
    "# df_pheno = pd.DataFrame(\n",
    "#     sim[\"pheno\"],\n",
    "#     index=df_indiv.index,\n",
    "#     columns=[f\"SIM_{i}\" for i in range(n_sim)],\n",
    "# )\n",
    "# df_pheno.to_csv(out_prefix + \".pheno.tsv.gz\", index=True, sep=\"\\t\")"
   ]
  },
  {
   "cell_type": "code",
   "execution_count": null,
   "id": "3e4117c9-81f3-4b76-816a-0f782e5ce174",
   "metadata": {},
   "outputs": [],
   "source": [
    "def submit_gwas(prefix, sim_i):\n",
    "\n",
    "    df_sample_info = pd.read_csv(\n",
    "        join(SIM_PHENO_DIR, prefix + \".pheno.tsv.gz\"), sep=\"\\t\", index_col=0\n",
    "    )\n",
    "    out_prefix = f\"out/simulated_gwas/{prefix}.sim_{sim_i}\"\n",
    "\n",
    "    admix.tools.plink2.gwas(\n",
    "        pfile=join(GENO_DIR, f\"imputed/chr1\"),\n",
    "        df_sample_info=df_sample_info,\n",
    "        pheno_col=f\"SIM_{sim_i}\",\n",
    "        out_prefix=out_prefix,\n",
    "        clean_tmp_file=True,\n",
    "    )\n",
    "    admix.tools.plink2.clump(\n",
    "        pfile=join(GENO_DIR, f\"imputed/chr1\"),\n",
    "        assoc_path=out_prefix + \".assoc\",\n",
    "        out_prefix=out_prefix,\n",
    "        p1=5e-8,\n",
    "    )\n",
    "    df_sample_info[[f\"SIM_{sim_i}\"]].rename(columns={f\"SIM_{sim_i}\": \"trait\"}).to_csv(\n",
    "        out_prefix + \".pheno\", sep=\"\\t\"\n",
    "    )"
   ]
  },
  {
   "cell_type": "code",
   "execution_count": null,
   "id": "24ade7a5-4a73-429b-b3d0-d848afdb4bf3",
   "metadata": {},
   "outputs": [],
   "source": [
    "def submit_gwas(prefix, sim_i):\n",
    "\n",
    "    df_sample_info = pd.read_csv(\n",
    "        join(SIM_PHENO_DIR, prefix + \".pheno.tsv.gz\"), sep=\"\\t\", index_col=0\n",
    "    )\n",
    "    out_prefix = f\"out/simulated_gwas/{prefix}.sim_{sim_i}\"\n",
    "\n",
    "    admix.tools.plink2.gwas(\n",
    "        pfile=join(GENO_DIR, f\"imputed/chr1\"),\n",
    "        df_sample_info=df_sample_info,\n",
    "        pheno_col=f\"SIM_{sim_i}\",\n",
    "        out_prefix=out_prefix,\n",
    "        clean_tmp_file=True,\n",
    "    )\n",
    "    admix.tools.plink2.clump(\n",
    "        pfile=join(GENO_DIR, f\"imputed/chr1\"),\n",
    "        assoc_path=out_prefix + \".assoc\",\n",
    "        out_prefix=out_prefix,\n",
    "        p1=5e-8,\n",
    "    )\n",
    "    df_sample_info[[f\"SIM_{sim_i}\"]].rename(columns={f\"SIM_{sim_i}\": \"trait\"}).to_csv(\n",
    "        out_prefix + \".pheno\", sep=\"\\t\"\n",
    "    )"
   ]
  }
 ],
 "metadata": {
  "kernelspec": {
   "display_name": "Python 3",
   "language": "python",
   "name": "python3"
  },
  "language_info": {
   "codemirror_mode": {
    "name": "ipython",
    "version": 3
   },
   "file_extension": ".py",
   "mimetype": "text/x-python",
   "name": "python",
   "nbconvert_exporter": "python",
   "pygments_lexer": "ipython3",
   "version": "3.8.5"
  }
 },
 "nbformat": 4,
 "nbformat_minor": 5
}
