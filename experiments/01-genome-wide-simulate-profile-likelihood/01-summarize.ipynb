{
 "cells": [
  {
   "cell_type": "code",
   "execution_count": 1,
   "id": "00e01398-bbc8-469b-a3ec-5f5c098d7010",
   "metadata": {},
   "outputs": [],
   "source": [
    "%load_ext autoreload\n",
    "%autoreload 2\n",
    "%load_ext lab_black\n",
    "\n",
    "import matplotlib.pyplot as plt\n",
    "import numpy as np\n",
    "import scipy\n",
    "import json\n",
    "import pandas as pd\n",
    "import seaborn as sns\n",
    "import os\n",
    "import admix\n",
    "import scipy.stats\n",
    "from scipy.interpolate import CubicSpline\n",
    "from scipy import stats\n",
    "import admix_genet_cor\n",
    "import glob\n",
    "import pickle\n",
    "from tqdm import tqdm\n",
    "from admix_genet_cor import hdi"
   ]
  },
  {
   "cell_type": "code",
   "execution_count": 2,
   "id": "50eccfde-e16a-4d32-b435-c43843b52a28",
   "metadata": {},
   "outputs": [],
   "source": [
    "rho_list = np.linspace(0, 1, 21)\n",
    "xs = np.linspace(0, 1, 1001)\n",
    "\n",
    "pheno_prefix_list = [f.split(\"/\")[-1] for f in glob.glob(\"out/gcta-estimate/*\")]\n",
    "grm_prefix_list = [\"hm3.mafukb.005\", \"imputed.mafukb.005\"]"
   ]
  },
  {
   "cell_type": "code",
   "execution_count": 3,
   "id": "173997bd-99bf-47b0-bbd8-37e109ce8556",
   "metadata": {},
   "outputs": [
    {
     "name": "stdout",
     "output_type": "stream",
     "text": [
      "hsq-0.1-pcausal-0.001-cor-0.9-hermodel-mafukb, hm3.mafukb.005, meta-ci: (0.88, 0.92), mean(se): 0.12, std(se): 0.072, std(estimate): 0.12 P[reject] = 0.36\n",
      "hsq-0.1-pcausal-0.001-cor-0.9-hermodel-mafukb, imputed.mafukb.005, meta-ci: (0.89, 0.92), mean(se): 0.11, std(se): 0.061, std(estimate): 0.11 P[reject] = 0.31\n",
      "hsq-0.1-pcausal-0.001-cor-0.95-hermodel-mafukb, hm3.mafukb.005, meta-ci: (0.92, 0.95), mean(se): 0.11, std(se): 0.071, std(estimate): 0.11 P[reject] = 0.15\n",
      "hsq-0.1-pcausal-0.001-cor-0.95-hermodel-mafukb, imputed.mafukb.005, meta-ci: (0.92, 0.95), mean(se): 0.11, std(se): 0.061, std(estimate): 0.099 P[reject] = 0.13\n",
      "hsq-0.1-pcausal-0.001-cor-1.0-hermodel-mafukb, hm3.mafukb.005, meta-ci: (0.98, 1), mean(se): 0.085, std(se): 0.06, std(estimate): 0.051 P[reject] = 0.01\n",
      "hsq-0.1-pcausal-0.001-cor-1.0-hermodel-mafukb, imputed.mafukb.005, meta-ci: (0.99, 1), mean(se): 0.073, std(se): 0.051, std(estimate): 0.058 P[reject] = 0.01\n",
      "hsq-0.25-pcausal-0.001-cor-0.9-hermodel-mafukb, hm3.mafukb.005, meta-ci: (0.88, 0.9), mean(se): 0.05, std(se): 0.011, std(estimate): 0.053 P[reject] = 0.76\n",
      "hsq-0.25-pcausal-0.001-cor-0.9-hermodel-mafukb, imputed.mafukb.005, meta-ci: (0.88, 0.9), mean(se): 0.051, std(se): 0.011, std(estimate): 0.053 P[reject] = 0.67\n",
      "hsq-0.25-pcausal-0.001-cor-0.95-hermodel-mafukb, hm3.mafukb.005, meta-ci: (0.93, 0.95), mean(se): 0.039, std(se): 0.011, std(estimate): 0.041 P[reject] = 0.42\n",
      "hsq-0.25-pcausal-0.001-cor-0.95-hermodel-mafukb, imputed.mafukb.005, meta-ci: (0.94, 0.95), mean(se): 0.04, std(se): 0.012, std(estimate): 0.043 P[reject] = 0.28\n",
      "hsq-0.25-pcausal-0.001-cor-1.0-hermodel-mafukb, hm3.mafukb.005, meta-ci: (0.98, 1), mean(se): 0.025, std(se): 0.012, std(estimate): 0.03 P[reject] = 0.07\n",
      "hsq-0.25-pcausal-0.001-cor-1.0-hermodel-mafukb, imputed.mafukb.005, meta-ci: (1, 1), mean(se): 0.024, std(se): 0.012, std(estimate): 0.028 P[reject] = 0.06\n",
      "hsq-0.5-pcausal-0.001-cor-0.9-hermodel-mafukb, hm3.mafukb.005, meta-ci: (0.88, 0.89), mean(se): 0.033, std(se): 0.0034, std(estimate): 0.034 P[reject] = 0.99\n",
      "hsq-0.5-pcausal-0.001-cor-0.9-hermodel-mafukb, imputed.mafukb.005, meta-ci: (0.89, 0.9), mean(se): 0.034, std(se): 0.0035, std(estimate): 0.036 P[reject] = 0.94\n",
      "hsq-0.5-pcausal-0.001-cor-0.95-hermodel-mafukb, hm3.mafukb.005, meta-ci: (0.94, 0.95), mean(se): 0.026, std(se): 0.0048, std(estimate): 0.026 P[reject] = 0.59\n",
      "hsq-0.5-pcausal-0.001-cor-0.95-hermodel-mafukb, imputed.mafukb.005, meta-ci: (0.95, 0.96), mean(se): 0.026, std(se): 0.006, std(estimate): 0.028 P[reject] = 0.43\n",
      "hsq-0.5-pcausal-0.001-cor-1.0-hermodel-mafukb, hm3.mafukb.005, meta-ci: (0.98, 0.99), mean(se): 0.016, std(se): 0.0067, std(estimate): 0.02 P[reject] = 0.09\n",
      "hsq-0.5-pcausal-0.001-cor-1.0-hermodel-mafukb, imputed.mafukb.005, meta-ci: (1, 1), mean(se): 0.015, std(se): 0.0069, std(estimate): 0.018 P[reject] = 0.03\n"
     ]
    }
   ],
   "source": [
    "dict_loglik = dict()\n",
    "dict_estimate = dict()\n",
    "dict_stderr = dict()\n",
    "dict_pval = dict()\n",
    "for pheno_prefix in pheno_prefix_list:\n",
    "    for grm_prefix in grm_prefix_list:\n",
    "\n",
    "        estimate = []\n",
    "        stderr = []\n",
    "        pval = []\n",
    "        meta_ll = 0\n",
    "        for sim_i in range(100):\n",
    "            f_dir = os.path.join(f\"out/gcta-estimate/{pheno_prefix}\", grm_prefix)\n",
    "\n",
    "            loglik_list = [\n",
    "                (\n",
    "                    rho,\n",
    "                    admix.tools.gcta.read_reml(\n",
    "                        os.path.join(f_dir, f\"sim_{sim_i}.rho{int(rho * 100)}\")\n",
    "                    )[\"loglik\"],\n",
    "                )\n",
    "                for rho in rho_list\n",
    "                if os.path.exists(\n",
    "                    os.path.join(f_dir, f\"sim_{sim_i}.rho{int(rho * 100)}.hsq\")\n",
    "                )\n",
    "            ]\n",
    "            cs = CubicSpline([l[0] for l in loglik_list], [l[1] for l in loglik_list])\n",
    "            ll = cs(xs)\n",
    "\n",
    "            estimate.append(ll.argmax() / 1000)\n",
    "            # calculate 1 std error using normal distribution\n",
    "            ci = admix_genet_cor.hdi(xs, ll, ci=0.6827)\n",
    "            stderr.append((ci[1] - ci[0]) / 2)\n",
    "            # p-value using likelihood-ratio test\n",
    "            pval.append(stats.chi2.sf((ll.max() - ll[-1]) * 2, df=1))\n",
    "            meta_ll += ll\n",
    "\n",
    "        meta_ci = hdi(xs, meta_ll)\n",
    "        print(\n",
    "            f\"{pheno_prefix}, {grm_prefix}, meta-ci: ({meta_ci[0]:.2g}, {meta_ci[1]:.2g}), \"\n",
    "            f\"mean(se): {np.mean(stderr):.2g}, std(se): {np.std(stderr):.2g}, std(estimate): {np.std(estimate):.2g}\",\n",
    "            f\"P[reject] = {np.mean(np.array(pval) < 0.05)}\",\n",
    "        )\n",
    "\n",
    "        dict_loglik[(pheno_prefix, grm_prefix)] = meta_ll\n",
    "        dict_estimate[(pheno_prefix, grm_prefix)] = estimate\n",
    "        dict_stderr[(pheno_prefix, grm_prefix)] = stderr\n",
    "        dict_pval[(pheno_prefix, grm_prefix)] = pval"
   ]
  },
  {
   "cell_type": "code",
   "execution_count": 5,
   "id": "12f49fc2-ee14-4ea8-a108-058412f2750f",
   "metadata": {},
   "outputs": [],
   "source": [
    "dict_res = {\n",
    "    \"loglik\": dict_loglik,\n",
    "    \"estimate\": dict_estimate,\n",
    "    \"stderr\": dict_stderr,\n",
    "    \"pval\": dict_pval,\n",
    "}\n",
    "with open(f\"cache/dict_res.pkl\", \"wb\") as f:\n",
    "    pickle.dump(dict_res, f)"
   ]
  }
 ],
 "metadata": {
  "kernelspec": {
   "display_name": "Python 3",
   "language": "python",
   "name": "python3"
  },
  "language_info": {
   "codemirror_mode": {
    "name": "ipython",
    "version": 3
   },
   "file_extension": ".py",
   "mimetype": "text/x-python",
   "name": "python",
   "nbconvert_exporter": "python",
   "pygments_lexer": "ipython3",
   "version": "3.8.5"
  }
 },
 "nbformat": 4,
 "nbformat_minor": 5
}
