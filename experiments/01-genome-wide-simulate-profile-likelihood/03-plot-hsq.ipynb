{
 "cells": [
  {
   "cell_type": "code",
   "execution_count": 1,
   "id": "ab961e33-e5c5-4e1c-9e96-ee96da699bcf",
   "metadata": {},
   "outputs": [],
   "source": [
    "%load_ext autoreload\n",
    "%autoreload 2\n",
    "%load_ext lab_black"
   ]
  },
  {
   "cell_type": "code",
   "execution_count": 2,
   "id": "3548002a-3207-4239-b0c8-a8b40a0de7a5",
   "metadata": {},
   "outputs": [],
   "source": [
    "import numpy as np\n",
    "import pandas as pd\n",
    "import os\n",
    "import matplotlib.pyplot as plt"
   ]
  },
  {
   "cell_type": "markdown",
   "id": "c8105c03-12f4-4530-aaf5-97ef995e699a",
   "metadata": {},
   "source": [
    "# Store SNP weights"
   ]
  },
  {
   "cell_type": "code",
   "execution_count": 3,
   "id": "40fae052-12d4-4d16-b7d1-c329dfcb5ec0",
   "metadata": {},
   "outputs": [],
   "source": [
    "if os.path.exists(\"out/snp_weights.tsv.gz\"):\n",
    "    df_weight = pd.read_csv(\"out/snp_weights.tsv.gz\", sep=\"\\t\")\n",
    "else:\n",
    "    DATA_DIR = \"/u/home/k/kangchen/PAGE-QC/01-dataset/out/aframr\"\n",
    "\n",
    "    df_freq = (\n",
    "        pd.concat(\n",
    "            [\n",
    "                pd.read_csv(\n",
    "                    f\"{DATA_DIR}/imputed/chr{chrom}.freq\",\n",
    "                    delim_whitespace=True,\n",
    "                )\n",
    "                for chrom in range(1, 23)\n",
    "            ]\n",
    "        )\n",
    "        .reset_index(drop=True)\n",
    "        .set_index(\"ID\")\n",
    "    )\n",
    "\n",
    "    df_weight = pd.read_csv(\n",
    "        f\"{DATA_DIR}/grm/imputed.mafukb.all.weight.tsv\",\n",
    "        delim_whitespace=True,\n",
    "    ).set_index(\"snp\")\n",
    "    df_weight[\"PRIOR_VAR\"] /= df_weight[\"PRIOR_VAR\"].sum()\n",
    "    df_weight[\"FREQ\"] = df_freq[\"ALT_FREQS\"].reindex(df_weight.index)\n",
    "    df_weight[\"FREQ_VAR\"] = 2 * df_weight[\"FREQ\"] * (1 - df_weight[\"FREQ\"])\n",
    "    df_weight.to_csv(\"out/snp_weights.tsv.gz\", index=False, sep=\"\\t\")"
   ]
  },
  {
   "cell_type": "code",
   "execution_count": 9,
   "id": "5be495ec-aef5-454e-b943-5eb737105f03",
   "metadata": {},
   "outputs": [
    {
     "data": {
      "text/plain": [
       "0.24884752564563367"
      ]
     },
     "execution_count": 9,
     "metadata": {},
     "output_type": "execute_result"
    }
   ],
   "source": [
    "scale_factor"
   ]
  },
  {
   "cell_type": "code",
   "execution_count": 4,
   "id": "814731f5-040c-4bf0-b1d8-86361cf4f3ef",
   "metadata": {},
   "outputs": [],
   "source": [
    "# see how to generate \"results/raw.csv\" in 01-plot-simulation.ipynb\n",
    "df_plot = pd.read_csv(\"results/raw.csv\")\n",
    "df_weights = pd.read_csv(\"out/snp_weights.tsv.gz\", sep=\"\\t\")\n",
    "scale_factor = np.sum(df_weights[\"PRIOR_VAR\"] * df_weights[\"FREQ_VAR\"])\n",
    "df_plot[\"estimated_var_g\"] *= scale_factor"
   ]
  },
  {
   "cell_type": "code",
   "execution_count": 5,
   "id": "22a73ab7-94f9-4643-8607-9c32b4716868",
   "metadata": {},
   "outputs": [],
   "source": [
    "df_plot = df_plot[\n",
    "    [\"estimated_var_g\", \"estimated_var_e\", \"hsq\", \"cor\", \"pcausal\"]\n",
    "].copy()\n",
    "df_plot[\"estimated_hsq\"] = df_plot[\"estimated_var_g\"] / (\n",
    "    df_plot[\"estimated_var_g\"] + df_plot[\"estimated_var_e\"]\n",
    ")"
   ]
  },
  {
   "cell_type": "code",
   "execution_count": 6,
   "id": "efddf10e-0b21-4df9-99e9-c512dbb11345",
   "metadata": {},
   "outputs": [],
   "source": [
    "df_mean = df_plot.groupby([\"hsq\", \"cor\", \"pcausal\"]).apply(\n",
    "    lambda x: pd.Series({\"mean\": np.mean(x[\"estimated_hsq\"])})\n",
    ")\n",
    "df_sem = df_plot.groupby([\"hsq\", \"cor\", \"pcausal\"]).apply(\n",
    "    lambda x: pd.Series({\"sem\": np.std(x[\"estimated_hsq\"]) / np.sqrt(len(x))})\n",
    ")\n",
    "df_plot = pd.merge(df_mean, df_sem, left_index=True, right_index=True).reset_index()"
   ]
  },
  {
   "cell_type": "code",
   "execution_count": 7,
   "id": "955643b1-1a14-4325-b278-78fee5e3cfe3",
   "metadata": {},
   "outputs": [],
   "source": [
    "# x = h2g, hue = rg, y=h2g, panel = pcausal"
   ]
  },
  {
   "cell_type": "code",
   "execution_count": 8,
   "id": "76699f32-73d4-4066-96ee-44c3ff54a428",
   "metadata": {},
   "outputs": [
    {
     "data": {
      "image/png": "[encoded data removed]",
      "text/plain": [
       "<Figure size 900x300 with 4 Axes>"
      ]
     },
     "metadata": {
      "needs_background": "light"
     },
     "output_type": "display_data"
    }
   ],
   "source": [
    "fig, axes = plt.subplots(figsize=(6, 2), dpi=150, ncols=4, sharey=True)\n",
    "for i_pcausal, pcausal in enumerate(df_plot.pcausal.unique()):\n",
    "    for i_cor, cor in enumerate([0.9, 0.95, 1.0]):\n",
    "        df_tmp = df_plot[(df_plot.pcausal == pcausal) & (df_plot.cor == cor)]\n",
    "        axes[i_pcausal].errorbar(\n",
    "            x=np.arange(len(df_tmp)) + (i_cor - 1) * 0.15,\n",
    "            y=df_tmp[\"mean\"],\n",
    "            yerr=df_tmp[\"sem\"] * 1.96,\n",
    "            fmt=\".\",\n",
    "            label=f\"$r_g$ = {cor}\",\n",
    "        )\n",
    "    # x-axis\n",
    "    axes[i_pcausal].set_xticks([0, 1, 2])\n",
    "    axes[i_pcausal].set_xticklabels([0.1, 0.25, 0.5])\n",
    "\n",
    "    # y-axis\n",
    "    axes[i_pcausal].set_ylim(0, 0.6)\n",
    "    if i_pcausal == 0:\n",
    "        axes[i_pcausal].set_ylabel(\"Estimated $h_g^2$\")\n",
    "\n",
    "    # title\n",
    "    axes[i_pcausal].set_title(\"$p_{causal}$ = \" + f\"{pcausal * 100}%\", fontsize=10)\n",
    "    for i_hsq, hsq in enumerate([0.1, 0.25, 0.5]):\n",
    "        axes[i_pcausal].hlines(\n",
    "            y=hsq,\n",
    "            xmin=i_hsq - 0.3,\n",
    "            xmax=i_hsq + 0.3,\n",
    "            color=\"red\",\n",
    "            ls=\"--\",\n",
    "            alpha=0.6,\n",
    "            zorder=10,\n",
    "        )\n",
    "\n",
    "fig.text(\n",
    "    0.55,\n",
    "    -0.05,\n",
    "    \"Simulated $h_g^2$\",\n",
    "    fontsize=11,\n",
    "    ha=\"center\",\n",
    ")\n",
    "\n",
    "handles, labels = axes[0].get_legend_handles_labels()\n",
    "ph = [plt.plot([], marker=\"\", ls=\"\")[0]]  # Canvas\n",
    "handles = ph + handles\n",
    "labels = [\"Simulated $r_g$:\"] + labels  # Merging labels\n",
    "fig.legend(\n",
    "    handles,\n",
    "    labels,\n",
    "    ncol=6,\n",
    "    loc=\"center\",\n",
    "    bbox_to_anchor=[0.5, 1.02],\n",
    "    frameon=False,\n",
    "    fontsize=9,\n",
    ")\n",
    "\n",
    "fig.tight_layout()\n",
    "fig.savefig(\"results/estimate-hsq.pdf\", bbox_inches=\"tight\")"
   ]
  },
  {
   "cell_type": "code",
   "execution_count": null,
   "id": "92cdf0c2-edce-42fb-9396-5ca4adc01c04",
   "metadata": {},
   "outputs": [],
   "source": []
  }
 ],
 "metadata": {
  "kernelspec": {
   "display_name": "Python 3",
   "language": "python",
   "name": "python3"
  },
  "language_info": {
   "codemirror_mode": {
    "name": "ipython",
    "version": 3
   },
   "file_extension": ".py",
   "mimetype": "text/x-python",
   "name": "python",
   "nbconvert_exporter": "python",
   "pygments_lexer": "ipython3",
   "version": "3.8.5"
  }
 },
 "nbformat": 4,
 "nbformat_minor": 5
}
