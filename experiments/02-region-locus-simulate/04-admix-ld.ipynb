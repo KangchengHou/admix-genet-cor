{
 "cells": [
  {
   "cell_type": "code",
   "execution_count": 1,
   "id": "9e5a84de-218d-4b7e-b626-3f60e04003cd",
   "metadata": {},
   "outputs": [],
   "source": [
    "%load_ext autoreload\n",
    "%autoreload 2\n",
    "%load_ext lab_black\n",
    "\n",
    "import numpy as np\n",
    "import pandas as pd\n",
    "import admix\n",
    "import matplotlib.pyplot as plt\n",
    "import numpy as np\n",
    "import json\n",
    "import pandas as pd\n",
    "import seaborn as sns\n",
    "import os\n",
    "import dapgen\n",
    "from os.path import join\n",
    "import admix_genet_cor"
   ]
  },
  {
   "cell_type": "code",
   "execution_count": 3,
   "id": "3abcf4e0-8dd0-4012-8f52-a276a4ddc544",
   "metadata": {},
   "outputs": [],
   "source": [
    "GENO_DIR = (\n",
    "    \"/u/project/pasaniuc/pasaniucdata/admixture/projects/PAGE-QC/01-dataset/out/aframr\"\n",
    ")"
   ]
  },
  {
   "cell_type": "code",
   "execution_count": null,
   "id": "3b7e90f7-0fc4-4d09-9d20-6ac787282907",
   "metadata": {},
   "outputs": [],
   "source": [
    "pfile = f\"{GENO_DIR}/imputed/chr1\"\n",
    "\n",
    "geno, df_snp, df_indiv = dapgen.read_pfile(pfile, phase=True, snp_chunk=2048)\n",
    "lanc = admix.io.read_lanc(pfile + \".lanc\", snp_chunk=2048)\n",
    "df_snp_info = pd.read_csv(pfile + \".snp_info\", sep=\"\\t\").set_index(\"SNP\")\n",
    "assert np.all(df_snp_info.index == df_snp.index.values)\n",
    "df_snp = pd.merge(df_snp, df_snp_info, left_index=True, right_index=True)\n",
    "\n",
    "freq_filter = (\n",
    "    (0.005 <= df_snp.EUR_FREQ)\n",
    "    & (df_snp.EUR_FREQ <= 0.995)\n",
    "    & (0.005 <= df_snp.AFR_FREQ)\n",
    "    & (df_snp.AFR_FREQ <= 0.995)\n",
    ")\n",
    "\n",
    "geno = geno[freq_filter.values, :, :]\n",
    "lanc = lanc[freq_filter.values, :, :]\n",
    "df_snp = df_snp.iloc[freq_filter.values, :]"
   ]
  },
  {
   "cell_type": "code",
   "execution_count": null,
   "id": "012c7bbc-d618-42db-9f52-65f9956fd3c2",
   "metadata": {},
   "outputs": [],
   "source": [
    "apa = admix.data.allele_per_anc(geno, lanc)\n",
    "geno_cnt = geno.sum(axis=2)"
   ]
  },
  {
   "cell_type": "code",
   "execution_count": null,
   "id": "807faf1f-ecbc-4c9e-859c-39d83ffae81a",
   "metadata": {},
   "outputs": [],
   "source": [
    "window_size = 10000\n",
    "step_size = 25\n",
    "n_region = 30"
   ]
  },
  {
   "cell_type": "code",
   "execution_count": null,
   "id": "d812f81b-caf4-4e34-a083-1f086748f408",
   "metadata": {},
   "outputs": [],
   "source": [
    "np.random.seed(1234)\n",
    "causal_snps = np.random.choice(df_snp.index, size=n_region, replace=False)\n",
    "causal_idx = [df_snp.index.get_loc(s) for s in causal_snps]\n",
    "\n",
    "df_cov_diff = {\"cov_diff\": [], \"pos\": [], \"causal_snp\": []}\n",
    "\n",
    "for snp, idx in zip(causal_snps, causal_idx):\n",
    "    region_idx = np.arange(idx - window_size, idx + window_size, step_size)\n",
    "    df_cov_diff[\"cov_diff\"].extend(\n",
    "        admix_genet_cor.calc_apa_cov(\n",
    "            apa[region_idx, :, :].compute(),\n",
    "            geno_cnt[idx, :].compute(),\n",
    "        )\n",
    "    )\n",
    "    # relative base pairs\n",
    "    df_cov_diff[\"pos\"].extend(\n",
    "        (df_snp.POS.iloc[region_idx] - df_snp.POS.iloc[idx]).values\n",
    "    )\n",
    "    df_cov_diff[\"causal_snp\"].extend([snp] * len(region_idx))\n",
    "df_cov_diff = pd.DataFrame(df_cov_diff)"
   ]
  }
 ],
 "metadata": {
  "kernelspec": {
   "display_name": "Python 3",
   "language": "python",
   "name": "python3"
  },
  "language_info": {
   "codemirror_mode": {
    "name": "ipython",
    "version": 3
   },
   "file_extension": ".py",
   "mimetype": "text/x-python",
   "name": "python",
   "nbconvert_exporter": "python",
   "pygments_lexer": "ipython3",
   "version": "3.8.5"
  }
 },
 "nbformat": 4,
 "nbformat_minor": 5
}
