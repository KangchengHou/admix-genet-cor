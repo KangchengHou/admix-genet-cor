{
 "cells": [
  {
   "cell_type": "code",
   "execution_count": 1,
   "id": "c9740645-28cb-4a20-aefa-e8f7cb461d80",
   "metadata": {},
   "outputs": [],
   "source": [
    "import numpy as np\n",
    "import admix_genet_cor"
   ]
  },
  {
   "cell_type": "code",
   "execution_count": 2,
   "id": "4b9a0012-0fcc-439b-ad19-0547198445c5",
   "metadata": {},
   "outputs": [],
   "source": [
    "v1 = v2 = np.random.normal(size=1000)\n",
    "cor = 1.0\n",
    "v = np.random.multivariate_normal(mean=[0, 0], cov=[[1.0, cor], [cor, 1.0]], size=1000)\n",
    "v1, v2 = v[:, 0], v[:, 1]"
   ]
  },
  {
   "cell_type": "code",
   "execution_count": 50,
   "id": "7e22602f-2ae2-4ab3-92a3-aaa1660b9a5b",
   "metadata": {},
   "outputs": [
    {
     "name": "stdout",
     "output_type": "stream",
     "text": [
      "0.8419795961911376 0.006628601405070355\n"
     ]
    }
   ],
   "source": [
    "np.random.seed(1234)\n",
    "slope_list = []\n",
    "for _ in range(100):\n",
    "    x = v1 + np.random.normal(size=1000, scale=2.0)\n",
    "    y = v2 + np.random.normal(size=1000, scale=0.9)\n",
    "    slope = admix_genet_cor.locus.deming_regression(\n",
    "        x=x,\n",
    "        y=y,\n",
    "        sx=2.0,\n",
    "        sy=1.0,\n",
    "        no_intercept=True,\n",
    "    )\n",
    "#     slope = admix_genet_cor.locus.deming_regression(\n",
    "#         x=y,\n",
    "#         y=x,\n",
    "#         sx=1.0,\n",
    "#         sy=2.0,\n",
    "#         no_intercept=True,\n",
    "#     )\n",
    "        \n",
    "    slope_list.append(slope)\n",
    "print(np.mean(slope_list), np.std(slope_list) / np.sqrt(len(slope_list)))"
   ]
  },
  {
   "cell_type": "code",
   "execution_count": 37,
   "id": "72dbffa1-65c8-45c7-ab87-4b01d3d869b5",
   "metadata": {},
   "outputs": [],
   "source": [
    "import pandas as pd\n",
    "pd.DataFrame({\"x\": x, \"y\": y}).to_csv(\"tmp-data.csv\", index=False)"
   ]
  },
  {
   "cell_type": "code",
   "execution_count": 38,
   "id": "5e4f0ad7-45be-4846-8973-991806811890",
   "metadata": {},
   "outputs": [
    {
     "name": "stdout",
     "output_type": "stream",
     "text": [
      "(1.128015431033262, 0.016528860696974772)\n",
      "(0.8861897027969107, -0.01463487640719114)\n"
     ]
    }
   ],
   "source": [
    "slope1 = admix_genet_cor.locus.deming_regression(\n",
    "    x=x,\n",
    "    y=y,\n",
    "    sx=10.0,\n",
    "    sy=5.0,\n",
    "    no_intercept=False,\n",
    ")\n",
    "print(slope1)\n",
    "slope2 = admix_genet_cor.locus.deming_regression(\n",
    "    x=y,\n",
    "    y=x,\n",
    "    sx=5.0,\n",
    "    sy=10.0,\n",
    "    no_intercept=False,\n",
    ")\n",
    "print(slope2)"
   ]
  },
  {
   "cell_type": "code",
   "execution_count": null,
   "id": "d5a1dce9-e6cf-41b1-8ca2-0be4c2c9a266",
   "metadata": {},
   "outputs": [],
   "source": []
  },
  {
   "cell_type": "code",
   "execution_count": 27,
   "id": "3a17bb37-4f4a-4803-a354-ab4f90d0d653",
   "metadata": {},
   "outputs": [
    {
     "data": {
      "text/plain": [
       "-1.9861777250458938"
      ]
     },
     "execution_count": 27,
     "metadata": {},
     "output_type": "execute_result"
    }
   ],
   "source": [
    "slope2"
   ]
  },
  {
   "cell_type": "code",
   "execution_count": 4,
   "id": "00d50f27-e178-4f47-8ab9-c969e4020881",
   "metadata": {},
   "outputs": [
    {
     "name": "stdout",
     "output_type": "stream",
     "text": [
      "0.8925675545449379 0.1162800668498346\n"
     ]
    }
   ],
   "source": [
    "slope_list = []\n",
    "for _ in range(100):\n",
    "    slope = admix_genet_cor.locus.deming_regression(\n",
    "        x=v1 + np.random.normal(size=1000, scale=5.0),\n",
    "        y=v2 + np.random.normal(size=1000, scale=10.0),\n",
    "        sx=1.0,\n",
    "        sy=2.0,\n",
    "        no_intercept=True,\n",
    "    )\n",
    "    slope_list.append(slope)\n",
    "print(np.mean(slope_list), np.std(slope_list) / np.sqrt(len(slope_list)))"
   ]
  }
 ],
 "metadata": {
  "kernelspec": {
   "display_name": "Python 3",
   "language": "python",
   "name": "python3"
  },
  "language_info": {
   "codemirror_mode": {
    "name": "ipython",
    "version": 3
   },
   "file_extension": ".py",
   "mimetype": "text/x-python",
   "name": "python",
   "nbconvert_exporter": "python",
   "pygments_lexer": "ipython3",
   "version": "3.8.5"
  }
 },
 "nbformat": 4,
 "nbformat_minor": 5
}
