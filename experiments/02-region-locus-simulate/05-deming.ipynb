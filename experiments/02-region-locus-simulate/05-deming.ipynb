{
 "cells": [
  {
   "cell_type": "code",
   "execution_count": 1,
   "id": "c9740645-28cb-4a20-aefa-e8f7cb461d80",
   "metadata": {},
   "outputs": [],
   "source": [
    "import numpy as np\n",
    "import admix_genet_cor"
   ]
  },
  {
   "cell_type": "code",
   "execution_count": 5,
   "id": "4b9a0012-0fcc-439b-ad19-0547198445c5",
   "metadata": {},
   "outputs": [],
   "source": [
    "v1 = v2 = np.random.normal(size=1000)\n",
    "cor = 1.0\n",
    "v = np.random.multivariate_normal(mean=[0, 0], cov=[[1.0, cor], [cor, 1.0]], size=1000)\n",
    "v1, v2 = v[:, 0], v[:, 1]"
   ]
  },
  {
   "cell_type": "code",
   "execution_count": 6,
   "id": "7e22602f-2ae2-4ab3-92a3-aaa1660b9a5b",
   "metadata": {},
   "outputs": [],
   "source": [
    "slope_list = []\n",
    "for _ in range(100):\n",
    "    slope = admix_genet_cor.locus.deming_regression(\n",
    "        x=v1 + np.random.normal(size=1000, scale=0.1),\n",
    "        y=v2 + np.random.normal(size=1000, scale=5.5),\n",
    "        sx=0.1,\n",
    "        sy=5.5,\n",
    "        no_intercept=True,\n",
    "    )\n",
    "    slope_list.append(slope)"
   ]
  },
  {
   "cell_type": "code",
   "execution_count": 7,
   "id": "eafcc02f-ea98-4f3d-8e5d-1872ed9057ad",
   "metadata": {},
   "outputs": [
    {
     "data": {
      "text/plain": [
       "0.9805212839201326"
      ]
     },
     "execution_count": 7,
     "metadata": {},
     "output_type": "execute_result"
    }
   ],
   "source": [
    "np.mean(slope_list)"
   ]
  }
 ],
 "metadata": {
  "kernelspec": {
   "display_name": "Python 3",
   "language": "python",
   "name": "python3"
  },
  "language_info": {
   "codemirror_mode": {
    "name": "ipython",
    "version": 3
   },
   "file_extension": ".py",
   "mimetype": "text/x-python",
   "name": "python",
   "nbconvert_exporter": "python",
   "pygments_lexer": "ipython3",
   "version": "3.8.5"
  }
 },
 "nbformat": 4,
 "nbformat_minor": 5
}
