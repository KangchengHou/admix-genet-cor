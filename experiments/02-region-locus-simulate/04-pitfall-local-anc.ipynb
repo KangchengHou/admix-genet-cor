{
 "cells": [
  {
   "cell_type": "markdown",
   "id": "0f52835d-ef6f-4adc-b66c-94b185b1a138",
   "metadata": {},
   "source": [
    "# Evaluating properties of testing heterogeneity with / without including local ancestries"
   ]
  },
  {
   "cell_type": "code",
   "execution_count": 1,
   "id": "d11be3ad-27df-4c15-8650-72a1a3273d51",
   "metadata": {},
   "outputs": [],
   "source": [
    "%load_ext autoreload\n",
    "%autoreload 2\n",
    "%load_ext lab_black\n",
    "\n",
    "import numpy as np\n",
    "import pandas as pd\n",
    "import pickle\n",
    "import admix\n",
    "import matplotlib.pyplot as plt\n",
    "import statsmodels.api as sm\n",
    "from tqdm import tqdm"
   ]
  },
  {
   "cell_type": "code",
   "execution_count": 2,
   "id": "303055c9-6beb-4be3-9666-ab85864d6821",
   "metadata": {},
   "outputs": [],
   "source": [
    "def simulate(apa, beta, cov):\n",
    "    cov_effects = np.random.normal(loc=0, scale=0.1, size=cov.shape[1])\n",
    "    y = (\n",
    "        np.dot(apa, beta)\n",
    "        + np.dot(cov, cov_effects)\n",
    "        + np.random.normal(size=apa.shape[0])\n",
    "    )\n",
    "    return y\n",
    "\n",
    "\n",
    "def test_het(apa, y, cov):\n",
    "    design = sm.add_constant(np.hstack([apa, cov]))\n",
    "    model = sm.OLS(y, design).fit()\n",
    "\n",
    "    A = np.zeros([1, len(model.params)])\n",
    "    A[0, 1] = 1\n",
    "    A[0, 2] = -1\n",
    "    p_ftest = model.f_test(A).pvalue.item()\n",
    "    return p_ftest, model"
   ]
  },
  {
   "cell_type": "code",
   "execution_count": 45,
   "id": "c8083979-c284-4833-8772-00b2e81c3a2a",
   "metadata": {},
   "outputs": [
    {
     "name": "stdout",
     "output_type": "stream",
     "text": [
      "2022-01-22 20:31.47 [info     ] admix.Dataset: read local ancestry from out/real-dataset/region1.lanc\n"
     ]
    }
   ],
   "source": [
    "pfile = f\"out/real-dataset/region1\"\n",
    "\n",
    "dset = admix.io.read_dataset(pfile=pfile, n_anc=2)\n",
    "dset = dset[0:10000]\n",
    "dset = dset[\n",
    "    (\n",
    "        dset.snp.EUR_FREQ.between(0.01, 0.99) & dset.snp.AFR_FREQ.between(0.01, 0.99)\n",
    "    ).values\n",
    "]\n",
    "dset.persist()\n",
    "\n",
    "apa = dset.allele_per_anc().compute()\n",
    "lanc = dset.lanc.sum(axis=2).compute()"
   ]
  },
  {
   "cell_type": "markdown",
   "id": "1d44f47a-2de2-4dcf-b762-68dd8e7dda16",
   "metadata": {},
   "source": [
    "# Simulate beta heterogeneity effect sizes\n",
    "Use two practices with / without conditioning local ancestry"
   ]
  },
  {
   "cell_type": "code",
   "execution_count": 46,
   "id": "d76cb199-a580-4724-9b6c-0211eee99567",
   "metadata": {},
   "outputs": [
    {
     "name": "stderr",
     "output_type": "stream",
     "text": [
      "100%|██████████| 682/682 [04:14<00:00,  2.68it/s]\n"
     ]
    }
   ],
   "source": [
    "np.random.seed(1234)\n",
    "n_sim = 5\n",
    "\n",
    "dict_rls = {\n",
    "    \"snp_i\": [],\n",
    "    \"effect\": [],\n",
    "    \"sim_i\": [],\n",
    "    \"method\": [],\n",
    "    \"pval\": [],\n",
    "    \"coef1\": [],\n",
    "    \"coef2\": [],\n",
    "    \"se1\": [],\n",
    "    \"se2\": [],\n",
    "}\n",
    "\n",
    "cov = np.column_stack(\n",
    "    [dset.indiv[col].values for col in [f\"geno_EV{i}\" for i in range(1, 3)]]\n",
    ")\n",
    "\n",
    "for snp_i in tqdm(range(0, dset.n_snp, 5)):\n",
    "    apa_snp = apa[snp_i, :, :]\n",
    "    lanc_snp = lanc[snp_i, :]\n",
    "    for effect in [0.015, 0.02, 0.025]:\n",
    "        pvals1 = []\n",
    "        pvals2 = []\n",
    "\n",
    "        for sim_i in range(n_sim):\n",
    "            beta = np.array([effect, 0.025])\n",
    "            beta *= np.random.choice([-1, 1])\n",
    "            y_sim = simulate(apa_snp, beta, cov)\n",
    "            # w/o conditioning\n",
    "            pval1, model1 = test_het(apa_snp, y_sim, cov)\n",
    "            pvals1.append(pval1)\n",
    "\n",
    "            dict_rls[\"coef1\"].append(model1.params[1])\n",
    "            dict_rls[\"coef2\"].append(model1.params[2])\n",
    "            dict_rls[\"se1\"].append(model1.bse[1])\n",
    "            dict_rls[\"se2\"].append(model1.bse[2])\n",
    "\n",
    "            # w conditioning\n",
    "            #             pval2, model2 = test_het(\n",
    "            #                 apa_snp, sm.OLS(y_sim, sm.add_constant(lanc_snp)).fit().resid, cov\n",
    "            #             )\n",
    "            pval2, model2 = test_het(apa_snp, y_sim, np.column_stack([cov, lanc_snp]))\n",
    "            pvals2.append(pval2)\n",
    "            dict_rls[\"coef1\"].append(model2.params[1])\n",
    "            dict_rls[\"coef2\"].append(model2.params[2])\n",
    "            dict_rls[\"se1\"].append(model2.bse[1])\n",
    "            dict_rls[\"se2\"].append(model2.bse[2])\n",
    "\n",
    "        for method, pvals in zip([\"w/o lanc\", \"w lanc\"], [pvals1, pvals2]):\n",
    "            dict_rls[\"pval\"].extend(pvals)\n",
    "            dict_rls[\"method\"].extend([method] * n_sim)\n",
    "            dict_rls[\"sim_i\"].extend(np.arange(n_sim))\n",
    "            dict_rls[\"effect\"].extend([effect] * n_sim)\n",
    "            dict_rls[\"snp_i\"].extend([snp_i] * n_sim)\n",
    "\n",
    "df_rls = pd.DataFrame(dict_rls)"
   ]
  },
  {
   "cell_type": "code",
   "execution_count": 48,
   "id": "b4249974-b6a9-4502-a468-bb8d55de7f14",
   "metadata": {},
   "outputs": [
    {
     "data": {
      "text/html": [
       "<div>\n",
       "<style scoped>\n",
       "    .dataframe tbody tr th:only-of-type {\n",
       "        vertical-align: middle;\n",
       "    }\n",
       "\n",
       "    .dataframe tbody tr th {\n",
       "        vertical-align: top;\n",
       "    }\n",
       "\n",
       "    .dataframe thead th {\n",
       "        text-align: right;\n",
       "    }\n",
       "</style>\n",
       "<table border=\"1\" class=\"dataframe\">\n",
       "  <thead>\n",
       "    <tr style=\"text-align: right;\">\n",
       "      <th></th>\n",
       "      <th></th>\n",
       "      <th>pval</th>\n",
       "    </tr>\n",
       "    <tr>\n",
       "      <th>method</th>\n",
       "      <th>effect</th>\n",
       "      <th></th>\n",
       "    </tr>\n",
       "  </thead>\n",
       "  <tbody>\n",
       "    <tr>\n",
       "      <th rowspan=\"3\" valign=\"top\">w lanc</th>\n",
       "      <th>0.015</th>\n",
       "      <td>0.055425</td>\n",
       "    </tr>\n",
       "    <tr>\n",
       "      <th>0.020</th>\n",
       "      <td>0.054252</td>\n",
       "    </tr>\n",
       "    <tr>\n",
       "      <th>0.025</th>\n",
       "      <td>0.050733</td>\n",
       "    </tr>\n",
       "    <tr>\n",
       "      <th rowspan=\"3\" valign=\"top\">w/o lanc</th>\n",
       "      <th>0.015</th>\n",
       "      <td>0.066569</td>\n",
       "    </tr>\n",
       "    <tr>\n",
       "      <th>0.020</th>\n",
       "      <td>0.059824</td>\n",
       "    </tr>\n",
       "    <tr>\n",
       "      <th>0.025</th>\n",
       "      <td>0.052199</td>\n",
       "    </tr>\n",
       "  </tbody>\n",
       "</table>\n",
       "</div>"
      ],
      "text/plain": [
       "                     pval\n",
       "method   effect          \n",
       "w lanc   0.015   0.055425\n",
       "         0.020   0.054252\n",
       "         0.025   0.050733\n",
       "w/o lanc 0.015   0.066569\n",
       "         0.020   0.059824\n",
       "         0.025   0.052199"
      ]
     },
     "execution_count": 48,
     "metadata": {},
     "output_type": "execute_result"
    }
   ],
   "source": [
    "df_rls.groupby([\"method\", \"effect\"]).agg({\"pval\": lambda x: np.mean(x < 0.05)})"
   ]
  },
  {
   "cell_type": "code",
   "execution_count": 49,
   "id": "ca863cc8-be56-4913-9a27-57d2d0b1b2c7",
   "metadata": {},
   "outputs": [],
   "source": [
    "import admix_genet_cor"
   ]
  },
  {
   "cell_type": "code",
   "execution_count": 50,
   "id": "f22e45a2-d054-4640-8295-e611807fd4f6",
   "metadata": {},
   "outputs": [
    {
     "data": {
      "text/plain": [
       "method    effect\n",
       "w lanc    0.015     1.530235\n",
       "          0.020     1.201315\n",
       "          0.025     0.952477\n",
       "w/o lanc  0.015     1.628569\n",
       "          0.020     1.245842\n",
       "          0.025     0.951579\n",
       "dtype: float64"
      ]
     },
     "execution_count": 50,
     "metadata": {},
     "output_type": "execute_result"
    }
   ],
   "source": [
    "df_rls.groupby([\"method\", \"effect\"]).apply(\n",
    "    lambda x: admix_genet_cor.locus.deming_regression(\n",
    "        x=x[\"coef1\"], y=x[\"coef2\"], sx=x[\"se1\"], sy=x[\"se2\"]\n",
    "    )[0]\n",
    ")"
   ]
  },
  {
   "cell_type": "code",
   "execution_count": 30,
   "id": "996999d3-6437-4aed-9508-3c3cec32b09c",
   "metadata": {},
   "outputs": [
    {
     "name": "stderr",
     "output_type": "stream",
     "text": [
      "100%|██████████| 418/418 [00:01<00:00, 360.09it/s]\n"
     ]
    }
   ],
   "source": [
    "np.random.seed(1234)\n",
    "\n",
    "df_corr_list = []\n",
    "for snp_i in tqdm(range(dset.n_snp)):\n",
    "    apa_snp = apa[snp_i, :, :]\n",
    "    lanc_snp = lanc[snp_i, :]\n",
    "\n",
    "    df_corr = pd.DataFrame(\n",
    "        np.column_stack([apa_snp, lanc_snp]), columns=[\"EUR\", \"AFR\", \"lanc\"]\n",
    "    ).corr()\n",
    "    df_corr_list.append(df_corr)"
   ]
  },
  {
   "cell_type": "code",
   "execution_count": 31,
   "id": "8ecc96a3-f87f-4431-ba8e-21ef41c2676f",
   "metadata": {},
   "outputs": [],
   "source": [
    "avg_df_corr = np.zeros_like(df_corr_list[0])\n",
    "for d in df_corr_list:\n",
    "    avg_df_corr += d\n",
    "avg_df_corr /= len(df_corr_list)"
   ]
  },
  {
   "cell_type": "code",
   "execution_count": 32,
   "id": "42c7cb36-3ab3-48ec-9ec4-713c67bbfc1b",
   "metadata": {},
   "outputs": [
    {
     "data": {
      "text/html": [
       "<div>\n",
       "<style scoped>\n",
       "    .dataframe tbody tr th:only-of-type {\n",
       "        vertical-align: middle;\n",
       "    }\n",
       "\n",
       "    .dataframe tbody tr th {\n",
       "        vertical-align: top;\n",
       "    }\n",
       "\n",
       "    .dataframe thead th {\n",
       "        text-align: right;\n",
       "    }\n",
       "</style>\n",
       "<table border=\"1\" class=\"dataframe\">\n",
       "  <thead>\n",
       "    <tr style=\"text-align: right;\">\n",
       "      <th></th>\n",
       "      <th>EUR</th>\n",
       "      <th>AFR</th>\n",
       "      <th>lanc</th>\n",
       "    </tr>\n",
       "  </thead>\n",
       "  <tbody>\n",
       "    <tr>\n",
       "      <th>EUR</th>\n",
       "      <td>1.000000</td>\n",
       "      <td>-0.214814</td>\n",
       "      <td>-0.467823</td>\n",
       "    </tr>\n",
       "    <tr>\n",
       "      <th>AFR</th>\n",
       "      <td>-0.214814</td>\n",
       "      <td>1.000000</td>\n",
       "      <td>0.342366</td>\n",
       "    </tr>\n",
       "    <tr>\n",
       "      <th>lanc</th>\n",
       "      <td>-0.467823</td>\n",
       "      <td>0.342366</td>\n",
       "      <td>1.000000</td>\n",
       "    </tr>\n",
       "  </tbody>\n",
       "</table>\n",
       "</div>"
      ],
      "text/plain": [
       "           EUR       AFR      lanc\n",
       "EUR   1.000000 -0.214814 -0.467823\n",
       "AFR  -0.214814  1.000000  0.342366\n",
       "lanc -0.467823  0.342366  1.000000"
      ]
     },
     "execution_count": 32,
     "metadata": {},
     "output_type": "execute_result"
    }
   ],
   "source": [
    "avg_df_corr"
   ]
  },
  {
   "cell_type": "code",
   "execution_count": 34,
   "id": "0fe3d8d8-2d68-4189-ad49-cb54137b69a8",
   "metadata": {},
   "outputs": [
    {
     "data": {
      "text/plain": [
       "array([[0.        , 0.01195146, 0.01245882],\n",
       "       [0.01195146, 0.        , 0.0126318 ],\n",
       "       [0.01245882, 0.0126318 , 0.        ]])"
      ]
     },
     "execution_count": 34,
     "metadata": {},
     "output_type": "execute_result"
    }
   ],
   "source": [
    "np.std(df_corr_list, axis=0) / np.sqrt(len(df_corr_list))"
   ]
  },
  {
   "cell_type": "code",
   "execution_count": 39,
   "id": "5b842aed-34ed-4a54-bca5-1da8b69da8e7",
   "metadata": {},
   "outputs": [],
   "source": [
    "af = dset.af_per_anc()\n",
    "df_af = pd.DataFrame(\n",
    "    {\"snp_i\": np.arange(af.shape[0]), \"EUR_af\": af[:, 0], \"AFR_af\": af[:, 1]}\n",
    ")\n",
    "\n",
    "df_plot = pd.merge(df_rls, df_af, on=\"snp_i\")\n",
    "df_plot[\"diff_af\"] = df_plot[\"EUR_af\"] - df_plot[\"AFR_af\"]"
   ]
  },
  {
   "cell_type": "code",
   "execution_count": 42,
   "id": "fcfd4cab-0718-4ae7-a4af-4ec175dde822",
   "metadata": {},
   "outputs": [
    {
     "data": {
      "text/html": [
       "<div>\n",
       "<style scoped>\n",
       "    .dataframe tbody tr th:only-of-type {\n",
       "        vertical-align: middle;\n",
       "    }\n",
       "\n",
       "    .dataframe tbody tr th {\n",
       "        vertical-align: top;\n",
       "    }\n",
       "\n",
       "    .dataframe thead th {\n",
       "        text-align: right;\n",
       "    }\n",
       "</style>\n",
       "<table border=\"1\" class=\"dataframe\">\n",
       "  <thead>\n",
       "    <tr style=\"text-align: right;\">\n",
       "      <th></th>\n",
       "      <th></th>\n",
       "      <th>pval</th>\n",
       "    </tr>\n",
       "    <tr>\n",
       "      <th>method</th>\n",
       "      <th>effect</th>\n",
       "      <th></th>\n",
       "    </tr>\n",
       "  </thead>\n",
       "  <tbody>\n",
       "    <tr>\n",
       "      <th rowspan=\"3\" valign=\"top\">w lanc</th>\n",
       "      <th>0.15</th>\n",
       "      <td>0.635714</td>\n",
       "    </tr>\n",
       "    <tr>\n",
       "      <th>0.20</th>\n",
       "      <td>0.257143</td>\n",
       "    </tr>\n",
       "    <tr>\n",
       "      <th>0.25</th>\n",
       "      <td>0.040476</td>\n",
       "    </tr>\n",
       "    <tr>\n",
       "      <th rowspan=\"3\" valign=\"top\">w/o lanc</th>\n",
       "      <th>0.15</th>\n",
       "      <td>0.678571</td>\n",
       "    </tr>\n",
       "    <tr>\n",
       "      <th>0.20</th>\n",
       "      <td>0.397619</td>\n",
       "    </tr>\n",
       "    <tr>\n",
       "      <th>0.25</th>\n",
       "      <td>0.061905</td>\n",
       "    </tr>\n",
       "  </tbody>\n",
       "</table>\n",
       "</div>"
      ],
      "text/plain": [
       "                     pval\n",
       "method   effect          \n",
       "w lanc   0.15    0.635714\n",
       "         0.20    0.257143\n",
       "         0.25    0.040476\n",
       "w/o lanc 0.15    0.678571\n",
       "         0.20    0.397619\n",
       "         0.25    0.061905"
      ]
     },
     "execution_count": 42,
     "metadata": {},
     "output_type": "execute_result"
    }
   ],
   "source": []
  },
  {
   "cell_type": "code",
   "execution_count": null,
   "id": "722f8024-ce05-41f4-b8cd-8d1672977148",
   "metadata": {},
   "outputs": [],
   "source": []
  }
 ],
 "metadata": {
  "kernelspec": {
   "display_name": "Python 3",
   "language": "python",
   "name": "python3"
  },
  "language_info": {
   "codemirror_mode": {
    "name": "ipython",
    "version": 3
   },
   "file_extension": ".py",
   "mimetype": "text/x-python",
   "name": "python",
   "nbconvert_exporter": "python",
   "pygments_lexer": "ipython3",
   "version": "3.8.5"
  }
 },
 "nbformat": 4,
 "nbformat_minor": 5
}
