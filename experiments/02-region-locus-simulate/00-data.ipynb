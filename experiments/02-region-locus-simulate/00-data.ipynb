{
 "cells": [
  {
   "cell_type": "code",
   "execution_count": 1,
   "id": "a5a40ad9-5f7f-49a3-973d-5941ed55de21",
   "metadata": {},
   "outputs": [],
   "source": [
    "%load_ext autoreload\n",
    "%autoreload 2\n",
    "%load_ext lab_black\n",
    "\n",
    "import numpy as np\n",
    "import dapgen\n",
    "import pandas as pd\n",
    "import dask.array as da\n",
    "import itertools\n",
    "import submitit\n",
    "import json\n",
    "import matplotlib.pyplot as plt\n",
    "import admix_genet_cor\n",
    "import pandas as pd\n",
    "import admix\n",
    "from os.path import join\n",
    "import os"
   ]
  },
  {
   "cell_type": "code",
   "execution_count": 2,
   "id": "41d5f3e9-9bf9-41d5-8c70-05b78b707fe3",
   "metadata": {},
   "outputs": [],
   "source": [
    "DATA_ROOT_DIR = (\n",
    "    \"/u/project/pasaniuc/pasaniucdata/admixture/projects/PAGE-QC/01-dataset/out/aframr\"\n",
    ")\n",
    "CHROM = 1\n",
    "REAL_PFILE = f\"{DATA_ROOT_DIR}/imputed/chr{CHROM}\"\n",
    "SAMPLE_INFO_PATH = join(DATA_ROOT_DIR, \"sample_info.txt\")"
   ]
  },
  {
   "cell_type": "markdown",
   "id": "efdcddad-742c-4629-821f-bc0e839c882c",
   "metadata": {},
   "source": [
    "# Step 1: generate regions"
   ]
  },
  {
   "cell_type": "code",
   "execution_count": 8,
   "id": "31073285-2ac9-49ef-b530-bc2166061b51",
   "metadata": {},
   "outputs": [],
   "source": [
    "geno, df_snp, df_indiv = dapgen.read_pfile(REAL_PFILE, phase=True, snp_chunk=2048)"
   ]
  },
  {
   "cell_type": "code",
   "execution_count": 6,
   "id": "dc431180-ebb8-4b02-a161-6a3449c5c42b",
   "metadata": {},
   "outputs": [],
   "source": [
    "np.random.seed(0)\n",
    "df_region = {\"CHROM\": [], \"START\": [], \"STOP\": []}\n",
    "n_region = 100  # 100 regions\n",
    "region_size = 20  # in megabase\n",
    "\n",
    "while len(df_region[\"START\"]) < n_region:\n",
    "    start = np.random.uniform(\n",
    "        low=df_snp.POS.min(), high=df_snp.POS.max() - region_size * 1e6\n",
    "    )\n",
    "    stop = start + region_size * 1e6\n",
    "    start, stop = int(start), int(stop)\n",
    "    n_snp = np.sum((start < df_snp.POS) & (df_snp.POS < stop))\n",
    "    if n_snp < 1e5:\n",
    "        continue\n",
    "    df_region[\"CHROM\"].append(CHROM)\n",
    "    df_region[\"START\"].append(start)\n",
    "    df_region[\"STOP\"].append(stop)\n",
    "\n",
    "df_region = (\n",
    "    pd.DataFrame(df_region).sort_values([\"CHROM\", \"START\"]).reset_index(drop=True)\n",
    ")\n",
    "df_region.to_csv(\"out/regions.txt\", sep=\"\\t\", index=False)"
   ]
  },
  {
   "cell_type": "markdown",
   "id": "d37e6064-e2f3-4c11-bab2-6926cd807fcd",
   "metadata": {},
   "source": [
    "# Step 2: writing real regions"
   ]
  },
  {
   "cell_type": "code",
   "execution_count": 3,
   "id": "4aa1b3bf-a3d7-4271-9b29-e4b54f04f553",
   "metadata": {},
   "outputs": [],
   "source": [
    "def write_region(region_i):\n",
    "    df_region = pd.read_csv(\"out/regions.txt\", sep=\"\\t\")\n",
    "    dset = admix.io.read_dataset(\n",
    "        REAL_PFILE, indiv_info_file=SAMPLE_INFO_PATH, snp_chunk=256\n",
    "    )\n",
    "    dset._indiv = dset._indiv[[\"geno_EV1\", \"geno_EV2\"]]\n",
    "    lanc = admix.io.read_lanc(REAL_PFILE + \".lanc\")\n",
    "\n",
    "    region_idx = np.where(\n",
    "        (df_region[\"START\"][region_i] < dset.snp.POS)\n",
    "        & (dset.snp.POS < df_region[\"STOP\"][region_i])\n",
    "    )[0]\n",
    "    region_start_idx, region_stop_idx = region_idx[0], region_idx[-1]\n",
    "\n",
    "    dset = dset[region_start_idx:region_stop_idx]\n",
    "    lanc = lanc[region_start_idx:region_stop_idx]\n",
    "    dset.indiv[\"AVG_ANC\"] = dset.lanc.mean(axis=[0, 2]).compute()\n",
    "    prefix = f\"out/real-dataset/region{region_i}\"\n",
    "    admix.io.write_dataset(\n",
    "        geno=dset.geno,\n",
    "        lanc=lanc,\n",
    "        df_indiv=dset.indiv,\n",
    "        df_snp=dset.snp,\n",
    "        out_prefix=prefix,\n",
    "    )\n",
    "    admix.tools.plink2.run(f\"--pfile {prefix} --make-bed --out {prefix} --memory 16000\")"
   ]
  },
  {
   "cell_type": "code",
   "execution_count": 1,
   "id": "2cdea0a3-d76f-4216-bb13-1fda818d9d19",
   "metadata": {},
   "outputs": [],
   "source": [
    "n_snp_list = []\n",
    "for i in range(100):\n",
    "    with open(f\"out/real-dataset/region{i}.bim\") as f:\n",
    "        n_snp = len(f.readlines())\n",
    "        n_snp_list.append(n_snp)"
   ]
  },
  {
   "cell_type": "code",
   "execution_count": 12,
   "id": "0f4f0ae7-11f7-4cc0-b5a5-6e3b3fac6943",
   "metadata": {},
   "outputs": [
    {
     "name": "stdout",
     "output_type": "stream",
     "text": [
      "mean=120395.5, std=6248.3\n"
     ]
    }
   ],
   "source": [
    "import numpy as np\n",
    "print(f\"mean={np.mean(n_snp_list):.1f}, std={np.std(n_snp_list):.1f}\")"
   ]
  },
  {
   "cell_type": "code",
   "execution_count": 7,
   "id": "8dc57782-5b89-4ad6-aa06-bac60261f70a",
   "metadata": {},
   "outputs": [
    {
     "ename": "NameError",
     "evalue": "name 'submitit' is not defined",
     "output_type": "error",
     "traceback": [
      "\u001b[0;31m---------------------------------------------------------------------------\u001b[0m",
      "\u001b[0;31mNameError\u001b[0m                                 Traceback (most recent call last)",
      "\u001b[0;32m<ipython-input-7-9f3996184f1c>\u001b[0m in \u001b[0;36m<module>\u001b[0;34m\u001b[0m\n\u001b[0;32m----> 1\u001b[0;31m \u001b[0mexecutor\u001b[0m \u001b[0;34m=\u001b[0m \u001b[0msubmitit\u001b[0m\u001b[0;34m.\u001b[0m\u001b[0mSgeExecutor\u001b[0m\u001b[0;34m(\u001b[0m\u001b[0mfolder\u001b[0m\u001b[0;34m=\u001b[0m\u001b[0;34m\"./submitit-logs\"\u001b[0m\u001b[0;34m)\u001b[0m\u001b[0;34m\u001b[0m\u001b[0;34m\u001b[0m\u001b[0m\n\u001b[0m\u001b[1;32m      2\u001b[0m \u001b[0;34m\u001b[0m\u001b[0m\n\u001b[1;32m      3\u001b[0m executor.update_parameters(\n\u001b[1;32m      4\u001b[0m     \u001b[0mtime_min\u001b[0m\u001b[0;34m=\u001b[0m\u001b[0;36m30\u001b[0m\u001b[0;34m,\u001b[0m\u001b[0;34m\u001b[0m\u001b[0;34m\u001b[0m\u001b[0m\n\u001b[1;32m      5\u001b[0m     \u001b[0mmemory_g\u001b[0m\u001b[0;34m=\u001b[0m\u001b[0;36m80\u001b[0m\u001b[0;34m,\u001b[0m\u001b[0;34m\u001b[0m\u001b[0;34m\u001b[0m\u001b[0m\n",
      "\u001b[0;31mNameError\u001b[0m: name 'submitit' is not defined"
     ]
    }
   ],
   "source": [
    "executor = submitit.SgeExecutor(folder=\"./submitit-logs\")\n",
    "\n",
    "executor.update_parameters(\n",
    "    time_min=30,\n",
    "    memory_g=80,\n",
    "    setup=[\n",
    "        \"export PATH=~/project-pasaniuc/software/miniconda3/bin:$PATH\",\n",
    "        \"export PYTHONNOUSERSITE=True\",\n",
    "    ],\n",
    ")\n",
    "\n",
    "jobs = executor.map_array(write_region, np.arange(100))"
   ]
  },
  {
   "cell_type": "markdown",
   "id": "0d226733-c3c3-4c2f-8e81-9a99cb1b6896",
   "metadata": {},
   "source": [
    "# Step 3: writing simulated regions"
   ]
  },
  {
   "cell_type": "code",
   "execution_count": 13,
   "id": "566cda1a-672f-4dd5-a923-aba6830b47fc",
   "metadata": {},
   "outputs": [],
   "source": [
    "CHROM = 1\n",
    "KG_PATH = f\"/u/project/pasaniuc/kangchen/DATA/plink2-1kg/out/build38.chr{CHROM}\""
   ]
  },
  {
   "cell_type": "code",
   "execution_count": 14,
   "id": "d2581ccc-4931-4d7f-a927-7d10297fc5d6",
   "metadata": {},
   "outputs": [],
   "source": [
    "def write_simu_region(region_i, anc_props):\n",
    "    df_region = pd.read_csv(\"out/regions.txt\", sep=\"\\t\")\n",
    "    ref_dset = admix.io.read_dataset(KG_PATH)\n",
    "    ref_dset = ref_dset[\n",
    "        (\n",
    "            (ref_dset.snp.CHROM == df_region.CHROM[region_i])\n",
    "            & (\n",
    "                ref_dset.snp.POS.between(\n",
    "                    df_region.START[region_i], df_region.STOP[region_i]\n",
    "                )\n",
    "            )\n",
    "        ).values\n",
    "    ]\n",
    "    ref_dset_list = [\n",
    "        ref_dset[:, (ref_dset.indiv.SuperPop == pop).values] for pop in [\"EUR\", \"AFR\"]\n",
    "    ]\n",
    "\n",
    "    mosaic_size = admix.simulate.calculate_mosaic_size(\n",
    "        df_snp=ref_dset.snp, genetic_map=\"hg38\", chrom=1, n_gen=7\n",
    "    )\n",
    "\n",
    "    np.random.seed(1)\n",
    "\n",
    "    dset, lanc = admix.simulate.admix_geno(\n",
    "        geno_list=[dset.geno for dset in ref_dset_list],\n",
    "        df_snp=ref_dset.snp,\n",
    "        anc_props=anc_props,\n",
    "        mosaic_size=mosaic_size,\n",
    "        n_indiv=20_000,\n",
    "        return_sparse_lanc=True,\n",
    "    )\n",
    "\n",
    "    # save\n",
    "    prefix = (\n",
    "        \"out/simu-dataset/\"\n",
    "        f\"region{region_i}.eur{int(anc_props[0] * 100)}.afr{int(anc_props[1] * 100)}\"\n",
    "    )\n",
    "\n",
    "    admix.io.write_dataset(\n",
    "        geno=dset.geno,\n",
    "        lanc=lanc,\n",
    "        df_indiv=dset.indiv,\n",
    "        df_snp=dset.snp,\n",
    "        out_prefix=prefix,\n",
    "    )\n",
    "    admix.tools.plink2.run(f\"--pfile {prefix} --make-bed --out {prefix} --memory 16000\")\n",
    "\n",
    "    # reload data set and calculate stats\n",
    "    dset = admix.io.read_dataset(prefix)\n",
    "    dset.snp[[\"EUR_FREQ\", \"AFR_FREQ\"]] = dset.af_per_anc()\n",
    "    dset.snp[\"FREQ\"] = dset.geno.mean(axis=[1, 2])\n",
    "    dset.indiv[\"AVG_ANC\"] = dset.lanc.mean(axis=[0, 2]).compute()\n",
    "    dset.snp[[\"EUR_FREQ\", \"AFR_FREQ\", \"FREQ\"]].to_csv(prefix + \".snp_info\", sep=\"\\t\")\n",
    "    dset.indiv[[\"AVG_ANC\"]].to_csv(prefix + \".indiv_info\", sep=\"\\t\")"
   ]
  },
  {
   "cell_type": "code",
   "execution_count": null,
   "id": "ebea4aa1-699f-4d05-b264-27940bcf9d4a",
   "metadata": {},
   "outputs": [],
   "source": [
    "executor = submitit.SgeExecutor(folder=\"./submitit-logs\")\n",
    "\n",
    "executor.update_parameters(\n",
    "    time_min=60,\n",
    "    memory_g=80,\n",
    "    setup=[\n",
    "        \"export PATH=~/project-pasaniuc/software/miniconda3/bin:$PATH\",\n",
    "        \"export PYTHONNOUSERSITE=True\",\n",
    "    ],\n",
    ")\n",
    "jobs = executor.map_array(write_simu_region, np.arange(100), [[0.2, 0.8]] * 100)\n",
    "jobs = executor.map_array(write_simu_region, np.arange(100), [[0.8, 0.2]] * 100)"
   ]
  },
  {
   "cell_type": "code",
   "execution_count": null,
   "id": "44710dc9-e725-4db6-8b1e-07e769cea599",
   "metadata": {},
   "outputs": [],
   "source": []
  }
 ],
 "metadata": {
  "kernelspec": {
   "display_name": "Python 3",
   "language": "python",
   "name": "python3"
  },
  "language_info": {
   "codemirror_mode": {
    "name": "ipython",
    "version": 3
   },
   "file_extension": ".py",
   "mimetype": "text/x-python",
   "name": "python",
   "nbconvert_exporter": "python",
   "pygments_lexer": "ipython3",
   "version": "3.8.5"
  }
 },
 "nbformat": 4,
 "nbformat_minor": 5
}
