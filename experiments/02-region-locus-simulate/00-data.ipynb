{
 "cells": [
  {
   "cell_type": "markdown",
   "id": "6125fa89-6e5b-411d-883d-562d23d0412e",
   "metadata": {},
   "source": [
    "# Region definitions\n",
    "\n",
    "Uniformly divide the genomes into non-overlapping 10Mb regions\n",
    "\n",
    "randomly select 500 20Mb region\n",
    "place causal variants equally spaced (based on the position) in the region \n"
   ]
  },
  {
   "cell_type": "code",
   "execution_count": 1,
   "id": "f66583b9-75a8-4f7b-a177-754c9aa99563",
   "metadata": {},
   "outputs": [],
   "source": [
    "%load_ext autoreload\n",
    "%autoreload 2\n",
    "%load_ext lab_black\n",
    "\n",
    "import numpy as np\n",
    "import dapgen\n",
    "import pandas as pd\n",
    "import dask.array as da\n",
    "import itertools\n",
    "import submitit\n",
    "import json\n",
    "import matplotlib.pyplot as plt\n",
    "import admix_genet_cor\n",
    "import pandas as pd\n",
    "import admix\n",
    "from os.path import join\n",
    "import os"
   ]
  },
  {
   "cell_type": "code",
   "execution_count": 2,
   "id": "9483d6ae-968a-487f-beb9-da9e45d19911",
   "metadata": {},
   "outputs": [],
   "source": [
    "DATA_ROOT_DIR = (\n",
    "    \"/u/project/pasaniuc/pasaniucdata/admixture/projects/PAGE-QC/01-dataset/out/aframr\"\n",
    ")\n",
    "CHROM = 1"
   ]
  },
  {
   "cell_type": "code",
   "execution_count": 3,
   "id": "585cf23c-726b-45f1-8447-58af1593cf66",
   "metadata": {},
   "outputs": [],
   "source": [
    "pfile = f\"{DATA_ROOT_DIR}/imputed/chr{CHROM}\"\n",
    "\n",
    "geno, df_snp, df_indiv = dapgen.read_pfile(pfile, phase=True, snp_chunk=2048)"
   ]
  },
  {
   "cell_type": "code",
   "execution_count": 4,
   "id": "5acac4c7-10c9-46cd-ad01-9d4738365b17",
   "metadata": {},
   "outputs": [],
   "source": [
    "np.random.seed(0)\n",
    "df_region = {\"CHROM\": [], \"START\": [], \"STOP\": []}\n",
    "n_region = 100\n",
    "region_size = 20  # in megabase\n",
    "\n",
    "while len(df_region[\"START\"]) < n_region:\n",
    "    start = np.random.uniform(\n",
    "        low=df_snp.POS.min(), high=df_snp.POS.max() - region_size * 1e6\n",
    "    )\n",
    "    stop = start + region_size * 1e6\n",
    "    start, stop = int(start), int(stop)\n",
    "    n_snp = np.sum((start < df_snp.POS) & (df_snp.POS < stop))\n",
    "    if n_snp < 1e5:\n",
    "        continue\n",
    "    df_region[\"CHROM\"].append(CHROM)\n",
    "    df_region[\"START\"].append(start)\n",
    "    df_region[\"STOP\"].append(stop)\n",
    "\n",
    "df_region = (\n",
    "    pd.DataFrame(df_region).sort_values([\"CHROM\", \"START\"]).reset_index(drop=True)\n",
    ")\n",
    "df_region.to_csv(\"out/regions.txt\", sep=\"\\t\", index=False)"
   ]
  }
 ],
 "metadata": {
  "kernelspec": {
   "display_name": "Python 3",
   "language": "python",
   "name": "python3"
  },
  "language_info": {
   "codemirror_mode": {
    "name": "ipython",
    "version": 3
   },
   "file_extension": ".py",
   "mimetype": "text/x-python",
   "name": "python",
   "nbconvert_exporter": "python",
   "pygments_lexer": "ipython3",
   "version": "3.8.5"
  }
 },
 "nbformat": 4,
 "nbformat_minor": 5
}
