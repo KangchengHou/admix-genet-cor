{
 "cells": [
  {
   "cell_type": "markdown",
   "id": "48eff764-d694-4db6-bdf1-29f0e0554e2b",
   "metadata": {},
   "source": [
    "# Showcasing the results\n",
    "1. Estimation performance\n",
    "2. Hypothesis testing performance"
   ]
  },
  {
   "cell_type": "code",
   "execution_count": 25,
   "id": "dea432cd-3cb9-4d49-86ce-f3477a9095ad",
   "metadata": {},
   "outputs": [
    {
     "name": "stdout",
     "output_type": "stream",
     "text": [
      "The autoreload extension is already loaded. To reload it, use:\n",
      "  %reload_ext autoreload\n",
      "The lab_black extension is already loaded. To reload it, use:\n",
      "  %reload_ext lab_black\n"
     ]
    }
   ],
   "source": [
    "%load_ext autoreload\n",
    "%autoreload 2\n",
    "%load_ext lab_black\n",
    "\n",
    "import matplotlib.pyplot as plt\n",
    "import numpy as np\n",
    "import json\n",
    "import pandas as pd\n",
    "import seaborn as sns\n",
    "import os"
   ]
  },
  {
   "cell_type": "code",
   "execution_count": 26,
   "id": "afe062ed-e676-4b96-b88b-2bc9c910e9dd",
   "metadata": {},
   "outputs": [],
   "source": [
    "# f_name = \"out/estimate/hsq-0.25-pcausal-0.01-cor-1.0-hermodel-mafukb.estimate.json\"\n",
    "\n",
    "# with open(f_name) as f:\n",
    "#     data = json.load(f)\n",
    "\n",
    "#     df_plot = pd.DataFrame(\n",
    "#         np.array([d[\"estimate\"] for d in data]),\n",
    "#         columns=[\n",
    "#             \"estimated_var_g\",\n",
    "#             \"estimated_rho\",\n",
    "#             \"estimated_var_e\",\n",
    "#         ],\n",
    "#     )\n",
    "# df_plot[\"estimated_ratio\"] = df_plot[\"estimated_rho\"] / df_plot[\"estimated_var_g\"]"
   ]
  },
  {
   "cell_type": "code",
   "execution_count": 27,
   "id": "9ee9c372-3c14-40b9-bd34-9df33778d443",
   "metadata": {},
   "outputs": [],
   "source": [
    "rls_list = []\n",
    "\n",
    "for hsq in [0.1, 0.25, 0.5]:\n",
    "    for pcausal in [0.01, 0.001, 1.0]:\n",
    "        for cor in [0.6, 0.8, 1.0]:\n",
    "            # for hsq in [0.1]:\n",
    "            #     for pcausal in [0.01, 0.001, 1.0]:\n",
    "            #         for cor in [0.8, 1.0]:\n",
    "            for hermodel in [\"mafukb\"]:\n",
    "                f_name = (\n",
    "                    f\"out/estimate/hsq-{hsq}-pcausal-{pcausal}-cor-{cor}\"\n",
    "                    + f\"-hermodel-{hermodel}.estimate.json\"\n",
    "                )\n",
    "                if not os.path.exists(f_name):\n",
    "                    continue\n",
    "                with open(f_name) as f:\n",
    "                    data = json.load(f)\n",
    "\n",
    "                    df_tmp = pd.DataFrame(\n",
    "                        np.array([d[\"estimate\"] for d in data]),\n",
    "                        columns=[\n",
    "                            \"estimated_var_g\",\n",
    "                            \"estimated_rho\",\n",
    "                            \"estimated_var_e\",\n",
    "                        ],\n",
    "                    )\n",
    "                    df_tmp[\"hsq\"] = hsq\n",
    "                    df_tmp[\"cor\"] = cor\n",
    "                    df_tmp[\"pcausal\"] = pcausal\n",
    "                    df_tmp[\"hermodel\"] = hermodel\n",
    "                    rls_list.append(df_tmp)\n",
    "\n",
    "df_plot = pd.concat(rls_list)\n",
    "df_plot[\"estimated_ratio\"] = df_plot[\"estimated_rho\"] / df_plot[\"estimated_var_g\"]"
   ]
  },
  {
   "cell_type": "code",
   "execution_count": 28,
   "id": "baf2943b-cf8d-43aa-93cc-e94f6df2b8be",
   "metadata": {},
   "outputs": [
    {
     "data": {
      "image/png": "[encoded data removed]",
      "text/plain": [
       "<Figure size 750x345 with 3 Axes>"
      ]
     },
     "metadata": {
      "needs_background": "light"
     },
     "output_type": "display_data"
    }
   ],
   "source": [
    "fig, axes = plt.subplots(figsize=(5, 2.3), dpi=150, sharex=True, sharey=True, ncols=3)\n",
    "\n",
    "for ax_i, hsq in enumerate([0.1, 0.25, 0.5]):\n",
    "    df_tmp = df_plot[(df_plot.hsq == hsq)].copy()\n",
    "\n",
    "    ax = axes[ax_i]\n",
    "\n",
    "    sns.pointplot(\n",
    "        data=df_tmp,\n",
    "        x=\"cor\",\n",
    "        y=\"estimated_ratio\",\n",
    "        hue=\"pcausal\",\n",
    "        dodge=0.2,\n",
    "        join=False,\n",
    "        ax=ax,\n",
    "        markers=\".\",\n",
    "    )\n",
    "    cor_list = sorted(df_plot.cor.unique())\n",
    "\n",
    "    ax.hlines(\n",
    "        cor_list,\n",
    "        np.arange(len(cor_list)) - 0.2,\n",
    "        np.arange(len(cor_list)) + 0.2,\n",
    "        color=\"red\",\n",
    "        ls=\"--\",\n",
    "        zorder=10,\n",
    "    )\n",
    "    ax.set_ylim(0.2, 1.3)\n",
    "    ax.set_xlabel(\"Simulated $r_g$\")\n",
    "    ax.set_ylabel(\"Estimated $r_g$\")\n",
    "    ax.set_title(\"$h_g^2$\" + f\" = {hsq}\")\n",
    "    if ax_i != 0:\n",
    "        axes[ax_i].legend([], [], frameon=False)"
   ]
  },
  {
   "cell_type": "code",
   "execution_count": 29,
   "id": "80665369-a254-49b5-a4e7-3056f5821884",
   "metadata": {},
   "outputs": [],
   "source": [
    "# rls_list = []\n",
    "\n",
    "# for simulate_snpset in [\"hm3\", \"imputed\"]:\n",
    "#     for estimate_snpset in [\"hm3\", \"imputed\"]:\n",
    "#         for pcausal in [0.005, 0.1, 1.0]:\n",
    "#             for rho in [0.5, 0.8, 1.0]:\n",
    "#                 f_name = f\"out/estimate/snpset-{simulate_snpset}-varg-1.0-pcausal-{pcausal}-rho-{rho}.{estimate_snpset}.estimate.json\"\n",
    "#                 if not os.path.exists(f_name):\n",
    "#                     continue\n",
    "#                 with open(f_name) as f:\n",
    "#                     data = json.load(f)\n",
    "#                     df_tmp = pd.DataFrame(\n",
    "#                         np.array([d[\"estimate\"] for d in data]),\n",
    "#                         columns=[\"estimated_var_g\", \"estimated_rho\", \"estimated_var_e\"],\n",
    "#                     )\n",
    "#                     df_tmp[\"simulate_snpset\"] = simulate_snpset\n",
    "#                     df_tmp[\"estimate_snpset\"] = estimate_snpset\n",
    "#                     df_tmp[\"rho\"] = rho\n",
    "#                     df_tmp[\"pcausal\"] = pcausal\n",
    "#                     rls_list.append(df_tmp)\n",
    "\n",
    "# df_plot = pd.concat(rls_list)\n",
    "# df_plot[\"estimated_ratio\"] = df_plot[\"estimated_rho\"] / df_plot[\"estimated_var_g\"]"
   ]
  }
 ],
 "metadata": {
  "kernelspec": {
   "display_name": "Python 3",
   "language": "python",
   "name": "python3"
  },
  "language_info": {
   "codemirror_mode": {
    "name": "ipython",
    "version": 3
   },
   "file_extension": ".py",
   "mimetype": "text/x-python",
   "name": "python",
   "nbconvert_exporter": "python",
   "pygments_lexer": "ipython3",
   "version": "3.8.5"
  }
 },
 "nbformat": 4,
 "nbformat_minor": 5
}
