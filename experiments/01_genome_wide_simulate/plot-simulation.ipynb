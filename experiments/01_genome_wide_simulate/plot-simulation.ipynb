{
 "cells": [
  {
   "cell_type": "markdown",
   "id": "48eff764-d694-4db6-bdf1-29f0e0554e2b",
   "metadata": {},
   "source": [
    "# Showcasing the results\n",
    "1. Estimation performance\n",
    "2. Hypothesis testing performance"
   ]
  },
  {
   "cell_type": "code",
   "execution_count": 1,
   "id": "dea432cd-3cb9-4d49-86ce-f3477a9095ad",
   "metadata": {},
   "outputs": [],
   "source": [
    "%load_ext autoreload\n",
    "%autoreload 2\n",
    "%load_ext lab_black\n",
    "\n",
    "import matplotlib.pyplot as plt\n",
    "import numpy as np\n",
    "import json\n",
    "import pandas as pd\n",
    "import seaborn as sns\n",
    "import os"
   ]
  },
  {
   "cell_type": "code",
   "execution_count": 2,
   "id": "80665369-a254-49b5-a4e7-3056f5821884",
   "metadata": {},
   "outputs": [],
   "source": [
    "rls_list = []\n",
    "\n",
    "for simulate_snpset in [\"hm3\", \"imputed\"]:\n",
    "    for estimate_snpset in [\"hm3\", \"imputed\"]:\n",
    "        for pcausal in [0.005, 0.1, 1.0]:\n",
    "            for rho in [0.5, 0.8, 1.0]:\n",
    "                f_name = f\"out/estimate/snpset-{simulate_snpset}-varg-1.0-pcausal-{pcausal}-rho-{rho}.{estimate_snpset}.estimate.json\"\n",
    "                if not os.path.exists(f_name):\n",
    "                    continue\n",
    "                with open(f_name) as f:\n",
    "                    data = json.load(f)\n",
    "\n",
    "                    df_tmp = pd.DataFrame(\n",
    "                        np.array([d[\"estimate\"] for d in data]),\n",
    "                        columns=[\"estimated_var_g\", \"estimated_rho\", \"estimated_var_e\"],\n",
    "                    )\n",
    "                    df_tmp[\"simulate_snpset\"] = simulate_snpset\n",
    "                    df_tmp[\"estimate_snpset\"] = estimate_snpset\n",
    "                    df_tmp[\"rho\"] = rho\n",
    "                    df_tmp[\"pcausal\"] = pcausal\n",
    "                    rls_list.append(df_tmp)\n",
    "\n",
    "df_plot = pd.concat(rls_list)\n",
    "df_plot[\"estimated_ratio\"] = df_plot[\"estimated_rho\"] / df_plot[\"estimated_var_g\"]"
   ]
  },
  {
   "cell_type": "code",
   "execution_count": 17,
   "id": "d292f3b6-a063-40da-b27a-640bed6d90a8",
   "metadata": {},
   "outputs": [],
   "source": [
    "df_tmp = df_plot[\n",
    "    (df_plot.simulate_snpset == \"imputed\") & (df_plot.estimate_snpset == \"imputed\")\n",
    "]"
   ]
  },
  {
   "cell_type": "code",
   "execution_count": 18,
   "id": "5181687f-a80c-4d51-9f59-98b0179fb5c2",
   "metadata": {},
   "outputs": [
    {
     "data": {
      "text/plain": [
       "Text(0, 0.5, 'Estimated $r_g$')"
      ]
     },
     "execution_count": 18,
     "metadata": {},
     "output_type": "execute_result"
    },
    {
     "data": {
      "image/png": "[encoded data removed]",
      "text/plain": [
       "<Figure size 375x375 with 1 Axes>"
      ]
     },
     "metadata": {
      "needs_background": "light"
     },
     "output_type": "display_data"
    }
   ],
   "source": [
    "fig, ax = plt.subplots(figsize=(2.5, 2.5), dpi=150, sharex=True, sharey=True)\n",
    "sns.pointplot(\n",
    "    data=df_tmp,\n",
    "    x=\"rho\",\n",
    "    y=\"estimated_ratio\",\n",
    "    hue=\"pcausal\",\n",
    "    dodge=0.2,\n",
    "    join=False,\n",
    "    ax=ax,\n",
    "    markers=\".\",\n",
    ")\n",
    "\n",
    "list_rho = df_plot.rho.unique()\n",
    "\n",
    "ax.hlines(\n",
    "    list_rho,\n",
    "    np.arange(len(list_rho)) - 0.2,\n",
    "    np.arange(len(list_rho)) + 0.2,\n",
    "    color=\"red\",\n",
    "    ls=\"--\",\n",
    "    zorder=10,\n",
    ")\n",
    "ax.set_ylim(0.2, 1.3)\n",
    "ax.set_xlabel(\"Simulated $r_g$\")\n",
    "ax.set_ylabel(\"Estimated $r_g$\")"
   ]
  },
  {
   "cell_type": "code",
   "execution_count": null,
   "id": "ab411416-4f8e-442d-93ef-dc6e37e75e88",
   "metadata": {},
   "outputs": [],
   "source": []
  }
 ],
 "metadata": {
  "kernelspec": {
   "display_name": "Python 3",
   "language": "python",
   "name": "python3"
  },
  "language_info": {
   "codemirror_mode": {
    "name": "ipython",
    "version": 3
   },
   "file_extension": ".py",
   "mimetype": "text/x-python",
   "name": "python",
   "nbconvert_exporter": "python",
   "pygments_lexer": "ipython3",
   "version": "3.8.5"
  }
 },
 "nbformat": 4,
 "nbformat_minor": 5
}
