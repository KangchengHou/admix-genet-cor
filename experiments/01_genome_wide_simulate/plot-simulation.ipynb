{
 "cells": [
  {
   "cell_type": "markdown",
   "id": "48eff764-d694-4db6-bdf1-29f0e0554e2b",
   "metadata": {},
   "source": [
    "# Showcasing the results\n",
    "1. Estimation performance\n",
    "2. Hypothesis testing performance"
   ]
  },
  {
   "cell_type": "code",
   "execution_count": 1,
   "id": "dea432cd-3cb9-4d49-86ce-f3477a9095ad",
   "metadata": {},
   "outputs": [],
   "source": [
    "%load_ext autoreload\n",
    "%autoreload 2\n",
    "%load_ext lab_black\n",
    "\n",
    "import matplotlib.pyplot as plt\n",
    "import numpy as np\n",
    "import json\n",
    "import pandas as pd\n",
    "import seaborn as sns\n",
    "import os"
   ]
  },
  {
   "cell_type": "code",
   "execution_count": 2,
   "id": "afe062ed-e676-4b96-b88b-2bc9c910e9dd",
   "metadata": {},
   "outputs": [],
   "source": [
    "# f_name = \"out/estimate/hsq-0.25-pcausal-0.01-cor-1.0-hermodel-mafukb.estimate.json\"\n",
    "\n",
    "# with open(f_name) as f:\n",
    "#     data = json.load(f)\n",
    "\n",
    "#     df_plot = pd.DataFrame(\n",
    "#         np.array([d[\"estimate\"] for d in data]),\n",
    "#         columns=[\n",
    "#             \"estimated_var_g\",\n",
    "#             \"estimated_rho\",\n",
    "#             \"estimated_var_e\",\n",
    "#         ],\n",
    "#     )\n",
    "# df_plot[\"estimated_ratio\"] = df_plot[\"estimated_rho\"] / df_plot[\"estimated_var_g\"]"
   ]
  },
  {
   "cell_type": "code",
   "execution_count": 5,
   "id": "9ee9c372-3c14-40b9-bd34-9df33778d443",
   "metadata": {},
   "outputs": [],
   "source": [
    "rls_list = []\n",
    "\n",
    "for hsq in [0.1, 0.5]:\n",
    "    for pcausal in [0.01, 0.001, 1.0]:\n",
    "        for cor in [0.8, 1.0]:\n",
    "            for hermodel in [\"mafukb\"]:\n",
    "                f_name = (\n",
    "                    f\"out/estimate/hsq-{hsq}-pcausal-{pcausal}-cor-{cor}\"\n",
    "                    + f\"-hermodel-{hermodel}.estimate.json\"\n",
    "                )\n",
    "                if not os.path.exists(f_name):\n",
    "                    continue\n",
    "                with open(f_name) as f:\n",
    "                    data = json.load(f)\n",
    "\n",
    "                    df_tmp = pd.DataFrame(\n",
    "                        np.array([d[\"estimate\"] for d in data]),\n",
    "                        columns=[\n",
    "                            \"estimated_var_g\",\n",
    "                            \"estimated_rho\",\n",
    "                            \"estimated_var_e\",\n",
    "                        ],\n",
    "                    )\n",
    "                    df_tmp[\"hsq\"] = hsq\n",
    "                    df_tmp[\"cor\"] = cor\n",
    "                    df_tmp[\"pcausal\"] = pcausal\n",
    "                    df_tmp[\"hermodel\"] = hermodel\n",
    "                    rls_list.append(df_tmp)\n",
    "\n",
    "df_plot = pd.concat(rls_list)\n",
    "df_plot[\"estimated_ratio\"] = df_plot[\"estimated_rho\"] / df_plot[\"estimated_var_g\"]\n",
    "# df_plot.loc[df_plot[\"estimated_ratio\"] < -1, \"estimated_ratio\"] = 0\n",
    "# df_plot.loc[df_plot[\"estimated_ratio\"] > 10, \"estimated_ratio\"] = 1"
   ]
  },
  {
   "cell_type": "code",
   "execution_count": 6,
   "id": "baf2943b-cf8d-43aa-93cc-e94f6df2b8be",
   "metadata": {},
   "outputs": [
    {
     "data": {
      "image/png": "[encoded data removed]",
      "text/plain": [
       "<Figure size 750x345 with 2 Axes>"
      ]
     },
     "metadata": {
      "needs_background": "light"
     },
     "output_type": "display_data"
    }
   ],
   "source": [
    "fig, axes = plt.subplots(figsize=(5, 2.3), dpi=150, sharex=True, sharey=True, ncols=2)\n",
    "\n",
    "for ax_i, hsq in enumerate([0.1, 0.5]):\n",
    "    df_tmp = df_plot[(df_plot.hsq == hsq)].copy()\n",
    "\n",
    "    ax = axes[ax_i]\n",
    "\n",
    "    sns.pointplot(\n",
    "        data=df_tmp,\n",
    "        x=\"cor\",\n",
    "        y=\"estimated_ratio\",\n",
    "        hue=\"pcausal\",\n",
    "        ax=ax,\n",
    "        markers=\".\",\n",
    "        dodge=0.2,\n",
    "        join=False,\n",
    "    )\n",
    "    cor_list = sorted(df_plot.cor.unique())\n",
    "\n",
    "    ax.hlines(\n",
    "        cor_list,\n",
    "        np.arange(len(cor_list)) - 0.2,\n",
    "        np.arange(len(cor_list)) + 0.2,\n",
    "        color=\"red\",\n",
    "        ls=\"--\",\n",
    "        zorder=10,\n",
    "    )\n",
    "    ax.set_ylim(0.2, 1.3)\n",
    "    ax.set_xlabel(\"Simulated $r_g$\")\n",
    "    ax.set_ylabel(\"Estimated $r_g$\")\n",
    "    ax.set_title(\"$h_g^2$\" + f\" = {hsq}\")\n",
    "    if ax_i != 0:\n",
    "        axes[ax_i].legend([], [], frameon=False)"
   ]
  },
  {
   "cell_type": "code",
   "execution_count": 94,
   "id": "7870c9c4-9bea-4227-bda7-2b32b32ea28b",
   "metadata": {},
   "outputs": [
    {
     "data": {
      "text/html": [
       "<div>\n",
       "<style scoped>\n",
       "    .dataframe tbody tr th:only-of-type {\n",
       "        vertical-align: middle;\n",
       "    }\n",
       "\n",
       "    .dataframe tbody tr th {\n",
       "        vertical-align: top;\n",
       "    }\n",
       "\n",
       "    .dataframe thead th {\n",
       "        text-align: right;\n",
       "    }\n",
       "</style>\n",
       "<table border=\"1\" class=\"dataframe\">\n",
       "  <thead>\n",
       "    <tr style=\"text-align: right;\">\n",
       "      <th></th>\n",
       "      <th>estimated_var_g</th>\n",
       "      <th>estimated_rho</th>\n",
       "      <th>estimated_var_e</th>\n",
       "      <th>hsq</th>\n",
       "      <th>cor</th>\n",
       "      <th>pcausal</th>\n",
       "      <th>hermodel</th>\n",
       "      <th>estimated_ratio</th>\n",
       "    </tr>\n",
       "  </thead>\n",
       "  <tbody>\n",
       "    <tr>\n",
       "      <th>79</th>\n",
       "      <td>0.154485</td>\n",
       "      <td>-0.032049</td>\n",
       "      <td>0.956861</td>\n",
       "      <td>0.1</td>\n",
       "      <td>0.8</td>\n",
       "      <td>0.010</td>\n",
       "      <td>mafukb</td>\n",
       "      <td>-0.207460</td>\n",
       "    </tr>\n",
       "    <tr>\n",
       "      <th>18</th>\n",
       "      <td>0.174448</td>\n",
       "      <td>0.054460</td>\n",
       "      <td>0.930034</td>\n",
       "      <td>0.1</td>\n",
       "      <td>0.8</td>\n",
       "      <td>0.010</td>\n",
       "      <td>mafukb</td>\n",
       "      <td>0.312183</td>\n",
       "    </tr>\n",
       "    <tr>\n",
       "      <th>72</th>\n",
       "      <td>0.204402</td>\n",
       "      <td>0.137262</td>\n",
       "      <td>0.944830</td>\n",
       "      <td>0.1</td>\n",
       "      <td>0.8</td>\n",
       "      <td>1.000</td>\n",
       "      <td>mafukb</td>\n",
       "      <td>0.671530</td>\n",
       "    </tr>\n",
       "    <tr>\n",
       "      <th>0</th>\n",
       "      <td>0.207929</td>\n",
       "      <td>0.207149</td>\n",
       "      <td>0.936254</td>\n",
       "      <td>0.1</td>\n",
       "      <td>0.8</td>\n",
       "      <td>0.010</td>\n",
       "      <td>mafukb</td>\n",
       "      <td>0.996253</td>\n",
       "    </tr>\n",
       "    <tr>\n",
       "      <th>95</th>\n",
       "      <td>0.211349</td>\n",
       "      <td>0.069582</td>\n",
       "      <td>0.942536</td>\n",
       "      <td>0.1</td>\n",
       "      <td>0.8</td>\n",
       "      <td>0.010</td>\n",
       "      <td>mafukb</td>\n",
       "      <td>0.329230</td>\n",
       "    </tr>\n",
       "    <tr>\n",
       "      <th>...</th>\n",
       "      <td>...</td>\n",
       "      <td>...</td>\n",
       "      <td>...</td>\n",
       "      <td>...</td>\n",
       "      <td>...</td>\n",
       "      <td>...</td>\n",
       "      <td>...</td>\n",
       "      <td>...</td>\n",
       "    </tr>\n",
       "    <tr>\n",
       "      <th>54</th>\n",
       "      <td>3.441567</td>\n",
       "      <td>0.839028</td>\n",
       "      <td>-0.093613</td>\n",
       "      <td>0.5</td>\n",
       "      <td>0.8</td>\n",
       "      <td>1.000</td>\n",
       "      <td>mafukb</td>\n",
       "      <td>0.243792</td>\n",
       "    </tr>\n",
       "    <tr>\n",
       "      <th>68</th>\n",
       "      <td>3.449691</td>\n",
       "      <td>2.572215</td>\n",
       "      <td>0.061967</td>\n",
       "      <td>0.5</td>\n",
       "      <td>1.0</td>\n",
       "      <td>0.010</td>\n",
       "      <td>mafukb</td>\n",
       "      <td>0.745636</td>\n",
       "    </tr>\n",
       "    <tr>\n",
       "      <th>0</th>\n",
       "      <td>3.458500</td>\n",
       "      <td>2.242605</td>\n",
       "      <td>0.019432</td>\n",
       "      <td>0.5</td>\n",
       "      <td>1.0</td>\n",
       "      <td>0.001</td>\n",
       "      <td>mafukb</td>\n",
       "      <td>0.648433</td>\n",
       "    </tr>\n",
       "    <tr>\n",
       "      <th>77</th>\n",
       "      <td>3.564349</td>\n",
       "      <td>3.052088</td>\n",
       "      <td>0.070298</td>\n",
       "      <td>0.5</td>\n",
       "      <td>1.0</td>\n",
       "      <td>0.001</td>\n",
       "      <td>mafukb</td>\n",
       "      <td>0.856282</td>\n",
       "    </tr>\n",
       "    <tr>\n",
       "      <th>36</th>\n",
       "      <td>3.737670</td>\n",
       "      <td>2.757566</td>\n",
       "      <td>0.004137</td>\n",
       "      <td>0.5</td>\n",
       "      <td>1.0</td>\n",
       "      <td>1.000</td>\n",
       "      <td>mafukb</td>\n",
       "      <td>0.737777</td>\n",
       "    </tr>\n",
       "  </tbody>\n",
       "</table>\n",
       "<p>1000 rows × 8 columns</p>\n",
       "</div>"
      ],
      "text/plain": [
       "    estimated_var_g  estimated_rho  estimated_var_e  hsq  cor  pcausal  \\\n",
       "79         0.154485      -0.032049         0.956861  0.1  0.8    0.010   \n",
       "18         0.174448       0.054460         0.930034  0.1  0.8    0.010   \n",
       "72         0.204402       0.137262         0.944830  0.1  0.8    1.000   \n",
       "0          0.207929       0.207149         0.936254  0.1  0.8    0.010   \n",
       "95         0.211349       0.069582         0.942536  0.1  0.8    0.010   \n",
       "..              ...            ...              ...  ...  ...      ...   \n",
       "54         3.441567       0.839028        -0.093613  0.5  0.8    1.000   \n",
       "68         3.449691       2.572215         0.061967  0.5  1.0    0.010   \n",
       "0          3.458500       2.242605         0.019432  0.5  1.0    0.001   \n",
       "77         3.564349       3.052088         0.070298  0.5  1.0    0.001   \n",
       "36         3.737670       2.757566         0.004137  0.5  1.0    1.000   \n",
       "\n",
       "   hermodel  estimated_ratio  \n",
       "79   mafukb        -0.207460  \n",
       "18   mafukb         0.312183  \n",
       "72   mafukb         0.671530  \n",
       "0    mafukb         0.996253  \n",
       "95   mafukb         0.329230  \n",
       "..      ...              ...  \n",
       "54   mafukb         0.243792  \n",
       "68   mafukb         0.745636  \n",
       "0    mafukb         0.648433  \n",
       "77   mafukb         0.856282  \n",
       "36   mafukb         0.737777  \n",
       "\n",
       "[1000 rows x 8 columns]"
      ]
     },
     "execution_count": 94,
     "metadata": {},
     "output_type": "execute_result"
    }
   ],
   "source": [
    "df_plot.sort_values(\"estimated_var_g\")"
   ]
  },
  {
   "cell_type": "code",
   "execution_count": 53,
   "id": "103ba9bc-a890-4c7b-843c-bf30080a723b",
   "metadata": {},
   "outputs": [
    {
     "name": "stderr",
     "output_type": "stream",
     "text": [
      "<ipython-input-53-bd74facbc5a6>:1: FutureWarning: Dropping of nuisance columns in DataFrame reductions (with 'numeric_only=None') is deprecated; in a future version this will raise TypeError.  Select only valid columns before calling the reduction.\n",
      "  df_plot.std()\n"
     ]
    },
    {
     "data": {
      "text/plain": [
       "estimated_var_g    0.858649\n",
       "estimated_rho      0.845207\n",
       "estimated_var_e    0.220141\n",
       "hsq                0.199262\n",
       "cor                0.099631\n",
       "pcausal            0.443130\n",
       "estimated_ratio    4.633225\n",
       "dtype: float64"
      ]
     },
     "execution_count": 53,
     "metadata": {},
     "output_type": "execute_result"
    }
   ],
   "source": [
    "df_plot.std()"
   ]
  },
  {
   "cell_type": "code",
   "execution_count": 67,
   "id": "c3348c24-2385-4d1a-bd9d-a5048baa596e",
   "metadata": {},
   "outputs": [],
   "source": [
    "sim_i = 47"
   ]
  },
  {
   "cell_type": "code",
   "execution_count": 68,
   "id": "93c5289b-04b1-4652-845c-48449a709304",
   "metadata": {},
   "outputs": [],
   "source": [
    "sim_beta = beta[:, :, sim_i]\n",
    "sim_beta = sim_beta[np.any(sim_beta != 0, axis=1), :]"
   ]
  },
  {
   "cell_type": "code",
   "execution_count": 69,
   "id": "9086235e-6a79-4e86-9ac0-732dfa5b422a",
   "metadata": {},
   "outputs": [
    {
     "data": {
      "text/plain": [
       "array([[0.00064561, 0.00054381],\n",
       "       [0.00054381, 0.00070139]])"
      ]
     },
     "execution_count": 69,
     "metadata": {},
     "output_type": "execute_result"
    }
   ],
   "source": [
    "np.cov(sim_beta.T)"
   ]
  },
  {
   "cell_type": "code",
   "execution_count": 44,
   "id": "af9c96d5-79e2-4958-8802-ef48e93b2a88",
   "metadata": {},
   "outputs": [
    {
     "data": {
      "text/plain": [
       "array([[-0.00280472, -0.00527307],\n",
       "       [ 0.00889807,  0.00823082],\n",
       "       [ 0.00121278,  0.04253152],\n",
       "       ...,\n",
       "       [ 0.00188879,  0.01125861],\n",
       "       [ 0.06872904,  0.04997627],\n",
       "       [-0.02174921, -0.03172026]])"
      ]
     },
     "execution_count": 44,
     "metadata": {},
     "output_type": "execute_result"
    }
   ],
   "source": [
    "sim_beta"
   ]
  },
  {
   "cell_type": "code",
   "execution_count": null,
   "id": "d4cb1119-f786-430b-b7f7-fe8210585b18",
   "metadata": {},
   "outputs": [],
   "source": [
    "beta[:, 0, sim_i]"
   ]
  },
  {
   "cell_type": "code",
   "execution_count": 27,
   "id": "8f2cf603-fbca-43c1-a7db-d1929a888afd",
   "metadata": {},
   "outputs": [
    {
     "data": {
      "text/plain": [
       "(1340372, 2, 100)"
      ]
     },
     "execution_count": 27,
     "metadata": {},
     "output_type": "execute_result"
    }
   ],
   "source": [
    "beta.shape"
   ]
  },
  {
   "cell_type": "code",
   "execution_count": 29,
   "id": "80665369-a254-49b5-a4e7-3056f5821884",
   "metadata": {},
   "outputs": [],
   "source": [
    "# rls_list = []\n",
    "\n",
    "# for simulate_snpset in [\"hm3\", \"imputed\"]:\n",
    "#     for estimate_snpset in [\"hm3\", \"imputed\"]:\n",
    "#         for pcausal in [0.005, 0.1, 1.0]:\n",
    "#             for rho in [0.5, 0.8, 1.0]:\n",
    "#                 f_name = f\"out/estimate/snpset-{simulate_snpset}-varg-1.0-pcausal-{pcausal}-rho-{rho}.{estimate_snpset}.estimate.json\"\n",
    "#                 if not os.path.exists(f_name):\n",
    "#                     continue\n",
    "#                 with open(f_name) as f:\n",
    "#                     data = json.load(f)\n",
    "#                     df_tmp = pd.DataFrame(\n",
    "#                         np.array([d[\"estimate\"] for d in data]),\n",
    "#                         columns=[\"estimated_var_g\", \"estimated_rho\", \"estimated_var_e\"],\n",
    "#                     )\n",
    "#                     df_tmp[\"simulate_snpset\"] = simulate_snpset\n",
    "#                     df_tmp[\"estimate_snpset\"] = estimate_snpset\n",
    "#                     df_tmp[\"rho\"] = rho\n",
    "#                     df_tmp[\"pcausal\"] = pcausal\n",
    "#                     rls_list.append(df_tmp)\n",
    "\n",
    "# df_plot = pd.concat(rls_list)\n",
    "# df_plot[\"estimated_ratio\"] = df_plot[\"estimated_rho\"] / df_plot[\"estimated_var_g\"]"
   ]
  }
 ],
 "metadata": {
  "kernelspec": {
   "display_name": "Python 3",
   "language": "python",
   "name": "python3"
  },
  "language_info": {
   "codemirror_mode": {
    "name": "ipython",
    "version": 3
   },
   "file_extension": ".py",
   "mimetype": "text/x-python",
   "name": "python",
   "nbconvert_exporter": "python",
   "pygments_lexer": "ipython3",
   "version": "3.8.5"
  }
 },
 "nbformat": 4,
 "nbformat_minor": 5
}
