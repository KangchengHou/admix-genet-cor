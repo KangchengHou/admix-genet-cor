{
 "cells": [
  {
   "cell_type": "markdown",
   "id": "48eff764-d694-4db6-bdf1-29f0e0554e2b",
   "metadata": {},
   "source": [
    "# Showcasing the results\n",
    "1. Estimation performance\n",
    "2. Hypothesis testing performance"
   ]
  },
  {
   "cell_type": "code",
   "execution_count": 27,
   "id": "dea432cd-3cb9-4d49-86ce-f3477a9095ad",
   "metadata": {},
   "outputs": [
    {
     "name": "stdout",
     "output_type": "stream",
     "text": [
      "The autoreload extension is already loaded. To reload it, use:\n",
      "  %reload_ext autoreload\n",
      "The lab_black extension is already loaded. To reload it, use:\n",
      "  %reload_ext lab_black\n"
     ]
    }
   ],
   "source": [
    "%load_ext autoreload\n",
    "%autoreload 2\n",
    "%load_ext lab_black\n",
    "\n",
    "import matplotlib.pyplot as plt\n",
    "import numpy as np\n",
    "import json\n",
    "import pandas as pd\n",
    "import seaborn as sns\n",
    "import os"
   ]
  },
  {
   "cell_type": "code",
   "execution_count": 28,
   "id": "7080fa92-4335-4093-9d39-b918b6c879ed",
   "metadata": {},
   "outputs": [],
   "source": [
    "def estimate_rg(est, est_var):\n",
    "    \"\"\"\n",
    "    Estimate the ratio of genetic correlation.\n",
    "    est: (3, ) numpy array\n",
    "    est_var (3, 3) variance-covariance matrix\n",
    "    \"\"\"\n",
    "    x, y = est[0], est[1]\n",
    "    rg = y / x\n",
    "    # grad = [-y / x^2, 1 / x]\n",
    "    grad = np.array([-y / (x ** 2), 1 / x])\n",
    "\n",
    "    def quad_form(x, A):\n",
    "        return np.dot(np.dot(x.T, A), x)\n",
    "\n",
    "    return rg, quad_form(grad, est_var[0:2, 0:2])"
   ]
  },
  {
   "cell_type": "markdown",
   "id": "c3566011-29c7-45d6-8e89-749ad8ee3c2f",
   "metadata": {},
   "source": [
    "# Plot HE regression"
   ]
  },
  {
   "cell_type": "code",
   "execution_count": 29,
   "id": "9ee9c372-3c14-40b9-bd34-9df33778d443",
   "metadata": {},
   "outputs": [
    {
     "data": {
      "image/png": "[encoded data removed]",
      "text/plain": [
       "<Figure size 750x345 with 2 Axes>"
      ]
     },
     "metadata": {
      "needs_background": "light"
     },
     "output_type": "display_data"
    }
   ],
   "source": [
    "rls_list = []\n",
    "\n",
    "for hsq in [0.1, 0.5]:\n",
    "    for pcausal in [0.01, 0.001, 1.0]:\n",
    "        for cor in [0.8, 1.0]:\n",
    "            for hermodel in [\"mafukb\"]:\n",
    "                f_name = (\n",
    "                    f\"out/estimate/hsq-{hsq}-pcausal-{pcausal}-cor-{cor}\"\n",
    "                    + f\"-hermodel-{hermodel}.estimate.json\"\n",
    "                )\n",
    "                if not os.path.exists(f_name):\n",
    "                    continue\n",
    "                with open(f_name) as f:\n",
    "                    data = json.load(f)\n",
    "\n",
    "                    df_tmp = pd.DataFrame(\n",
    "                        np.array([d[\"estimate\"] for d in data]),\n",
    "                        columns=[\n",
    "                            \"estimated_var_g\",\n",
    "                            \"estimated_rho\",\n",
    "                            \"estimated_var_e\",\n",
    "                        ],\n",
    "                    )\n",
    "                    df_tmp[\"hsq\"] = hsq\n",
    "                    df_tmp[\"cor\"] = cor\n",
    "                    df_tmp[\"pcausal\"] = pcausal\n",
    "                    df_tmp[\"hermodel\"] = hermodel\n",
    "                    rls_list.append(df_tmp)\n",
    "\n",
    "df_plot = pd.concat(rls_list)\n",
    "df_plot[\"estimated_ratio\"] = df_plot[\"estimated_rho\"] / df_plot[\"estimated_var_g\"]\n",
    "\n",
    "fig, axes = plt.subplots(figsize=(5, 2.3), dpi=150, sharex=True, sharey=True, ncols=2)\n",
    "\n",
    "for ax_i, hsq in enumerate([0.1, 0.5]):\n",
    "    df_tmp = df_plot[(df_plot.hsq == hsq)].copy()\n",
    "\n",
    "    ax = axes[ax_i]\n",
    "\n",
    "    sns.pointplot(\n",
    "        data=df_tmp,\n",
    "        x=\"cor\",\n",
    "        y=\"estimated_ratio\",\n",
    "        hue=\"pcausal\",\n",
    "        ax=ax,\n",
    "        markers=\".\",\n",
    "        dodge=0.2,\n",
    "        join=False,\n",
    "    )\n",
    "    cor_list = sorted(df_plot.cor.unique())\n",
    "\n",
    "    ax.hlines(\n",
    "        cor_list,\n",
    "        np.arange(len(cor_list)) - 0.2,\n",
    "        np.arange(len(cor_list)) + 0.2,\n",
    "        color=\"red\",\n",
    "        ls=\"--\",\n",
    "        zorder=10,\n",
    "    )\n",
    "    ax.set_ylim(0.2, 1.3)\n",
    "    ax.set_xlabel(\"Simulated $r_g$\")\n",
    "    ax.set_ylabel(\"Estimated $r_g$\")\n",
    "    ax.set_title(\"$h_g^2$\" + f\" = {hsq}\")\n",
    "    if ax_i != 0:\n",
    "        axes[ax_i].legend([], [], frameon=False)"
   ]
  },
  {
   "cell_type": "code",
   "execution_count": 30,
   "id": "c3314b98-2559-431f-874c-f9cc02ac8745",
   "metadata": {},
   "outputs": [
    {
     "data": {
      "text/plain": [
       "hsq  cor  pcausal\n",
       "0.1  0.8  0.001      0.369138\n",
       "          0.010      0.287760\n",
       "          1.000      0.307902\n",
       "     1.0  0.001      0.150013\n",
       "          0.010      0.121143\n",
       "          1.000      0.151657\n",
       "0.5  0.8  0.001      0.343362\n",
       "          0.010      0.266484\n",
       "          1.000      0.290781\n",
       "     1.0  0.001      0.136061\n",
       "          0.010      0.118365\n",
       "          1.000      0.146688\n",
       "dtype: float64"
      ]
     },
     "execution_count": 30,
     "metadata": {},
     "output_type": "execute_result"
    }
   ],
   "source": [
    "df_plot.groupby([\"hsq\", \"cor\", \"pcausal\"]).apply(lambda x: np.std(x[\"estimated_ratio\"]))"
   ]
  },
  {
   "cell_type": "markdown",
   "id": "d17c85c9-676d-4a0f-8fda-573b4b26217a",
   "metadata": {},
   "source": [
    "# Plot GCTA"
   ]
  },
  {
   "cell_type": "code",
   "execution_count": 31,
   "id": "0f199999-f77d-4ccf-a9cc-aac58cf81bfb",
   "metadata": {},
   "outputs": [],
   "source": [
    "import admix"
   ]
  },
  {
   "cell_type": "code",
   "execution_count": 67,
   "id": "ee523bb4-3adf-4e56-a4be-c70df6d0a7ad",
   "metadata": {},
   "outputs": [
    {
     "data": {
      "image/png": "[encoded data removed]",
      "text/plain": [
       "<Figure size 750x345 with 2 Axes>"
      ]
     },
     "metadata": {
      "needs_background": "light"
     },
     "output_type": "display_data"
    }
   ],
   "source": [
    "df_plot = []\n",
    "\n",
    "for hsq in [0.1, 0.5]:\n",
    "    for pcausal in [0.01, 0.001, 1.0]:\n",
    "        for cor in [0.8, 1.0]:\n",
    "            for hermodel in [\"mafukb\"]:\n",
    "                for sim_i in range(10):\n",
    "                    f_name = (\n",
    "                        f\"out/gcta-estimate/hsq-{hsq}-pcausal-{pcausal}-cor-{cor}\"\n",
    "                        + f\"-hermodel-{hermodel}.sim_{sim_i}\"\n",
    "                    )\n",
    "                    if not os.path.exists(f_name + \".hsq\"):\n",
    "                        continue\n",
    "                    est = admix.tools.gcta.read_reml(f_name)\n",
    "                    rg, rg_var = estimate_rg(\n",
    "                        est[\"est\"].Variance.values, est[\"varcov\"].values\n",
    "                    )\n",
    "                    rg_stderr = np.sqrt(rg_var)\n",
    "                    df_plot.append(\n",
    "                        est[\"est\"].Variance.values.tolist()\n",
    "                        + [hsq, cor, pcausal, hermodel, rg, rg_stderr, sim_i]\n",
    "                    )\n",
    "df_plot = pd.DataFrame(\n",
    "    df_plot,\n",
    "    columns=[\n",
    "        \"estimated_var_g\",\n",
    "        \"estimated_rho\",\n",
    "        \"estimated_var_e\",\n",
    "        \"hsq\",\n",
    "        \"cor\",\n",
    "        \"pcausal\",\n",
    "        \"hermodel\",\n",
    "        \"estimated_ratio\",\n",
    "        \"estimated_ratio_stderr\",\n",
    "        \"sim_i\",\n",
    "    ],\n",
    ")\n",
    "\n",
    "df_plot = df_plot[df_plot.estimated_ratio_stderr < 0.2]\n",
    "fig, axes = plt.subplots(figsize=(5, 2.3), dpi=150, sharex=True, sharey=True, ncols=2)\n",
    "\n",
    "for ax_i, hsq in enumerate([0.1, 0.5]):\n",
    "    df_tmp = df_plot[(df_plot.hsq == hsq)].copy()\n",
    "\n",
    "    ax = axes[ax_i]\n",
    "\n",
    "    sns.pointplot(\n",
    "        data=df_tmp,\n",
    "        x=\"cor\",\n",
    "        y=\"estimated_ratio\",\n",
    "        hue=\"pcausal\",\n",
    "        ax=ax,\n",
    "        markers=\".\",\n",
    "        dodge=0.2,\n",
    "        join=False,\n",
    "    )\n",
    "    cor_list = sorted(df_plot.cor.unique())\n",
    "\n",
    "    ax.hlines(\n",
    "        cor_list,\n",
    "        np.arange(len(cor_list)) - 0.2,\n",
    "        np.arange(len(cor_list)) + 0.2,\n",
    "        color=\"red\",\n",
    "        ls=\"--\",\n",
    "        zorder=10,\n",
    "    )\n",
    "    ax.set_ylim(0.2, 1.3)\n",
    "    ax.set_xlabel(\"Simulated $r_g$\")\n",
    "    ax.set_ylabel(\"Estimated $r_g$\")\n",
    "    ax.set_title(\"$h_g^2$\" + f\" = {hsq}\")\n",
    "    if ax_i != 0:\n",
    "        axes[ax_i].legend([], [], frameon=False)"
   ]
  },
  {
   "cell_type": "code",
   "execution_count": 68,
   "id": "50267d94-7973-4bad-a5f6-8e9a4c641c77",
   "metadata": {},
   "outputs": [
    {
     "data": {
      "text/plain": [
       "hsq  cor  pcausal\n",
       "0.1  0.8  0.001      0.085816\n",
       "          0.010      0.077078\n",
       "          1.000      0.110568\n",
       "     1.0  0.001      0.056524\n",
       "          0.010      0.041983\n",
       "          1.000      0.029737\n",
       "0.5  0.8  0.001      0.037821\n",
       "          1.000      0.027576\n",
       "     1.0  0.001      0.012207\n",
       "          0.010      0.000000\n",
       "          1.000      0.007730\n",
       "dtype: float64"
      ]
     },
     "execution_count": 68,
     "metadata": {},
     "output_type": "execute_result"
    }
   ],
   "source": [
    "df_plot.groupby([\"hsq\", \"cor\", \"pcausal\"]).apply(lambda x: np.std(x[\"estimated_ratio\"]))"
   ]
  },
  {
   "cell_type": "code",
   "execution_count": 69,
   "id": "9dad2433-986f-497a-a496-546289616182",
   "metadata": {},
   "outputs": [
    {
     "data": {
      "text/plain": [
       "hsq  cor  pcausal\n",
       "0.1  0.8  0.001      10\n",
       "          0.010      10\n",
       "          1.000      10\n",
       "     1.0  0.001       9\n",
       "          0.010      10\n",
       "          1.000      10\n",
       "0.5  0.8  0.001      10\n",
       "          1.000      10\n",
       "     1.0  0.001      10\n",
       "          0.010       1\n",
       "          1.000      10\n",
       "dtype: int64"
      ]
     },
     "execution_count": 69,
     "metadata": {},
     "output_type": "execute_result"
    }
   ],
   "source": [
    "df_plot.groupby([\"hsq\", \"cor\", \"pcausal\"]).apply(lambda x: len(x[\"estimated_ratio\"]))"
   ]
  },
  {
   "cell_type": "code",
   "execution_count": 70,
   "id": "7741ec7d-a316-4f94-a8b1-bf4dabd74618",
   "metadata": {},
   "outputs": [
    {
     "data": {
      "text/plain": [
       "hsq  cor  pcausal\n",
       "0.1  0.8  0.001      0.089817\n",
       "          0.010      0.092502\n",
       "          1.000      0.081496\n",
       "     1.0  0.001      0.048680\n",
       "          0.010      0.040887\n",
       "          1.000      0.036331\n",
       "0.5  0.8  0.001      0.029347\n",
       "          1.000      0.029563\n",
       "     1.0  0.001      0.011338\n",
       "          0.010      0.138806\n",
       "          1.000      0.011096\n",
       "dtype: float64"
      ]
     },
     "execution_count": 70,
     "metadata": {},
     "output_type": "execute_result"
    }
   ],
   "source": [
    "df_plot.groupby([\"hsq\", \"cor\", \"pcausal\"]).apply(\n",
    "    lambda x: np.mean(x[\"estimated_ratio_stderr\"])\n",
    ")"
   ]
  },
  {
   "cell_type": "code",
   "execution_count": 54,
   "id": "daf03430-ff22-4cc4-9329-db52b80b309c",
   "metadata": {},
   "outputs": [],
   "source": [
    "hsq = 0.5\n",
    "cor = 0.8\n",
    "pcausal = 0.01\n",
    "hermodel = \"mafukb\"\n",
    "sim_i = 6\n",
    "f_name = (\n",
    "    f\"out/gcta-estimate/hsq-{hsq}-pcausal-{pcausal}-cor-{cor}\"\n",
    "    + f\"-hermodel-{hermodel}.sim_{sim_i}\"\n",
    ")\n",
    "est = admix.tools.gcta.read_reml(f_name)"
   ]
  },
  {
   "cell_type": "code",
   "execution_count": 55,
   "id": "7fd13d09-755a-452a-b79e-d0678f9715d0",
   "metadata": {},
   "outputs": [],
   "source": [
    "y, x = est[\"est\"].Variance[0:2]\n",
    "var_x = est[\"varcov\"].values[1, 1]\n",
    "var_y = est[\"varcov\"].values[0, 0]\n",
    "cov_xy = est[\"varcov\"].values[0, 1]"
   ]
  },
  {
   "cell_type": "code",
   "execution_count": 57,
   "id": "fa48d823-cc59-45f7-bc7c-0858d9759e65",
   "metadata": {},
   "outputs": [
    {
     "data": {
      "text/plain": [
       "(0.318145403564991, 0.2779991989870196)"
      ]
     },
     "execution_count": 57,
     "metadata": {},
     "output_type": "execute_result"
    }
   ],
   "source": [
    "estimate_rg(est[\"est\"].Variance.values, est[\"varcov\"].values)"
   ]
  },
  {
   "cell_type": "code",
   "execution_count": null,
   "id": "f3023870-a33a-4ae4-87cf-293c7f0b2a11",
   "metadata": {},
   "outputs": [],
   "source": [
    "def estimate_rg(est, est_var):\n",
    "    \"\"\"\n",
    "    Estimate the ratio of genetic correlation.\n",
    "    est: (3, ) numpy array\n",
    "    est_var (3, 3) variance-covariance matrix\n",
    "    \"\"\"\n",
    "    x, y = est[0], est[1]\n",
    "    rg = y / x\n",
    "    # grad = [-y / x^2, 1 / x]\n",
    "    grad = np.array([-y / (x ** 2), 1 / x])\n",
    "\n",
    "    def quad_form(x, A):\n",
    "        return np.dot(np.dot(x.T, A), x)\n",
    "\n",
    "    return rg, quad_form(grad, est_var[0:2, 0:2])"
   ]
  }
 ],
 "metadata": {
  "kernelspec": {
   "display_name": "Python 3",
   "language": "python",
   "name": "python3"
  },
  "language_info": {
   "codemirror_mode": {
    "name": "ipython",
    "version": 3
   },
   "file_extension": ".py",
   "mimetype": "text/x-python",
   "name": "python",
   "nbconvert_exporter": "python",
   "pygments_lexer": "ipython3",
   "version": "3.8.5"
  }
 },
 "nbformat": 4,
 "nbformat_minor": 5
}
