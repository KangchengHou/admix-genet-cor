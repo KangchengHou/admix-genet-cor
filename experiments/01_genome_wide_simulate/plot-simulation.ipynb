{
 "cells": [
  {
   "cell_type": "markdown",
   "id": "48eff764-d694-4db6-bdf1-29f0e0554e2b",
   "metadata": {},
   "source": [
    "# Showcasing the results\n",
    "1. Estimation performance\n",
    "2. Hypothesis testing performance"
   ]
  },
  {
   "cell_type": "code",
   "execution_count": 1,
   "id": "dea432cd-3cb9-4d49-86ce-f3477a9095ad",
   "metadata": {},
   "outputs": [],
   "source": [
    "%load_ext autoreload\n",
    "%autoreload 2\n",
    "%load_ext lab_black\n",
    "\n",
    "import matplotlib.pyplot as plt\n",
    "import numpy as np\n",
    "import json\n",
    "import pandas as pd\n",
    "import seaborn as sns\n",
    "import os"
   ]
  },
  {
   "cell_type": "code",
   "execution_count": 10,
   "id": "afe062ed-e676-4b96-b88b-2bc9c910e9dd",
   "metadata": {},
   "outputs": [],
   "source": [
    "f_name = \"out/estimate/hsq-0.1-pcausal-0.001-cor-0.8-hermodel-mafukb.estimate.json\"\n",
    "\n",
    "with open(f_name) as f:\n",
    "    data = json.load(f)\n",
    "\n",
    "    df_plot = pd.DataFrame(\n",
    "        np.array([d[\"estimate\"] for d in data]),\n",
    "        columns=[\n",
    "            \"estimated_var_g\",\n",
    "            \"estimated_rho\",\n",
    "            \"estimated_var_e\",\n",
    "        ],\n",
    "    )\n",
    "df_plot[\"estimated_ratio\"] = df_plot[\"estimated_rho\"] / df_plot[\"estimated_var_g\"]"
   ]
  },
  {
   "cell_type": "code",
   "execution_count": 12,
   "id": "3da515ac-268f-4d6b-aba0-521ff68fec62",
   "metadata": {},
   "outputs": [
    {
     "data": {
      "text/plain": [
       "estimated_var_g    0.364650\n",
       "estimated_rho      0.291070\n",
       "estimated_var_e    0.918477\n",
       "estimated_ratio    0.805008\n",
       "dtype: float64"
      ]
     },
     "execution_count": 12,
     "metadata": {},
     "output_type": "execute_result"
    }
   ],
   "source": [
    "df_plot.mean()"
   ]
  },
  {
   "cell_type": "code",
   "execution_count": 2,
   "id": "9ee9c372-3c14-40b9-bd34-9df33778d443",
   "metadata": {},
   "outputs": [],
   "source": [
    "rls_list = []\n",
    "\n",
    "for simulate_snpset in [\"hm3\", \"imputed\"]:\n",
    "    for estimate_snpset in [\"hm3\", \"imputed\"]:\n",
    "        for pcausal in [0.01, 0.001, 1.0]:\n",
    "            for cor in [0.8, 1.0]:\n",
    "                for hermodel in [\"uniform\", \"gcta\", \"ldak\"]:\n",
    "                    f_name = (\n",
    "                        f\"out/estimate/snpset-{simulate_snpset}-hsq-0.1-pcausal-{pcausal}-cor-{cor}\"\n",
    "                        + f\"-hermodel-{hermodel}.{estimate_snpset}.estimate.json\"\n",
    "                    )\n",
    "                    if not os.path.exists(f_name):\n",
    "                        continue\n",
    "                    with open(f_name) as f:\n",
    "                        data = json.load(f)\n",
    "\n",
    "                        df_tmp = pd.DataFrame(\n",
    "                            np.array([d[\"estimate\"] for d in data]),\n",
    "                            columns=[\n",
    "                                \"estimated_var_g\",\n",
    "                                \"estimated_rho\",\n",
    "                                \"estimated_var_e\",\n",
    "                            ],\n",
    "                        )\n",
    "                        df_tmp[\"simulate_snpset\"] = simulate_snpset\n",
    "                        df_tmp[\"estimate_snpset\"] = estimate_snpset\n",
    "                        df_tmp[\"cor\"] = cor\n",
    "                        df_tmp[\"pcausal\"] = pcausal\n",
    "                        df_tmp[\"hermodel\"] = hermodel\n",
    "                        rls_list.append(df_tmp)\n",
    "\n",
    "df_plot = pd.concat(rls_list)\n",
    "df_plot[\"estimated_ratio\"] = df_plot[\"estimated_rho\"] / df_plot[\"estimated_var_g\"]"
   ]
  },
  {
   "cell_type": "code",
   "execution_count": 9,
   "id": "d2d5f0a4-8f2c-4723-bb53-096896fed2dc",
   "metadata": {},
   "outputs": [
    {
     "data": {
      "text/plain": [
       "0     0.376885\n",
       "1     0.866817\n",
       "2     0.943525\n",
       "3     1.236227\n",
       "4     1.101403\n",
       "5     0.322335\n",
       "6     1.275245\n",
       "7     1.038082\n",
       "8     1.010750\n",
       "9     0.983567\n",
       "10    1.260833\n",
       "11    0.869844\n",
       "12    1.075764\n",
       "13    1.169168\n",
       "14    0.958494\n",
       "15    0.510689\n",
       "16    0.493059\n",
       "17    1.105540\n",
       "18    0.837866\n",
       "19    1.412683\n",
       "20    0.669705\n",
       "21    1.196692\n",
       "22    0.646298\n",
       "23    1.111710\n",
       "24    1.150330\n",
       "25    0.868339\n",
       "26    0.603428\n",
       "27    1.241951\n",
       "28    1.264865\n",
       "29    1.584282\n",
       "0     1.321439\n",
       "1     1.521365\n",
       "2     1.179673\n",
       "3     1.001213\n",
       "4     0.736274\n",
       "5     0.233889\n",
       "6     1.747107\n",
       "7     0.803866\n",
       "8     0.700176\n",
       "9     1.142922\n",
       "10    1.284017\n",
       "11    1.356194\n",
       "12    0.932536\n",
       "13    0.699864\n",
       "14    0.805580\n",
       "15    0.901972\n",
       "16    0.281533\n",
       "17    0.880675\n",
       "18    0.732684\n",
       "19    1.373275\n",
       "20    0.584541\n",
       "21    1.227060\n",
       "22    0.762566\n",
       "23    1.111988\n",
       "24    0.701931\n",
       "25    1.162206\n",
       "26    0.980640\n",
       "27    0.715222\n",
       "28    1.230670\n",
       "29    2.281704\n",
       "Name: estimated_ratio, dtype: float64"
      ]
     },
     "execution_count": 9,
     "metadata": {},
     "output_type": "execute_result"
    }
   ],
   "source": [
    "df_plot[\n",
    "    (df_plot.simulate_snpset == \"imputed\") & (df_plot.estimate_snpset == \"imputed\")\n",
    "].estimated_ratio"
   ]
  },
  {
   "cell_type": "code",
   "execution_count": 29,
   "id": "80665369-a254-49b5-a4e7-3056f5821884",
   "metadata": {},
   "outputs": [],
   "source": [
    "# rls_list = []\n",
    "\n",
    "# for simulate_snpset in [\"hm3\", \"imputed\"]:\n",
    "#     for estimate_snpset in [\"hm3\", \"imputed\"]:\n",
    "#         for pcausal in [0.005, 0.1, 1.0]:\n",
    "#             for rho in [0.5, 0.8, 1.0]:\n",
    "#                 f_name = f\"out/estimate/snpset-{simulate_snpset}-varg-1.0-pcausal-{pcausal}-rho-{rho}.{estimate_snpset}.estimate.json\"\n",
    "#                 if not os.path.exists(f_name):\n",
    "#                     continue\n",
    "#                 with open(f_name) as f:\n",
    "#                     data = json.load(f)\n",
    "#                     df_tmp = pd.DataFrame(\n",
    "#                         np.array([d[\"estimate\"] for d in data]),\n",
    "#                         columns=[\"estimated_var_g\", \"estimated_rho\", \"estimated_var_e\"],\n",
    "#                     )\n",
    "#                     df_tmp[\"simulate_snpset\"] = simulate_snpset\n",
    "#                     df_tmp[\"estimate_snpset\"] = estimate_snpset\n",
    "#                     df_tmp[\"rho\"] = rho\n",
    "#                     df_tmp[\"pcausal\"] = pcausal\n",
    "#                     rls_list.append(df_tmp)\n",
    "\n",
    "# df_plot = pd.concat(rls_list)\n",
    "# df_plot[\"estimated_ratio\"] = df_plot[\"estimated_rho\"] / df_plot[\"estimated_var_g\"]"
   ]
  },
  {
   "cell_type": "code",
   "execution_count": 4,
   "id": "5181687f-a80c-4d51-9f59-98b0179fb5c2",
   "metadata": {},
   "outputs": [
    {
     "ename": "ValueError",
     "evalue": "min() arg is an empty sequence",
     "output_type": "error",
     "traceback": [
      "\u001b[0;31m---------------------------------------------------------------------------\u001b[0m",
      "\u001b[0;31mValueError\u001b[0m                                Traceback (most recent call last)",
      "\u001b[0;32m<ipython-input-4-9009d6004c20>\u001b[0m in \u001b[0;36m<module>\u001b[0;34m\u001b[0m\n\u001b[1;32m     15\u001b[0m         ]\n\u001b[1;32m     16\u001b[0m         \u001b[0max\u001b[0m \u001b[0;34m=\u001b[0m \u001b[0maxes\u001b[0m\u001b[0;34m[\u001b[0m\u001b[0max_i\u001b[0m\u001b[0;34m]\u001b[0m\u001b[0;34m\u001b[0m\u001b[0;34m\u001b[0m\u001b[0m\n\u001b[0;32m---> 17\u001b[0;31m         sns.pointplot(\n\u001b[0m\u001b[1;32m     18\u001b[0m             \u001b[0mdata\u001b[0m\u001b[0;34m=\u001b[0m\u001b[0mdf_tmp\u001b[0m\u001b[0;34m,\u001b[0m\u001b[0;34m\u001b[0m\u001b[0;34m\u001b[0m\u001b[0m\n\u001b[1;32m     19\u001b[0m             \u001b[0mx\u001b[0m\u001b[0;34m=\u001b[0m\u001b[0;34m\"cor\"\u001b[0m\u001b[0;34m,\u001b[0m\u001b[0;34m\u001b[0m\u001b[0;34m\u001b[0m\u001b[0m\n",
      "\u001b[0;32m/u/project/pasaniuc/kangchen/software/miniconda3/lib/python3.8/site-packages/seaborn/_decorators.py\u001b[0m in \u001b[0;36minner_f\u001b[0;34m(*args, **kwargs)\u001b[0m\n\u001b[1;32m     44\u001b[0m             )\n\u001b[1;32m     45\u001b[0m         \u001b[0mkwargs\u001b[0m\u001b[0;34m.\u001b[0m\u001b[0mupdate\u001b[0m\u001b[0;34m(\u001b[0m\u001b[0;34m{\u001b[0m\u001b[0mk\u001b[0m\u001b[0;34m:\u001b[0m \u001b[0marg\u001b[0m \u001b[0;32mfor\u001b[0m \u001b[0mk\u001b[0m\u001b[0;34m,\u001b[0m \u001b[0marg\u001b[0m \u001b[0;32min\u001b[0m \u001b[0mzip\u001b[0m\u001b[0;34m(\u001b[0m\u001b[0msig\u001b[0m\u001b[0;34m.\u001b[0m\u001b[0mparameters\u001b[0m\u001b[0;34m,\u001b[0m \u001b[0margs\u001b[0m\u001b[0;34m)\u001b[0m\u001b[0;34m}\u001b[0m\u001b[0;34m)\u001b[0m\u001b[0;34m\u001b[0m\u001b[0;34m\u001b[0m\u001b[0m\n\u001b[0;32m---> 46\u001b[0;31m         \u001b[0;32mreturn\u001b[0m \u001b[0mf\u001b[0m\u001b[0;34m(\u001b[0m\u001b[0;34m**\u001b[0m\u001b[0mkwargs\u001b[0m\u001b[0;34m)\u001b[0m\u001b[0;34m\u001b[0m\u001b[0;34m\u001b[0m\u001b[0m\n\u001b[0m\u001b[1;32m     47\u001b[0m     \u001b[0;32mreturn\u001b[0m \u001b[0minner_f\u001b[0m\u001b[0;34m\u001b[0m\u001b[0;34m\u001b[0m\u001b[0m\n\u001b[1;32m     48\u001b[0m \u001b[0;34m\u001b[0m\u001b[0m\n",
      "\u001b[0;32m/u/project/pasaniuc/kangchen/software/miniconda3/lib/python3.8/site-packages/seaborn/categorical.py\u001b[0m in \u001b[0;36mpointplot\u001b[0;34m(x, y, hue, data, order, hue_order, estimator, ci, n_boot, units, seed, markers, linestyles, dodge, join, scale, orient, color, palette, errwidth, capsize, ax, **kwargs)\u001b[0m\n\u001b[1;32m   3370\u001b[0m ):\n\u001b[1;32m   3371\u001b[0m \u001b[0;34m\u001b[0m\u001b[0m\n\u001b[0;32m-> 3372\u001b[0;31m     plotter = _PointPlotter(x, y, hue, data, order, hue_order,\n\u001b[0m\u001b[1;32m   3373\u001b[0m                             \u001b[0mestimator\u001b[0m\u001b[0;34m,\u001b[0m \u001b[0mci\u001b[0m\u001b[0;34m,\u001b[0m \u001b[0mn_boot\u001b[0m\u001b[0;34m,\u001b[0m \u001b[0munits\u001b[0m\u001b[0;34m,\u001b[0m \u001b[0mseed\u001b[0m\u001b[0;34m,\u001b[0m\u001b[0;34m\u001b[0m\u001b[0;34m\u001b[0m\u001b[0m\n\u001b[1;32m   3374\u001b[0m                             \u001b[0mmarkers\u001b[0m\u001b[0;34m,\u001b[0m \u001b[0mlinestyles\u001b[0m\u001b[0;34m,\u001b[0m \u001b[0mdodge\u001b[0m\u001b[0;34m,\u001b[0m \u001b[0mjoin\u001b[0m\u001b[0;34m,\u001b[0m \u001b[0mscale\u001b[0m\u001b[0;34m,\u001b[0m\u001b[0;34m\u001b[0m\u001b[0;34m\u001b[0m\u001b[0m\n",
      "\u001b[0;32m/u/project/pasaniuc/kangchen/software/miniconda3/lib/python3.8/site-packages/seaborn/categorical.py\u001b[0m in \u001b[0;36m__init__\u001b[0;34m(self, x, y, hue, data, order, hue_order, estimator, ci, n_boot, units, seed, markers, linestyles, dodge, join, scale, orient, color, palette, errwidth, capsize)\u001b[0m\n\u001b[1;32m   1655\u001b[0m         self.establish_variables(x, y, hue, data, orient,\n\u001b[1;32m   1656\u001b[0m                                  order, hue_order, units)\n\u001b[0;32m-> 1657\u001b[0;31m         \u001b[0mself\u001b[0m\u001b[0;34m.\u001b[0m\u001b[0mestablish_colors\u001b[0m\u001b[0;34m(\u001b[0m\u001b[0mcolor\u001b[0m\u001b[0;34m,\u001b[0m \u001b[0mpalette\u001b[0m\u001b[0;34m,\u001b[0m \u001b[0;36m1\u001b[0m\u001b[0;34m)\u001b[0m\u001b[0;34m\u001b[0m\u001b[0;34m\u001b[0m\u001b[0m\n\u001b[0m\u001b[1;32m   1658\u001b[0m         \u001b[0mself\u001b[0m\u001b[0;34m.\u001b[0m\u001b[0mestimate_statistic\u001b[0m\u001b[0;34m(\u001b[0m\u001b[0mestimator\u001b[0m\u001b[0;34m,\u001b[0m \u001b[0mci\u001b[0m\u001b[0;34m,\u001b[0m \u001b[0mn_boot\u001b[0m\u001b[0;34m,\u001b[0m \u001b[0mseed\u001b[0m\u001b[0;34m)\u001b[0m\u001b[0;34m\u001b[0m\u001b[0;34m\u001b[0m\u001b[0m\n\u001b[1;32m   1659\u001b[0m \u001b[0;34m\u001b[0m\u001b[0m\n",
      "\u001b[0;32m/u/project/pasaniuc/kangchen/software/miniconda3/lib/python3.8/site-packages/seaborn/categorical.py\u001b[0m in \u001b[0;36mestablish_colors\u001b[0;34m(self, color, palette, saturation)\u001b[0m\n\u001b[1;32m    317\u001b[0m         \u001b[0;31m# Determine the gray color to use for the lines framing the plot\u001b[0m\u001b[0;34m\u001b[0m\u001b[0;34m\u001b[0m\u001b[0;34m\u001b[0m\u001b[0m\n\u001b[1;32m    318\u001b[0m         \u001b[0mlight_vals\u001b[0m \u001b[0;34m=\u001b[0m \u001b[0;34m[\u001b[0m\u001b[0mcolorsys\u001b[0m\u001b[0;34m.\u001b[0m\u001b[0mrgb_to_hls\u001b[0m\u001b[0;34m(\u001b[0m\u001b[0;34m*\u001b[0m\u001b[0mc\u001b[0m\u001b[0;34m)\u001b[0m\u001b[0;34m[\u001b[0m\u001b[0;36m1\u001b[0m\u001b[0;34m]\u001b[0m \u001b[0;32mfor\u001b[0m \u001b[0mc\u001b[0m \u001b[0;32min\u001b[0m \u001b[0mrgb_colors\u001b[0m\u001b[0;34m]\u001b[0m\u001b[0;34m\u001b[0m\u001b[0;34m\u001b[0m\u001b[0m\n\u001b[0;32m--> 319\u001b[0;31m         \u001b[0mlum\u001b[0m \u001b[0;34m=\u001b[0m \u001b[0mmin\u001b[0m\u001b[0;34m(\u001b[0m\u001b[0mlight_vals\u001b[0m\u001b[0;34m)\u001b[0m \u001b[0;34m*\u001b[0m \u001b[0;36m.6\u001b[0m\u001b[0;34m\u001b[0m\u001b[0;34m\u001b[0m\u001b[0m\n\u001b[0m\u001b[1;32m    320\u001b[0m         \u001b[0mgray\u001b[0m \u001b[0;34m=\u001b[0m \u001b[0mmpl\u001b[0m\u001b[0;34m.\u001b[0m\u001b[0mcolors\u001b[0m\u001b[0;34m.\u001b[0m\u001b[0mrgb2hex\u001b[0m\u001b[0;34m(\u001b[0m\u001b[0;34m(\u001b[0m\u001b[0mlum\u001b[0m\u001b[0;34m,\u001b[0m \u001b[0mlum\u001b[0m\u001b[0;34m,\u001b[0m \u001b[0mlum\u001b[0m\u001b[0;34m)\u001b[0m\u001b[0;34m)\u001b[0m\u001b[0;34m\u001b[0m\u001b[0;34m\u001b[0m\u001b[0m\n\u001b[1;32m    321\u001b[0m \u001b[0;34m\u001b[0m\u001b[0m\n",
      "\u001b[0;31mValueError\u001b[0m: min() arg is an empty sequence"
     ]
    },
    {
     "data": {
      "image/png": "[encoded data removed]",
      "text/plain": [
       "<Figure size 900x345 with 3 Axes>"
      ]
     },
     "metadata": {
      "needs_background": "light"
     },
     "output_type": "display_data"
    }
   ],
   "source": [
    "for simulate_snpset, estimate_snpset in [\n",
    "    [\"imputed\", \"imputed\"],\n",
    "    [\"hm3\", \"hm3\"],\n",
    "    [\"imputed\", \"hm3\"],\n",
    "]:\n",
    "    fig, axes = plt.subplots(\n",
    "        figsize=(6, 2.3), dpi=150, sharex=True, sharey=True, ncols=3\n",
    "    )\n",
    "\n",
    "    for ax_i, pcausal in enumerate([0.001, 0.01, 1.0]):\n",
    "        df_tmp = df_plot[\n",
    "            (df_plot.simulate_snpset == simulate_snpset)\n",
    "            & (df_plot.estimate_snpset == estimate_snpset)\n",
    "            & (df_plot.pcausal == pcausal)\n",
    "        ]\n",
    "        ax = axes[ax_i]\n",
    "        sns.pointplot(\n",
    "            data=df_tmp,\n",
    "            x=\"cor\",\n",
    "            y=\"estimated_ratio\",\n",
    "            hue=\"hermodel\",\n",
    "            dodge=0.2,\n",
    "            join=False,\n",
    "            ax=ax,\n",
    "            markers=\".\",\n",
    "        )\n",
    "\n",
    "        cor_list = df_plot.cor.unique()\n",
    "\n",
    "        ax.hlines(\n",
    "            cor_list,\n",
    "            np.arange(len(cor_list)) - 0.2,\n",
    "            np.arange(len(cor_list)) + 0.2,\n",
    "            color=\"red\",\n",
    "            ls=\"--\",\n",
    "            zorder=10,\n",
    "        )\n",
    "        ax.set_ylim(0.2, 1.3)\n",
    "        ax.set_xlabel(\"Simulated $r_g$\")\n",
    "        ax.set_ylabel(\"Estimated $r_g$\")\n",
    "        ax.set_title(\"$p_{causal}$\" + f\" = {pcausal}\")\n",
    "        if ax_i != 0:\n",
    "            axes[ax_i].legend([], [], frameon=False)\n",
    "    fig.suptitle(\n",
    "        f\"Simulation: {simulate_snpset}, Estimation: {estimate_snpset}\", y=1.05\n",
    "    )"
   ]
  },
  {
   "cell_type": "code",
   "execution_count": null,
   "id": "f0155482-080e-43c1-8c2c-6f9450d3160f",
   "metadata": {},
   "outputs": [],
   "source": []
  }
 ],
 "metadata": {
  "kernelspec": {
   "display_name": "Python 3",
   "language": "python",
   "name": "python3"
  },
  "language_info": {
   "codemirror_mode": {
    "name": "ipython",
    "version": 3
   },
   "file_extension": ".py",
   "mimetype": "text/x-python",
   "name": "python",
   "nbconvert_exporter": "python",
   "pygments_lexer": "ipython3",
   "version": "3.8.5"
  }
 },
 "nbformat": 4,
 "nbformat_minor": 5
}
