{
 "cells": [
  {
   "cell_type": "code",
   "execution_count": 1,
   "id": "0252a020-099e-4692-ae8c-08a5f5722d21",
   "metadata": {},
   "outputs": [],
   "source": [
    "%load_ext autoreload\n",
    "%autoreload 2\n",
    "%load_ext lab_black\n",
    "\n",
    "import xarray as xr\n",
    "import numpy as np\n",
    "import xrpgen\n",
    "import pandas as pd\n",
    "import dask.array as da\n",
    "import itertools\n",
    "import submitit\n",
    "import sys\n",
    "import json\n",
    "\n",
    "sys.path.append(\"/u/project/pasaniuc/kangchen/2021-admix-corr\")\n",
    "import admix_genet_cor"
   ]
  },
  {
   "cell_type": "code",
   "execution_count": 21,
   "id": "c0e83b30-f80c-4f5e-b38c-00c8330b7112",
   "metadata": {},
   "outputs": [],
   "source": [
    "dset = xr.open_zarr(\"OLD_out/dataset/n_indiv_20000_anc_prop_0.2.zarr/\")\n",
    "dset = xr.Dataset(\n",
    "    data_vars={\n",
    "        \"geno\": ((\"snp\", \"indiv\", \"ploidy\"), dset.geno.data.swapaxes(0, 1)),\n",
    "        \"lanc\": ((\"snp\", \"indiv\", \"ploidy\"), dset.lanc.data.swapaxes(0, 1)),\n",
    "    },\n",
    "    attrs={\"n_anc\": 2},\n",
    ")"
   ]
  },
  {
   "cell_type": "code",
   "execution_count": 20,
   "id": "c1d1eb18-9246-47d8-a739-f2f891d26cf6",
   "metadata": {},
   "outputs": [
    {
     "name": "stderr",
     "output_type": "stream",
     "text": [
      "admix_genet_cor.simulate_continuous_pheno: 100%|██████████| 1/1 [00:10<00:00, 10.75s/it]\n"
     ]
    }
   ],
   "source": [
    "def submit_simulate_pheno(var_g: float, pcausal: float, gamma: float, out_prefix: str):\n",
    "    np.random.seed(1234)\n",
    "    import sys\n",
    "\n",
    "    sys.path.append(\"/u/project/pasaniuc/kangchen/2021-admix-corr\")\n",
    "    import admix_genet_cor\n",
    "\n",
    "    sim = admix_genet_cor.simulate_continuous_pheno(\n",
    "        dset,\n",
    "        var_g=var_g,\n",
    "        gamma=gamma,\n",
    "        var_e=1.0,\n",
    "        n_causal=int(dset.dims[\"snp\"] * pcausal),\n",
    "        n_sim=30,\n",
    "    )\n",
    "    np.save(out_prefix + \".beta.npy\", sim[\"beta\"])\n",
    "    sim[\"pheno\"].to_csv(out_prefix + \".pheno.tsv\", index=True, sep=\"\\t\")\n",
    "\n",
    "\n",
    "submit_simulate_pheno(1.0, 1.0, 1.0, \"tmp\")"
   ]
  },
  {
   "cell_type": "code",
   "execution_count": 23,
   "id": "41cd095b-4cc5-4f8e-b798-8d2bb2e07eed",
   "metadata": {},
   "outputs": [],
   "source": [
    "def submit_compute_grm(out_prefix: str):\n",
    "\n",
    "    import sys\n",
    "\n",
    "    sys.path.append(\"/u/project/pasaniuc/kangchen/2021-admix-corr\")\n",
    "    import admix_genet_cor\n",
    "\n",
    "    K1, K2, K12 = admix_genet_cor.compute_grm(dset, center=True)\n",
    "\n",
    "    np.save(out_prefix + \".K1.npy\", K1)\n",
    "    np.save(out_prefix + \".K2.npy\", K2)\n",
    "    np.save(out_prefix + \".K12.npy\", K12)\n",
    "\n",
    "\n",
    "executor = submitit.SgeExecutor(folder=\"./submitit-logs\")\n",
    "\n",
    "executor.update_parameters(\n",
    "    time_min=120,\n",
    "    memory_g=60,\n",
    "    setup=[\n",
    "        \"export PATH=~/project-pasaniuc/software/miniconda3/bin:$PATH\",\n",
    "        \"export PYTHONNOUSERSITE=True\",\n",
    "    ],\n",
    ")\n",
    "\n",
    "jobs = executor.map_array(submit_compute_grm, [\"tmp\"])"
   ]
  },
  {
   "cell_type": "code",
   "execution_count": 30,
   "id": "f57584bc-ebfa-415c-8850-97ec4da96094",
   "metadata": {},
   "outputs": [],
   "source": [
    "def submit_estimate(out_prefix: str):\n",
    "\n",
    "    import sys\n",
    "\n",
    "    sys.path.append(\"/u/project/pasaniuc/kangchen/2021-admix-corr\")\n",
    "    import admix_genet_cor\n",
    "\n",
    "    # Step 1: load GRM\n",
    "    K1 = np.load(\"tmp.K1.npy\")\n",
    "    K2 = np.load(\"tmp.K2.npy\")\n",
    "    K12 = np.load(\"tmp.K12.npy\")\n",
    "\n",
    "    dset[\"A1\"] = ((\"indiv\", \"indiv\"), K1 + K2)\n",
    "    dset[\"A2\"] = ((\"indiv\", \"indiv\"), K12 + K12.T)\n",
    "\n",
    "    # K1, K2, K12 are no longer used, release memory for them\n",
    "    del K1, K2, K12\n",
    "\n",
    "    # Step 2: load phenotype and estimate\n",
    "    pheno = pd.read_csv(\"tmp.pheno.tsv\", delim_whitespace=True, index_col=0)\n",
    "    print(pheno.head())\n",
    "\n",
    "    rls_list = admix_genet_cor.estimate_genetic_cor(dset, pheno.values)\n",
    "\n",
    "    data = [\n",
    "        {\"estimate\": rls[0].tolist(), \"varcov\": rls[1].tolist()} for rls in rls_list\n",
    "    ]\n",
    "\n",
    "    with open(out_prefix + \".estimate.json\", \"w\") as out:\n",
    "        json.dump(data, out)\n",
    "\n",
    "\n",
    "executor = submitit.SgeExecutor(folder=\"./submitit-logs\")\n",
    "\n",
    "executor.update_parameters(\n",
    "    time_min=180,\n",
    "    memory_g=60,\n",
    "    setup=[\n",
    "        \"export PATH=~/project-pasaniuc/software/miniconda3/bin:$PATH\",\n",
    "        \"export PYTHONNOUSERSITE=True\",\n",
    "    ],\n",
    ")\n",
    "\n",
    "jobs = executor.map_array(submit_estimate, [\"tmp\"])"
   ]
  },
  {
   "cell_type": "code",
   "execution_count": 32,
   "id": "30895cab-51a8-4526-a723-cbf8a8ffbdca",
   "metadata": {},
   "outputs": [],
   "source": [
    "with open(f\"tmp.estimate.json\") as f:\n",
    "    data = json.load(f)"
   ]
  },
  {
   "cell_type": "code",
   "execution_count": 33,
   "id": "2f86d953-2826-4b02-91c4-404e052340d7",
   "metadata": {},
   "outputs": [],
   "source": [
    "df_tmp = pd.DataFrame(\n",
    "    np.array([d[\"estimate\"] for d in data]), columns=[\"var_g\", \"gamma\", \"var_e\"]\n",
    ")"
   ]
  },
  {
   "cell_type": "code",
   "execution_count": 38,
   "id": "fb215b5e-78c7-4446-b141-ff21521c0444",
   "metadata": {},
   "outputs": [
    {
     "data": {
      "text/plain": [
       "var_g    1.003195\n",
       "gamma    1.001010\n",
       "var_e    0.997398\n",
       "dtype: float64"
      ]
     },
     "execution_count": 38,
     "metadata": {},
     "output_type": "execute_result"
    }
   ],
   "source": [
    "df_tmp.mean(axis=0)"
   ]
  },
  {
   "cell_type": "code",
   "execution_count": 40,
   "id": "aa1d3994-d478-4d70-8cce-aee9352ba961",
   "metadata": {},
   "outputs": [],
   "source": [
    "import admix"
   ]
  },
  {
   "cell_type": "code",
   "execution_count": 42,
   "id": "a73ac2aa-1320-42fa-91fb-5777a994bf96",
   "metadata": {},
   "outputs": [],
   "source": [
    "admix_genet_cor.af_per_anc(dset)"
   ]
  },
  {
   "cell_type": "code",
   "execution_count": 47,
   "id": "70d3c37f-14e5-4d46-b348-1ce4b3d3ed34",
   "metadata": {},
   "outputs": [],
   "source": [
    "import matplotlib.pyplot as plt"
   ]
  },
  {
   "cell_type": "code",
   "execution_count": 50,
   "id": "ce06b787-5cb1-4b96-92ae-7d3740808dd0",
   "metadata": {},
   "outputs": [
    {
     "data": {
      "text/plain": [
       "(array([204., 201., 180., 209., 193., 204., 198., 218., 215., 178.]),\n",
       " array([0.04744434, 0.09295319, 0.13846204, 0.18397089, 0.22947974,\n",
       "        0.27498859, 0.32049744, 0.36600629, 0.41151513, 0.45702398,\n",
       "        0.50253283]),\n",
       " <BarContainer object of 10 artists>)"
      ]
     },
     "execution_count": 50,
     "metadata": {},
     "output_type": "execute_result"
    },
    {
     "data": {
      "image/png": "[encoded data removed]",
      "text/plain": [
       "<Figure size 432x288 with 1 Axes>"
      ]
     },
     "metadata": {
      "needs_background": "light"
     },
     "output_type": "display_data"
    }
   ],
   "source": [
    "plt.hist(dset[\"af_per_anc\"].values[:, 0])\n",
    "plt.hist(dset[\"af_per_anc\"].values[:, 1])"
   ]
  },
  {
   "cell_type": "code",
   "execution_count": 49,
   "id": "ae7a2637-38a2-48a4-997a-d32941f6d141",
   "metadata": {},
   "outputs": [
    {
     "data": {
      "text/plain": [
       "(array([204., 201., 180., 209., 193., 204., 198., 218., 215., 178.]),\n",
       " array([0.04744434, 0.09295319, 0.13846204, 0.18397089, 0.22947974,\n",
       "        0.27498859, 0.32049744, 0.36600629, 0.41151513, 0.45702398,\n",
       "        0.50253283]),\n",
       " <BarContainer object of 10 artists>)"
      ]
     },
     "execution_count": 49,
     "metadata": {},
     "output_type": "execute_result"
    },
    {
     "data": {
      "image/png": "[encoded data removed]",
      "text/plain": [
       "<Figure size 432x288 with 1 Axes>"
      ]
     },
     "metadata": {
      "needs_background": "light"
     },
     "output_type": "display_data"
    }
   ],
   "source": [
    "plt.hist(dset[\"af_per_anc\"].values[:, 1])"
   ]
  }
 ],
 "metadata": {
  "kernelspec": {
   "display_name": "Python 3",
   "language": "python",
   "name": "python3"
  },
  "language_info": {
   "codemirror_mode": {
    "name": "ipython",
    "version": 3
   },
   "file_extension": ".py",
   "mimetype": "text/x-python",
   "name": "python",
   "nbconvert_exporter": "python",
   "pygments_lexer": "ipython3",
   "version": "3.8.5"
  }
 },
 "nbformat": 4,
 "nbformat_minor": 5
}
