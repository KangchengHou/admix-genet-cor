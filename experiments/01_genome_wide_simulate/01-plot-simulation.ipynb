{
 "cells": [
  {
   "cell_type": "markdown",
   "id": "48eff764-d694-4db6-bdf1-29f0e0554e2b",
   "metadata": {},
   "source": [
    "# Showcasing the results\n",
    "1. Estimation performance\n",
    "2. Hypothesis testing performance"
   ]
  },
  {
   "cell_type": "code",
   "execution_count": 27,
   "id": "dea432cd-3cb9-4d49-86ce-f3477a9095ad",
   "metadata": {},
   "outputs": [
    {
     "name": "stdout",
     "output_type": "stream",
     "text": [
      "The autoreload extension is already loaded. To reload it, use:\n",
      "  %reload_ext autoreload\n",
      "The lab_black extension is already loaded. To reload it, use:\n",
      "  %reload_ext lab_black\n"
     ]
    }
   ],
   "source": [
    "%load_ext autoreload\n",
    "%autoreload 2\n",
    "%load_ext lab_black\n",
    "\n",
    "import matplotlib.pyplot as plt\n",
    "import numpy as np\n",
    "import json\n",
    "import pandas as pd\n",
    "import seaborn as sns\n",
    "import os\n",
    "import admix"
   ]
  },
  {
   "cell_type": "code",
   "execution_count": 28,
   "id": "7080fa92-4335-4093-9d39-b918b6c879ed",
   "metadata": {},
   "outputs": [],
   "source": [
    "def estimate_rg(est, est_var):\n",
    "    \"\"\"\n",
    "    Estimate the ratio of genetic correlation.\n",
    "    est: (3, ) numpy array\n",
    "    est_var (3, 3) variance-covariance matrix\n",
    "    \"\"\"\n",
    "    x, y = est[0], est[1]\n",
    "    rg = y / x\n",
    "    # grad = [-y / x^2, 1 / x]\n",
    "    grad = np.array([-y / (x ** 2), 1 / x])\n",
    "\n",
    "    def quad_form(x, A):\n",
    "        return np.dot(np.dot(x.T, A), x)\n",
    "\n",
    "    return rg, quad_form(grad, est_var[0:2, 0:2])"
   ]
  },
  {
   "cell_type": "markdown",
   "id": "d17c85c9-676d-4a0f-8fda-573b4b26217a",
   "metadata": {},
   "source": [
    "# Plot GCTA"
   ]
  },
  {
   "cell_type": "code",
   "execution_count": 60,
   "id": "ee523bb4-3adf-4e56-a4be-c70df6d0a7ad",
   "metadata": {},
   "outputs": [
    {
     "data": {
      "image/png": "[encoded data removed]",
      "text/plain": [
       "<Figure size 750x345 with 3 Axes>"
      ]
     },
     "metadata": {
      "needs_background": "light"
     },
     "output_type": "display_data"
    }
   ],
   "source": [
    "df_plot = []\n",
    "\n",
    "for hsq in [0.1, 0.25, 0.5]:\n",
    "    for pcausal in [0.01, 0.001, 1.0]:\n",
    "        for cor in [0.6, 0.8, 1.0]:\n",
    "            for hermodel in [\"mafukb\"]:\n",
    "                for sim_i in range(20):\n",
    "                    f_name = (\n",
    "                        f\"out/gcta-estimate/hsq-{hsq}-pcausal-{pcausal}-cor-{cor}\"\n",
    "                        + f\"-hermodel-{hermodel}.sim_{sim_i}\"\n",
    "                    )\n",
    "                    if not os.path.exists(f_name + \".hsq\"):\n",
    "                        continue\n",
    "                    est = admix.tools.gcta.read_reml(f_name)\n",
    "                    rg, rg_var = estimate_rg(\n",
    "                        est[\"est\"].Variance.values, est[\"varcov\"].values\n",
    "                    )\n",
    "                    rg_stderr = np.sqrt(rg_var)\n",
    "                    df_plot.append(\n",
    "                        est[\"est\"].Variance.values.tolist()\n",
    "                        + [hsq, cor, pcausal, hermodel, rg, rg_stderr, sim_i]\n",
    "                    )\n",
    "df_plot = pd.DataFrame(\n",
    "    df_plot,\n",
    "    columns=[\n",
    "        \"estimated_var_g\",\n",
    "        \"estimated_rho\",\n",
    "        \"estimated_var_e\",\n",
    "        \"hsq\",\n",
    "        \"cor\",\n",
    "        \"pcausal\",\n",
    "        \"hermodel\",\n",
    "        \"estimated_ratio\",\n",
    "        \"estimated_ratio_stderr\",\n",
    "        \"sim_i\",\n",
    "    ],\n",
    ")\n",
    "\n",
    "# df_plot = df_plot[df_plot.estimated_ratio_stderr < 0.3]\n",
    "fig, axes = plt.subplots(figsize=(5, 2.3), dpi=150, sharex=True, sharey=True, ncols=3)\n",
    "\n",
    "for ax_i, hsq in enumerate([0.1, 0.25, 0.5]):\n",
    "    df_tmp = df_plot[(df_plot.hsq == hsq)].copy()\n",
    "\n",
    "    ax = axes[ax_i]\n",
    "\n",
    "    sns.pointplot(\n",
    "        data=df_tmp,\n",
    "        x=\"cor\",\n",
    "        y=\"estimated_ratio\",\n",
    "        hue=\"pcausal\",\n",
    "        ax=ax,\n",
    "        markers=\".\",\n",
    "        dodge=0.3,\n",
    "        join=False,\n",
    "    )\n",
    "    cor_list = sorted(df_plot.cor.unique())\n",
    "\n",
    "    ax.hlines(\n",
    "        cor_list,\n",
    "        np.arange(len(cor_list)) - 0.2,\n",
    "        np.arange(len(cor_list)) + 0.2,\n",
    "        color=\"red\",\n",
    "        ls=\"--\",\n",
    "        zorder=10,\n",
    "    )\n",
    "    ax.set_ylim(0.2, 1.3)\n",
    "    ax.set_xlabel(\"Simulated $r_g$\")\n",
    "    ax.set_ylabel(\"Estimated $r_g$\")\n",
    "    ax.set_title(\"$h_g^2$\" + f\" = {hsq}\")\n",
    "    if ax_i != 0:\n",
    "        axes[ax_i].legend([], [], frameon=False)"
   ]
  },
  {
   "cell_type": "code",
   "execution_count": 61,
   "id": "9dad2433-986f-497a-a496-546289616182",
   "metadata": {},
   "outputs": [
    {
     "data": {
      "text/plain": [
       "hsq   cor  pcausal\n",
       "0.10  0.6  0.001      20\n",
       "           0.010      12\n",
       "           1.000      10\n",
       "      0.8  0.001      20\n",
       "           0.010      10\n",
       "           1.000      10\n",
       "      1.0  0.001      16\n",
       "           0.010      10\n",
       "           1.000      10\n",
       "0.25  0.6  0.001      10\n",
       "           0.010      10\n",
       "           1.000      10\n",
       "      0.8  0.001      10\n",
       "           0.010      10\n",
       "           1.000      10\n",
       "      1.0  0.001      10\n",
       "           0.010      10\n",
       "           1.000      10\n",
       "0.50  0.6  0.001      10\n",
       "           0.010      10\n",
       "           1.000      10\n",
       "      0.8  0.001      10\n",
       "           0.010      10\n",
       "           1.000      10\n",
       "      1.0  0.001      10\n",
       "           0.010      10\n",
       "           1.000      10\n",
       "dtype: int64"
      ]
     },
     "execution_count": 61,
     "metadata": {},
     "output_type": "execute_result"
    }
   ],
   "source": [
    "df_plot.groupby([\"hsq\", \"cor\", \"pcausal\"]).apply(lambda x: len(x[\"estimated_ratio\"]))"
   ]
  },
  {
   "cell_type": "code",
   "execution_count": 62,
   "id": "bd6bb4ff-d499-4265-9c6d-e156b8bede0c",
   "metadata": {},
   "outputs": [],
   "source": [
    "rg_hat_std = df_plot.groupby([\"hsq\", \"cor\", \"pcausal\"]).apply(\n",
    "    lambda x: np.std(x[\"estimated_ratio\"])\n",
    ")\n",
    "mean_rg_std_hat = df_plot.groupby([\"hsq\", \"cor\", \"pcausal\"]).apply(\n",
    "    lambda x: np.mean(x[\"estimated_ratio_stderr\"])\n",
    ")\n",
    "df_plot = pd.DataFrame({\"rg_hat_std\": rg_hat_std, \"mean_rg_std_hat\": mean_rg_std_hat})"
   ]
  },
  {
   "cell_type": "code",
   "execution_count": 63,
   "id": "6dac03cf-ac5f-4d59-849b-22abf53c62c1",
   "metadata": {},
   "outputs": [
    {
     "data": {
      "text/plain": [
       "[<matplotlib.lines.Line2D at 0x2ab79c81faf0>]"
      ]
     },
     "execution_count": 63,
     "metadata": {},
     "output_type": "execute_result"
    },
    {
     "data": {
      "image/png": "[encoded data removed]",
      "text/plain": [
       "<Figure size 450x450 with 1 Axes>"
      ]
     },
     "metadata": {
      "needs_background": "light"
     },
     "output_type": "display_data"
    }
   ],
   "source": [
    "fig, ax = plt.subplots(figsize=(3, 3), dpi=150)\n",
    "plt.scatter(df_plot.rg_hat_std, df_plot.mean_rg_std_hat)\n",
    "plt.plot([0, 0.25], [0, 0.25], \"r--\", alpha=0.5)"
   ]
  },
  {
   "cell_type": "markdown",
   "id": "61e85de2-eec2-4dcf-ad21-27ea4c3f283f",
   "metadata": {},
   "source": [
    "# Plot HE regression"
   ]
  },
  {
   "cell_type": "code",
   "execution_count": null,
   "id": "eb03b2eb-8c4a-46fc-a799-2bbbb8e501ed",
   "metadata": {},
   "outputs": [],
   "source": [
    "rls_list = []\n",
    "\n",
    "for hsq in [0.1, 0.5]:\n",
    "    for pcausal in [0.01, 0.001, 1.0]:\n",
    "        for cor in [0.8, 1.0]:\n",
    "            for hermodel in [\"mafukb\"]:\n",
    "                f_name = (\n",
    "                    f\"out/estimate/hsq-{hsq}-pcausal-{pcausal}-cor-{cor}\"\n",
    "                    + f\"-hermodel-{hermodel}.estimate.json\"\n",
    "                )\n",
    "                if not os.path.exists(f_name):\n",
    "                    continue\n",
    "                with open(f_name) as f:\n",
    "                    data = json.load(f)\n",
    "\n",
    "                    df_tmp = pd.DataFrame(\n",
    "                        np.array([d[\"estimate\"] for d in data]),\n",
    "                        columns=[\n",
    "                            \"estimated_var_g\",\n",
    "                            \"estimated_rho\",\n",
    "                            \"estimated_var_e\",\n",
    "                        ],\n",
    "                    )\n",
    "                    df_tmp[\"hsq\"] = hsq\n",
    "                    df_tmp[\"cor\"] = cor\n",
    "                    df_tmp[\"pcausal\"] = pcausal\n",
    "                    df_tmp[\"hermodel\"] = hermodel\n",
    "                    rls_list.append(df_tmp)\n",
    "\n",
    "df_plot = pd.concat(rls_list)\n",
    "df_plot[\"estimated_ratio\"] = df_plot[\"estimated_rho\"] / df_plot[\"estimated_var_g\"]\n",
    "\n",
    "fig, axes = plt.subplots(figsize=(5, 2.3), dpi=150, sharex=True, sharey=True, ncols=2)\n",
    "\n",
    "for ax_i, hsq in enumerate([0.1, 0.5]):\n",
    "    df_tmp = df_plot[(df_plot.hsq == hsq)].copy()\n",
    "\n",
    "    ax = axes[ax_i]\n",
    "\n",
    "    sns.pointplot(\n",
    "        data=df_tmp,\n",
    "        x=\"cor\",\n",
    "        y=\"estimated_ratio\",\n",
    "        hue=\"pcausal\",\n",
    "        ax=ax,\n",
    "        markers=\".\",\n",
    "        dodge=0.2,\n",
    "        join=False,\n",
    "    )\n",
    "    cor_list = sorted(df_plot.cor.unique())\n",
    "\n",
    "    ax.hlines(\n",
    "        cor_list,\n",
    "        np.arange(len(cor_list)) - 0.2,\n",
    "        np.arange(len(cor_list)) + 0.2,\n",
    "        color=\"red\",\n",
    "        ls=\"--\",\n",
    "        zorder=10,\n",
    "    )\n",
    "    ax.set_ylim(0.2, 1.3)\n",
    "    ax.set_xlabel(\"Simulated $r_g$\")\n",
    "    ax.set_ylabel(\"Estimated $r_g$\")\n",
    "    ax.set_title(\"$h_g^2$\" + f\" = {hsq}\")\n",
    "    if ax_i != 0:\n",
    "        axes[ax_i].legend([], [], frameon=False)"
   ]
  }
 ],
 "metadata": {
  "kernelspec": {
   "display_name": "Python 3",
   "language": "python",
   "name": "python3"
  },
  "language_info": {
   "codemirror_mode": {
    "name": "ipython",
    "version": 3
   },
   "file_extension": ".py",
   "mimetype": "text/x-python",
   "name": "python",
   "nbconvert_exporter": "python",
   "pygments_lexer": "ipython3",
   "version": "3.8.5"
  }
 },
 "nbformat": 4,
 "nbformat_minor": 5
}
