{
 "cells": [
  {
   "cell_type": "code",
   "execution_count": 20,
   "id": "283953f4-a72c-4e85-8883-d6ffbc343214",
   "metadata": {},
   "outputs": [
    {
     "name": "stdout",
     "output_type": "stream",
     "text": [
      "The autoreload extension is already loaded. To reload it, use:\n",
      "  %reload_ext autoreload\n"
     ]
    }
   ],
   "source": [
    "%load_ext autoreload\n",
    "%autoreload 2\n",
    "\n",
    "import admix\n",
    "import dask\n",
    "import admix_genet_cor\n",
    "import matplotlib.pyplot as plt\n",
    "import numpy as np"
   ]
  },
  {
   "cell_type": "code",
   "execution_count": 21,
   "id": "6c646a6d-42f3-4999-8c81-bf704505aeb0",
   "metadata": {},
   "outputs": [],
   "source": [
    "dset = admix.simulate.admix_geno(\n",
    "    n_indiv=5000, n_snp=1000, n_anc=2, mosaic_size=100, anc_props=[0.2, 0.8]\n",
    ")"
   ]
  },
  {
   "cell_type": "code",
   "execution_count": 22,
   "id": "32f218c9-f762-4144-a5ca-7d7d12bbc6aa",
   "metadata": {},
   "outputs": [
    {
     "name": "stderr",
     "output_type": "stream",
     "text": [
      "admix_genet_cor.simulate_continuous_pheno: 100%|██████████| 1/1 [00:01<00:00,  1.36s/it]\n"
     ]
    }
   ],
   "source": [
    "sim = admix_genet_cor.simulate_continuous_pheno(\n",
    "    geno=dset.geno,\n",
    "    lanc=dset.lanc,\n",
    "    cor=0.8,\n",
    "    hsq=0.5,\n",
    "    n_sim=100,\n",
    "    apa_center=False\n",
    ")"
   ]
  },
  {
   "cell_type": "code",
   "execution_count": 44,
   "id": "89f6879c-a60f-4496-9a48-0a5a9ccbd773",
   "metadata": {},
   "outputs": [
    {
     "name": "stderr",
     "output_type": "stream",
     "text": [
      "admix_genet_cor.compute_grm: 100%|██████████| 1/1 [00:05<00:00,  5.08s/it]\n"
     ]
    }
   ],
   "source": [
    "K1, K2, K12 = admix_genet_cor.compute_grm(geno=dset.geno, lanc=dset.lanc, apa_center=False)\n",
    "A1 = K1 + K2\n",
    "A2 = K12 + K12.T"
   ]
  },
  {
   "cell_type": "code",
   "execution_count": 51,
   "id": "51f66d41-cb22-4af6-a2b7-41fa1866b3e4",
   "metadata": {},
   "outputs": [
    {
     "name": "stderr",
     "output_type": "stream",
     "text": [
      "100%|██████████| 100/100 [00:08<00:00, 11.35it/s]\n"
     ]
    }
   ],
   "source": [
    "rls_list = admix_genet_cor.estimate_genetic_cor(A1, A2, sim[\"pheno\"], cov=np.ones((dset.n_indiv, 1)))"
   ]
  },
  {
   "cell_type": "code",
   "execution_count": 52,
   "id": "6ddb0078-cb09-4841-9415-afdb44280529",
   "metadata": {},
   "outputs": [],
   "source": [
    "data = np.array(rls_list)"
   ]
  },
  {
   "cell_type": "code",
   "execution_count": 53,
   "id": "eb1ecd66-0a3d-4997-89e5-3f4f8dcdb9c8",
   "metadata": {},
   "outputs": [
    {
     "data": {
      "text/plain": [
       "0.9284692524478315"
      ]
     },
     "execution_count": 53,
     "metadata": {},
     "output_type": "execute_result"
    }
   ],
   "source": [
    "np.mean(data[:, 1] / data[:, 0])"
   ]
  },
  {
   "cell_type": "code",
   "execution_count": 54,
   "id": "d7c530ef-3488-427d-bcbb-918deb1f10c6",
   "metadata": {},
   "outputs": [
    {
     "data": {
      "text/plain": [
       "0.2208102495567221"
      ]
     },
     "execution_count": 54,
     "metadata": {},
     "output_type": "execute_result"
    }
   ],
   "source": [
    "np.std(data[:, 0] / data[:, 1])"
   ]
  },
  {
   "cell_type": "code",
   "execution_count": null,
   "id": "232a78c9-3bd6-4caf-8d86-cea3498c76f8",
   "metadata": {},
   "outputs": [],
   "source": []
  }
 ],
 "metadata": {
  "kernelspec": {
   "display_name": "Python 3",
   "language": "python",
   "name": "python3"
  },
  "language_info": {
   "codemirror_mode": {
    "name": "ipython",
    "version": 3
   },
   "file_extension": ".py",
   "mimetype": "text/x-python",
   "name": "python",
   "nbconvert_exporter": "python",
   "pygments_lexer": "ipython3",
   "version": "3.8.5"
  }
 },
 "nbformat": 4,
 "nbformat_minor": 5
}
