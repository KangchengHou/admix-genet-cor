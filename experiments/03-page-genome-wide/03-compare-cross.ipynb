{
 "cells": [
  {
   "cell_type": "code",
   "execution_count": 20,
   "id": "26cb32b5-1a61-4106-b168-4f51f19c2658",
   "metadata": {},
   "outputs": [],
   "source": [
    "import matplotlib.pyplot as plt\n",
    "import pandas as pd\n",
    "from scipy.stats import pearsonr"
   ]
  },
  {
   "cell_type": "code",
   "execution_count": 3,
   "id": "a54da785-ab86-4ecf-a00e-25672a8134d6",
   "metadata": {},
   "outputs": [],
   "source": [
    "df_admix_corr = pd.read_csv(\"results/admix-corr.csv\")"
   ]
  },
  {
   "cell_type": "code",
   "execution_count": 9,
   "id": "2c49e6c0-d88d-456a-8e15-22c719b878c4",
   "metadata": {},
   "outputs": [],
   "source": [
    "df_sldxr = pd.read_excel(\"https://www.dropbox.com/s/jck2mhjby2ur55j/supp_tables.xlsx?dl=1\", sheet_name=1).dropna()"
   ]
  },
  {
   "cell_type": "code",
   "execution_count": 14,
   "id": "29b5e6ff-d298-43d7-bb19-93c2623a5c9b",
   "metadata": {},
   "outputs": [],
   "source": [
    "dict_sldxr = {\n",
    "    row.id : float(row.rg.split(' ')[0]) for _, row in df_sldxr.iterrows()\n",
    "}"
   ]
  },
  {
   "cell_type": "code",
   "execution_count": 16,
   "id": "3bc35ec5-7ecf-4ed7-92ea-705ec5b5ceaa",
   "metadata": {},
   "outputs": [],
   "source": [
    "dict_admix = {\n",
    "    row.trait : row.rg for _, row in df_admix_corr.iterrows() if row.trait in dict_sldxr\n",
    "}"
   ]
  },
  {
   "cell_type": "code",
   "execution_count": 19,
   "id": "654ae816-b4d3-4a6e-b8f7-723218873b5d",
   "metadata": {},
   "outputs": [],
   "source": [
    "sldxr_estimate = [dict_sldxr[t] for t in dict_sldxr]\n",
    "admix_estimate = [dict_admix[t] for t in dict_sldxr]\n"
   ]
  },
  {
   "cell_type": "code",
   "execution_count": 26,
   "id": "1b86cd37-a9db-4a31-af5f-fac4ac40fc13",
   "metadata": {},
   "outputs": [
    {
     "data": {
      "text/plain": [
       "(-0.4597658943595669, 0.09811682662321443)"
      ]
     },
     "execution_count": 26,
     "metadata": {},
     "output_type": "execute_result"
    }
   ],
   "source": [
    "pearsonr(sldxr_estimate, admix_estimate)"
   ]
  }
 ],
 "metadata": {
  "kernelspec": {
   "display_name": "Python 3",
   "language": "python",
   "name": "python3"
  },
  "language_info": {
   "codemirror_mode": {
    "name": "ipython",
    "version": 3
   },
   "file_extension": ".py",
   "mimetype": "text/x-python",
   "name": "python",
   "nbconvert_exporter": "python",
   "pygments_lexer": "ipython3",
   "version": "3.8.5"
  }
 },
 "nbformat": 4,
 "nbformat_minor": 5
}
