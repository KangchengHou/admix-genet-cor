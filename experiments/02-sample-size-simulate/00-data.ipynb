{
 "cells": [
  {
   "cell_type": "code",
   "execution_count": 1,
   "id": "31ab1351-3557-40ef-b92f-a2f281532aab",
   "metadata": {},
   "outputs": [],
   "source": [
    "%load_ext autoreload\n",
    "%autoreload 2\n",
    "%load_ext lab_black\n",
    "\n",
    "import admix\n",
    "import dapgen\n",
    "import pandas as pd\n",
    "import numpy as np\n",
    "import submitit"
   ]
  },
  {
   "cell_type": "code",
   "execution_count": 2,
   "id": "327639df-03be-46cc-8a5f-f3d03bcf2867",
   "metadata": {},
   "outputs": [],
   "source": [
    "CHROM = 1\n",
    "KG_PATH = f\"/u/project/pasaniuc/kangchen/DATA/plink2-1kg/out/build38.chr{CHROM}\""
   ]
  },
  {
   "cell_type": "code",
   "execution_count": 3,
   "id": "5d5c9cde-7f34-412b-8062-188fa6477049",
   "metadata": {},
   "outputs": [],
   "source": [
    "def create_dataset(region_i, anc_props):\n",
    "    df_regions = pd.read_csv(\n",
    "        \"../02-region-locus-simulate/out/regions.txt\", delim_whitespace=True\n",
    "    )\n",
    "    ref_dset = admix.io.read_dataset(KG_PATH)\n",
    "    ref_dset = ref_dset[\n",
    "        (\n",
    "            (ref_dset.snp.CHROM == df_regions.CHROM[region_i])\n",
    "            & (\n",
    "                ref_dset.snp.POS.between(\n",
    "                    df_regions.START[region_i], df_regions.STOP[region_i]\n",
    "                )\n",
    "            )\n",
    "        ).values\n",
    "    ]\n",
    "    ref_dset_list = [\n",
    "        ref_dset[:, (ref_dset.indiv.SuperPop == pop).values] for pop in [\"EUR\", \"AFR\"]\n",
    "    ]\n",
    "\n",
    "    mosaic_size = admix.simulate.calculate_mosaic_size(\n",
    "        df_snp=ref_dset.snp, genetic_map=\"hg38\", chrom=1, n_gen=7\n",
    "    )\n",
    "\n",
    "    np.random.seed(1)\n",
    "\n",
    "    admix_dset, admix_lanc = admix.simulate.admix_geno(\n",
    "        geno_list=[dset.geno for dset in ref_dset_list],\n",
    "        df_snp=ref_dset.snp,\n",
    "        anc_props=anc_props,\n",
    "        mosaic_size=mosaic_size,\n",
    "        n_indiv=15_000,\n",
    "        return_sparse_lanc=True,\n",
    "    )\n",
    "\n",
    "    # save\n",
    "    prefix = f\"out/datasets/region{region_i}_{int(anc_props[0] * 100)}_{int(anc_props[1] * 100)}\"\n",
    "    dapgen.write_pgen(f\"{prefix}.pgen\", admix_dset.geno)\n",
    "    admix_dset.indiv.rename_axis(\"#IID\").to_csv(f\"{prefix}.psam\", sep=\"\\t\")\n",
    "\n",
    "    df_snp = admix_dset.snp.reset_index().rename(\n",
    "        columns={\"snp\": \"ID\", \"CHROM\": \"#CHROM\"}\n",
    "    )\n",
    "\n",
    "    df_snp = admix_dset.snp.reset_index().rename(\n",
    "        columns={\"snp\": \"ID\", \"CHROM\": \"#CHROM\"}\n",
    "    )\n",
    "    fixed_cols = [\"#CHROM\", \"POS\", \"ID\", \"REF\", \"ALT\"]\n",
    "    df_snp = df_snp[\n",
    "        fixed_cols + [col for col in df_snp.columns if col not in fixed_cols]\n",
    "    ]\n",
    "\n",
    "    df_snp.to_csv(f\"{prefix}.pvar\", sep=\"\\t\", index=False)\n",
    "\n",
    "    admix.io.write_lanc(f\"{prefix}.lanc\", admix_lanc)\n",
    "\n",
    "    admix.tools.plink2.run(f\"--pfile {prefix} --make-bed --out {prefix}\")\n",
    "\n",
    "    # reload data set and calculate stats\n",
    "    admix_dset = admix.io.read_dataset(prefix)\n",
    "    admix_dset.snp[[\"EUR_FREQ\", \"AFR_FREQ\"]] = admix_dset.af_per_anc()\n",
    "    admix_dset.snp[\"FREQ\"] = admix_dset.geno.mean(axis=[1, 2])\n",
    "    admix_dset.indiv[\"AVG_ANC\"] = admix_dset.lanc.mean(axis=[0, 2]).compute()\n",
    "    admix_dset.snp[[\"EUR_FREQ\", \"AFR_FREQ\", \"FREQ\"]].to_csv(\n",
    "        prefix + \".snp_info\", sep=\"\\t\"\n",
    "    )\n",
    "    admix_dset.indiv[[\"AVG_ANC\"]].to_csv(prefix + \".indiv_info\", sep=\"\\t\")"
   ]
  },
  {
   "cell_type": "code",
   "execution_count": 1,
   "id": "68c4c25f-81be-4cc0-a3dd-bae4e0a60695",
   "metadata": {},
   "outputs": [],
   "source": [
    "import admix"
   ]
  },
  {
   "cell_type": "code",
   "execution_count": 2,
   "id": "631e8640-b9e1-4e95-bc65-711c7af82c8b",
   "metadata": {},
   "outputs": [
    {
     "name": "stdout",
     "output_type": "stream",
     "text": [
      "2022-01-21 15:40.46 [info     ] admix.Dataset: read local ancestry from out/datasets/region0_20_80.lanc\n",
      "2022-01-21 15:40.48 [info     ] admix.Dataset: `n_anc` is not provided, infered n_anc from the first 1,000 SNPs is 2. If this is not correct, provide `n_anc` when constructing admix.Dataset\n"
     ]
    }
   ],
   "source": [
    "dset = admix.io.read_dataset(\"out/datasets/region0_20_80\")"
   ]
  },
  {
   "cell_type": "code",
   "execution_count": 6,
   "id": "9cc8f033-e0ab-495b-8e1b-144fd88533dd",
   "metadata": {},
   "outputs": [
    {
     "data": {
      "text/plain": [
       "0.799543294492783"
      ]
     },
     "execution_count": 6,
     "metadata": {},
     "output_type": "execute_result"
    }
   ],
   "source": [
    "dset.indiv[\"AVG_ANC\"].mean()"
   ]
  },
  {
   "cell_type": "code",
   "execution_count": 3,
   "id": "b6bf5ea1-24aa-4ac5-9769-eb2dc526d162",
   "metadata": {},
   "outputs": [
    {
     "data": {
      "text/plain": [
       "admix.Dataset object with n_snp x n_indiv = 98265 x 15000, n_anc=2\n",
       "\tsnp: 'CHROM', 'POS', 'REF', 'ALT', 'QUAL', 'FILTER', 'EUR_FREQ', 'AFR_FREQ', 'FREQ'\n",
       "\tindiv: 'AVG_ANC'"
      ]
     },
     "execution_count": 3,
     "metadata": {},
     "output_type": "execute_result"
    }
   ],
   "source": [
    "dset"
   ]
  },
  {
   "cell_type": "code",
   "execution_count": 4,
   "id": "eebc4160-dca4-4ad2-9c31-cb61976a65ec",
   "metadata": {},
   "outputs": [],
   "source": [
    "executor = submitit.SgeExecutor(folder=\"./submitit-logs\")\n",
    "\n",
    "executor.update_parameters(\n",
    "    time_min=30,\n",
    "    memory_g=60,\n",
    "    setup=[\n",
    "        \"export PATH=~/project-pasaniuc/software/miniconda3/bin:$PATH\",\n",
    "        \"export PYTHONNOUSERSITE=True\",\n",
    "    ],\n",
    ")\n",
    "jobs = executor.map_array(create_dataset, np.arange(100), [[0.2, 0.8]] * 100)\n",
    "jobs = executor.map_array(create_dataset, np.arange(100), [[0.8, 0.2]] * 100)"
   ]
  }
 ],
 "metadata": {
  "kernelspec": {
   "display_name": "Python 3",
   "language": "python",
   "name": "python3"
  },
  "language_info": {
   "codemirror_mode": {
    "name": "ipython",
    "version": 3
   },
   "file_extension": ".py",
   "mimetype": "text/x-python",
   "name": "python",
   "nbconvert_exporter": "python",
   "pygments_lexer": "ipython3",
   "version": "3.8.5"
  }
 },
 "nbformat": 4,
 "nbformat_minor": 5
}
