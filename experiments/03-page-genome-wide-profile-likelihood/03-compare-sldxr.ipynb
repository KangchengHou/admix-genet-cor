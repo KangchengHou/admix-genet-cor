{
 "cells": [
  {
   "cell_type": "code",
   "execution_count": 1,
   "id": "26cb32b5-1a61-4106-b168-4f51f19c2658",
   "metadata": {},
   "outputs": [],
   "source": [
    "import matplotlib.pyplot as plt\n",
    "import pandas as pd\n",
    "from scipy.stats import pearsonr"
   ]
  },
  {
   "cell_type": "code",
   "execution_count": 2,
   "id": "a54da785-ab86-4ecf-a00e-25672a8134d6",
   "metadata": {},
   "outputs": [],
   "source": [
    "df_admix_corr = pd.read_csv(\"results/admix-corr.csv\")"
   ]
  },
  {
   "cell_type": "code",
   "execution_count": 6,
   "id": "2c49e6c0-d88d-456a-8e15-22c719b878c4",
   "metadata": {},
   "outputs": [],
   "source": [
    "df_sldxr = pd.read_excel(\"https://www.dropbox.com/s/jck2mhjby2ur55j/supp_tables.xlsx?dl=1\", sheet_name=\"shi-sldxr-estimate\").dropna()"
   ]
  },
  {
   "cell_type": "code",
   "execution_count": 8,
   "id": "84de5ae8-2c02-4694-b4bd-d3433b74ffd2",
   "metadata": {},
   "outputs": [
    {
     "data": {
      "text/html": [
       "<div>\n",
       "<style scoped>\n",
       "    .dataframe tbody tr th:only-of-type {\n",
       "        vertical-align: middle;\n",
       "    }\n",
       "\n",
       "    .dataframe tbody tr th {\n",
       "        vertical-align: top;\n",
       "    }\n",
       "\n",
       "    .dataframe thead th {\n",
       "        text-align: right;\n",
       "    }\n",
       "</style>\n",
       "<table border=\"1\" class=\"dataframe\">\n",
       "  <thead>\n",
       "    <tr style=\"text-align: right;\">\n",
       "      <th></th>\n",
       "      <th>trait (abbrev.)</th>\n",
       "      <th>id</th>\n",
       "      <th>NEAS</th>\n",
       "      <th>NEUR</th>\n",
       "      <th>hg,EAS</th>\n",
       "      <th>hg,EUR</th>\n",
       "      <th>rg</th>\n",
       "    </tr>\n",
       "  </thead>\n",
       "  <tbody>\n",
       "    <tr>\n",
       "      <th>4</th>\n",
       "      <td>Body Mass Index (BMI)</td>\n",
       "      <td>bmi</td>\n",
       "      <td>158284</td>\n",
       "      <td>337539</td>\n",
       "      <td>0.161 (0.010)</td>\n",
       "      <td>0.207 (0.007)</td>\n",
       "      <td>0.804 (0.021)</td>\n",
       "    </tr>\n",
       "    <tr>\n",
       "      <th>6</th>\n",
       "      <td>Diastolic Blood Pressure (DBP)</td>\n",
       "      <td>diastolic_bp</td>\n",
       "      <td>136615</td>\n",
       "      <td>337539</td>\n",
       "      <td>0.052 (0.008)</td>\n",
       "      <td>0.146 (0.007)</td>\n",
       "      <td>0.862 (0.059)</td>\n",
       "    </tr>\n",
       "    <tr>\n",
       "      <th>7</th>\n",
       "      <td>Estimated Glomerular Filtration Rate (EGFR)</td>\n",
       "      <td>egfrckdepi</td>\n",
       "      <td>143658</td>\n",
       "      <td>100125</td>\n",
       "      <td>0.074 (0.008)</td>\n",
       "      <td>0.058 (0.007)</td>\n",
       "      <td>1.053 (0.063)</td>\n",
       "    </tr>\n",
       "    <tr>\n",
       "      <th>9</th>\n",
       "      <td>Hemoglobin A1c (HBA1C)</td>\n",
       "      <td>a1c</td>\n",
       "      <td>42790</td>\n",
       "      <td>337539</td>\n",
       "      <td>0.109 (0.022)</td>\n",
       "      <td>0.082 (0.006)</td>\n",
       "      <td>0.875 (0.083)</td>\n",
       "    </tr>\n",
       "    <tr>\n",
       "      <th>10</th>\n",
       "      <td>High Density Lipoprotein (HDL)</td>\n",
       "      <td>hdl</td>\n",
       "      <td>70657</td>\n",
       "      <td>337539</td>\n",
       "      <td>0.109 (0.016)</td>\n",
       "      <td>0.140 (0.010)</td>\n",
       "      <td>0.892 (0.056)</td>\n",
       "    </tr>\n",
       "    <tr>\n",
       "      <th>11</th>\n",
       "      <td>Height (HEIGHT)</td>\n",
       "      <td>height</td>\n",
       "      <td>151569</td>\n",
       "      <td>337539</td>\n",
       "      <td>0.371 (0.017)</td>\n",
       "      <td>0.366 (0.018)</td>\n",
       "      <td>0.897 (0.018)</td>\n",
       "    </tr>\n",
       "    <tr>\n",
       "      <th>14</th>\n",
       "      <td>Low Density Lipoprotein (LDL)</td>\n",
       "      <td>ldl</td>\n",
       "      <td>72866</td>\n",
       "      <td>337539</td>\n",
       "      <td>0.047 (0.015)</td>\n",
       "      <td>0.076 (0.009)</td>\n",
       "      <td>0.662 (0.105)</td>\n",
       "    </tr>\n",
       "    <tr>\n",
       "      <th>16</th>\n",
       "      <td>Mean Corpuscular Hemoglobin (MCH)</td>\n",
       "      <td>mean_corp_hgb_conc</td>\n",
       "      <td>108054</td>\n",
       "      <td>337539</td>\n",
       "      <td>0.130 (0.014)</td>\n",
       "      <td>0.144 (0.010)</td>\n",
       "      <td>0.884 (0.049)</td>\n",
       "    </tr>\n",
       "    <tr>\n",
       "      <th>22</th>\n",
       "      <td>Platelet Count (PLT)</td>\n",
       "      <td>platelet_cnt</td>\n",
       "      <td>108208</td>\n",
       "      <td>337539</td>\n",
       "      <td>0.157 (0.015)</td>\n",
       "      <td>0.214 (0.013)</td>\n",
       "      <td>0.879 (0.035)</td>\n",
       "    </tr>\n",
       "    <tr>\n",
       "      <th>25</th>\n",
       "      <td>Systolic Blood Pressure (SBP)</td>\n",
       "      <td>systolic_bp</td>\n",
       "      <td>136597</td>\n",
       "      <td>337539</td>\n",
       "      <td>0.064 (0.008)</td>\n",
       "      <td>0.149 (0.007)</td>\n",
       "      <td>0.807 (0.043)</td>\n",
       "    </tr>\n",
       "    <tr>\n",
       "      <th>27</th>\n",
       "      <td>*Type 2 Diabetes (T2D)</td>\n",
       "      <td>t2d_status</td>\n",
       "      <td>190559</td>\n",
       "      <td>141364</td>\n",
       "      <td>0.099 (0.007)</td>\n",
       "      <td>0.046 (0.006)</td>\n",
       "      <td>0.927 (0.048)</td>\n",
       "    </tr>\n",
       "    <tr>\n",
       "      <th>28</th>\n",
       "      <td>Total Cholesterol (TC)</td>\n",
       "      <td>total_cholesterol</td>\n",
       "      <td>128305</td>\n",
       "      <td>337539</td>\n",
       "      <td>0.057 (0.013)</td>\n",
       "      <td>0.087 (0.010)</td>\n",
       "      <td>0.910 (0.073)</td>\n",
       "    </tr>\n",
       "    <tr>\n",
       "      <th>29</th>\n",
       "      <td>Triglyceride (TG)</td>\n",
       "      <td>triglycerides</td>\n",
       "      <td>105597</td>\n",
       "      <td>337539</td>\n",
       "      <td>0.061 (0.010)</td>\n",
       "      <td>0.100 (0.009)</td>\n",
       "      <td>0.932 (0.066)</td>\n",
       "    </tr>\n",
       "    <tr>\n",
       "      <th>30</th>\n",
       "      <td>White Blood Cell Count (WBC)</td>\n",
       "      <td>total_wbc_cnt</td>\n",
       "      <td>107964</td>\n",
       "      <td>337539</td>\n",
       "      <td>0.103 (0.010)</td>\n",
       "      <td>0.156 (0.007)</td>\n",
       "      <td>0.848 (0.037)</td>\n",
       "    </tr>\n",
       "  </tbody>\n",
       "</table>\n",
       "</div>"
      ],
      "text/plain": [
       "                                trait (abbrev.)                  id    NEAS  \\\n",
       "4                         Body Mass Index (BMI)                 bmi  158284   \n",
       "6                Diastolic Blood Pressure (DBP)        diastolic_bp  136615   \n",
       "7   Estimated Glomerular Filtration Rate (EGFR)          egfrckdepi  143658   \n",
       "9                        Hemoglobin A1c (HBA1C)                 a1c   42790   \n",
       "10               High Density Lipoprotein (HDL)                 hdl   70657   \n",
       "11                              Height (HEIGHT)              height  151569   \n",
       "14                Low Density Lipoprotein (LDL)                 ldl   72866   \n",
       "16            Mean Corpuscular Hemoglobin (MCH)  mean_corp_hgb_conc  108054   \n",
       "22                         Platelet Count (PLT)        platelet_cnt  108208   \n",
       "25                Systolic Blood Pressure (SBP)         systolic_bp  136597   \n",
       "27                       *Type 2 Diabetes (T2D)          t2d_status  190559   \n",
       "28                       Total Cholesterol (TC)   total_cholesterol  128305   \n",
       "29                            Triglyceride (TG)       triglycerides  105597   \n",
       "30                 White Blood Cell Count (WBC)       total_wbc_cnt  107964   \n",
       "\n",
       "      NEUR         hg,EAS         hg,EUR             rg  \n",
       "4   337539  0.161 (0.010)  0.207 (0.007)  0.804 (0.021)  \n",
       "6   337539  0.052 (0.008)  0.146 (0.007)  0.862 (0.059)  \n",
       "7   100125  0.074 (0.008)  0.058 (0.007)  1.053 (0.063)  \n",
       "9   337539  0.109 (0.022)  0.082 (0.006)  0.875 (0.083)  \n",
       "10  337539  0.109 (0.016)  0.140 (0.010)  0.892 (0.056)  \n",
       "11  337539  0.371 (0.017)  0.366 (0.018)  0.897 (0.018)  \n",
       "14  337539  0.047 (0.015)  0.076 (0.009)  0.662 (0.105)  \n",
       "16  337539  0.130 (0.014)  0.144 (0.010)  0.884 (0.049)  \n",
       "22  337539  0.157 (0.015)  0.214 (0.013)  0.879 (0.035)  \n",
       "25  337539  0.064 (0.008)  0.149 (0.007)  0.807 (0.043)  \n",
       "27  141364  0.099 (0.007)  0.046 (0.006)  0.927 (0.048)  \n",
       "28  337539  0.057 (0.013)  0.087 (0.010)  0.910 (0.073)  \n",
       "29  337539  0.061 (0.010)  0.100 (0.009)  0.932 (0.066)  \n",
       "30  337539  0.103 (0.010)  0.156 (0.007)  0.848 (0.037)  "
      ]
     },
     "execution_count": 8,
     "metadata": {},
     "output_type": "execute_result"
    }
   ],
   "source": [
    "df_sldxr"
   ]
  },
  {
   "cell_type": "code",
   "execution_count": 10,
   "id": "29b5e6ff-d298-43d7-bb19-93c2623a5c9b",
   "metadata": {},
   "outputs": [],
   "source": [
    "dict_sldxr = {\n",
    "    row.id : float(row.rg.split(' ')[0]) for _, row in df_sldxr.iterrows()\n",
    "}\n",
    "dict_admix = {\n",
    "    row.trait : row.rg for _, row in df_admix_corr.iterrows() if row.trait in dict_sldxr\n",
    "}"
   ]
  },
  {
   "cell_type": "code",
   "execution_count": 11,
   "id": "654ae816-b4d3-4a6e-b8f7-723218873b5d",
   "metadata": {},
   "outputs": [],
   "source": [
    "sldxr_estimate = [dict_sldxr[t] for t in dict_sldxr]\n",
    "admix_estimate = [dict_admix[t] for t in dict_sldxr]\n"
   ]
  },
  {
   "cell_type": "code",
   "execution_count": 16,
   "id": "f2df5648-45b0-402c-a11d-eb680b50510c",
   "metadata": {},
   "outputs": [
    {
     "data": {
      "text/plain": [
       "<matplotlib.collections.PathCollection at 0x2b84595d01c0>"
      ]
     },
     "execution_count": 16,
     "metadata": {},
     "output_type": "execute_result"
    },
    {
     "data": {
      "image/png": "[encoded data removed]",
      "text/plain": [
       "<Figure size 300x300 with 1 Axes>"
      ]
     },
     "metadata": {
      "needs_background": "light"
     },
     "output_type": "display_data"
    }
   ],
   "source": [
    "fig, ax = plt.subplots(figsize=(2,2), dpi=150)\n",
    "ax.scatter(admix_estimate, sldxr_estimate, s=2)"
   ]
  },
  {
   "cell_type": "code",
   "execution_count": 12,
   "id": "1b86cd37-a9db-4a31-af5f-fac4ac40fc13",
   "metadata": {},
   "outputs": [
    {
     "data": {
      "text/plain": [
       "(-0.4041788054192995, 0.1517656858159757)"
      ]
     },
     "execution_count": 12,
     "metadata": {},
     "output_type": "execute_result"
    }
   ],
   "source": [
    "pearsonr(sldxr_estimate, admix_estimate)"
   ]
  }
 ],
 "metadata": {
  "kernelspec": {
   "display_name": "Python 3",
   "language": "python",
   "name": "python3"
  },
  "language_info": {
   "codemirror_mode": {
    "name": "ipython",
    "version": 3
   },
   "file_extension": ".py",
   "mimetype": "text/x-python",
   "name": "python",
   "nbconvert_exporter": "python",
   "pygments_lexer": "ipython3",
   "version": "3.8.5"
  }
 },
 "nbformat": 4,
 "nbformat_minor": 5
}
