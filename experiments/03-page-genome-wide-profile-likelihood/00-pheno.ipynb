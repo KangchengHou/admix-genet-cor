{
 "cells": [
  {
   "cell_type": "code",
   "execution_count": 1,
   "id": "50f26f90-edc8-47d2-b931-43f317aebc1e",
   "metadata": {},
   "outputs": [],
   "source": [
    "%load_ext lab_black\n",
    "%load_ext autoreload\n",
    "%autoreload 2\n",
    "\n",
    "import pandas as pd\n",
    "import numpy as np\n",
    "import dapgen\n",
    "import admix_genet_cor\n",
    "import admix\n",
    "import os\n",
    "import matplotlib.pyplot as plt\n",
    "from tqdm import tqdm\n",
    "import glob"
   ]
  },
  {
   "cell_type": "code",
   "execution_count": 2,
   "id": "5a36fb78-c517-406c-8ded-aabc085e7850",
   "metadata": {},
   "outputs": [],
   "source": [
    "ROOT_DIR = (\n",
    "    \"/u/project/pasaniuc/pasaniucdata/admixture/projects/PAGE-QC/01-dataset/out/aframr\"\n",
    ")\n",
    "PFILE_DIR = os.path.join(ROOT_DIR, \"imputed\")\n",
    "\n",
    "SUPP_TABLE_URL = \"https://www.dropbox.com/s/jck2mhjby2ur55j/supp_tables.xlsx?dl=1\"\n",
    "\n",
    "trait_list = [\n",
    "    f.split(\"/\")[-1].split(\".\")[0]\n",
    "    for f in glob.glob(os.path.join(ROOT_DIR, \"pheno\", \"*.tsv\"))\n",
    "]\n",
    "trait_info = pd.read_excel(SUPP_TABLE_URL, sheet_name=\"trait-info\")\n",
    "trait_list = trait_info[\"trait\"].values\n",
    "dict_trait_display_name = {\n",
    "    row[\"trait\"]: row[\"display-name\"] for _, row in trait_info.iterrows()\n",
    "}"
   ]
  },
  {
   "cell_type": "code",
   "execution_count": 3,
   "id": "97f36fc5-c1b6-4d00-8608-6678a5517a32",
   "metadata": {},
   "outputs": [],
   "source": [
    "#     ### include GWAS variants as covariates\n",
    "#     clump_path = join(CLUMP_DIR, trait, \"PLINK.imputed.clumped\")\n",
    "#     if (sum(1 for line in open(clump_path)) > 1) and trait != \"total_wbc_cnt\":\n",
    "#         # when there is clumped variants\n",
    "#         df_clump = pd.read_csv(\n",
    "#             join(CLUMP_DIR, trait, \"PLINK.imputed.clumped\"), delim_whitespace=True\n",
    "#         )\n",
    "#         # include variants with h2 > 0.004\n",
    "#         df_clump = df_clump[df_clump.P < scipy.stats.chi2.sf(dset.n_indiv * 0.004, 1)]\n",
    "#         if len(df_clump) > 0:\n",
    "#             print(f\"{len(df_clump)} SNPs with expected h2 > 0.2%\")\n",
    "#             df_clump_geno = []\n",
    "#             for chrom, df_chrom_clump in df_clump.groupby(\"CHR\"):\n",
    "#                 dset_chrom = admix.io.read_dataset(\n",
    "#                     join(PFILE_DIR, f\"chr{chrom}\"),\n",
    "#                     n_anc=2,\n",
    "#                 )\n",
    "#                 dset_chrom = dset_chrom[\n",
    "#                     df_chrom_clump.SNP.values, dset.indiv.index.values\n",
    "#                 ]\n",
    "#                 df_clump_geno.append(\n",
    "#                     pd.DataFrame(\n",
    "#                         dset_chrom.geno.sum(axis=2).T.compute(),\n",
    "#                         columns=dset_chrom.snp.index.values,\n",
    "#                         index=dset_chrom.indiv.index.values,\n",
    "#                     )\n",
    "#                 )\n",
    "#             df_clump_geno = pd.concat(df_clump_geno, axis=1)\n",
    "#             print(df_clump_geno)\n",
    "#             df_covar = pd.merge(\n",
    "#                 df_covar, df_clump_geno, left_index=True, right_index=True\n",
    "#             )"
   ]
  },
  {
   "cell_type": "code",
   "execution_count": 4,
   "id": "c89cddec-009f-44fc-945e-7b957a4227d4",
   "metadata": {},
   "outputs": [
    {
     "name": "stdout",
     "output_type": "stream",
     "text": [
      "2022-02-28 14:34.04 [info     ] admix.Dataset: read local ancestry from /u/project/pasaniuc/pasaniucdata/admixture/projects/PAGE-QC/01-dataset/out/aframr/imputed/chr1.lanc\n",
      "2022-02-28 14:34.22 [info     ] admix.Dataset: read local ancestry from /u/project/pasaniuc/pasaniucdata/admixture/projects/PAGE-QC/01-dataset/out/aframr/imputed/chr1.lanc\n",
      "2022-02-28 14:34.38 [info     ] admix.Dataset: read local ancestry from /u/project/pasaniuc/pasaniucdata/admixture/projects/PAGE-QC/01-dataset/out/aframr/imputed/chr1.lanc\n",
      "2022-02-28 14:34.54 [info     ] admix.Dataset: read local ancestry from /u/project/pasaniuc/pasaniucdata/admixture/projects/PAGE-QC/01-dataset/out/aframr/imputed/chr1.lanc\n",
      "2022-02-28 14:35.10 [info     ] admix.Dataset: read local ancestry from /u/project/pasaniuc/pasaniucdata/admixture/projects/PAGE-QC/01-dataset/out/aframr/imputed/chr1.lanc\n",
      "2022-02-28 14:35.27 [info     ] admix.Dataset: read local ancestry from /u/project/pasaniuc/pasaniucdata/admixture/projects/PAGE-QC/01-dataset/out/aframr/imputed/chr1.lanc\n",
      "2022-02-28 14:35.43 [info     ] admix.Dataset: read local ancestry from /u/project/pasaniuc/pasaniucdata/admixture/projects/PAGE-QC/01-dataset/out/aframr/imputed/chr1.lanc\n",
      "2022-02-28 14:35.59 [info     ] admix.Dataset: read local ancestry from /u/project/pasaniuc/pasaniucdata/admixture/projects/PAGE-QC/01-dataset/out/aframr/imputed/chr1.lanc\n",
      "2022-02-28 14:36.15 [info     ] admix.Dataset: read local ancestry from /u/project/pasaniuc/pasaniucdata/admixture/projects/PAGE-QC/01-dataset/out/aframr/imputed/chr1.lanc\n",
      "2022-02-28 14:36.32 [info     ] admix.Dataset: read local ancestry from /u/project/pasaniuc/pasaniucdata/admixture/projects/PAGE-QC/01-dataset/out/aframr/imputed/chr1.lanc\n",
      "2022-02-28 14:36.47 [info     ] admix.Dataset: read local ancestry from /u/project/pasaniuc/pasaniucdata/admixture/projects/PAGE-QC/01-dataset/out/aframr/imputed/chr1.lanc\n",
      "2022-02-28 14:37.03 [info     ] admix.Dataset: read local ancestry from /u/project/pasaniuc/pasaniucdata/admixture/projects/PAGE-QC/01-dataset/out/aframr/imputed/chr1.lanc\n",
      "2022-02-28 14:37.20 [info     ] admix.Dataset: read local ancestry from /u/project/pasaniuc/pasaniucdata/admixture/projects/PAGE-QC/01-dataset/out/aframr/imputed/chr1.lanc\n",
      "2022-02-28 14:37.35 [info     ] admix.Dataset: read local ancestry from /u/project/pasaniuc/pasaniucdata/admixture/projects/PAGE-QC/01-dataset/out/aframr/imputed/chr1.lanc\n",
      "2022-02-28 14:37.50 [info     ] admix.Dataset: read local ancestry from /u/project/pasaniuc/pasaniucdata/admixture/projects/PAGE-QC/01-dataset/out/aframr/imputed/chr1.lanc\n",
      "2022-02-28 14:38.05 [info     ] admix.Dataset: read local ancestry from /u/project/pasaniuc/pasaniucdata/admixture/projects/PAGE-QC/01-dataset/out/aframr/imputed/chr1.lanc\n",
      "2022-02-28 14:38.19 [info     ] admix.Dataset: read local ancestry from /u/project/pasaniuc/pasaniucdata/admixture/projects/PAGE-QC/01-dataset/out/aframr/imputed/chr1.lanc\n",
      "2022-02-28 14:38.35 [info     ] admix.Dataset: read local ancestry from /u/project/pasaniuc/pasaniucdata/admixture/projects/PAGE-QC/01-dataset/out/aframr/imputed/chr1.lanc\n",
      "2022-02-28 14:38.50 [info     ] admix.Dataset: read local ancestry from /u/project/pasaniuc/pasaniucdata/admixture/projects/PAGE-QC/01-dataset/out/aframr/imputed/chr1.lanc\n",
      "2022-02-28 14:39.05 [info     ] admix.Dataset: read local ancestry from /u/project/pasaniuc/pasaniucdata/admixture/projects/PAGE-QC/01-dataset/out/aframr/imputed/chr1.lanc\n",
      "2022-02-28 14:39.20 [info     ] admix.Dataset: read local ancestry from /u/project/pasaniuc/pasaniucdata/admixture/projects/PAGE-QC/01-dataset/out/aframr/imputed/chr1.lanc\n",
      "2022-02-28 14:39.35 [info     ] admix.Dataset: read local ancestry from /u/project/pasaniuc/pasaniucdata/admixture/projects/PAGE-QC/01-dataset/out/aframr/imputed/chr1.lanc\n",
      "2022-02-28 14:39.51 [info     ] admix.Dataset: read local ancestry from /u/project/pasaniuc/pasaniucdata/admixture/projects/PAGE-QC/01-dataset/out/aframr/imputed/chr1.lanc\n",
      "2022-02-28 14:40.06 [info     ] admix.Dataset: read local ancestry from /u/project/pasaniuc/pasaniucdata/admixture/projects/PAGE-QC/01-dataset/out/aframr/imputed/chr1.lanc\n"
     ]
    }
   ],
   "source": [
    "# trait_list = [\"total_wbc_cnt\"]\n",
    "for trait in trait_list:\n",
    "    df_trait = (\n",
    "        pd.read_csv(os.path.join(ROOT_DIR, f\"pheno/{trait}.tsv\"), sep=\"\\t\", index_col=0)\n",
    "        .dropna(subset=[trait])\n",
    "        .rename(columns={trait: \"pheno\"})\n",
    "    )\n",
    "    df_trait.to_csv(f\"out/pheno/{trait}.tsv\", sep=\"\\t\")\n",
    "    # trait-specific treatment\n",
    "    #     if trait == \"total_wbc_cnt\":\n",
    "    # add duffy SNP if trait is total_wbc_cnt\n",
    "    dset = admix.io.read_dataset(\n",
    "        os.path.join(ROOT_DIR, \"imputed\", \"chr1\"),\n",
    "        n_anc=2,\n",
    "    )[:, df_trait.index.values]\n",
    "    # find closest SNPs\n",
    "    duffy_snp_loc = np.argmin(np.abs(dset.snp.POS - 159204893))\n",
    "    assert dset.snp.CHROM.iloc[duffy_snp_loc] == 1\n",
    "    duffy_lanc = dset[duffy_snp_loc].lanc.sum(axis=[0, 2]).compute()\n",
    "    df_trait[\"duffy_lanc\"] = duffy_lanc\n",
    "    df_trait.to_csv(f\"out/pheno/{trait}_duffy.tsv\", sep=\"\\t\")"
   ]
  }
 ],
 "metadata": {
  "kernelspec": {
   "display_name": "Python 3",
   "language": "python",
   "name": "python3"
  },
  "language_info": {
   "codemirror_mode": {
    "name": "ipython",
    "version": 3
   },
   "file_extension": ".py",
   "mimetype": "text/x-python",
   "name": "python",
   "nbconvert_exporter": "python",
   "pygments_lexer": "ipython3",
   "version": "3.8.5"
  }
 },
 "nbformat": 4,
 "nbformat_minor": 5
}
