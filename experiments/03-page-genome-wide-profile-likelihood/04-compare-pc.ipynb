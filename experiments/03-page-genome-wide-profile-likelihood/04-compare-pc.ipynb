{
 "cells": [
  {
   "cell_type": "markdown",
   "id": "7cc87f31-481f-4c4a-b1d1-f305003f625c",
   "metadata": {},
   "source": [
    "# Compare the estimate including different number of PCs"
   ]
  },
  {
   "cell_type": "code",
   "execution_count": 1,
   "id": "39259902-f6ba-4e77-bd73-363b9533ca40",
   "metadata": {},
   "outputs": [],
   "source": [
    "%load_ext lab_black\n",
    "\n",
    "import pandas as pd\n",
    "import numpy as np\n",
    "import glob\n",
    "import os\n",
    "import admix\n",
    "from scipy.interpolate import CubicSpline\n",
    "from tqdm import tqdm\n",
    "import admix_genet_cor"
   ]
  },
  {
   "cell_type": "code",
   "execution_count": 2,
   "id": "6c843c7d-4d02-426a-baf9-f73827eaf0fa",
   "metadata": {},
   "outputs": [],
   "source": [
    "trait_list = [\n",
    "    f.split(\"/\")[-1].split(\".\")[0]\n",
    "    for f in glob.glob(os.path.join(\"out/pheno\", \"*.tsv\"))\n",
    "]"
   ]
  },
  {
   "cell_type": "code",
   "execution_count": 3,
   "id": "e6bcf705-25ba-492b-9905-448e979f5d3a",
   "metadata": {},
   "outputs": [
    {
     "name": "stderr",
     "output_type": "stream",
     "text": [
      "100%|██████████| 72/72 [00:08<00:00,  8.59it/s]\n"
     ]
    }
   ],
   "source": [
    "dict_loglik = {trait: dict() for trait in trait_list}\n",
    "rho_list = np.linspace(0, 1, 21)\n",
    "xs = np.linspace(0, 1, 1001)\n",
    "\n",
    "for grm_prefix in [\"imputed.mafukb.005\"]:\n",
    "    for trait in tqdm(trait_list):\n",
    "        est_dir = f\"out/gcta-estimate/{trait}-{grm_prefix}\"\n",
    "        try:\n",
    "            loglik_list = [\n",
    "                admix.tools.gcta.read_reml(\n",
    "                    os.path.join(est_dir, f\"rho{int(rho * 100)}\")\n",
    "                )[\"loglik\"]\n",
    "                for rho in rho_list\n",
    "            ]\n",
    "            cs = CubicSpline(rho_list, loglik_list)\n",
    "            ll = cs(xs)\n",
    "            dict_loglik[trait][grm_prefix] = ll\n",
    "        except ValueError as err:\n",
    "            print(trait, err)"
   ]
  },
  {
   "cell_type": "code",
   "execution_count": 4,
   "id": "f36af6ce-00bb-40a8-aeae-496b6726f7f2",
   "metadata": {},
   "outputs": [],
   "source": [
    "trait_list = [t.split(\"-\")[0] for t in trait_list]"
   ]
  },
  {
   "cell_type": "code",
   "execution_count": 5,
   "id": "9256aba8-29a1-42c0-89f1-fe1693f62a6d",
   "metadata": {},
   "outputs": [
    {
     "name": "stdout",
     "output_type": "stream",
     "text": [
      "page1pc 0.944 (0.924, 0.963)\n",
      "page10pc 0.938 (0.918, 0.9580000000000001)\n",
      "sample10pc 0.929 (0.907, 0.9490000000000001)\n"
     ]
    }
   ],
   "source": [
    "for covar in [\"page1pc\", \"page10pc\", \"sample10pc\"]:\n",
    "    meta_ll = 0\n",
    "    for trait in trait_list:\n",
    "        meta_ll += dict_loglik[trait + \"-\" + covar][\"imputed.mafukb.005\"]\n",
    "    print(covar, meta_ll.argmax() / 1000, admix_genet_cor.hdi(xs, meta_ll))"
   ]
  }
 ],
 "metadata": {
  "kernelspec": {
   "display_name": "Python 3",
   "language": "python",
   "name": "python3"
  },
  "language_info": {
   "codemirror_mode": {
    "name": "ipython",
    "version": 3
   },
   "file_extension": ".py",
   "mimetype": "text/x-python",
   "name": "python",
   "nbconvert_exporter": "python",
   "pygments_lexer": "ipython3",
   "version": "3.8.5"
  }
 },
 "nbformat": 4,
 "nbformat_minor": 5
}
