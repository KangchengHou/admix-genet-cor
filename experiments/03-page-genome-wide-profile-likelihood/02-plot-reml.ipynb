{
 "cells": [
  {
   "cell_type": "code",
   "execution_count": 1,
   "id": "d3b0f850-b5e5-4724-91d4-222d6036e514",
   "metadata": {},
   "outputs": [],
   "source": [
    "%load_ext lab_black\n",
    "\n",
    "from scipy.interpolate import CubicSpline\n",
    "from scipy import stats\n",
    "import numpy as np\n",
    "import admix\n",
    "import pandas as pd\n",
    "import itertools\n",
    "import os\n",
    "import glob\n",
    "from tqdm import tqdm\n",
    "import admix_genet_cor\n",
    "import matplotlib.pyplot as plt"
   ]
  },
  {
   "cell_type": "code",
   "execution_count": 2,
   "id": "d3d698d7-94e2-450d-86a7-b2d3871e5325",
   "metadata": {},
   "outputs": [],
   "source": [
    "SUPP_TABLE_URL = \"https://www.dropbox.com/s/jck2mhjby2ur55j/supp_tables.xlsx?dl=1\"\n",
    "ROOT_DIR = (\n",
    "    \"/u/project/pasaniuc/pasaniucdata/admixture/projects/PAGE-QC/01-dataset/out/aframr\"\n",
    ")\n",
    "PFILE_DIR = os.path.join(ROOT_DIR, \"imputed\")\n",
    "trait_list = [\n",
    "    f.split(\"/\")[-1].split(\".\")[0]\n",
    "    for f in glob.glob(os.path.join(\"out/pheno\", \"*.tsv\"))\n",
    "]\n",
    "# trait_info = pd.read_excel(SUPP_TABLE_URL, sheet_name=\"trait-info\")\n",
    "# trait_list = trait_info[\"trait\"].values\n",
    "# # trait_list = [trait for trait in trait_list if trait not in [\"height\", \"bmi\"]]\n",
    "# dict_trait_display_name = {\n",
    "#     row[\"trait\"]: row[\"display-name\"] for _, row in trait_info.iterrows()\n",
    "# }"
   ]
  },
  {
   "cell_type": "code",
   "execution_count": 12,
   "id": "a2caa094-fcf4-499b-b0c2-9c77e82bb83c",
   "metadata": {},
   "outputs": [],
   "source": [
    "trait_list = list(\n",
    "    set(trait_list) - set([\"hypertension\", \"height\", \"bmi\", \"total_wbc_cnt\"])\n",
    ")\n",
    "trait_list = [t for t in trait_list if not \"duffy\" in t]"
   ]
  },
  {
   "cell_type": "code",
   "execution_count": 13,
   "id": "3282602d-a373-4875-8bac-e24bdc8b12d6",
   "metadata": {},
   "outputs": [],
   "source": [
    "df_params = pd.DataFrame(\n",
    "    [\n",
    "        params\n",
    "        for params in itertools.product(\n",
    "            [\"hm3\", \"imputed\"],\n",
    "            [\"mafukb\", \"gcta\"],\n",
    "            [0.005, 0.05],\n",
    "        )\n",
    "    ],\n",
    "    columns=[\n",
    "        \"snpset\",\n",
    "        \"hermodel\",\n",
    "        \"maf\",\n",
    "    ],\n",
    ")\n",
    "\n",
    "df_params[\"grm_prefix\"] = df_params.apply(\n",
    "    lambda p: f\"{p.snpset}.{p.hermodel}.{str(p.maf)[2:]}\",\n",
    "    axis=1,\n",
    ")\n",
    "df_params = pd.DataFrame(\n",
    "    [params for params in itertools.product(df_params.grm_prefix, trait_list)],\n",
    "    columns=[\"grm_prefix\", \"trait\"],\n",
    ")"
   ]
  },
  {
   "cell_type": "code",
   "execution_count": 17,
   "id": "5a8e0384-ca7a-4848-91b7-71125f192dc3",
   "metadata": {},
   "outputs": [
    {
     "name": "stderr",
     "output_type": "stream",
     "text": [
      "100%|██████████| 160/160 [00:03<00:00, 47.20it/s]\n"
     ]
    }
   ],
   "source": [
    "dict_loglik = {trait: dict() for trait in trait_list}\n",
    "rho_list = np.linspace(0, 1, 21)\n",
    "xs = np.linspace(0, 1, 1001)\n",
    "\n",
    "for i, param in tqdm(df_params.iterrows(), total=len(df_params)):\n",
    "    if param.trait != \"mean_corp_hgb_conc\":\n",
    "        continue\n",
    "        \n",
    "    est_dir = f\"out-newPC/gcta-estimate/{param.trait}-{param.grm_prefix}\"\n",
    "    loglik_list = [\n",
    "        admix.tools.gcta.read_reml(os.path.join(est_dir, f\"rho{int(rho * 100)}\"))[\n",
    "            \"loglik\"\n",
    "        ]\n",
    "        for rho in rho_list\n",
    "    ]\n",
    "    cs = CubicSpline(rho_list, loglik_list)\n",
    "    ll = cs(xs)\n",
    "    dict_loglik[param.trait][param.grm_prefix] = ll"
   ]
  },
  {
   "cell_type": "code",
   "execution_count": 39,
   "id": "4fffe634-f38b-4592-a25a-8c30b82bfa4c",
   "metadata": {},
   "outputs": [
    {
     "data": {
      "text/plain": [
       "[<matplotlib.lines.Line2D at 0x2aec0b122c70>]"
      ]
     },
     "execution_count": 39,
     "metadata": {},
     "output_type": "execute_result"
    },
    {
     "data": {
      "image/png": "[encoded data removed]",
      "text/plain": [
       "<Figure size 432x288 with 1 Axes>"
      ]
     },
     "metadata": {
      "needs_background": "light"
     },
     "output_type": "display_data"
    }
   ],
   "source": [
    "plt.plot(dict_loglik[\"mean_corp_hgb_conc\"][\"hm3.mafukb.005\"])"
   ]
  },
  {
   "cell_type": "code",
   "execution_count": 34,
   "id": "5b3d9a0a-df67-4ec0-9105-9ed5520f95c5",
   "metadata": {},
   "outputs": [],
   "source": [
    "est_dir = f\"out/gcta-estimate/mean_corp_hgb_conc-hm3.mafukb.005\"\n",
    "loglik_list = [\n",
    "    admix.tools.gcta.read_reml(os.path.join(est_dir, f\"rho{int(rho * 100)}\"))[\"loglik\"]\n",
    "    for rho in rho_list\n",
    "]\n",
    "cs = CubicSpline(rho_list, loglik_list)\n",
    "ll = cs(xs)"
   ]
  },
  {
   "cell_type": "code",
   "execution_count": 35,
   "id": "6fa1f175-2831-48da-a42d-37b9125f6960",
   "metadata": {},
   "outputs": [
    {
     "data": {
      "text/plain": [
       "(0.023, 0.9500000000000001)"
      ]
     },
     "execution_count": 35,
     "metadata": {},
     "output_type": "execute_result"
    }
   ],
   "source": [
    "admix_genet_cor.hdi(xs, dict_loglik[\"mean_corp_hgb_conc\"][\"hm3.mafukb.005\"])"
   ]
  },
  {
   "cell_type": "code",
   "execution_count": 68,
   "id": "9b6b2131-4cce-44a1-a977-78c99d5640e8",
   "metadata": {},
   "outputs": [
    {
     "name": "stdout",
     "output_type": "stream",
     "text": [
      "hm3.mafukb.005 0.928 (0.872, 0.972)\n",
      "hm3.mafukb.05 0.902 (0.839, 0.9500000000000001)\n",
      "hm3.gcta.005 0.939 (0.89, 0.978)\n",
      "hm3.gcta.05 0.909 (0.85, 0.9540000000000001)\n",
      "imputed.mafukb.005 0.881 (0.801, 0.9420000000000001)\n",
      "imputed.mafukb.05 0.824 (0.729, 0.896)\n",
      "imputed.gcta.005 0.892 (0.8190000000000001, 0.9470000000000001)\n",
      "imputed.gcta.05 0.833 (0.743, 0.901)\n"
     ]
    }
   ],
   "source": [
    "for grm_prefix in df_params.grm_prefix.unique():\n",
    "    meta_ll = 0\n",
    "    for trait in trait_list:\n",
    "        meta_ll += dict_loglik[trait][grm_prefix]\n",
    "    print(grm_prefix, meta_ll.argmax() / 1000, admix_genet_cor.hdi(xs, meta_ll))"
   ]
  },
  {
   "cell_type": "code",
   "execution_count": 15,
   "id": "88644a6f-d5c1-4abd-8dd5-3b371a292330",
   "metadata": {},
   "outputs": [
    {
     "name": "stderr",
     "output_type": "stream",
     "text": [
      "100%|██████████| 160/160 [00:00<00:00, 860.09it/s]\n"
     ]
    }
   ],
   "source": [
    "df_plot = {\"trait\": [], \"grm_prefix\": [], \"mode\": [], \"lower\": [], \"upper\": []}\n",
    "\n",
    "for i, param in tqdm(df_params.iterrows(), total=len(df_params)):\n",
    "    trait, grm_prefix = param.trait, param.grm_prefix\n",
    "    mode = dict_loglik[trait][grm_prefix].argmax() / 1000\n",
    "    interval = admix_genet_cor.hdi(xs, dict_loglik[trait][grm_prefix])\n",
    "    if isinstance(interval, list):\n",
    "        print(f\"skipping {trait}, {grm_prefix}, which has more than 1 interval\")\n",
    "        continue\n",
    "    df_plot[\"trait\"].append(trait)\n",
    "    df_plot[\"grm_prefix\"].append(grm_prefix)\n",
    "    df_plot[\"mode\"].append(mode)\n",
    "    df_plot[\"lower\"].append(interval[0])\n",
    "    df_plot[\"upper\"].append(interval[1])\n",
    "df_plot = pd.DataFrame(df_plot)\n",
    "df_plot[\"length\"] = df_plot[\"upper\"] - df_plot[\"lower\"]"
   ]
  },
  {
   "cell_type": "code",
   "execution_count": 16,
   "id": "1e05490e-bad9-4277-b538-f31567333b96",
   "metadata": {},
   "outputs": [],
   "source": [
    "df_plot_old = pd.read_csv(\"results/all-duffy-covar.tsv\", sep=\"\\t\")"
   ]
  },
  {
   "cell_type": "code",
   "execution_count": 17,
   "id": "1d59e36a-7e99-4d6e-849b-c256b00c43f8",
   "metadata": {},
   "outputs": [],
   "source": [
    "df_plot_old2 = pd.read_csv(\"../03-page-genome-wide/results/all-estimates.tsv\", sep=\"\\t\")"
   ]
  },
  {
   "cell_type": "code",
   "execution_count": 57,
   "id": "d9751eaa-1e64-4671-9798-f30aa817edef",
   "metadata": {},
   "outputs": [],
   "source": [
    "df_tmp = df_plot_old2[\n",
    "    (df_plot_old2.hermodel == \"mafukb\")\n",
    "    & (df_plot_old2.trait.isin(trait_list))\n",
    "    & (df_plot_old2.duffy_covar == True)\n",
    "].set_index(\"trait\")"
   ]
  },
  {
   "cell_type": "code",
   "execution_count": 58,
   "id": "5b453a01-ca0f-4630-ac54-3dca98b5cf10",
   "metadata": {},
   "outputs": [],
   "source": [
    "df_tmp2 = df_plot_old[df_plot_old.grm_prefix == \"imputed.mafukb.005\"].set_index(\"trait\")"
   ]
  },
  {
   "cell_type": "code",
   "execution_count": 60,
   "id": "41271ad0-4709-4f29-8e65-53d47d7b8459",
   "metadata": {},
   "outputs": [
    {
     "data": {
      "text/plain": [
       "<matplotlib.collections.PathCollection at 0x2ab0d7b17640>"
      ]
     },
     "execution_count": 60,
     "metadata": {},
     "output_type": "execute_result"
    },
    {
     "data": {
      "image/png": "[encoded data removed]",
      "text/plain": [
       "<Figure size 432x288 with 1 Axes>"
      ]
     },
     "metadata": {
      "needs_background": "light"
     },
     "output_type": "display_data"
    }
   ],
   "source": [
    "plt.scatter(df_tmp.rg, df_tmp2[\"mode\"].reindex(df_tmp.index))"
   ]
  },
  {
   "cell_type": "code",
   "execution_count": 63,
   "id": "3af0ce84-35a3-41a4-a3f7-07341cacef27",
   "metadata": {},
   "outputs": [],
   "source": [
    "df_merged = pd.merge(df_plot, df_plot_old, on=[\"trait\", \"grm_prefix\"])\n",
    "df_merged = df_merged[df_merged.grm_prefix == \"imputed.mafukb.005\"]"
   ]
  },
  {
   "cell_type": "code",
   "execution_count": 66,
   "id": "549323e8-bc26-4219-a3b9-e0849cc7a595",
   "metadata": {},
   "outputs": [
    {
     "data": {
      "text/plain": [
       "[<matplotlib.lines.Line2D at 0x2b499c529e50>]"
      ]
     },
     "execution_count": 66,
     "metadata": {},
     "output_type": "execute_result"
    },
    {
     "data": {
      "image/png": "[encoded data removed]",
      "text/plain": [
       "<Figure size 432x288 with 1 Axes>"
      ]
     },
     "metadata": {
      "needs_background": "light"
     },
     "output_type": "display_data"
    }
   ],
   "source": [
    "plt.scatter(df_merged[\"mode_x\"], df_merged[\"mode_y\"])\n",
    "plt.plot([0.75, 1.0], [0.75, 1.0], ls=\"--\", color=\"k\")"
   ]
  }
 ],
 "metadata": {
  "kernelspec": {
   "display_name": "Python 3",
   "language": "python",
   "name": "python3"
  },
  "language_info": {
   "codemirror_mode": {
    "name": "ipython",
    "version": 3
   },
   "file_extension": ".py",
   "mimetype": "text/x-python",
   "name": "python",
   "nbconvert_exporter": "python",
   "pygments_lexer": "ipython3",
   "version": "3.8.5"
  }
 },
 "nbformat": 4,
 "nbformat_minor": 5
}
