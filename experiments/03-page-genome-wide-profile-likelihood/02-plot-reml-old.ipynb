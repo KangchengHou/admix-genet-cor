{
 "cells": [
  {
   "cell_type": "code",
   "execution_count": 1,
   "id": "d3b0f850-b5e5-4724-91d4-222d6036e514",
   "metadata": {},
   "outputs": [],
   "source": [
    "%load_ext lab_black\n",
    "\n",
    "from scipy.interpolate import CubicSpline\n",
    "from scipy import stats\n",
    "import numpy as np\n",
    "import admix\n",
    "import pandas as pd\n",
    "import itertools\n",
    "import os\n",
    "import glob\n",
    "from tqdm import tqdm\n",
    "import admix_genet_cor"
   ]
  },
  {
   "cell_type": "code",
   "execution_count": 2,
   "id": "d3d698d7-94e2-450d-86a7-b2d3871e5325",
   "metadata": {},
   "outputs": [],
   "source": [
    "SUPP_TABLE_URL = \"https://www.dropbox.com/s/jck2mhjby2ur55j/supp_tables.xlsx?dl=1\"\n",
    "ROOT_DIR = (\n",
    "    \"/u/project/pasaniuc/pasaniucdata/admixture/projects/PAGE-QC/01-dataset/out/aframr\"\n",
    ")\n",
    "PFILE_DIR = os.path.join(ROOT_DIR, \"imputed\")\n",
    "trait_list = [\n",
    "    f.split(\"/\")[-1].split(\".\")[0]\n",
    "    for f in glob.glob(os.path.join(\"out/pheno\", \"*.tsv\"))\n",
    "]"
   ]
  },
  {
   "cell_type": "code",
   "execution_count": 3,
   "id": "a2caa094-fcf4-499b-b0c2-9c77e82bb83c",
   "metadata": {},
   "outputs": [],
   "source": [
    "trait_list = list(set(trait_list) - set([\"total_wbc_cnt_duffy\"]))"
   ]
  },
  {
   "cell_type": "code",
   "execution_count": 4,
   "id": "3282602d-a373-4875-8bac-e24bdc8b12d6",
   "metadata": {},
   "outputs": [],
   "source": [
    "df_params = pd.DataFrame(\n",
    "    [\n",
    "        params\n",
    "        for params in itertools.product(\n",
    "            [\"hm3\", \"imputed\"],\n",
    "            [\"mafukb\", \"gcta\"],\n",
    "            [0.005, 0.05],\n",
    "        )\n",
    "    ],\n",
    "    columns=[\n",
    "        \"snpset\",\n",
    "        \"hermodel\",\n",
    "        \"maf\",\n",
    "    ],\n",
    ")\n",
    "\n",
    "df_params[\"grm_prefix\"] = df_params.apply(\n",
    "    lambda p: f\"{p.snpset}.{p.hermodel}.{str(p.maf)[2:]}\",\n",
    "    axis=1,\n",
    ")\n",
    "df_params = pd.DataFrame(\n",
    "    [params for params in itertools.product(df_params.grm_prefix, trait_list)],\n",
    "    columns=[\"grm_prefix\", \"trait\"],\n",
    ")"
   ]
  },
  {
   "cell_type": "code",
   "execution_count": 6,
   "id": "5a8e0384-ca7a-4848-91b7-71125f192dc3",
   "metadata": {},
   "outputs": [
    {
     "name": "stderr",
     "output_type": "stream",
     "text": [
      "100%|██████████| 192/192 [00:20<00:00,  9.30it/s]\n"
     ]
    }
   ],
   "source": [
    "dict_loglik = {trait: dict() for trait in trait_list}\n",
    "rho_list = np.linspace(0, 1, 21)\n",
    "xs = np.linspace(0, 1, 1001)\n",
    "\n",
    "for i, param in tqdm(df_params.iterrows(), total=len(df_params)):\n",
    "    est_dir = f\"out/OLD-gcta-estimate-all-duffy-covar/{param.trait}-{param.grm_prefix}\"\n",
    "    loglik_list = [\n",
    "        admix.tools.gcta.read_reml(os.path.join(est_dir, f\"rho{int(rho * 100)}\"))[\n",
    "            \"loglik\"\n",
    "        ]\n",
    "        for rho in rho_list\n",
    "    ]\n",
    "    cs = CubicSpline(rho_list, loglik_list)\n",
    "    ll = cs(xs)\n",
    "    dict_loglik[param.trait][param.grm_prefix] = ll"
   ]
  },
  {
   "cell_type": "code",
   "execution_count": 8,
   "id": "9b6b2131-4cce-44a1-a977-78c99d5640e8",
   "metadata": {},
   "outputs": [
    {
     "name": "stdout",
     "output_type": "stream",
     "text": [
      "hm3.mafukb.005 0.962 (0.933, 0.988)\n",
      "hm3.mafukb.05 0.938 (0.906, 0.966)\n",
      "hm3.gcta.005 0.97 (0.9450000000000001, 0.994)\n",
      "hm3.gcta.05 0.941 (0.911, 0.967)\n",
      "imputed.mafukb.005 0.938 (0.9, 0.972)\n",
      "imputed.mafukb.05 0.894 (0.849, 0.932)\n",
      "imputed.gcta.005 0.941 (0.906, 0.972)\n",
      "imputed.gcta.05 0.897 (0.854, 0.934)\n"
     ]
    }
   ],
   "source": [
    "for grm_prefix in df_params.grm_prefix.unique():\n",
    "    meta_ll = 0\n",
    "    for trait in trait_list:\n",
    "        meta_ll += dict_loglik[trait][grm_prefix]\n",
    "    print(grm_prefix, meta_ll.argmax() / 1000, admix_genet_cor.hdi(xs, meta_ll))"
   ]
  },
  {
   "cell_type": "code",
   "execution_count": 9,
   "id": "bbf59ce3-64d8-45a0-9168-3f36239cfc74",
   "metadata": {},
   "outputs": [
    {
     "name": "stderr",
     "output_type": "stream",
     "text": [
      "100%|██████████| 192/192 [00:00<00:00, 979.93it/s]\n"
     ]
    },
    {
     "name": "stdout",
     "output_type": "stream",
     "text": [
      "skipping a1c, hm3.gcta.005, which has more than 1 interval\n"
     ]
    }
   ],
   "source": [
    "df_plot = {\"trait\": [], \"grm_prefix\": [], \"mode\": [], \"lower\": [], \"upper\": []}\n",
    "\n",
    "for i, param in tqdm(df_params.iterrows(), total=len(df_params)):\n",
    "    trait, grm_prefix = param.trait, param.grm_prefix\n",
    "    mode = dict_loglik[trait][grm_prefix].argmax() / 1000\n",
    "    interval = admix_genet_cor.hdi(xs, dict_loglik[trait][grm_prefix])\n",
    "    if isinstance(interval, list):\n",
    "        print(f\"skipping {trait}, {grm_prefix}, which has more than 1 interval\")\n",
    "        continue\n",
    "    df_plot[\"trait\"].append(trait)\n",
    "    df_plot[\"grm_prefix\"].append(grm_prefix)\n",
    "    df_plot[\"mode\"].append(mode)\n",
    "    df_plot[\"lower\"].append(interval[0])\n",
    "    df_plot[\"upper\"].append(interval[1])\n",
    "df_plot = pd.DataFrame(df_plot)\n",
    "df_plot[\"length\"] = df_plot[\"upper\"] - df_plot[\"lower\"]\n",
    "\n",
    "# fig, ax = plt.subplots(figsize=(3.5, 7), dpi=150)\n",
    "# ax.errorbar(\n",
    "#     x=df_plot[\"mode\"],\n",
    "#     y=np.arange(len(df_plot)),\n",
    "#     xerr=(df_plot[\"mode\"] - df_plot[\"lower\"], df_plot[\"upper\"] - df_plot[\"mode\"]),\n",
    "#     fmt=\".\",\n",
    "# )\n",
    "# ax.axvline(x=1.0, color=\"red\", alpha=0.5)\n",
    "# ax.set_yticks(np.arange(len(df_plot)))\n",
    "# ax.set_yticklabels(\n",
    "#     [dict_trait_display_name[trait] for trait in df_plot[\"trait\"]], fontsize=9\n",
    "# )\n",
    "# ax.set_ylim(-1, len(df_plot))\n",
    "# plt.tight_layout()\n",
    "# # plt.savefig(\"results/genome-wide.pdf\", bbox_inches=\"tight\")\n",
    "# plt.show()"
   ]
  },
  {
   "cell_type": "code",
   "execution_count": 10,
   "id": "9b91094a-edc9-4a5e-b938-bd14297127bb",
   "metadata": {},
   "outputs": [],
   "source": [
    "df_plot.to_csv(\"results/all-duffy-covar.tsv\", index=False, sep=\"\\t\")"
   ]
  },
  {
   "cell_type": "code",
   "execution_count": null,
   "id": "fa6da27f-1aea-461e-8bf0-be547c4cc1d2",
   "metadata": {},
   "outputs": [],
   "source": []
  }
 ],
 "metadata": {
  "kernelspec": {
   "display_name": "Python 3",
   "language": "python",
   "name": "python3"
  },
  "language_info": {
   "codemirror_mode": {
    "name": "ipython",
    "version": 3
   },
   "file_extension": ".py",
   "mimetype": "text/x-python",
   "name": "python",
   "nbconvert_exporter": "python",
   "pygments_lexer": "ipython3",
   "version": "3.8.5"
  }
 },
 "nbformat": 4,
 "nbformat_minor": 5
}
