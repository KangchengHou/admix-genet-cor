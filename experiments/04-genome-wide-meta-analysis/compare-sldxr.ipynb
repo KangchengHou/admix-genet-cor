{
 "cells": [
  {
   "cell_type": "code",
   "execution_count": 1,
   "id": "26cb32b5-1a61-4106-b168-4f51f19c2658",
   "metadata": {},
   "outputs": [],
   "source": [
    "%load_ext lab_black\n",
    "\n",
    "import numpy as np\n",
    "import pandas as pd\n",
    "\n",
    "import numpy as np\n",
    "import pandas as pd\n",
    "import admix_genet_cor\n",
    "import itertools\n",
    "import admix\n",
    "from tqdm import tqdm\n",
    "import os\n",
    "from scipy.interpolate import CubicSpline\n",
    "import matplotlib.pyplot as plt\n",
    "import glob\n",
    "import string\n",
    "from scipy import stats\n",
    "import matplotlib\n",
    "\n",
    "from utils import read_estimate\n",
    "\n",
    "matplotlib.rcParams[\"font.family\"] = [\"Liberation Sans\"]"
   ]
  },
  {
   "cell_type": "code",
   "execution_count": 2,
   "id": "be7cb019-e3a0-4c90-ab09-083efd7ebf7a",
   "metadata": {},
   "outputs": [],
   "source": [
    "def meta_analysis(effects, se, method=\"random\", weights=None):\n",
    "    # From Omer Weissbrod\n",
    "    assert method in [\"fixed\", \"random\"]\n",
    "    d = effects\n",
    "    variances = se ** 2\n",
    "\n",
    "    # compute random-effects variance tau2\n",
    "    vwts = 1.0 / variances\n",
    "    fixedsumm = vwts.dot(d) / vwts.sum()\n",
    "    Q = np.sum(((d - fixedsumm) ** 2) / variances)\n",
    "    df = len(d) - 1\n",
    "    tau2 = np.maximum(0, (Q - df) / (vwts.sum() - vwts.dot(vwts) / vwts.sum()))\n",
    "\n",
    "    # defing weights\n",
    "    if weights is None:\n",
    "        if method == \"fixed\":\n",
    "            wt = 1.0 / variances\n",
    "        else:\n",
    "            wt = 1.0 / (variances + tau2)\n",
    "    else:\n",
    "        wt = weights\n",
    "\n",
    "    # compute summtest\n",
    "    summ = wt.dot(d) / wt.sum()\n",
    "    if method == \"fixed\":\n",
    "        varsum = np.sum(wt * wt * variances) / (np.sum(wt) ** 2)\n",
    "    else:\n",
    "        varsum = np.sum(wt * wt * (variances + tau2)) / (np.sum(wt) ** 2)\n",
    "    ###summtest = summ / np.sqrt(varsum)\n",
    "\n",
    "    summary = summ\n",
    "    se_summary = np.sqrt(varsum)\n",
    "\n",
    "    return summary, se_summary"
   ]
  },
  {
   "cell_type": "code",
   "execution_count": 3,
   "id": "adecce17-555a-4ebb-abab-584155da7bf3",
   "metadata": {},
   "outputs": [],
   "source": [
    "# SUPP_TABLE_URL = \"https://www.dropbox.com/s/jck2mhjby2ur55j/supp-tables.xlsx?dl=1\"\n",
    "SUPP_TABLE_URL = \"supp-tables.xlsx\"\n",
    "snpset = \"imputed.mafukb.005\"\n",
    "\n",
    "# UKB\n",
    "df_trait_info = pd.read_excel(SUPP_TABLE_URL, sheet_name=\"ukb-trait-info\")\n",
    "ukb_trait_list = df_trait_info[df_trait_info[\"in-analysis\"] == \"T\"].id.values\n",
    "ukb_name_dict = (\n",
    "    df_trait_info[[\"id\", \"display-name\"]].set_index(\"id\")[\"display-name\"].to_dict()\n",
    ")\n",
    "\n",
    "# PAGE\n",
    "df_trait_info = pd.read_excel(SUPP_TABLE_URL, sheet_name=\"page-trait-info\")\n",
    "page_trait_list = df_trait_info.trait.values\n",
    "page_name_dict = (\n",
    "    df_trait_info[[\"trait\", \"display-name\"]]\n",
    "    .set_index(\"trait\")[\"display-name\"]\n",
    "    .to_dict()\n",
    ")"
   ]
  },
  {
   "cell_type": "code",
   "execution_count": 4,
   "id": "2c49e6c0-d88d-456a-8e15-22c719b878c4",
   "metadata": {},
   "outputs": [],
   "source": [
    "df_sldxr = pd.read_excel(\"supp-tables.xlsx\", sheet_name=\"shi-sldxr-estimate\")"
   ]
  },
  {
   "cell_type": "code",
   "execution_count": 5,
   "id": "8ae569d5-6c44-41c2-b261-5b993ab6e708",
   "metadata": {},
   "outputs": [],
   "source": [
    "df_sldxr[\"rg_mean\"] = [float(row.split(\" \")[0]) for row in df_sldxr[\"rg\"]]\n",
    "df_sldxr[\"rg_se\"] = [\n",
    "    float(row.split(\" \")[1].lstrip(\"(\").rstrip(\")\")) for row in df_sldxr[\"rg\"]\n",
    "]"
   ]
  },
  {
   "cell_type": "code",
   "execution_count": 6,
   "id": "86a2c94e-e257-4adc-8588-a4674228673e",
   "metadata": {},
   "outputs": [],
   "source": [
    "dict_trait_map = {\n",
    "    \"Body Mass Index (BMI)\": [(\"page\", \"bmi\"), (\"ukb\", \"log_BMI\")],\n",
    "    \"Diastolic Blood Pressure (DBP)\": [\n",
    "        (\"page\", \"diastolic_bp\"),\n",
    "        (\"ukb\", \"diastolic_BP\"),\n",
    "    ],\n",
    "    \"Estimated Glomerular Filtration Rate (EGFR)\": [(\"page\", \"egfrckdepi\")],\n",
    "    \"Hemoglobin A1c (HBA1C)\": [(\"page\", \"a1c\"), (\"ukb\", \"log_HbA1c\")],\n",
    "    \"High Density Lipoprotein (HDL)\": [(\"page\", \"hdl\"), (\"ukb\", \"log_HDL\")],\n",
    "    \"Height (HEIGHT)\": [(\"page\", \"height\"), (\"ukb\", \"height\")],\n",
    "    \"Low Density Lipoprotein (LDL)\": [(\"page\", \"hdl\"), (\"ukb\", \"LDL\")],\n",
    "    \"Lymphocyte Count (LYMPH)\": [(\"ukb\", \"log_lymphocyte\")],\n",
    "    \"Mean Corpuscular Hemoglobin (MCH)\": [(\"ukb\", \"MCH\")],\n",
    "    \"Monocyte Count (MONO)\": [(\"ukb\", \"log_monocyte\")],\n",
    "    \"Platelet Count (PLT)\": [(\"page\", \"platelet_cnt\"), (\"ukb\", \"log_platelet\")],\n",
    "    \"Red Blood Cell Count (RBC)\": [(\"ukb\", \"erythrocyte\")],\n",
    "    \"Systolic Blood Pressure (SBP)\": [(\"page\", \"systolic_bp\"), (\"ukb\", \"systolic_BP\")],\n",
    "    \"*Type 2 Diabetes (T2D)\": [(\"page\", \"t2d_status\"), (\"ukb\", \"250.2\")],\n",
    "    \"Total Cholesterol (TC)\": [(\"page\", \"total_cholesterol\"), (\"ukb\", \"cholesterol\")],\n",
    "    \"Triglyceride (TG)\": [(\"page\", \"triglycerides\"), (\"ukb\", \"log_triglycerides\")],\n",
    "    \"White Blood Cell Count (WBC)\": [\n",
    "        (\"page\", \"total_wbc_cnt\"),\n",
    "        (\"ukb\", \"log_leukocyte\"),\n",
    "    ],\n",
    "}"
   ]
  },
  {
   "cell_type": "code",
   "execution_count": 21,
   "id": "25ad725b-e95b-49d2-9de6-70ebf99d0696",
   "metadata": {},
   "outputs": [
    {
     "name": "stdout",
     "output_type": "stream",
     "text": [
      "17\n"
     ]
    }
   ],
   "source": [
    "print(len(dict_trait_map))"
   ]
  },
  {
   "cell_type": "code",
   "execution_count": 20,
   "id": "3d78d48c-232b-44b0-a363-7b0886b77f36",
   "metadata": {},
   "outputs": [
    {
     "name": "stdout",
     "output_type": "stream",
     "text": [
      "Body Mass Index, Diastolic Blood Pressure, Estimated Glomerular Filtration Rate, Hemoglobin A1c, High Density Lipoprotein, Height, Low Density Lipoprotein, Lymphocyte Count, Mean Corpuscular Hemoglobin, Monocyte Count, Platelet Count, Red Blood Cell Count, Systolic Blood Pressure, *Type 2 Diabetes, Total Cholesterol, Triglyceride, White Blood Cell Count\n"
     ]
    }
   ],
   "source": [
    "print(\", \".join([t.split(\"(\")[0].strip() for t in dict_trait_map.keys()]))"
   ]
  },
  {
   "cell_type": "code",
   "execution_count": 7,
   "id": "8a8d51e8-ab55-4172-a540-ee097e05f941",
   "metadata": {},
   "outputs": [],
   "source": [
    "dict_loglik, dict_nindiv = read_estimate(\n",
    "    \"imputed.mafukb.005\", ukb_trait_list=ukb_trait_list, page_trait_list=page_trait_list\n",
    ")"
   ]
  },
  {
   "cell_type": "code",
   "execution_count": 8,
   "id": "4a9d8b40-fb40-4c9e-819d-1c79e1ba23f5",
   "metadata": {},
   "outputs": [],
   "source": [
    "df_sldxr_common = df_sldxr[df_sldxr.iloc[:, 0].isin(dict_trait_map)]\n",
    "dict_loglik_common = dict()\n",
    "for name in df_sldxr_common.iloc[:, 0]:\n",
    "    dict_loglik_common[name] = 0\n",
    "    for study, trait in dict_trait_map[name]:\n",
    "        dict_loglik_common[name] += dict_loglik[study, trait]"
   ]
  },
  {
   "cell_type": "code",
   "execution_count": 9,
   "id": "c77a6062-2700-4fd3-9544-9a21c768d5b3",
   "metadata": {},
   "outputs": [
    {
     "name": "stdout",
     "output_type": "stream",
     "text": [
      "0.91 [0.86, 0.95]\n"
     ]
    }
   ],
   "source": [
    "xs = np.linspace(0, 1, 1001)\n",
    "meta_ll = 0\n",
    "for trait in dict_loglik_common:\n",
    "    loglik = dict_loglik_common[trait]\n",
    "    meta_ll += loglik\n",
    "interval = admix_genet_cor.hdi(xs, meta_ll)\n",
    "print(f\"{meta_ll.argmax() / 1000:.2g} [{interval[0]:.2g}, {interval[1]:.2g}]\")"
   ]
  },
  {
   "cell_type": "code",
   "execution_count": 10,
   "id": "51da8a58-21f3-4566-ba31-77e032b59cec",
   "metadata": {},
   "outputs": [
    {
     "name": "stdout",
     "output_type": "stream",
     "text": [
      "17 common traits:\n",
      "0.87 [0.85, 0.89]\n",
      "31 all S-LDXR traits:\n",
      "0.86 [0.84, 0.87]\n"
     ]
    }
   ],
   "source": [
    "method = \"fixed\"\n",
    "\n",
    "print(f\"{len(dict_trait_map)} common traits:\")\n",
    "meta_mean, meta_se = meta_analysis(\n",
    "    df_sldxr_common[\"rg_mean\"], df_sldxr_common[\"rg_se\"], method=method\n",
    ")\n",
    "print(\n",
    "    f\"{meta_mean:.2g} [{meta_mean - meta_se * 1.96:.2g}, {meta_mean + meta_se * 1.96:.2g}]\"\n",
    ")\n",
    "print(f\"{len(df_sldxr)} all S-LDXR traits:\")\n",
    "meta_mean, meta_se = meta_analysis(\n",
    "    df_sldxr[\"rg_mean\"], df_sldxr[\"rg_se\"], method=method\n",
    ")\n",
    "print(\n",
    "    f\"{meta_mean:.2g} [{meta_mean - meta_se * 1.96:.2g}, {meta_mean + meta_se * 1.96:.2g}]\"\n",
    ")"
   ]
  }
 ],
 "metadata": {
  "kernelspec": {
   "display_name": "Python 3",
   "language": "python",
   "name": "python3"
  },
  "language_info": {
   "codemirror_mode": {
    "name": "ipython",
    "version": 3
   },
   "file_extension": ".py",
   "mimetype": "text/x-python",
   "name": "python",
   "nbconvert_exporter": "python",
   "pygments_lexer": "ipython3",
   "version": "3.8.5"
  }
 },
 "nbformat": 4,
 "nbformat_minor": 5
}
