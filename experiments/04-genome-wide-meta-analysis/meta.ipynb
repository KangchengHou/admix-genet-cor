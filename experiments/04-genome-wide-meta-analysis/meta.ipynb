{
 "cells": [
  {
   "cell_type": "code",
   "execution_count": 62,
   "id": "a426d9a6-3bc6-4166-b66f-b198c8c34fde",
   "metadata": {},
   "outputs": [
    {
     "name": "stdout",
     "output_type": "stream",
     "text": [
      "The lab_black extension is already loaded. To reload it, use:\n",
      "  %reload_ext lab_black\n"
     ]
    }
   ],
   "source": [
    "%load_ext lab_black\n",
    "\n",
    "import numpy as np\n",
    "import pandas as pd\n",
    "\n",
    "import numpy as np\n",
    "import pandas as pd\n",
    "import admix_genet_cor\n",
    "import itertools\n",
    "import admix\n",
    "from tqdm import tqdm\n",
    "import os\n",
    "from scipy.interpolate import CubicSpline\n",
    "import matplotlib.pyplot as plt\n",
    "import glob\n",
    "import string\n",
    "from scipy import stats\n",
    "import matplotlib\n",
    "from typing import Union, List, Tuple\n",
    "from utils import read_estimate\n",
    "\n",
    "matplotlib.rcParams[\"font.family\"] = [\"Liberation Sans\"]"
   ]
  },
  {
   "cell_type": "code",
   "execution_count": 2,
   "id": "876a137d-9146-47d1-b3ee-42f2d049ecfb",
   "metadata": {},
   "outputs": [],
   "source": [
    "# SUPP_TABLE_URL = \"https://www.dropbox.com/s/jck2mhjby2ur55j/supp-tables.xlsx?dl=1\"\n",
    "SUPP_TABLE_URL = \"supp-tables.xlsx\"\n",
    "snpset = \"imputed.mafukb.005\""
   ]
  },
  {
   "cell_type": "code",
   "execution_count": 4,
   "id": "745067cc-321c-4f6c-bbdb-64fadf51c131",
   "metadata": {},
   "outputs": [],
   "source": [
    "# UKB\n",
    "df_trait_info = pd.read_excel(SUPP_TABLE_URL, sheet_name=\"ukb-trait-info\")\n",
    "ukb_trait_list = df_trait_info[df_trait_info[\"in-analysis\"] == \"T\"].id.values\n",
    "ukb_name_dict = (\n",
    "    df_trait_info[[\"id\", \"display-name\"]].set_index(\"id\")[\"display-name\"].to_dict()\n",
    ")\n",
    "\n",
    "# PAGE\n",
    "df_trait_info = pd.read_excel(SUPP_TABLE_URL, sheet_name=\"page-trait-info\")\n",
    "page_trait_list = df_trait_info.trait.values\n",
    "page_name_dict = (\n",
    "    df_trait_info[[\"trait\", \"display-name\"]]\n",
    "    .set_index(\"trait\")[\"display-name\"]\n",
    "    .to_dict()\n",
    ")"
   ]
  },
  {
   "cell_type": "code",
   "execution_count": 5,
   "id": "3020d72d-308a-490c-b3c5-f50bfb8b91d7",
   "metadata": {},
   "outputs": [],
   "source": [
    "dict_loglik, dict_nindiv = read_estimate(\n",
    "    \"imputed.mafukb.005\", ukb_trait_list=ukb_trait_list, page_trait_list=page_trait_list\n",
    ")"
   ]
  },
  {
   "cell_type": "code",
   "execution_count": 6,
   "id": "c69b7d8c-0809-4cd3-ab69-29069243865f",
   "metadata": {},
   "outputs": [
    {
     "name": "stdout",
     "output_type": "stream",
     "text": [
      "ukb: 0.981 [0.91, 1]\n",
      "page: 0.902 [0.85, 0.94]\n",
      "overall: 0.921 [0.88, 0.95]\n"
     ]
    }
   ],
   "source": [
    "xs = np.linspace(0, 1, 1001)\n",
    "for study in [\"ukb\", \"page\", \"overall\"]:\n",
    "    meta_ll = 0\n",
    "    for trait in dict_loglik:\n",
    "        if trait not in dict_loglik:\n",
    "            continue\n",
    "        if (study in [\"ukb\", \"page\"]) and (trait[0] != study):\n",
    "            continue\n",
    "        loglik = dict_loglik[trait]\n",
    "        meta_ll += loglik\n",
    "    interval = admix_genet_cor.hdi(xs, meta_ll)\n",
    "    print(\n",
    "        f\"{study}: {meta_ll.argmax() / 1000:.3g} [{interval[0]:.2g}, {interval[1]:.2g}]\"\n",
    "    )"
   ]
  },
  {
   "cell_type": "markdown",
   "id": "b1b15bb4-bb95-4bc1-9324-6121e0be5b0b",
   "metadata": {},
   "source": [
    "# Summary"
   ]
  },
  {
   "cell_type": "code",
   "execution_count": 7,
   "id": "6ec1bc54-3e2f-465a-bd11-b2872e49e4a9",
   "metadata": {},
   "outputs": [],
   "source": [
    "def summarize(dict_loglik, dict_nindiv):\n",
    "    df_sum = []\n",
    "    meta_loglik = 0\n",
    "    for study, trait in dict_loglik:\n",
    "        if study == \"ukb\":\n",
    "            trait_name = ukb_name_dict[trait]\n",
    "        else:\n",
    "            trait_name = page_name_dict[trait]\n",
    "\n",
    "        if dict_loglik[(study, trait)] is None:\n",
    "            df_sum.append(\n",
    "                [\n",
    "                    \"UKBB\" if study == \"ukb\" else \"PAGE\",\n",
    "                    trait_name,\n",
    "                    \"NA\",\n",
    "                    \"NA\",\n",
    "                    \"NA\",\n",
    "                    \"NA\",\n",
    "                ]\n",
    "            )\n",
    "        else:\n",
    "            loglik = dict_loglik[(study, trait)]\n",
    "            meta_loglik += loglik\n",
    "            nindiv = dict_nindiv[(study, trait)]\n",
    "            mode = loglik.argmax() / 1000\n",
    "            pval = stats.chi2.sf((loglik.max() - loglik[-1]) * 2, df=1)\n",
    "            interval = admix_genet_cor.hdi(xs, loglik, ci=0.95)\n",
    "            if isinstance(interval, tuple):\n",
    "                interval = f\"[{interval[0]:.2f}, {interval[1]:.2f}]\"\n",
    "            elif isinstance(interval, list):\n",
    "                interval = \" \".join([f\"[{i[0]:.2f}, {i[1]:.2f}]\" for i in interval])\n",
    "\n",
    "            df_sum.append(\n",
    "                [\n",
    "                    \"UKBB\" if study == \"ukb\" else \"PAGE\",\n",
    "                    trait_name,\n",
    "                    nindiv,\n",
    "                    mode,\n",
    "                    interval,\n",
    "                    f\"{pval:.2g}\",\n",
    "                ]\n",
    "            )\n",
    "    meta_interval = admix_genet_cor.hdi(xs, meta_loglik, ci=0.95)\n",
    "    meta_pval = stats.chi2.sf((meta_loglik.max() - meta_loglik[-1]) * 2, df=1)\n",
    "    df_sum.append(\n",
    "        [\n",
    "            \"\",\n",
    "            \"Meta analysis\",\n",
    "            \"\",\n",
    "            meta_loglik.argmax() / 1000,\n",
    "            f\"[{meta_interval[0]:.2f}, {meta_interval[1]:.2f}]\",\n",
    "            f\"{meta_pval:.2g}\",\n",
    "        ]\n",
    "    )\n",
    "    df_sum = pd.DataFrame(\n",
    "        df_sum,\n",
    "        columns=[\"Study\", \"Trait\", \"N\", \"Mode\", \"95% credible interval(s)\", \"p-value\"],\n",
    "    )\n",
    "    return df_sum"
   ]
  },
  {
   "cell_type": "code",
   "execution_count": 8,
   "id": "2eb8b68d-0ba9-4309-b6c7-97371d374ebe",
   "metadata": {},
   "outputs": [],
   "source": [
    "# see 01-genome-wide-simulate-profile-likelihood/03-plot-hsq.ipynb to get this constant\n",
    "scale_factor = 0.24884752564563367"
   ]
  },
  {
   "cell_type": "code",
   "execution_count": 9,
   "id": "ac7f757f-464b-4919-8983-6693331bda86",
   "metadata": {},
   "outputs": [],
   "source": [
    "def estimate_hsq(dict_est, scale_factor=1):\n",
    "    \"\"\"\n",
    "    Estimate the ratio with delta method, est[0] (var_g) / [est[0] (var_g) + est[1] (var_e)]\n",
    "    est: (2, ) numpy array\n",
    "    est_var (2, 2) variance-covariance matrix\n",
    "    \"\"\"\n",
    "    assert len(dict_est[\"est\"]) == 2\n",
    "    assert np.all(dict_est[\"est\"].Source.values == [\"V(G)\", \"V(e)\"])\n",
    "    est = dict_est[\"est\"].Variance.values\n",
    "    est_var = dict_est[\"varcov\"].values\n",
    "\n",
    "    ## method 1\n",
    "    x, y = est[0], est[1]\n",
    "    hsq = (x * scale_factor) / (x * scale_factor + y)\n",
    "\n",
    "    # grad = [y / (x + y)^2, - x / (x + y)^2]\n",
    "    grad = np.array(\n",
    "        [\n",
    "            scale_factor * y / ((scale_factor * x + y) ** 2),\n",
    "            -scale_factor * x / ((scale_factor * x + y) ** 2),\n",
    "        ]\n",
    "    )\n",
    "\n",
    "    ## method2\n",
    "    #     x, y = est[0] * scale_factor, est[1]\n",
    "\n",
    "    #     est_var[0, :] *= scale_factor\n",
    "    #     est_var[:, 0] *= scale_factor\n",
    "\n",
    "    #     hsq = x / (x + y)\n",
    "\n",
    "    #     # grad = [y / (x + y)^2, - x / (x + y)^2]\n",
    "\n",
    "    #     grad = np.array([y / ((x + y) ** 2), -x / ((x + y) ** 2)])\n",
    "\n",
    "    def quad_form(x, A):\n",
    "        return np.dot(np.dot(x.T, A), x)\n",
    "\n",
    "    return hsq, quad_form(grad, est_var)"
   ]
  },
  {
   "cell_type": "markdown",
   "id": "82e5f903-259b-431c-ba61-4721f8ee1237",
   "metadata": {},
   "source": [
    "# Read hsq estimates"
   ]
  },
  {
   "cell_type": "code",
   "execution_count": 10,
   "id": "e6e4e9b4-df67-412e-b978-9c6782a9377f",
   "metadata": {},
   "outputs": [],
   "source": [
    "df_hsq = {\"Study\": [], \"Trait\": [], \"hsq\": []}\n",
    "\n",
    "for study in [\"ukb\", \"page\"]:\n",
    "    trait_list = ukb_trait_list if study == \"ukb\" else page_trait_list\n",
    "    for trait in trait_list:\n",
    "        if study == \"ukb\":\n",
    "            est_dir = (\n",
    "                \"/u/home/k/kangchen/project-UKBB/UKB-ADMIXED/02-genet-cor/\"\n",
    "                f\"out/gcta-estimate/{trait}-sample10pc-{snpset}\"\n",
    "            )\n",
    "        else:\n",
    "            est_dir = (\n",
    "                \"/u/project/pasaniuc/kangchen/2021-admix-corr/experiments/\"\n",
    "                \"03-page-genome-wide-profile-likelihood-new/out/gcta-estimate/\"\n",
    "                f\"{trait}-sample10pc-{snpset}\"\n",
    "            )\n",
    "        dict_est = admix.tools.gcta.read_reml(os.path.join(est_dir, f\"rho100\"))\n",
    "        est, est_var = estimate_hsq(dict_est, scale_factor=scale_factor)\n",
    "\n",
    "        if study == \"ukb\":\n",
    "            trait_name = ukb_name_dict[trait]\n",
    "        else:\n",
    "            trait_name = page_name_dict[trait]\n",
    "        df_hsq[\"Study\"].append({\"ukb\": \"UKBB\", \"page\": \"PAGE\"}[study])\n",
    "        df_hsq[\"Trait\"].append(trait_name)\n",
    "        df_hsq[\"hsq\"].append(f\"${est:.3g} \\pm {np.sqrt(est_var):.2g}$\")\n",
    "df_hsq = pd.DataFrame(df_hsq)"
   ]
  },
  {
   "cell_type": "code",
   "execution_count": 11,
   "id": "fc541c2e-7abb-4b64-8319-daf6c29854b2",
   "metadata": {},
   "outputs": [],
   "source": [
    "df_sum = summarize(dict_loglik, dict_nindiv)\n",
    "df_sum.to_excel(\"numerical.xlsx\", index=False)"
   ]
  },
  {
   "cell_type": "code",
   "execution_count": 12,
   "id": "db2f49a3-55cb-4787-a8a6-03dd679919c0",
   "metadata": {},
   "outputs": [
    {
     "name": "stdout",
     "output_type": "stream",
     "text": [
      "UKB: 26 traits (average N=3808). PAGE: 24 traits (average N=9296)\n"
     ]
    }
   ],
   "source": [
    "print(\n",
    "    \"UKB: {ukb_n_trait} traits (average N={ukb_n:.0f}). PAGE: {page_n_trait} traits (average N={page_n:.0f})\".format(\n",
    "        ukb_n_trait=sum(df_sum.Study == \"UKBB\"),\n",
    "        ukb_n=df_sum[df_sum.Study == \"UKBB\"][\"N\"].mean(),\n",
    "        page_n_trait=sum(df_sum.Study == \"PAGE\"),\n",
    "        page_n=df_sum[df_sum.Study == \"PAGE\"][\"N\"].mean(),\n",
    "    )\n",
    ")"
   ]
  },
  {
   "cell_type": "code",
   "execution_count": 13,
   "id": "9398bd17-388c-4f4f-bc80-5fe717758cc4",
   "metadata": {},
   "outputs": [],
   "source": [
    "assert df_sum[[\"Study\", \"Trait\"]].iloc[0:50].equals(df_hsq[[\"Study\", \"Trait\"]])"
   ]
  },
  {
   "cell_type": "code",
   "execution_count": 14,
   "id": "10c5eb8f-71bb-4bdb-b5ca-047617fa39bf",
   "metadata": {},
   "outputs": [],
   "source": [
    "df_sum[\"$\\widehat{h_g^2}$\"] = \"\"\n",
    "df_sum.iloc[0:50, 6] = df_hsq[\"hsq\"]"
   ]
  },
  {
   "cell_type": "code",
   "execution_count": 15,
   "id": "47f956bc-f7c3-497a-a117-98e6abb717c3",
   "metadata": {},
   "outputs": [
    {
     "name": "stdout",
     "output_type": "stream",
     "text": [
      "\\begin{tabular}{lllrlll}\n",
      "\\toprule\n",
      "Study &                    Trait &     N &  Mode &  95% credible interval(s) & p-value &   $\\widehat{h_g^2}$ \\\\\n",
      "\\midrule\n",
      " UKBB &           Hypothyroidism &  4063 & 1.000 &              [0.05, 1.00] &       1 &  $0.0436 \\pm 0.067$ \\\\\n",
      " UKBB &          Type 1 diabetes &  3767 & 0.381 &              [0.00, 0.95] &    0.77 & $-0.0308 \\pm 0.015$ \\\\\n",
      " UKBB &          Type 2 diabetes &  4114 & 0.920 &              [0.06, 1.00] &    0.82 &  $0.0856 \\pm 0.068$ \\\\\n",
      " UKBB &             Hypertension &  4127 & 0.983 &              [0.09, 1.00] &    0.93 &   $0.155 \\pm 0.079$ \\\\\n",
      " UKBB &                   Asthma &  4079 & 1.000 &              [0.15, 1.00] &       1 &     $0.2 \\pm 0.084$ \\\\\n",
      " UKBB &        Total cholesterol &  3898 & 0.972 &              [0.36, 1.00] &    0.81 &   $0.304 \\pm 0.087$ \\\\\n",
      " UKBB & Diastolic blood pressure &  4017 & 1.000 &              [0.07, 1.00] &       1 &   $0.133 \\pm 0.081$ \\\\\n",
      " UKBB &   RBC distribution width &  3925 & 1.000 &              [0.27, 1.00] &       1 &   $0.272 \\pm 0.085$ \\\\\n",
      " UKBB &                RBC count &  3948 & 1.000 &              [0.37, 1.00] &       1 &     $0.3 \\pm 0.089$ \\\\\n",
      " UKBB &              Ever smoked &  4083 & 0.764 &              [0.04, 0.98] &    0.31 &   $0.166 \\pm 0.079$ \\\\\n",
      " UKBB &                   Height &  4100 & 0.911 &              [0.51, 1.00] &    0.37 &   $0.417 \\pm 0.088$ \\\\\n",
      " UKBB &                      LDL &  3892 & 0.991 &              [0.26, 1.00] &    0.94 &   $0.266 \\pm 0.086$ \\\\\n",
      " UKBB &                      BMI &  4090 & 1.000 &              [0.06, 1.00] &       1 &  $0.0795 \\pm 0.078$ \\\\\n",
      " UKBB &                    HbA1c &  3613 & 0.883 &              [0.07, 1.00] &    0.58 &   $0.161 \\pm 0.081$ \\\\\n",
      " UKBB &                      HDL &  3571 & 1.000 &              [0.66, 1.00] &       1 &    $0.34 \\pm 0.096$ \\\\\n",
      " UKBB &                      BMD &  1668 & 0.000 &              [0.00, 0.78] &   0.012 &    $0.326 \\pm 0.16$ \\\\\n",
      " UKBB &                HLR count &  3852 & 1.000 &              [0.07, 1.00] &       1 &   $0.118 \\pm 0.082$ \\\\\n",
      " UKBB &   White blood cell count &  4140 & 1.000 &              [0.13, 1.00] &       1 &   $0.175 \\pm 0.071$ \\\\\n",
      " UKBB &         Lymphocyte count &  3935 & 1.000 & [0.00, 0.60] [0.66, 1.00] &       1 &   $0.123 \\pm 0.082$ \\\\\n",
      " UKBB &           Monocyte count &  3935 & 0.972 &              [0.26, 1.00] &    0.82 &    $0.29 \\pm 0.085$ \\\\\n",
      " UKBB &           Platelet count &  3948 & 0.617 &              [0.00, 0.90] &   0.083 &   $0.203 \\pm 0.083$ \\\\\n",
      " UKBB &            Triglycerides &  3900 & 0.822 &              [0.09, 1.00] &    0.24 &    $0.256 \\pm 0.08$ \\\\\n",
      " UKBB &                      MCH &  3948 & 0.829 &              [0.07, 1.00] &    0.36 &   $0.193 \\pm 0.073$ \\\\\n",
      " UKBB &              Neuroticism &  3044 & 1.000 &              [0.36, 1.00] &       1 &    $0.347 \\pm 0.11$ \\\\\n",
      " UKBB &  Systolic blood pressure &  4017 & 1.000 &              [0.06, 1.00] &       1 &   $0.128 \\pm 0.083$ \\\\\n",
      " UKBB &          Education years &  3324 & 0.000 &              [0.00, 0.94] &     0.4 &  $0.0518 \\pm 0.071$ \\\\\n",
      " PAGE &       C-reactive protein &  8321 & 0.995 &              [0.82, 1.00] &    0.94 &   $0.277 \\pm 0.046$ \\\\\n",
      " PAGE &   White blood cell count &  8615 & 0.902 &              [0.61, 1.00] &    0.17 &   $0.251 \\pm 0.041$ \\\\\n",
      " PAGE &                     MCHC &  3650 & 0.228 &              [0.00, 0.87] &   0.061 &   $0.207 \\pm 0.092$ \\\\\n",
      " PAGE &           Platelet count &  8597 & 0.839 &              [0.20, 1.00] &    0.12 &   $0.177 \\pm 0.042$ \\\\\n",
      " PAGE &                      HDL &  9929 & 0.788 &              [0.10, 0.99] &     0.1 &   $0.134 \\pm 0.036$ \\\\\n",
      " PAGE &                      LDL &  9574 & 0.967 &              [0.39, 1.00] &    0.73 &   $0.146 \\pm 0.037$ \\\\\n",
      " PAGE &            Triglycerides &  9896 & 0.792 &              [0.17, 1.00] &   0.062 &   $0.155 \\pm 0.036$ \\\\\n",
      " PAGE &        Total cholesterol &  9981 & 0.696 &              [0.10, 0.92] &  0.0053 &   $0.176 \\pm 0.036$ \\\\\n",
      " PAGE &       Cigarettes per day &  6995 & 0.999 &              [0.08, 1.00] &       1 &  $0.0974 \\pm 0.047$ \\\\\n",
      " PAGE &       Coffee consumption & 11587 & 0.982 &              [0.10, 1.00] &     0.9 &    $0.074 \\pm 0.03$ \\\\\n",
      " PAGE &                    HbA1c &  1740 & 1.000 &              [0.06, 1.00] &       1 &     $0.269 \\pm 0.2$ \\\\\n",
      " PAGE &          Fasting insulin &  7753 & 1.000 &              [0.21, 1.00] &       1 &   $0.132 \\pm 0.044$ \\\\\n",
      " PAGE &          Fasting glucose &  9646 & 0.695 &              [0.00, 0.93] &    0.27 &  $0.0637 \\pm 0.035$ \\\\\n",
      " PAGE &          Type 2 diabetes & 14516 & 0.895 &              [0.47, 1.00] &    0.24 &   $0.124 \\pm 0.026$ \\\\\n",
      " PAGE &              QT interval &  4089 & 0.920 &              [0.07, 1.00] &    0.69 &   $0.162 \\pm 0.083$ \\\\\n",
      " PAGE &             QRS interval &  4078 & 1.000 &              [0.07, 1.00] &       1 &   $0.123 \\pm 0.082$ \\\\\n",
      " PAGE &              PR interval &  4071 & 0.844 &              [0.08, 1.00] &    0.36 &   $0.218 \\pm 0.084$ \\\\\n",
      " PAGE &  Systolic blood pressure & 11006 & 1.000 &              [0.11, 1.00] &       1 &  $0.0728 \\pm 0.032$ \\\\\n",
      " PAGE & Diastolic blood pressure & 11005 & 1.000 &              [0.06, 1.00] &       1 &  $0.0375 \\pm 0.028$ \\\\\n",
      " PAGE &             Hypertension & 16617 & 0.910 &              [0.16, 1.00] &    0.42 &  $0.0712 \\pm 0.021$ \\\\\n",
      " PAGE &                      WHR & 10067 & 0.903 &              [0.15, 1.00] &    0.38 &   $0.121 \\pm 0.035$ \\\\\n",
      " PAGE &                   Height & 16705 & 0.902 &              [0.81, 0.97] &  0.0042 &   $0.388 \\pm 0.025$ \\\\\n",
      " PAGE &                      BMI & 16684 & 0.929 &              [0.81, 1.00] &    0.14 &   $0.229 \\pm 0.024$ \\\\\n",
      " PAGE &                     eGFR &  7978 & 0.805 &              [0.16, 1.00] &    0.09 &   $0.186 \\pm 0.046$ \\\\\n",
      "      &            Meta analysis &       & 0.921 &              [0.88, 0.95] & 6.8e-07 &                     \\\\\n",
      "\\bottomrule\n",
      "\\end{tabular}\n",
      "\n"
     ]
    }
   ],
   "source": [
    "print(df_sum.to_latex(escape=False, index=False))"
   ]
  },
  {
   "cell_type": "code",
   "execution_count": 16,
   "id": "f93ae50b-f0f9-4c1d-8ffd-157800c9793b",
   "metadata": {},
   "outputs": [
    {
     "data": {
      "text/html": [
       "<style type=\"text/css\">\n",
       "</style>\n",
       "<table id=\"T_4aefe_\">\n",
       "  <caption>Traits that are nominally significant</caption>\n",
       "  <thead>\n",
       "    <tr>\n",
       "      <th class=\"blank level0\" >&nbsp;</th>\n",
       "      <th class=\"col_heading level0 col0\" >Study</th>\n",
       "      <th class=\"col_heading level0 col1\" >Trait</th>\n",
       "      <th class=\"col_heading level0 col2\" >N</th>\n",
       "      <th class=\"col_heading level0 col3\" >Mode</th>\n",
       "      <th class=\"col_heading level0 col4\" >95% credible interval(s)</th>\n",
       "      <th class=\"col_heading level0 col5\" >p-value</th>\n",
       "      <th class=\"col_heading level0 col6\" >$\\widehat{h_g^2}$</th>\n",
       "    </tr>\n",
       "  </thead>\n",
       "  <tbody>\n",
       "    <tr>\n",
       "      <th id=\"T_4aefe_level0_row0\" class=\"row_heading level0 row0\" >15</th>\n",
       "      <td id=\"T_4aefe_row0_col0\" class=\"data row0 col0\" >UKBB</td>\n",
       "      <td id=\"T_4aefe_row0_col1\" class=\"data row0 col1\" >BMD</td>\n",
       "      <td id=\"T_4aefe_row0_col2\" class=\"data row0 col2\" >1668</td>\n",
       "      <td id=\"T_4aefe_row0_col3\" class=\"data row0 col3\" >0.000000</td>\n",
       "      <td id=\"T_4aefe_row0_col4\" class=\"data row0 col4\" >[0.00, 0.78]</td>\n",
       "      <td id=\"T_4aefe_row0_col5\" class=\"data row0 col5\" >0.012</td>\n",
       "      <td id=\"T_4aefe_row0_col6\" class=\"data row0 col6\" >$0.326 \\pm 0.16$</td>\n",
       "    </tr>\n",
       "    <tr>\n",
       "      <th id=\"T_4aefe_level0_row1\" class=\"row_heading level0 row1\" >33</th>\n",
       "      <td id=\"T_4aefe_row1_col0\" class=\"data row1 col0\" >PAGE</td>\n",
       "      <td id=\"T_4aefe_row1_col1\" class=\"data row1 col1\" >Total cholesterol</td>\n",
       "      <td id=\"T_4aefe_row1_col2\" class=\"data row1 col2\" >9981</td>\n",
       "      <td id=\"T_4aefe_row1_col3\" class=\"data row1 col3\" >0.696000</td>\n",
       "      <td id=\"T_4aefe_row1_col4\" class=\"data row1 col4\" >[0.10, 0.92]</td>\n",
       "      <td id=\"T_4aefe_row1_col5\" class=\"data row1 col5\" >0.0053</td>\n",
       "      <td id=\"T_4aefe_row1_col6\" class=\"data row1 col6\" >$0.176 \\pm 0.036$</td>\n",
       "    </tr>\n",
       "    <tr>\n",
       "      <th id=\"T_4aefe_level0_row2\" class=\"row_heading level0 row2\" >47</th>\n",
       "      <td id=\"T_4aefe_row2_col0\" class=\"data row2 col0\" >PAGE</td>\n",
       "      <td id=\"T_4aefe_row2_col1\" class=\"data row2 col1\" >Height</td>\n",
       "      <td id=\"T_4aefe_row2_col2\" class=\"data row2 col2\" >16705</td>\n",
       "      <td id=\"T_4aefe_row2_col3\" class=\"data row2 col3\" >0.902000</td>\n",
       "      <td id=\"T_4aefe_row2_col4\" class=\"data row2 col4\" >[0.81, 0.97]</td>\n",
       "      <td id=\"T_4aefe_row2_col5\" class=\"data row2 col5\" >0.0042</td>\n",
       "      <td id=\"T_4aefe_row2_col6\" class=\"data row2 col6\" >$0.388 \\pm 0.025$</td>\n",
       "    </tr>\n",
       "    <tr>\n",
       "      <th id=\"T_4aefe_level0_row3\" class=\"row_heading level0 row3\" >50</th>\n",
       "      <td id=\"T_4aefe_row3_col0\" class=\"data row3 col0\" ></td>\n",
       "      <td id=\"T_4aefe_row3_col1\" class=\"data row3 col1\" >Meta analysis</td>\n",
       "      <td id=\"T_4aefe_row3_col2\" class=\"data row3 col2\" ></td>\n",
       "      <td id=\"T_4aefe_row3_col3\" class=\"data row3 col3\" >0.921000</td>\n",
       "      <td id=\"T_4aefe_row3_col4\" class=\"data row3 col4\" >[0.88, 0.95]</td>\n",
       "      <td id=\"T_4aefe_row3_col5\" class=\"data row3 col5\" >6.8e-07</td>\n",
       "      <td id=\"T_4aefe_row3_col6\" class=\"data row3 col6\" ></td>\n",
       "    </tr>\n",
       "  </tbody>\n",
       "</table>\n"
      ],
      "text/plain": [
       "<pandas.io.formats.style.Styler at 0x2ba0b0794670>"
      ]
     },
     "metadata": {},
     "output_type": "display_data"
    },
    {
     "data": {
      "text/html": [
       "<style type=\"text/css\">\n",
       "</style>\n",
       "<table id=\"T_32674_\">\n",
       "  <caption>Traits that are bonferroni significant</caption>\n",
       "  <thead>\n",
       "    <tr>\n",
       "      <th class=\"blank level0\" >&nbsp;</th>\n",
       "      <th class=\"col_heading level0 col0\" >Study</th>\n",
       "      <th class=\"col_heading level0 col1\" >Trait</th>\n",
       "      <th class=\"col_heading level0 col2\" >N</th>\n",
       "      <th class=\"col_heading level0 col3\" >Mode</th>\n",
       "      <th class=\"col_heading level0 col4\" >95% credible interval(s)</th>\n",
       "      <th class=\"col_heading level0 col5\" >p-value</th>\n",
       "      <th class=\"col_heading level0 col6\" >$\\widehat{h_g^2}$</th>\n",
       "    </tr>\n",
       "  </thead>\n",
       "  <tbody>\n",
       "    <tr>\n",
       "      <th id=\"T_32674_level0_row0\" class=\"row_heading level0 row0\" >50</th>\n",
       "      <td id=\"T_32674_row0_col0\" class=\"data row0 col0\" ></td>\n",
       "      <td id=\"T_32674_row0_col1\" class=\"data row0 col1\" >Meta analysis</td>\n",
       "      <td id=\"T_32674_row0_col2\" class=\"data row0 col2\" ></td>\n",
       "      <td id=\"T_32674_row0_col3\" class=\"data row0 col3\" >0.921000</td>\n",
       "      <td id=\"T_32674_row0_col4\" class=\"data row0 col4\" >[0.88, 0.95]</td>\n",
       "      <td id=\"T_32674_row0_col5\" class=\"data row0 col5\" >6.8e-07</td>\n",
       "      <td id=\"T_32674_row0_col6\" class=\"data row0 col6\" ></td>\n",
       "    </tr>\n",
       "  </tbody>\n",
       "</table>\n"
      ],
      "text/plain": [
       "<pandas.io.formats.style.Styler at 0x2ba0b083f220>"
      ]
     },
     "metadata": {},
     "output_type": "display_data"
    }
   ],
   "source": [
    "# trait that's nominally significant\n",
    "display(\n",
    "    df_sum[df_sum[\"p-value\"].astype(float) < 0.05].style.set_caption(\n",
    "        \"Traits that are nominally significant\"\n",
    "    )\n",
    ")\n",
    "\n",
    "# trait that's significant after Bonferrnoni correction\n",
    "display(\n",
    "    df_sum[\n",
    "        df_sum[\"p-value\"].astype(float) < 0.05 / (len(df_sum) - 1)\n",
    "    ].style.set_caption(\"Traits that are bonferroni significant\")\n",
    ")"
   ]
  },
  {
   "cell_type": "code",
   "execution_count": 17,
   "id": "ec0b1dfe-241f-400f-a28f-ab290aa18c77",
   "metadata": {},
   "outputs": [
    {
     "name": "stdout",
     "output_type": "stream",
     "text": [
      "13 traits in common between UKB and PAGE\n",
      "Spearman correlation of -log10[p] from two studies: 0.13\n"
     ]
    }
   ],
   "source": [
    "df_ukb = df_sum[df_sum.Study == \"UKBB\"]\n",
    "df_page = df_sum[df_sum.Study == \"PAGE\"]\n",
    "df_merged = pd.merge(df_ukb, df_page, on=[\"Trait\"], suffixes=[\"_ukb\", \"_page\"])\n",
    "\n",
    "print(f\"{len(df_merged)} traits in common between UKB and PAGE\")\n",
    "print(\n",
    "    \"Spearman correlation of -log10[p] from two studies: {:.2g}\".format(\n",
    "        stats.spearmanr(\n",
    "            df_merged[\"p-value_ukb\"].astype(float),\n",
    "            df_merged[\"p-value_page\"].astype(float),\n",
    "        )[1]\n",
    "    )\n",
    ")"
   ]
  },
  {
   "cell_type": "code",
   "execution_count": 18,
   "id": "b82b8ec7-254f-4a89-b723-2e932eac1faf",
   "metadata": {},
   "outputs": [],
   "source": [
    "shared_trait_list = [\n",
    "    \"Height\",\n",
    "    \"Total cholesterol\",\n",
    "    \"Platelet count\",\n",
    "    \"Triglycerides\",\n",
    "    \"BMI\",\n",
    "    \"Type 2 diabetes\",\n",
    "    \"White blood cell count\",\n",
    "    \"Hypertension\",\n",
    "    \"HDL\",\n",
    "    \"LDL\",\n",
    "    \"HbA1c\",\n",
    "    \"Diastolic blood pressure\",\n",
    "    \"Systolic blood pressure\",\n",
    "]\n",
    "assert set(shared_trait_list) == set(df_merged[\"Trait\"])"
   ]
  },
  {
   "cell_type": "code",
   "execution_count": 19,
   "id": "8491eb9b-87f1-4916-8175-ace6fa1ebd69",
   "metadata": {},
   "outputs": [],
   "source": [
    "dict_joint_loglik = {t: 0 for t in shared_trait_list}\n",
    "dict_joint_nindiv = {t: 0 for t in shared_trait_list}\n",
    "for study, trait in dict_loglik:\n",
    "    if study == \"ukb\":\n",
    "        trait_name = ukb_name_dict[trait]\n",
    "    else:\n",
    "        trait_name = page_name_dict[trait]\n",
    "    if trait_name in shared_trait_list:\n",
    "\n",
    "        dict_joint_loglik[trait_name] += dict_loglik[study, trait]\n",
    "        dict_joint_nindiv[trait_name] += dict_nindiv[study, trait]\n",
    "\n",
    "dict_est = {\n",
    "    trait: dict_joint_loglik[trait].argmax() / 1000 for trait in shared_trait_list\n",
    "}\n",
    "dict_hdi_50 = {\n",
    "    trait: admix_genet_cor.hdi(xs, dict_joint_loglik[trait], ci=0.5)\n",
    "    for trait in shared_trait_list\n",
    "}\n",
    "\n",
    "dict_hdi_95 = {\n",
    "    trait: admix_genet_cor.hdi(xs, dict_joint_loglik[trait], ci=0.95)\n",
    "    for trait in shared_trait_list\n",
    "}\n",
    "\n",
    "dict_joint_pval = {\n",
    "    trait: stats.chi2.sf((loglik.max() - loglik[-1]) * 2, df=1)\n",
    "    for trait, loglik in dict_joint_loglik.items()\n",
    "}\n",
    "df_joint_pval = pd.DataFrame(\n",
    "    {\"trait\": dict_joint_pval.keys(), \"pval\": dict_joint_pval.values()}\n",
    ").sort_values(\"pval\")\n",
    "assert np.all(np.array(shared_trait_list) == df_joint_pval.trait)"
   ]
  },
  {
   "cell_type": "code",
   "execution_count": 20,
   "id": "2ed422c1-2683-4f17-8601-733cd4c1c38b",
   "metadata": {},
   "outputs": [],
   "source": [
    "loglik_all = 0\n",
    "for t in dict_loglik:\n",
    "    loglik_all += dict_loglik[t]\n",
    "\n",
    "dict_est[\"Meta-analysis\"] = loglik_all.argmax() / 1000\n",
    "\n",
    "dict_hdi_50[\"Meta-analysis\"] = admix_genet_cor.hdi(xs, loglik_all, ci=0.5)\n",
    "dict_hdi_95[\"Meta-analysis\"] = admix_genet_cor.hdi(xs, loglik_all, ci=0.95)"
   ]
  },
  {
   "cell_type": "code",
   "execution_count": 21,
   "id": "92a6c2bf-ada9-4328-bb1a-21a855af66ff",
   "metadata": {},
   "outputs": [
    {
     "data": {
      "image/png": "[encoded data removed]",
      "text/plain": [
       "<Figure size 540x750 with 2 Axes>"
      ]
     },
     "metadata": {
      "needs_background": "light"
     },
     "output_type": "display_data"
    }
   ],
   "source": [
    "fig, axes = plt.subplots(\n",
    "    figsize=(3.6, 5),\n",
    "    dpi=150,\n",
    "    nrows=2,\n",
    "    gridspec_kw={\"height_ratios\": [4, 1]},\n",
    ")\n",
    "\n",
    "ax = axes[0]\n",
    "display_list = [\"Meta-analysis\"] + shared_trait_list\n",
    "\n",
    "est = [dict_est[trait] for trait in display_list]\n",
    "err1_50 = [dict_est[trait] - dict_hdi_50[trait][0] for trait in display_list]\n",
    "err2_50 = [dict_hdi_50[trait][1] - dict_est[trait] for trait in display_list]\n",
    "\n",
    "err1_95 = [dict_est[trait] - dict_hdi_95[trait][0] for trait in display_list]\n",
    "err2_95 = [dict_hdi_95[trait][1] - dict_est[trait] for trait in display_list]\n",
    "\n",
    "colors = [\"darkred\"] + [\"darkblue\"] * (len(est) - 1)\n",
    "errbars1 = ax.errorbar(\n",
    "    y=np.arange(len(est)),\n",
    "    x=est,\n",
    "    xerr=(err1_50, err2_50),\n",
    "    fmt=\" \",\n",
    "    lw=2.5,\n",
    "    ecolor=colors,\n",
    ")\n",
    "ax.scatter(y=np.arange(len(est)), x=est, s=11, color=colors)\n",
    "errbars2 = ax.errorbar(\n",
    "    y=np.arange(len(est)),\n",
    "    x=est,\n",
    "    xerr=(err1_95, err2_95),\n",
    "    fmt=\" \",\n",
    "    lw=1.0,\n",
    "    ecolor=colors,\n",
    ")\n",
    "\n",
    "for y in np.arange(len(est)):\n",
    "    ax.axhline(y=y, color=\"gray\", ls=\"dotted\", lw=0.5, alpha=0.8)\n",
    "\n",
    "ax.set_xlim(0, 1.1)\n",
    "ax.set_xlabel(\"Highest probability density of $r_g$\")\n",
    "ax.set_yticks(np.arange(len(est)))\n",
    "ax.set_ylim(-0.5, len(est) - 0.5)\n",
    "ax.set_yticklabels(\n",
    "    [\"Meta-analysis (50 study-trait pairs)\"]\n",
    "    + [\n",
    "        f\"{t} ({int(np.round(dict_joint_nindiv[t] / 1000))}K)\" for t in display_list[1:]\n",
    "    ],\n",
    "    fontsize=8,\n",
    ")\n",
    "\n",
    "# annotation\n",
    "ax.tick_params(left=False, pad=-1)\n",
    "\n",
    "ax.axvline(x=1.0, color=\"red\", ls=\"--\", lw=0.8, alpha=0.4)\n",
    "ax.set_title(\"Estimated $r_g$\", fontsize=10, x=0.5)\n",
    "\n",
    "# set color for the meta-analysis\n",
    "ax.get_yticklabels()[0].set_color(\"darkred\")\n",
    "\n",
    "# annotation\n",
    "ax.text(\n",
    "    -0.25,\n",
    "    1.02,\n",
    "    \"a\",\n",
    "    transform=ax.transAxes,\n",
    "    size=12,\n",
    "    weight=\"bold\",\n",
    ")\n",
    "\n",
    "\n",
    "ax = axes[1]\n",
    "ax.axvline(x=1.0, color=\"red\", ls=\"--\", lw=0.8, alpha=0.4)\n",
    "df_slope = pd.DataFrame(\n",
    "    {\n",
    "        \"label\": [\n",
    "            \"Deming\",\n",
    "            \"OLS\",\n",
    "        ],\n",
    "        \"mean\": [\n",
    "            0.90,\n",
    "            0.82,\n",
    "        ],\n",
    "        \"se\": [\n",
    "            0.04,\n",
    "            0.08,\n",
    "        ],\n",
    "    }\n",
    ")\n",
    "\n",
    "ax.scatter(y=np.arange(len(df_slope)), x=df_slope[\"mean\"], s=11, color=\"darkblue\")\n",
    "errbars = ax.errorbar(\n",
    "    y=np.arange(len(df_slope)),\n",
    "    x=df_slope[\"mean\"],\n",
    "    xerr=(df_slope[\"se\"] * 2, df_slope[\"se\"] * 2),\n",
    "    fmt=\" \",\n",
    "    lw=1.0,\n",
    "    ecolor=\"darkblue\",\n",
    ")\n",
    "ax.set_yticks([0, 1])\n",
    "ax.set_yticklabels(df_slope.label, fontsize=8)\n",
    "ax.set_xlim(0, 1.1)\n",
    "ax.set_ylim(-0.7, 1.7)\n",
    "ax.set_xlabel(\n",
    "    \"Estimated slope $\\\\beta_{eur}^{(m)} \\sim \\\\beta_{afr}^{(m)}$\", fontsize=9\n",
    ")\n",
    "ax.text(\n",
    "    -0.25,\n",
    "    1.02,\n",
    "    \"b\",\n",
    "    transform=ax.transAxes,\n",
    "    size=12,\n",
    "    weight=\"bold\",\n",
    ")\n",
    "\n",
    "plt.tight_layout()\n",
    "plt.savefig(\"results/shared.pdf\", bbox_inches=\"tight\")"
   ]
  },
  {
   "cell_type": "markdown",
   "id": "d0d48123-b22d-4622-8b7e-428a03a83893",
   "metadata": {},
   "source": [
    "# consistency of the estimates using gcta / hm3\n"
   ]
  },
  {
   "cell_type": "code",
   "execution_count": 22,
   "id": "aa1e58e3-2822-4a26-857c-06e8e3c7363b",
   "metadata": {},
   "outputs": [
    {
     "name": "stdout",
     "output_type": "stream",
     "text": [
      "250.1 ukb imputed.gcta.005 can only convert an array of size 1 to a Python scalar\n",
      "250.1 ukb hm3.mafukb.005 can only convert an array of size 1 to a Python scalar\n",
      "log_lymphocyte ukb hm3.mafukb.005 can only convert an array of size 1 to a Python scalar\n"
     ]
    }
   ],
   "source": [
    "# consistency of the estimates using gcta / hm3\n",
    "df_sum_gcta = summarize(\n",
    "    *read_estimate(\n",
    "        \"imputed.gcta.005\",\n",
    "        ukb_trait_list=ukb_trait_list,\n",
    "        page_trait_list=page_trait_list,\n",
    "    )\n",
    ")\n",
    "df_sum_hm3 = summarize(\n",
    "    *read_estimate(\n",
    "        \"hm3.mafukb.005\", ukb_trait_list=ukb_trait_list, page_trait_list=page_trait_list\n",
    "    )\n",
    ")"
   ]
  },
  {
   "cell_type": "code",
   "execution_count": 22,
   "id": "2d3d2ca5-13ba-4ac7-9c4b-45936e881f18",
   "metadata": {},
   "outputs": [],
   "source": [
    "df_pval = pd.DataFrame(\n",
    "    {\n",
    "        \"default\": df_sum[\"p-value\"],\n",
    "        \"gcta\": df_sum_gcta[\"p-value\"],\n",
    "        \"hm3\": df_sum_hm3[\"p-value\"],\n",
    "    }\n",
    ")\n",
    "# remove the meta-analysis results\n",
    "df_pval = df_pval.iloc[:-1]"
   ]
  },
  {
   "cell_type": "code",
   "execution_count": 23,
   "id": "753fe9fb-fa93-4adc-8935-c5a32d78d42d",
   "metadata": {},
   "outputs": [
    {
     "data": {
      "image/png": "[encoded data removed]",
      "text/plain": [
       "<Figure size 585x330 with 2 Axes>"
      ]
     },
     "metadata": {
      "needs_background": "light"
     },
     "output_type": "display_data"
    }
   ],
   "source": [
    "values = df_pval.values.flatten()\n",
    "lim = -np.log10(values[values != \"NA\"].astype(float)).min() * 1.05\n",
    "\n",
    "fig, axes = plt.subplots(figsize=(3.9, 2.2), dpi=150, ncols=2)\n",
    "for i, compare in enumerate([\"gcta\", \"hm3\"]):\n",
    "    ax = axes[i]\n",
    "    df_tmp = df_pval[[\"default\", compare]]\n",
    "    df_tmp = df_tmp[~(df_tmp == \"NA\").any(axis=1)].astype(float)\n",
    "    #     admix.plot.compare_pval(df_tmp[\"default\"], df_tmp[compare], s=2, ax=ax)\n",
    "    ax.scatter(-np.log10(df_tmp[\"default\"]), -np.log10(df_tmp[compare]), s=2)\n",
    "    ax.set_xlim(-0.1, lim)\n",
    "    ax.set_ylim(-0.1, lim)\n",
    "    ax.axline((0, 0), slope=1, color=\"gray\", ls=\"--\", alpha=0.5, lw=1.0)\n",
    "    ax.set_xlabel(\"$-\\log_{10}(p)$ (default)\")\n",
    "    yname = \"GCTA\" if compare == \"gcta\" else \"HM3\"\n",
    "    ax.set_ylabel(\"$-\\log_{10}(p)$\" + f\" ({yname})\")\n",
    "    ax.text(\n",
    "        -0.2,\n",
    "        1.02,\n",
    "        string.ascii_lowercase[i],\n",
    "        transform=ax.transAxes,\n",
    "        size=12,\n",
    "        weight=\"bold\",\n",
    "    )\n",
    "\n",
    "fig.tight_layout()\n",
    "plt.savefig(\"results/robustness.pdf\", bbox_inches=\"tight\")"
   ]
  },
  {
   "cell_type": "code",
   "execution_count": 24,
   "id": "e981bc3e-d352-473a-bacc-492d5730bd8f",
   "metadata": {},
   "outputs": [],
   "source": [
    "df_compare = [df_sum[[\"Study\", \"Trait\", \"N\"]].copy()]\n",
    "for name, df in zip([\"Default\", \"GCTA\", \"HM3\"], [df_sum, df_sum_gcta, df_sum_hm3]):\n",
    "    df_compare.append(df[[\"Mode\", \"95% credible interval(s)\", \"p-value\"]])\n",
    "\n",
    "df_compare = pd.concat(df_compare, axis=1)\n",
    "df_compare.to_excel(\"results/compare.xlsx\", index=False)"
   ]
  }
 ],
 "metadata": {
  "kernelspec": {
   "display_name": "Python 3",
   "language": "python",
   "name": "python3"
  },
  "language_info": {
   "codemirror_mode": {
    "name": "ipython",
    "version": 3
   },
   "file_extension": ".py",
   "mimetype": "text/x-python",
   "name": "python",
   "nbconvert_exporter": "python",
   "pygments_lexer": "ipython3",
   "version": "3.8.5"
  }
 },
 "nbformat": 4,
 "nbformat_minor": 5
}
