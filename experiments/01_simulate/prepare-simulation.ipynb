{
 "cells": [
  {
   "cell_type": "code",
   "execution_count": 1,
   "id": "4c71feda-724a-49b0-96e9-ad0a7075d76f",
   "metadata": {},
   "outputs": [],
   "source": [
    "%load_ext autoreload\n",
    "%autoreload 2\n",
    "%load_ext lab_black\n",
    "\n",
    "import xarray as xr\n",
    "import numpy as np\n",
    "import xrpgen\n",
    "import pandas as pd\n",
    "import dask.array as da\n",
    "import itertools\n",
    "import submitit\n",
    "import sys\n",
    "\n",
    "sys.path.append(\"/u/project/pasaniuc/kangchen/2021-admix-corr\")\n",
    "import admix_genet_cor"
   ]
  },
  {
   "cell_type": "code",
   "execution_count": 2,
   "id": "b78dd1f9-7e8d-4c0f-ad57-553122ea893b",
   "metadata": {},
   "outputs": [],
   "source": [
    "CHROM = 22"
   ]
  },
  {
   "cell_type": "code",
   "execution_count": 3,
   "id": "740a008b-fb29-45ec-b045-26c15220a899",
   "metadata": {},
   "outputs": [],
   "source": [
    "df_params = pd.DataFrame(\n",
    "    [\n",
    "        params\n",
    "        for params in itertools.product([\"hm3\", \"all\"], [1.0], [1.0], [0.5, 0.8, 1.0])\n",
    "    ],\n",
    "    columns=[\"snpset\", \"varg\", \"pcausal\", \"gamma\"],\n",
    ")\n",
    "df_params[\"out_prefix\"] = df_params.apply(\n",
    "    lambda row: f\"out/pheno/snpset-{row.snpset}-varg-{row.varg}-pcausal-{row.pcausal}-gamma-{row.gamma}\",\n",
    "    axis=1,\n",
    ")\n",
    "df_params = df_params.iloc[0:2]"
   ]
  },
  {
   "cell_type": "code",
   "execution_count": 4,
   "id": "eb19c26c-81d6-4143-aa0a-83d90df41da7",
   "metadata": {},
   "outputs": [],
   "source": [
    "def submit_simulate_pheno(\n",
    "    snp_set: str, var_g: float, pcausal: float, gamma: float, out_prefix: str\n",
    "):\n",
    "\n",
    "    import sys\n",
    "\n",
    "    sys.path.append(\"/u/project/pasaniuc/kangchen/2021-admix-corr\")\n",
    "    import admix_genet_cor\n",
    "\n",
    "    pgen_path = f\"/u/project/pasaniuc/pasaniucdata/admixture/projects/PAGE-QC/s03_aframr/pgen/{snp_set}/chr{CHROM}.pgen\"\n",
    "\n",
    "    print(\n",
    "        f\"pgen_path: {pgen_path}, var_g: {var_g}, pcausal: {pcausal}, gamma: {gamma}, out_prefix: {out_prefix}\"\n",
    "    )\n",
    "    dset = xrpgen.read_pfile(pgen_path, phase=True)\n",
    "    dset[\"lanc\"] = (dset.geno.dims, da.from_zarr(pgen_path.replace(\".pgen\", \".lanc\")))\n",
    "    dset.attrs[\"n_anc\"] = 2\n",
    "\n",
    "    sim = admix_genet_cor.simulate_continuous_pheno(\n",
    "        dset,\n",
    "        var_g=var_g,\n",
    "        gamma=gamma,\n",
    "        var_e=1.0,\n",
    "        n_causal=int(dset.dims[\"snp\"] * pcausal),\n",
    "        n_sim=30,\n",
    "    )\n",
    "    np.save(out_prefix + \".beta.npy\", sim[\"beta\"])\n",
    "    sim[\"pheno\"].to_csv(out_prefix + \".pheno.tsv\", index=True, sep=\"\\t\")\n",
    "\n",
    "\n",
    "def submit_compute_grm(snp_set: str, out_prefix: str):\n",
    "\n",
    "    import sys\n",
    "\n",
    "    sys.path.append(\"/u/project/pasaniuc/kangchen/2021-admix-corr\")\n",
    "    import admix_genet_cor\n",
    "\n",
    "    pgen_path = f\"/u/project/pasaniuc/pasaniucdata/admixture/projects/PAGE-QC/s03_aframr/pgen/{snp_set}/chr{CHROM}.pgen\"\n",
    "\n",
    "    print(f\"pgen_path: {pgen_path}, out_prefix: {out_prefix}\")\n",
    "    dset = xrpgen.read_pfile(PGEN_PATH, phase=True)\n",
    "    dset[\"lanc\"] = (dset.geno.dims, da.from_zarr(pgen_path.replace(\".pgen\", \".lanc\")))\n",
    "    dset.attrs[\"n_anc\"] = 2\n",
    "\n",
    "    K1, K2, K12 = admix_genet_cor.compute_grm(dset, center=True)\n",
    "\n",
    "    np.save(out_prefix + \".K1.npy\", K1)\n",
    "    np.save(out_prefix + \".K2.npy\", K2)\n",
    "    np.save(out_prefix + \".K12.npy\", K12)\n",
    "\n",
    "\n",
    "def submit_estimate(snp_set: str, pheno: str, out_prefix: str):\n",
    "\n",
    "    import sys\n",
    "\n",
    "    sys.path.append(\"/u/project/pasaniuc/kangchen/2021-admix-corr\")\n",
    "    import admix_genet_cor\n",
    "\n",
    "    print(f\"submit_estimate: snp_set={snp_set}, pheno={pheno}, out_prefix={out_prefix}\")\n",
    "    # Step 1: load GRM\n",
    "    K1 = np.load(f\"out/grm/{snp_set}.K1.npy\")\n",
    "    K2 = np.load(f\"out/grm/{snp_set}.K2.npy\")\n",
    "    K12 = np.load(f\"out/grm/{snp_set}.K12.npy\")\n",
    "\n",
    "    pgen_path = f\"/u/project/pasaniuc/pasaniucdata/admixture/projects/PAGE-QC/s03_aframr/pgen/{snp_set}/chr{CHROM}.pgen\"\n",
    "\n",
    "    dset = xrpgen.read_pfile(pgen_path, phase=True)\n",
    "    dset[\"lanc\"] = (dset.geno.dims, da.from_zarr(pgen_path.replace(\".pgen\", \".lanc\")))\n",
    "    dset.attrs[\"n_anc\"] = 2\n",
    "\n",
    "    dset[\"A1\"] = ((\"indiv\", \"indiv\"), K1 + K2)\n",
    "    dset[\"A2\"] = ((\"indiv\", \"indiv\"), K12 + K12.T)\n",
    "\n",
    "    # K1, K2, K12 are no longer used, release memory for them\n",
    "    del K1, K2, K12\n",
    "\n",
    "    # Step 2: load phenotype and estimate\n",
    "    pheno = pd.read_csv(pheno, delim_whitespace=True, index_col=0)\n",
    "    print(pheno.head())\n",
    "\n",
    "    rls_list = admix_genet_cor.estimate_genetic_cor(dset, pheno.values)\n",
    "    print(rls_list)"
   ]
  },
  {
   "cell_type": "markdown",
   "id": "4b23a3f5-4ebc-4b32-9cbf-e6b9dec8a060",
   "metadata": {},
   "source": [
    "# Simulate phenotype"
   ]
  },
  {
   "cell_type": "code",
   "execution_count": 6,
   "id": "edee58b9-a029-4624-9867-978200990fa4",
   "metadata": {},
   "outputs": [
    {
     "data": {
      "text/html": [
       "<div>\n",
       "<style scoped>\n",
       "    .dataframe tbody tr th:only-of-type {\n",
       "        vertical-align: middle;\n",
       "    }\n",
       "\n",
       "    .dataframe tbody tr th {\n",
       "        vertical-align: top;\n",
       "    }\n",
       "\n",
       "    .dataframe thead th {\n",
       "        text-align: right;\n",
       "    }\n",
       "</style>\n",
       "<table border=\"1\" class=\"dataframe\">\n",
       "  <thead>\n",
       "    <tr style=\"text-align: right;\">\n",
       "      <th></th>\n",
       "      <th>snpset</th>\n",
       "      <th>varg</th>\n",
       "      <th>pcausal</th>\n",
       "      <th>gamma</th>\n",
       "      <th>out_prefix</th>\n",
       "    </tr>\n",
       "  </thead>\n",
       "  <tbody>\n",
       "    <tr>\n",
       "      <th>0</th>\n",
       "      <td>hm3</td>\n",
       "      <td>1.0</td>\n",
       "      <td>1.0</td>\n",
       "      <td>0.5</td>\n",
       "      <td>out/pheno/snpset-hm3-varg-1.0-pcausal-1.0-gamm...</td>\n",
       "    </tr>\n",
       "    <tr>\n",
       "      <th>1</th>\n",
       "      <td>hm3</td>\n",
       "      <td>1.0</td>\n",
       "      <td>1.0</td>\n",
       "      <td>0.8</td>\n",
       "      <td>out/pheno/snpset-hm3-varg-1.0-pcausal-1.0-gamm...</td>\n",
       "    </tr>\n",
       "  </tbody>\n",
       "</table>\n",
       "</div>"
      ],
      "text/plain": [
       "  snpset  varg  pcausal  gamma  \\\n",
       "0    hm3   1.0      1.0    0.5   \n",
       "1    hm3   1.0      1.0    0.8   \n",
       "\n",
       "                                          out_prefix  \n",
       "0  out/pheno/snpset-hm3-varg-1.0-pcausal-1.0-gamm...  \n",
       "1  out/pheno/snpset-hm3-varg-1.0-pcausal-1.0-gamm...  "
      ]
     },
     "execution_count": 6,
     "metadata": {},
     "output_type": "execute_result"
    }
   ],
   "source": [
    "df_params"
   ]
  },
  {
   "cell_type": "code",
   "execution_count": 26,
   "id": "27a2381d-6e93-4073-afe3-ad3c07ae3139",
   "metadata": {},
   "outputs": [],
   "source": [
    "executor = submitit.SgeExecutor(folder=\"./submitit-logs\")\n",
    "\n",
    "executor.update_parameters(\n",
    "    time_min=60 * 3,\n",
    "    memory_g=24,\n",
    "    setup=[\n",
    "        \"export PATH=~/project-pasaniuc/software/miniconda3/bin:$PATH\",\n",
    "        \"export PYTHONNOUSERSITE=True\",\n",
    "    ],\n",
    ")\n",
    "\n",
    "jobs = executor.map_array(\n",
    "    submit_simulate_pheno,\n",
    "    df_params.snpset,\n",
    "    df_params.varg,\n",
    "    df_params.pcausal,\n",
    "    df_params.gamma,\n",
    "    df_params.out_prefix,\n",
    ")"
   ]
  },
  {
   "cell_type": "code",
   "execution_count": null,
   "id": "6468afed-6298-46d7-a338-8da43e2ce0ab",
   "metadata": {},
   "outputs": [],
   "source": [
    "executor.update_parameters(\n",
    "    time_min=60 * 3,\n",
    "    memory_g=24,\n",
    "    setup=[\n",
    "        \"export PATH=~/project-pasaniuc/software/miniconda3/bin:$PATH\",\n",
    "        \"export PYTHONNOUSERSITE=True\",\n",
    "    ],\n",
    ")\n",
    "\n",
    "jobs = executor.map_array(\n",
    "    submit_compute_grm,\n",
    "    [\"all\", \"hm3\"],\n",
    "    [\"out/grm/all\", \"out/grm/hm3\"]\n",
    ")"
   ]
  },
  {
   "cell_type": "code",
   "execution_count": 5,
   "id": "5d0c1d61-41d9-4309-93f2-d168d8756070",
   "metadata": {},
   "outputs": [
    {
     "name": "stdout",
     "output_type": "stream",
     "text": [
      "submit_estimate: snp_set=hm3, pheno=out/pheno/snpset-hm3-varg-1.0-pcausal-1.0-gamma-0.5.pheno.tsv, out_prefix=out/estimate\n",
      "             SIM_0     SIM_1     SIM_2     SIM_3     SIM_4     SIM_5  \\\n",
      "EC012047  0.604813  1.321706 -1.431661  0.569237 -0.263331 -0.809179   \n",
      "EC150635 -2.882983 -0.483648 -0.063976  0.560419  0.020538  0.236429   \n",
      "728314   -1.641886  1.264695 -0.553209  2.116093  0.573362 -0.744871   \n",
      "709411    0.344567 -0.291240 -0.669629 -0.835595 -2.089428 -0.128010   \n",
      "791264   -1.549024  0.433780 -1.469458 -0.038749  0.110079 -0.074696   \n",
      "\n",
      "             SIM_6     SIM_7     SIM_8     SIM_9  ...    SIM_20    SIM_21  \\\n",
      "EC012047 -1.117742  1.219374  0.152453  2.158055  ... -0.132645  1.295733   \n",
      "EC150635  1.646154 -0.193728 -0.513230  0.780463  ...  0.118712 -0.218369   \n",
      "728314    0.510908 -0.202473  0.634590 -1.728898  ...  0.244214 -0.919846   \n",
      "709411   -0.281925 -0.750734  0.202396  1.361253  ...  2.621240 -0.265719   \n",
      "791264   -0.969956 -1.220861 -0.553301 -0.348093  ...  0.283039 -1.548122   \n",
      "\n",
      "            SIM_22    SIM_23    SIM_24    SIM_25    SIM_26    SIM_27  \\\n",
      "EC012047  0.411507 -0.187924 -1.214090 -0.504513 -1.100082 -0.427526   \n",
      "EC150635 -0.678518  1.833015 -0.340040  1.879103  1.579036 -0.931452   \n",
      "728314    0.683726 -0.237424  0.497596 -0.768853  0.462507  0.494262   \n",
      "709411   -0.485903  3.157040  0.238128 -1.469788  0.157520 -0.789792   \n",
      "791264   -1.205883  0.636877  0.697077  1.540941  2.082625 -2.337590   \n",
      "\n",
      "            SIM_28    SIM_29  \n",
      "EC012047  0.091631 -0.547648  \n",
      "EC150635 -0.244332 -1.806353  \n",
      "728314    0.051948 -1.538198  \n",
      "709411    1.100843  0.918470  \n",
      "791264   -0.925232  0.495244  \n",
      "\n",
      "[5 rows x 30 columns]\n"
     ]
    },
    {
     "ename": "MemoryError",
     "evalue": "Unable to allocate 2.23 GiB for an array with shape (17299, 17299) and data type float64",
     "output_type": "error",
     "traceback": [
      "\u001b[0;31m---------------------------------------------------------------------------\u001b[0m",
      "\u001b[0;31mMemoryError\u001b[0m                               Traceback (most recent call last)",
      "\u001b[0;32m<ipython-input-5-1578b22b860d>\u001b[0m in \u001b[0;36m<module>\u001b[0;34m\u001b[0m\n\u001b[0;32m----> 1\u001b[0;31m \u001b[0msubmit_estimate\u001b[0m\u001b[0;34m(\u001b[0m\u001b[0;34m\"hm3\"\u001b[0m\u001b[0;34m,\u001b[0m \u001b[0;34m\"out/pheno/snpset-hm3-varg-1.0-pcausal-1.0-gamma-0.5.pheno.tsv\"\u001b[0m\u001b[0;34m,\u001b[0m \u001b[0;34m\"out/estimate\"\u001b[0m\u001b[0;34m)\u001b[0m\u001b[0;34m\u001b[0m\u001b[0;34m\u001b[0m\u001b[0m\n\u001b[0m",
      "\u001b[0;32m<ipython-input-4-b3ec2241c086>\u001b[0m in \u001b[0;36msubmit_estimate\u001b[0;34m(snp_set, pheno, out_prefix)\u001b[0m\n\u001b[1;32m     79\u001b[0m     \u001b[0mprint\u001b[0m\u001b[0;34m(\u001b[0m\u001b[0mpheno\u001b[0m\u001b[0;34m.\u001b[0m\u001b[0mhead\u001b[0m\u001b[0;34m(\u001b[0m\u001b[0;34m)\u001b[0m\u001b[0;34m)\u001b[0m\u001b[0;34m\u001b[0m\u001b[0;34m\u001b[0m\u001b[0m\n\u001b[1;32m     80\u001b[0m \u001b[0;34m\u001b[0m\u001b[0m\n\u001b[0;32m---> 81\u001b[0;31m     \u001b[0mrls_list\u001b[0m \u001b[0;34m=\u001b[0m \u001b[0madmix_genet_cor\u001b[0m\u001b[0;34m.\u001b[0m\u001b[0mestimate_genetic_cor\u001b[0m\u001b[0;34m(\u001b[0m\u001b[0mdset\u001b[0m\u001b[0;34m,\u001b[0m \u001b[0mpheno\u001b[0m\u001b[0;34m.\u001b[0m\u001b[0mvalues\u001b[0m\u001b[0;34m)\u001b[0m\u001b[0;34m\u001b[0m\u001b[0;34m\u001b[0m\u001b[0m\n\u001b[0m\u001b[1;32m     82\u001b[0m     \u001b[0mprint\u001b[0m\u001b[0;34m(\u001b[0m\u001b[0mrls_list\u001b[0m\u001b[0;34m)\u001b[0m\u001b[0;34m\u001b[0m\u001b[0;34m\u001b[0m\u001b[0m\n",
      "\u001b[0;32m/u/project/pasaniuc/kangchen/2021-admix-corr/admix_genet_cor/__init__.py\u001b[0m in \u001b[0;36mestimate_genetic_cor\u001b[0;34m(dset, pheno, cov_cols, cov_intercept)\u001b[0m\n\u001b[1;32m    427\u001b[0m         \u001b[0;32mfor\u001b[0m \u001b[0mi\u001b[0m \u001b[0;32min\u001b[0m \u001b[0mrange\u001b[0m\u001b[0;34m(\u001b[0m\u001b[0mn_grm\u001b[0m\u001b[0;34m)\u001b[0m\u001b[0;34m:\u001b[0m\u001b[0;34m\u001b[0m\u001b[0;34m\u001b[0m\u001b[0m\n\u001b[1;32m    428\u001b[0m             \u001b[0mSigma\u001b[0m \u001b[0;34m+=\u001b[0m \u001b[0mvar_comp\u001b[0m\u001b[0;34m[\u001b[0m\u001b[0mi\u001b[0m\u001b[0;34m]\u001b[0m \u001b[0;34m*\u001b[0m \u001b[0mgrm_list\u001b[0m\u001b[0;34m[\u001b[0m\u001b[0mi\u001b[0m\u001b[0;34m]\u001b[0m\u001b[0;34m\u001b[0m\u001b[0;34m\u001b[0m\u001b[0m\n\u001b[0;32m--> 429\u001b[0;31m         \u001b[0mSigma_grm_list\u001b[0m \u001b[0;34m=\u001b[0m \u001b[0;34m[\u001b[0m\u001b[0mnp\u001b[0m\u001b[0;34m.\u001b[0m\u001b[0mdot\u001b[0m\u001b[0;34m(\u001b[0m\u001b[0mSigma\u001b[0m\u001b[0;34m,\u001b[0m \u001b[0mgrm\u001b[0m\u001b[0;34m)\u001b[0m \u001b[0;32mfor\u001b[0m \u001b[0mgrm\u001b[0m \u001b[0;32min\u001b[0m \u001b[0mgrm_list\u001b[0m\u001b[0;34m]\u001b[0m\u001b[0;34m\u001b[0m\u001b[0;34m\u001b[0m\u001b[0m\n\u001b[0m\u001b[1;32m    430\u001b[0m \u001b[0;34m\u001b[0m\u001b[0m\n\u001b[1;32m    431\u001b[0m         \u001b[0mvar_response\u001b[0m \u001b[0;34m=\u001b[0m \u001b[0mnp\u001b[0m\u001b[0;34m.\u001b[0m\u001b[0mzeros\u001b[0m\u001b[0;34m(\u001b[0m\u001b[0;34m(\u001b[0m\u001b[0mn_grm\u001b[0m\u001b[0;34m,\u001b[0m \u001b[0mn_grm\u001b[0m\u001b[0;34m)\u001b[0m\u001b[0;34m)\u001b[0m\u001b[0;34m\u001b[0m\u001b[0;34m\u001b[0m\u001b[0m\n",
      "\u001b[0;32m/u/project/pasaniuc/kangchen/2021-admix-corr/admix_genet_cor/__init__.py\u001b[0m in \u001b[0;36m<listcomp>\u001b[0;34m(.0)\u001b[0m\n\u001b[1;32m    427\u001b[0m         \u001b[0;32mfor\u001b[0m \u001b[0mi\u001b[0m \u001b[0;32min\u001b[0m \u001b[0mrange\u001b[0m\u001b[0;34m(\u001b[0m\u001b[0mn_grm\u001b[0m\u001b[0;34m)\u001b[0m\u001b[0;34m:\u001b[0m\u001b[0;34m\u001b[0m\u001b[0;34m\u001b[0m\u001b[0m\n\u001b[1;32m    428\u001b[0m             \u001b[0mSigma\u001b[0m \u001b[0;34m+=\u001b[0m \u001b[0mvar_comp\u001b[0m\u001b[0;34m[\u001b[0m\u001b[0mi\u001b[0m\u001b[0;34m]\u001b[0m \u001b[0;34m*\u001b[0m \u001b[0mgrm_list\u001b[0m\u001b[0;34m[\u001b[0m\u001b[0mi\u001b[0m\u001b[0;34m]\u001b[0m\u001b[0;34m\u001b[0m\u001b[0;34m\u001b[0m\u001b[0m\n\u001b[0;32m--> 429\u001b[0;31m         \u001b[0mSigma_grm_list\u001b[0m \u001b[0;34m=\u001b[0m \u001b[0;34m[\u001b[0m\u001b[0mnp\u001b[0m\u001b[0;34m.\u001b[0m\u001b[0mdot\u001b[0m\u001b[0;34m(\u001b[0m\u001b[0mSigma\u001b[0m\u001b[0;34m,\u001b[0m \u001b[0mgrm\u001b[0m\u001b[0;34m)\u001b[0m \u001b[0;32mfor\u001b[0m \u001b[0mgrm\u001b[0m \u001b[0;32min\u001b[0m \u001b[0mgrm_list\u001b[0m\u001b[0;34m]\u001b[0m\u001b[0;34m\u001b[0m\u001b[0;34m\u001b[0m\u001b[0m\n\u001b[0m\u001b[1;32m    430\u001b[0m \u001b[0;34m\u001b[0m\u001b[0m\n\u001b[1;32m    431\u001b[0m         \u001b[0mvar_response\u001b[0m \u001b[0;34m=\u001b[0m \u001b[0mnp\u001b[0m\u001b[0;34m.\u001b[0m\u001b[0mzeros\u001b[0m\u001b[0;34m(\u001b[0m\u001b[0;34m(\u001b[0m\u001b[0mn_grm\u001b[0m\u001b[0;34m,\u001b[0m \u001b[0mn_grm\u001b[0m\u001b[0;34m)\u001b[0m\u001b[0;34m)\u001b[0m\u001b[0;34m\u001b[0m\u001b[0;34m\u001b[0m\u001b[0m\n",
      "\u001b[0;32m<__array_function__ internals>\u001b[0m in \u001b[0;36mdot\u001b[0;34m(*args, **kwargs)\u001b[0m\n",
      "\u001b[0;31mMemoryError\u001b[0m: Unable to allocate 2.23 GiB for an array with shape (17299, 17299) and data type float64"
     ]
    }
   ],
   "source": [
    "submit_estimate(\"hm3\", \"out/pheno/snpset-hm3-varg-1.0-pcausal-1.0-gamma-0.5.pheno.tsv\", \"out/estimate\")"
   ]
  },
  {
   "cell_type": "markdown",
   "id": "daaa2508-a876-4847-9c80-ae3889a32697",
   "metadata": {},
   "source": [
    "# False positive and power simulation"
   ]
  },
  {
   "cell_type": "markdown",
   "id": "6d55b6a4-6b40-4fb3-bf80-0cf7f10e115a",
   "metadata": {},
   "source": [
    "# Imputation simulation"
   ]
  }
 ],
 "metadata": {
  "kernelspec": {
   "display_name": "Python 3",
   "language": "python",
   "name": "python3"
  },
  "language_info": {
   "codemirror_mode": {
    "name": "ipython",
    "version": 3
   },
   "file_extension": ".py",
   "mimetype": "text/x-python",
   "name": "python",
   "nbconvert_exporter": "python",
   "pygments_lexer": "ipython3",
   "version": "3.8.5"
  }
 },
 "nbformat": 4,
 "nbformat_minor": 5
}
